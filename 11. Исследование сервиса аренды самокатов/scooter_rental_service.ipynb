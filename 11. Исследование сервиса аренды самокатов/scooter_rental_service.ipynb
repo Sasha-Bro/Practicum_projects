{
 "cells": [
  {
   "cell_type": "markdown",
   "id": "96b8255b",
   "metadata": {},
   "source": [
    "# Исследование данных сервиса аренды самокатов\n",
    "\n",
    "# Описание проекта:\n",
    "Вы аналитик популярного сервиса аренды самокатов GoFast. Вам передали данные о некоторых пользователях из нескольких городов, а также об их поездках. Проанализируйте данные и проверьте некоторые гипотезы, которые могут помочь бизнесу вырасти.\n",
    "Чтобы совершать поездки по городу, пользователи сервиса GoFast пользуются мобильным приложением. Сервисом можно пользоваться:\n",
    " \n",
    "- без подписки:\n",
    " - абонентская плата отсутствует;\n",
    " - стоимость одной минуты поездки — 8 рублей;\n",
    " - стоимость старта (начала поездки) — 50 рублей;\n",
    " \n",
    "- с подпиской Ultra:\n",
    " - абонентская плата — 199 рублей в месяц;\n",
    " - стоимость одной минуты поездки — 6 рублей;\n",
    " - стоимость старта — бесплатно.\n",
    " \n",
    "# Цель проекта:\n",
    "Проанализировать данные о пользователях и поездках сервиса аренды самокатов, чтобы проверить гипотезы, которые помогут увеличить прибыль и улучшить бизнес-модель. В частности, исследовать поведение пользователей с подпиской и без неё, чтобы определить, как подписка влияет на частоту и стоимость поездок, и предложить меры для привлечения большего числа пользователей к подписке.\n",
    " \n",
    "# План работы:\n",
    "1. Открыть файл с данными и изучить общую информацию.\n",
    "2. Провести предобработку данных.\n",
    "3. Провести анализ следующих параметров:\n",
    "   - частота встречаемости городов;\n",
    "   - соотношение пользователей с подпиской и без подписки;\n",
    "   - возраст пользователей;\n",
    "   - расстояние, которое пользователь преодолел за одну поездку;\n",
    "   - продолжительность поездок.\n",
    "4. Объединить данные в один датафрейм.\n",
    "5. Создать отдельные датафреймы по виду подписки и изучить информацию о расстоянии и времени поездок для пользователей обеих категорий.\n",
    "6. Подсчитать выручку.\n",
    "7. Проверить гипотезы:\n",
    "   - тратят ли пользователи с подпиской больше времени на поездки?\n",
    "   - среднее расстояние, которое проезжают пользователи с подпиской за одну поездку, не превышает ли 3130 метров? \n",
    "   - будет ли помесячная выручка от пользователей с подпиской по месяцам выше, чем выручка от пользователей без подписки?\n",
    "   - снизилось ли количество обращений в техподдержку после того, как техническая команда сервиса обновила сервера, с которыми взаимодействует мобильное приложение?\n",
    "8. Распределения:\n",
    "   - определение минимального количества рассылаемых промокодов;\n",
    "   - рассылка клиентам push-уведомлений в мобильном приложении.\n",
    " \n",
    "  \n",
    "# Описание данных:\n",
    "\n",
    "В основных данных есть информация о пользователях, их поездках и подписках.\n",
    " \n",
    "  \n",
    "**Пользователи — `users_go.csv`:**\n",
    "- `'user_id'` — уникальный идентификатор пользователя\n",
    "- `'name'`  имя пользователя\n",
    "- `'age'` — возраст\n",
    "- `'city'` — город\n",
    "- `'subscription_type'` — тип подписки (free, ultra)\n",
    "\n",
    " \n",
    "**Поездки — `rides_go.csv`:**\n",
    "- `'user_id'` — уникальный идентификатор пользователя\n",
    "- `'distance'` — расстояние, которое пользователь проехал в текущей сессии (в метрах)\n",
    "- `'duration'` — продолжительность сессии (в минутах) — время с того момента, как пользователь нажал кнопку «Начать поездку» до момента, как он нажал кнопку «Завершить поездку»\n",
    "- `'date'` — дата совершения поездки\n",
    "\n",
    " \n",
    "**Подписки — `subscriptions_go.csv`:**\n",
    "- `'subscription_type'` — тип подписки\n",
    "- `'minute_price'` — стоимость одной минуты поездки по данной подписке\n",
    "- `'start_ride_price'` — стоимость начала поездки\n",
    "- `'subscription_fee'` — стоимость ежемесячного платежа"
   ]
  },
  {
   "cell_type": "markdown",
   "id": "c17e20bb",
   "metadata": {
    "toc": true
   },
   "source": [
    "<h1>Содержание<span class=\"tocSkip\"></span></h1>\n",
    "<div class=\"toc\"><ul class=\"toc-item\"><li><span><a href=\"#Загрузка-данных\" data-toc-modified-id=\"Загрузка-данных-1\"><span class=\"toc-item-num\">1&nbsp;&nbsp;</span>Загрузка данных</a></span><ul class=\"toc-item\"><li><span><a href=\"#Импорт-библиотек\" data-toc-modified-id=\"Импорт-библиотек-1.1\"><span class=\"toc-item-num\">1.1&nbsp;&nbsp;</span>Импорт библиотек</a></span></li><li><span><a href=\"#Загрузка-данных-файла-в-датафрейм\" data-toc-modified-id=\"Загрузка-данных-файла-в-датафрейм-1.2\"><span class=\"toc-item-num\">1.2&nbsp;&nbsp;</span>Загрузка данных файла в датафрейм</a></span></li><li><span><a href=\"#Изучение-общей-информации-о-датафреймах\" data-toc-modified-id=\"Изучение-общей-информации-о-датафреймах-1.3\"><span class=\"toc-item-num\">1.3&nbsp;&nbsp;</span>Изучение общей информации о датафреймах</a></span></li><li><span><a href=\"#Вывод\" data-toc-modified-id=\"Вывод-1.4\"><span class=\"toc-item-num\">1.4&nbsp;&nbsp;</span>Вывод</a></span></li></ul></li><li><span><a href=\"#Предобработка-данных\" data-toc-modified-id=\"Предобработка-данных-2\"><span class=\"toc-item-num\">2&nbsp;&nbsp;</span>Предобработка данных</a></span><ul class=\"toc-item\"><li><span><a href=\"#Устранение-дубликатов\" data-toc-modified-id=\"Устранение-дубликатов-2.1\"><span class=\"toc-item-num\">2.1&nbsp;&nbsp;</span>Устранение дубликатов</a></span><ul class=\"toc-item\"><li><span><a href=\"#Явные-дубликаты\" data-toc-modified-id=\"Явные-дубликаты-2.1.1\"><span class=\"toc-item-num\">2.1.1&nbsp;&nbsp;</span>Явные дубликаты</a></span></li><li><span><a href=\"#Неявные-дубликаты\" data-toc-modified-id=\"Неявные-дубликаты-2.1.2\"><span class=\"toc-item-num\">2.1.2&nbsp;&nbsp;</span>Неявные дубликаты</a></span></li></ul></li><li><span><a href=\"#Добавление-столбца-'month'\" data-toc-modified-id=\"Добавление-столбца-'month'-2.2\"><span class=\"toc-item-num\">2.2&nbsp;&nbsp;</span>Добавление столбца <code>'month'</code></a></span></li><li><span><a href=\"#Вывод\" data-toc-modified-id=\"Вывод-2.3\"><span class=\"toc-item-num\">2.3&nbsp;&nbsp;</span>Вывод</a></span></li></ul></li><li><span><a href=\"#Исследовательский-анализ-данных\" data-toc-modified-id=\"Исследовательский-анализ-данных-3\"><span class=\"toc-item-num\">3&nbsp;&nbsp;</span>Исследовательский анализ данных</a></span><ul class=\"toc-item\"><li><span><a href=\"#Анализ-столбца-'city'\" data-toc-modified-id=\"Анализ-столбца-'city'-3.1\"><span class=\"toc-item-num\">3.1&nbsp;&nbsp;</span>Анализ столбца <code>'city'</code></a></span></li><li><span><a href=\"#Анализ-столбца-'subscription_type'\" data-toc-modified-id=\"Анализ-столбца-'subscription_type'-3.2\"><span class=\"toc-item-num\">3.2&nbsp;&nbsp;</span>Анализ столбца <code>'subscription_type'</code></a></span></li><li><span><a href=\"#Анализ-столбца-'age'\" data-toc-modified-id=\"Анализ-столбца-'age'-3.3\"><span class=\"toc-item-num\">3.3&nbsp;&nbsp;</span>Анализ столбца <code>'age'</code></a></span></li><li><span><a href=\"#Анализ-столбца-'distance'\" data-toc-modified-id=\"Анализ-столбца-'distance'-3.4\"><span class=\"toc-item-num\">3.4&nbsp;&nbsp;</span>Анализ столбца <code>'distance'</code></a></span></li><li><span><a href=\"#Анализ-столбца-'duration'\" data-toc-modified-id=\"Анализ-столбца-'duration'-3.5\"><span class=\"toc-item-num\">3.5&nbsp;&nbsp;</span>Анализ столбца <code>'duration'</code></a></span></li><li><span><a href=\"#Вывод\" data-toc-modified-id=\"Вывод-3.6\"><span class=\"toc-item-num\">3.6&nbsp;&nbsp;</span>Вывод</a></span></li></ul></li><li><span><a href=\"#Объединение-данных\" data-toc-modified-id=\"Объединение-данных-4\"><span class=\"toc-item-num\">4&nbsp;&nbsp;</span>Объединение данных</a></span><ul class=\"toc-item\"><li><span><a href=\"#Объединение-всех-данных-в-один-датафрейм\" data-toc-modified-id=\"Объединение-всех-данных-в-один-датафрейм-4.1\"><span class=\"toc-item-num\">4.1&nbsp;&nbsp;</span>Объединение всех данных в один датафрейм</a></span></li><li><span><a href=\"#Создание-отдельных-датафреймов-по-виду-подписки\" data-toc-modified-id=\"Создание-отдельных-датафреймов-по-виду-подписки-4.2\"><span class=\"toc-item-num\">4.2&nbsp;&nbsp;</span>Создание отдельных датафреймов по виду подписки</a></span></li><li><span><a href=\"#Визуализация-поездок-по-типу-подписки\" data-toc-modified-id=\"Визуализация-поездок-по-типу-подписки-4.3\"><span class=\"toc-item-num\">4.3&nbsp;&nbsp;</span>Визуализация поездок по типу подписки</a></span><ul class=\"toc-item\"><li><span><a href=\"#Сравнение-расстояния-поездок-по-типу-подписки\" data-toc-modified-id=\"Сравнение-расстояния-поездок-по-типу-подписки-4.3.1\"><span class=\"toc-item-num\">4.3.1&nbsp;&nbsp;</span>Сравнение расстояния поездок по типу подписки</a></span></li><li><span><a href=\"#Сравнение-времени-поездок-по-типу-подписки\" data-toc-modified-id=\"Сравнение-времени-поездок-по-типу-подписки-4.3.2\"><span class=\"toc-item-num\">4.3.2&nbsp;&nbsp;</span>Сравнение времени поездок по типу подписки</a></span></li></ul></li><li><span><a href=\"#Вывод\" data-toc-modified-id=\"Вывод-4.4\"><span class=\"toc-item-num\">4.4&nbsp;&nbsp;</span>Вывод</a></span></li></ul></li><li><span><a href=\"#Подсчёт-выручки\" data-toc-modified-id=\"Подсчёт-выручки-5\"><span class=\"toc-item-num\">5&nbsp;&nbsp;</span>Подсчёт выручки</a></span><ul class=\"toc-item\"><li><span><a href=\"#Создание-датафрейма-с-агрегированными-данными-о-поездках\" data-toc-modified-id=\"Создание-датафрейма-с-агрегированными-данными-о-поездках-5.1\"><span class=\"toc-item-num\">5.1&nbsp;&nbsp;</span>Создание датафрейма с агрегированными данными о поездках</a></span></li><li><span><a href=\"#Подсчёт-помесячной-выручки-за-каждого-пользователя\" data-toc-modified-id=\"Подсчёт-помесячной-выручки-за-каждого-пользователя-5.2\"><span class=\"toc-item-num\">5.2&nbsp;&nbsp;</span>Подсчёт помесячной выручки за каждого пользователя</a></span></li><li><span><a href=\"#Вывод\" data-toc-modified-id=\"Вывод-5.3\"><span class=\"toc-item-num\">5.3&nbsp;&nbsp;</span>Вывод</a></span></li></ul></li><li><span><a href=\"#Проверка-гипотез\" data-toc-modified-id=\"Проверка-гипотез-6\"><span class=\"toc-item-num\">6&nbsp;&nbsp;</span>Проверка гипотез</a></span><ul class=\"toc-item\"><li><span><a href=\"#Время,-потраченное-на-поездки-пользователями-с-подпиской-Ultra\" data-toc-modified-id=\"Время,-потраченное-на-поездки-пользователями-с-подпиской-Ultra-6.1\"><span class=\"toc-item-num\">6.1&nbsp;&nbsp;</span>Время, потраченное на поездки пользователями с подпиской Ultra</a></span></li><li><span><a href=\"#Среднее-расстояние,-пройденное-за-одну-поездку-пользователями-с-подпиской-Ultra\" data-toc-modified-id=\"Среднее-расстояние,-пройденное-за-одну-поездку-пользователями-с-подпиской-Ultra-6.2\"><span class=\"toc-item-num\">6.2&nbsp;&nbsp;</span>Среднее расстояние, пройденное за одну поездку пользователями с подпиской Ultra</a></span></li><li><span><a href=\"#Помесячная-выручка-по-месяцам-от-пользователей-по-типу-подписки\" data-toc-modified-id=\"Помесячная-выручка-по-месяцам-от-пользователей-по-типу-подписки-6.3\"><span class=\"toc-item-num\">6.3&nbsp;&nbsp;</span>Помесячная выручка по месяцам от пользователей по типу подписки</a></span></li><li><span><a href=\"#Тест-для-проверки-гипотезы-о-снижении-количества-обращений-в-техподдержку-после-обновления-сервера\" data-toc-modified-id=\"Тест-для-проверки-гипотезы-о-снижении-количества-обращений-в-техподдержку-после-обновления-сервера-6.4\"><span class=\"toc-item-num\">6.4&nbsp;&nbsp;</span>Тест для проверки гипотезы о снижении количества обращений в техподдержку после обновления сервера</a></span></li><li><span><a href=\"#Вывод\" data-toc-modified-id=\"Вывод-6.5\"><span class=\"toc-item-num\">6.5&nbsp;&nbsp;</span>Вывод</a></span></li></ul></li><li><span><a href=\"#Распределения\" data-toc-modified-id=\"Распределения-7\"><span class=\"toc-item-num\">7&nbsp;&nbsp;</span>Распределения</a></span><ul class=\"toc-item\"><li><span><a href=\"#Определение-минимального-количества-рассылаемых-промокодов\" data-toc-modified-id=\"Определение-минимального-количества-рассылаемых-промокодов-7.1\"><span class=\"toc-item-num\">7.1&nbsp;&nbsp;</span>Определение минимального количества рассылаемых промокодов</a></span></li><li><span><a href=\"#Рассылка-клиентам-push-уведомлений-в-мобильном-приложении\" data-toc-modified-id=\"Рассылка-клиентам-push-уведомлений-в-мобильном-приложении-7.2\"><span class=\"toc-item-num\">7.2&nbsp;&nbsp;</span>Рассылка клиентам push-уведомлений в мобильном приложении</a></span></li><li><span><a href=\"#Вывод\" data-toc-modified-id=\"Вывод-7.3\"><span class=\"toc-item-num\">7.3&nbsp;&nbsp;</span>Вывод</a></span></li></ul></li><li><span><a href=\"#Общий-вывод\" data-toc-modified-id=\"Общий-вывод-8\"><span class=\"toc-item-num\">8&nbsp;&nbsp;</span>Общий вывод</a></span></li></ul></div>"
   ]
  },
  {
   "cell_type": "markdown",
   "id": "c42cbe00",
   "metadata": {},
   "source": [
    "## Загрузка данных"
   ]
  },
  {
   "cell_type": "markdown",
   "id": "2b31fede",
   "metadata": {},
   "source": [
    "### Импорт библиотек"
   ]
  },
  {
   "cell_type": "markdown",
   "id": "4d95a489",
   "metadata": {},
   "source": [
    "Импортируем необходимые для работы библиотеки."
   ]
  },
  {
   "cell_type": "code",
   "execution_count": 1,
   "id": "72576667",
   "metadata": {},
   "outputs": [],
   "source": [
    "import pandas as pd\n",
    "import matplotlib.pyplot as plt\n",
    "import numpy as np\n",
    "from math import factorial\n",
    "from scipy import stats as st\n",
    "from scipy.stats import binom, norm"
   ]
  },
  {
   "cell_type": "markdown",
   "id": "37a645c2",
   "metadata": {},
   "source": [
    "Создадим функции, которые нам потребуются в работе."
   ]
  },
  {
   "cell_type": "code",
   "execution_count": 2,
   "id": "7bd249e5",
   "metadata": {},
   "outputs": [],
   "source": [
    "# Функция для изучения общей информации данных и \n",
    "# характеристикк числовых признаков\n",
    "def data_research(dataset):\n",
    "    display(dataset.head())\n",
    "    print()\n",
    "    print('Общая информация о данных:\\n')\n",
    "    print(dataset.info(), '\\n\\n')\n",
    "    print('Описание данных:\\n')\n",
    "    print(dataset.describe())"
   ]
  },
  {
   "cell_type": "markdown",
   "id": "bff99ba7",
   "metadata": {},
   "source": [
    "### Загрузка данных файла в датафрейм"
   ]
  },
  {
   "cell_type": "markdown",
   "id": "cff23be1",
   "metadata": {},
   "source": [
    "Загружаем данные из csv-файлов в датафрейм."
   ]
  },
  {
   "cell_type": "code",
   "execution_count": 3,
   "id": "eff9f206",
   "metadata": {},
   "outputs": [],
   "source": [
    "users_data = pd.read_csv('/datasets/users_go.csv')\n",
    "rides_data = pd.read_csv('/datasets/rides_go.csv', \n",
    "                         parse_dates=['date'], \n",
    "                         dayfirst=True)\n",
    "subscriptions_data = pd.read_csv('/datasets/subscriptions_go.csv')"
   ]
  },
  {
   "cell_type": "markdown",
   "id": "1f8667f0",
   "metadata": {},
   "source": [
    "Проверим 5 первых строк каждого датафрейма.\n",
    "\n",
    "**Данные о пользователях `users_data`:**"
   ]
  },
  {
   "cell_type": "code",
   "execution_count": 4,
   "id": "1696d207",
   "metadata": {},
   "outputs": [
    {
     "data": {
      "text/html": [
       "<div>\n",
       "<style scoped>\n",
       "    .dataframe tbody tr th:only-of-type {\n",
       "        vertical-align: middle;\n",
       "    }\n",
       "\n",
       "    .dataframe tbody tr th {\n",
       "        vertical-align: top;\n",
       "    }\n",
       "\n",
       "    .dataframe thead th {\n",
       "        text-align: right;\n",
       "    }\n",
       "</style>\n",
       "<table border=\"1\" class=\"dataframe\">\n",
       "  <thead>\n",
       "    <tr style=\"text-align: right;\">\n",
       "      <th></th>\n",
       "      <th>user_id</th>\n",
       "      <th>name</th>\n",
       "      <th>age</th>\n",
       "      <th>city</th>\n",
       "      <th>subscription_type</th>\n",
       "    </tr>\n",
       "  </thead>\n",
       "  <tbody>\n",
       "    <tr>\n",
       "      <th>0</th>\n",
       "      <td>1</td>\n",
       "      <td>Кира</td>\n",
       "      <td>22</td>\n",
       "      <td>Тюмень</td>\n",
       "      <td>ultra</td>\n",
       "    </tr>\n",
       "    <tr>\n",
       "      <th>1</th>\n",
       "      <td>2</td>\n",
       "      <td>Станислав</td>\n",
       "      <td>31</td>\n",
       "      <td>Омск</td>\n",
       "      <td>ultra</td>\n",
       "    </tr>\n",
       "    <tr>\n",
       "      <th>2</th>\n",
       "      <td>3</td>\n",
       "      <td>Алексей</td>\n",
       "      <td>20</td>\n",
       "      <td>Москва</td>\n",
       "      <td>ultra</td>\n",
       "    </tr>\n",
       "    <tr>\n",
       "      <th>3</th>\n",
       "      <td>4</td>\n",
       "      <td>Константин</td>\n",
       "      <td>26</td>\n",
       "      <td>Ростов-на-Дону</td>\n",
       "      <td>ultra</td>\n",
       "    </tr>\n",
       "    <tr>\n",
       "      <th>4</th>\n",
       "      <td>5</td>\n",
       "      <td>Адель</td>\n",
       "      <td>28</td>\n",
       "      <td>Омск</td>\n",
       "      <td>ultra</td>\n",
       "    </tr>\n",
       "  </tbody>\n",
       "</table>\n",
       "</div>"
      ],
      "text/plain": [
       "   user_id        name  age            city subscription_type\n",
       "0        1        Кира   22          Тюмень             ultra\n",
       "1        2   Станислав   31            Омск             ultra\n",
       "2        3     Алексей   20          Москва             ultra\n",
       "3        4  Константин   26  Ростов-на-Дону             ultra\n",
       "4        5       Адель   28            Омск             ultra"
      ]
     },
     "execution_count": 4,
     "metadata": {},
     "output_type": "execute_result"
    }
   ],
   "source": [
    "users_data.head()"
   ]
  },
  {
   "cell_type": "markdown",
   "id": "20d430c3",
   "metadata": {},
   "source": [
    "**Данные о поездках `rides_data`:**"
   ]
  },
  {
   "cell_type": "code",
   "execution_count": 5,
   "id": "4bc974d1",
   "metadata": {},
   "outputs": [
    {
     "data": {
      "text/html": [
       "<div>\n",
       "<style scoped>\n",
       "    .dataframe tbody tr th:only-of-type {\n",
       "        vertical-align: middle;\n",
       "    }\n",
       "\n",
       "    .dataframe tbody tr th {\n",
       "        vertical-align: top;\n",
       "    }\n",
       "\n",
       "    .dataframe thead th {\n",
       "        text-align: right;\n",
       "    }\n",
       "</style>\n",
       "<table border=\"1\" class=\"dataframe\">\n",
       "  <thead>\n",
       "    <tr style=\"text-align: right;\">\n",
       "      <th></th>\n",
       "      <th>user_id</th>\n",
       "      <th>distance</th>\n",
       "      <th>duration</th>\n",
       "      <th>date</th>\n",
       "    </tr>\n",
       "  </thead>\n",
       "  <tbody>\n",
       "    <tr>\n",
       "      <th>0</th>\n",
       "      <td>1</td>\n",
       "      <td>4409.919140</td>\n",
       "      <td>25.599769</td>\n",
       "      <td>2021-01-01</td>\n",
       "    </tr>\n",
       "    <tr>\n",
       "      <th>1</th>\n",
       "      <td>1</td>\n",
       "      <td>2617.592153</td>\n",
       "      <td>15.816871</td>\n",
       "      <td>2021-01-18</td>\n",
       "    </tr>\n",
       "    <tr>\n",
       "      <th>2</th>\n",
       "      <td>1</td>\n",
       "      <td>754.159807</td>\n",
       "      <td>6.232113</td>\n",
       "      <td>2021-04-20</td>\n",
       "    </tr>\n",
       "    <tr>\n",
       "      <th>3</th>\n",
       "      <td>1</td>\n",
       "      <td>2694.783254</td>\n",
       "      <td>18.511000</td>\n",
       "      <td>2021-08-11</td>\n",
       "    </tr>\n",
       "    <tr>\n",
       "      <th>4</th>\n",
       "      <td>1</td>\n",
       "      <td>4028.687306</td>\n",
       "      <td>26.265803</td>\n",
       "      <td>2021-08-28</td>\n",
       "    </tr>\n",
       "  </tbody>\n",
       "</table>\n",
       "</div>"
      ],
      "text/plain": [
       "   user_id     distance   duration       date\n",
       "0        1  4409.919140  25.599769 2021-01-01\n",
       "1        1  2617.592153  15.816871 2021-01-18\n",
       "2        1   754.159807   6.232113 2021-04-20\n",
       "3        1  2694.783254  18.511000 2021-08-11\n",
       "4        1  4028.687306  26.265803 2021-08-28"
      ]
     },
     "execution_count": 5,
     "metadata": {},
     "output_type": "execute_result"
    }
   ],
   "source": [
    "rides_data.head()"
   ]
  },
  {
   "cell_type": "markdown",
   "id": "68ee0439",
   "metadata": {},
   "source": [
    "**Данные о подписках `subscriptions_data`:**"
   ]
  },
  {
   "cell_type": "code",
   "execution_count": 6,
   "id": "11c4ec11",
   "metadata": {
    "scrolled": true
   },
   "outputs": [
    {
     "data": {
      "text/html": [
       "<div>\n",
       "<style scoped>\n",
       "    .dataframe tbody tr th:only-of-type {\n",
       "        vertical-align: middle;\n",
       "    }\n",
       "\n",
       "    .dataframe tbody tr th {\n",
       "        vertical-align: top;\n",
       "    }\n",
       "\n",
       "    .dataframe thead th {\n",
       "        text-align: right;\n",
       "    }\n",
       "</style>\n",
       "<table border=\"1\" class=\"dataframe\">\n",
       "  <thead>\n",
       "    <tr style=\"text-align: right;\">\n",
       "      <th></th>\n",
       "      <th>subscription_type</th>\n",
       "      <th>minute_price</th>\n",
       "      <th>start_ride_price</th>\n",
       "      <th>subscription_fee</th>\n",
       "    </tr>\n",
       "  </thead>\n",
       "  <tbody>\n",
       "    <tr>\n",
       "      <th>0</th>\n",
       "      <td>free</td>\n",
       "      <td>8</td>\n",
       "      <td>50</td>\n",
       "      <td>0</td>\n",
       "    </tr>\n",
       "    <tr>\n",
       "      <th>1</th>\n",
       "      <td>ultra</td>\n",
       "      <td>6</td>\n",
       "      <td>0</td>\n",
       "      <td>199</td>\n",
       "    </tr>\n",
       "  </tbody>\n",
       "</table>\n",
       "</div>"
      ],
      "text/plain": [
       "  subscription_type  minute_price  start_ride_price  subscription_fee\n",
       "0              free             8                50                 0\n",
       "1             ultra             6                 0               199"
      ]
     },
     "execution_count": 6,
     "metadata": {},
     "output_type": "execute_result"
    }
   ],
   "source": [
    "subscriptions_data"
   ]
  },
  {
   "cell_type": "markdown",
   "id": "546770ba",
   "metadata": {},
   "source": [
    "### Изучение общей информации о датафреймах"
   ]
  },
  {
   "cell_type": "markdown",
   "id": "da0743ca",
   "metadata": {},
   "source": [
    "Изучим общую информацию и характеристики числовых данных в датафреймах при помощи функции `'data_research'`."
   ]
  },
  {
   "cell_type": "markdown",
   "id": "ea8c2989",
   "metadata": {},
   "source": [
    "**Данные о пользователях `users_data`:**"
   ]
  },
  {
   "cell_type": "code",
   "execution_count": 7,
   "id": "3f676c15",
   "metadata": {},
   "outputs": [
    {
     "data": {
      "text/html": [
       "<div>\n",
       "<style scoped>\n",
       "    .dataframe tbody tr th:only-of-type {\n",
       "        vertical-align: middle;\n",
       "    }\n",
       "\n",
       "    .dataframe tbody tr th {\n",
       "        vertical-align: top;\n",
       "    }\n",
       "\n",
       "    .dataframe thead th {\n",
       "        text-align: right;\n",
       "    }\n",
       "</style>\n",
       "<table border=\"1\" class=\"dataframe\">\n",
       "  <thead>\n",
       "    <tr style=\"text-align: right;\">\n",
       "      <th></th>\n",
       "      <th>user_id</th>\n",
       "      <th>name</th>\n",
       "      <th>age</th>\n",
       "      <th>city</th>\n",
       "      <th>subscription_type</th>\n",
       "    </tr>\n",
       "  </thead>\n",
       "  <tbody>\n",
       "    <tr>\n",
       "      <th>0</th>\n",
       "      <td>1</td>\n",
       "      <td>Кира</td>\n",
       "      <td>22</td>\n",
       "      <td>Тюмень</td>\n",
       "      <td>ultra</td>\n",
       "    </tr>\n",
       "    <tr>\n",
       "      <th>1</th>\n",
       "      <td>2</td>\n",
       "      <td>Станислав</td>\n",
       "      <td>31</td>\n",
       "      <td>Омск</td>\n",
       "      <td>ultra</td>\n",
       "    </tr>\n",
       "    <tr>\n",
       "      <th>2</th>\n",
       "      <td>3</td>\n",
       "      <td>Алексей</td>\n",
       "      <td>20</td>\n",
       "      <td>Москва</td>\n",
       "      <td>ultra</td>\n",
       "    </tr>\n",
       "    <tr>\n",
       "      <th>3</th>\n",
       "      <td>4</td>\n",
       "      <td>Константин</td>\n",
       "      <td>26</td>\n",
       "      <td>Ростов-на-Дону</td>\n",
       "      <td>ultra</td>\n",
       "    </tr>\n",
       "    <tr>\n",
       "      <th>4</th>\n",
       "      <td>5</td>\n",
       "      <td>Адель</td>\n",
       "      <td>28</td>\n",
       "      <td>Омск</td>\n",
       "      <td>ultra</td>\n",
       "    </tr>\n",
       "  </tbody>\n",
       "</table>\n",
       "</div>"
      ],
      "text/plain": [
       "   user_id        name  age            city subscription_type\n",
       "0        1        Кира   22          Тюмень             ultra\n",
       "1        2   Станислав   31            Омск             ultra\n",
       "2        3     Алексей   20          Москва             ultra\n",
       "3        4  Константин   26  Ростов-на-Дону             ultra\n",
       "4        5       Адель   28            Омск             ultra"
      ]
     },
     "metadata": {},
     "output_type": "display_data"
    },
    {
     "name": "stdout",
     "output_type": "stream",
     "text": [
      "\n",
      "Общая информация о данных:\n",
      "\n",
      "<class 'pandas.core.frame.DataFrame'>\n",
      "RangeIndex: 1565 entries, 0 to 1564\n",
      "Data columns (total 5 columns):\n",
      " #   Column             Non-Null Count  Dtype \n",
      "---  ------             --------------  ----- \n",
      " 0   user_id            1565 non-null   int64 \n",
      " 1   name               1565 non-null   object\n",
      " 2   age                1565 non-null   int64 \n",
      " 3   city               1565 non-null   object\n",
      " 4   subscription_type  1565 non-null   object\n",
      "dtypes: int64(2), object(3)\n",
      "memory usage: 61.3+ KB\n",
      "None \n",
      "\n",
      "\n",
      "Описание данных:\n",
      "\n",
      "           user_id          age\n",
      "count  1565.000000  1565.000000\n",
      "mean    762.633866    24.922045\n",
      "std     443.260155     4.553496\n",
      "min       1.000000    12.000000\n",
      "25%     378.000000    22.000000\n",
      "50%     762.000000    25.000000\n",
      "75%    1146.000000    28.000000\n",
      "max    1534.000000    43.000000\n"
     ]
    }
   ],
   "source": [
    "data_research(users_data)"
   ]
  },
  {
   "cell_type": "markdown",
   "id": "48bc0749",
   "metadata": {},
   "source": [
    "**Данные о поездках `rides_data`:**"
   ]
  },
  {
   "cell_type": "code",
   "execution_count": 8,
   "id": "9eb898e5",
   "metadata": {},
   "outputs": [
    {
     "data": {
      "text/html": [
       "<div>\n",
       "<style scoped>\n",
       "    .dataframe tbody tr th:only-of-type {\n",
       "        vertical-align: middle;\n",
       "    }\n",
       "\n",
       "    .dataframe tbody tr th {\n",
       "        vertical-align: top;\n",
       "    }\n",
       "\n",
       "    .dataframe thead th {\n",
       "        text-align: right;\n",
       "    }\n",
       "</style>\n",
       "<table border=\"1\" class=\"dataframe\">\n",
       "  <thead>\n",
       "    <tr style=\"text-align: right;\">\n",
       "      <th></th>\n",
       "      <th>user_id</th>\n",
       "      <th>distance</th>\n",
       "      <th>duration</th>\n",
       "      <th>date</th>\n",
       "    </tr>\n",
       "  </thead>\n",
       "  <tbody>\n",
       "    <tr>\n",
       "      <th>0</th>\n",
       "      <td>1</td>\n",
       "      <td>4409.919140</td>\n",
       "      <td>25.599769</td>\n",
       "      <td>2021-01-01</td>\n",
       "    </tr>\n",
       "    <tr>\n",
       "      <th>1</th>\n",
       "      <td>1</td>\n",
       "      <td>2617.592153</td>\n",
       "      <td>15.816871</td>\n",
       "      <td>2021-01-18</td>\n",
       "    </tr>\n",
       "    <tr>\n",
       "      <th>2</th>\n",
       "      <td>1</td>\n",
       "      <td>754.159807</td>\n",
       "      <td>6.232113</td>\n",
       "      <td>2021-04-20</td>\n",
       "    </tr>\n",
       "    <tr>\n",
       "      <th>3</th>\n",
       "      <td>1</td>\n",
       "      <td>2694.783254</td>\n",
       "      <td>18.511000</td>\n",
       "      <td>2021-08-11</td>\n",
       "    </tr>\n",
       "    <tr>\n",
       "      <th>4</th>\n",
       "      <td>1</td>\n",
       "      <td>4028.687306</td>\n",
       "      <td>26.265803</td>\n",
       "      <td>2021-08-28</td>\n",
       "    </tr>\n",
       "  </tbody>\n",
       "</table>\n",
       "</div>"
      ],
      "text/plain": [
       "   user_id     distance   duration       date\n",
       "0        1  4409.919140  25.599769 2021-01-01\n",
       "1        1  2617.592153  15.816871 2021-01-18\n",
       "2        1   754.159807   6.232113 2021-04-20\n",
       "3        1  2694.783254  18.511000 2021-08-11\n",
       "4        1  4028.687306  26.265803 2021-08-28"
      ]
     },
     "metadata": {},
     "output_type": "display_data"
    },
    {
     "name": "stdout",
     "output_type": "stream",
     "text": [
      "\n",
      "Общая информация о данных:\n",
      "\n",
      "<class 'pandas.core.frame.DataFrame'>\n",
      "RangeIndex: 18068 entries, 0 to 18067\n",
      "Data columns (total 4 columns):\n",
      " #   Column    Non-Null Count  Dtype         \n",
      "---  ------    --------------  -----         \n",
      " 0   user_id   18068 non-null  int64         \n",
      " 1   distance  18068 non-null  float64       \n",
      " 2   duration  18068 non-null  float64       \n",
      " 3   date      18068 non-null  datetime64[ns]\n",
      "dtypes: datetime64[ns](1), float64(2), int64(1)\n",
      "memory usage: 564.8 KB\n",
      "None \n",
      "\n",
      "\n",
      "Описание данных:\n",
      "\n",
      "            user_id      distance      duration\n",
      "count  18068.000000  18068.000000  18068.000000\n",
      "mean     842.869936   3070.659976     17.805011\n",
      "std      434.734317   1116.831209      6.091051\n",
      "min        1.000000      0.855683      0.500000\n",
      "25%      487.000000   2543.226360     13.597563\n",
      "50%      889.000000   3133.609994     17.678395\n",
      "75%     1213.250000   3776.222735     21.724800\n",
      "max     1534.000000   7211.007745     40.823963\n"
     ]
    }
   ],
   "source": [
    "data_research(rides_data)"
   ]
  },
  {
   "cell_type": "code",
   "execution_count": 9,
   "id": "b231022a",
   "metadata": {},
   "outputs": [
    {
     "name": "stderr",
     "output_type": "stream",
     "text": [
      "/tmp/ipykernel_133/4019468176.py:1: FutureWarning: Treating datetime data as categorical rather than numeric in `.describe` is deprecated and will be removed in a future version of pandas. Specify `datetime_is_numeric=True` to silence this warning and adopt the future behavior now.\n",
      "  rides_data['date'].describe()\n"
     ]
    },
    {
     "data": {
      "text/plain": [
       "count                   18068\n",
       "unique                    364\n",
       "top       2021-12-22 00:00:00\n",
       "freq                       72\n",
       "first     2021-01-01 00:00:00\n",
       "last      2021-12-30 00:00:00\n",
       "Name: date, dtype: object"
      ]
     },
     "execution_count": 9,
     "metadata": {},
     "output_type": "execute_result"
    }
   ],
   "source": [
    "rides_data['date'].describe()"
   ]
  },
  {
   "cell_type": "markdown",
   "id": "59259b7c",
   "metadata": {},
   "source": [
    "**Данные о подписках `subscriptions_data`:**"
   ]
  },
  {
   "cell_type": "code",
   "execution_count": 10,
   "id": "47318cdf",
   "metadata": {},
   "outputs": [
    {
     "data": {
      "text/html": [
       "<div>\n",
       "<style scoped>\n",
       "    .dataframe tbody tr th:only-of-type {\n",
       "        vertical-align: middle;\n",
       "    }\n",
       "\n",
       "    .dataframe tbody tr th {\n",
       "        vertical-align: top;\n",
       "    }\n",
       "\n",
       "    .dataframe thead th {\n",
       "        text-align: right;\n",
       "    }\n",
       "</style>\n",
       "<table border=\"1\" class=\"dataframe\">\n",
       "  <thead>\n",
       "    <tr style=\"text-align: right;\">\n",
       "      <th></th>\n",
       "      <th>subscription_type</th>\n",
       "      <th>minute_price</th>\n",
       "      <th>start_ride_price</th>\n",
       "      <th>subscription_fee</th>\n",
       "    </tr>\n",
       "  </thead>\n",
       "  <tbody>\n",
       "    <tr>\n",
       "      <th>0</th>\n",
       "      <td>free</td>\n",
       "      <td>8</td>\n",
       "      <td>50</td>\n",
       "      <td>0</td>\n",
       "    </tr>\n",
       "    <tr>\n",
       "      <th>1</th>\n",
       "      <td>ultra</td>\n",
       "      <td>6</td>\n",
       "      <td>0</td>\n",
       "      <td>199</td>\n",
       "    </tr>\n",
       "  </tbody>\n",
       "</table>\n",
       "</div>"
      ],
      "text/plain": [
       "  subscription_type  minute_price  start_ride_price  subscription_fee\n",
       "0              free             8                50                 0\n",
       "1             ultra             6                 0               199"
      ]
     },
     "metadata": {},
     "output_type": "display_data"
    },
    {
     "name": "stdout",
     "output_type": "stream",
     "text": [
      "\n",
      "Общая информация о данных:\n",
      "\n",
      "<class 'pandas.core.frame.DataFrame'>\n",
      "RangeIndex: 2 entries, 0 to 1\n",
      "Data columns (total 4 columns):\n",
      " #   Column             Non-Null Count  Dtype \n",
      "---  ------             --------------  ----- \n",
      " 0   subscription_type  2 non-null      object\n",
      " 1   minute_price       2 non-null      int64 \n",
      " 2   start_ride_price   2 non-null      int64 \n",
      " 3   subscription_fee   2 non-null      int64 \n",
      "dtypes: int64(3), object(1)\n",
      "memory usage: 192.0+ bytes\n",
      "None \n",
      "\n",
      "\n",
      "Описание данных:\n",
      "\n",
      "       minute_price  start_ride_price  subscription_fee\n",
      "count      2.000000          2.000000          2.000000\n",
      "mean       7.000000         25.000000         99.500000\n",
      "std        1.414214         35.355339        140.714249\n",
      "min        6.000000          0.000000          0.000000\n",
      "25%        6.500000         12.500000         49.750000\n",
      "50%        7.000000         25.000000         99.500000\n",
      "75%        7.500000         37.500000        149.250000\n",
      "max        8.000000         50.000000        199.000000\n"
     ]
    }
   ],
   "source": [
    "data_research(subscriptions_data)"
   ]
  },
  {
   "cell_type": "markdown",
   "id": "121c15bb",
   "metadata": {},
   "source": [
    "Построим предварительные графики по числовым данным."
   ]
  },
  {
   "cell_type": "code",
   "execution_count": 11,
   "id": "aa59c657",
   "metadata": {},
   "outputs": [
    {
     "data": {
      "image/png": "[encoded data removed]",
      "text/plain": [
       "<Figure size 720x360 with 2 Axes>"
      ]
     },
     "metadata": {
      "needs_background": "light"
     },
     "output_type": "display_data"
    }
   ],
   "source": [
    "axes = users_data.hist(figsize=(10, 5))\n",
    "\n",
    "# Добавляем подписи осей\n",
    "for ax in axes.flatten():\n",
    "    ax.set_xlabel(ax.get_title())\n",
    "    ax.set_ylabel('Количество пользователей')\n",
    "\n",
    "plt.tight_layout()\n",
    "plt.show()"
   ]
  },
  {
   "cell_type": "code",
   "execution_count": 12,
   "id": "40fe06e5",
   "metadata": {},
   "outputs": [
    {
     "data": {
      "image/png": "[encoded data removed]",
      "text/plain": [
       "<Figure size 720x720 with 4 Axes>"
      ]
     },
     "metadata": {
      "needs_background": "light"
     },
     "output_type": "display_data"
    }
   ],
   "source": [
    "axes = rides_data.hist(figsize=(10, 10))\n",
    "\n",
    "# Добавляем подписи осей\n",
    "for ax in axes.flatten():\n",
    "    ax.set_xlabel(ax.get_title())\n",
    "    ax.set_ylabel('Количество пользователей')\n",
    "\n",
    "plt.tight_layout()\n",
    "plt.show()"
   ]
  },
  {
   "cell_type": "markdown",
   "id": "54bd59ea",
   "metadata": {},
   "source": [
    "### Вывод"
   ]
  },
  {
   "cell_type": "markdown",
   "id": "1e847d4b",
   "metadata": {},
   "source": [
    "В таблицах нет пропущенных значений, которые бы требовалось обработать. Наименования столбцов написаны корректно.\n",
    "\n",
    "Можно увидеть, что данные представлены за период с 01.01.2021 по 30.12.2021.\n",
    "\n",
    "В столбцах `'distance'` и `'duration'` датафрейма `rides_data` присутствуют аномально малые значения, которые необходимо изучить подробнее."
   ]
  },
  {
   "cell_type": "markdown",
   "id": "de4f0396",
   "metadata": {},
   "source": [
    "## Предобработка данных"
   ]
  },
  {
   "cell_type": "markdown",
   "id": "7ee5388f",
   "metadata": {},
   "source": [
    "Сначала необходимо проверить датафреймы на наличие дубликатов.\n",
    "\n",
    "После этого добавим новый столбец в датафрейм `rides_data` с номером месяца на основе столбца `'date'`."
   ]
  },
  {
   "cell_type": "markdown",
   "id": "7d42c7da",
   "metadata": {},
   "source": [
    "### Устранение дубликатов"
   ]
  },
  {
   "cell_type": "markdown",
   "id": "96e55560",
   "metadata": {},
   "source": [
    "#### Явные дубликаты"
   ]
  },
  {
   "cell_type": "markdown",
   "id": "72ede962",
   "metadata": {},
   "source": [
    "Сперва проверим, нет ли в таблице явных дубликатов."
   ]
  },
  {
   "cell_type": "code",
   "execution_count": 13,
   "id": "af6d202c",
   "metadata": {},
   "outputs": [
    {
     "data": {
      "text/plain": [
       "31"
      ]
     },
     "execution_count": 13,
     "metadata": {},
     "output_type": "execute_result"
    }
   ],
   "source": [
    "users_data.duplicated().sum()"
   ]
  },
  {
   "cell_type": "code",
   "execution_count": 14,
   "id": "1a66b533",
   "metadata": {},
   "outputs": [
    {
     "data": {
      "text/plain": [
       "0"
      ]
     },
     "execution_count": 14,
     "metadata": {},
     "output_type": "execute_result"
    }
   ],
   "source": [
    "rides_data.duplicated().sum()"
   ]
  },
  {
   "cell_type": "markdown",
   "id": "afcbf267",
   "metadata": {},
   "source": [
    "В датафрейме `users_data` обнаружены 31 дубликат. Взглянем на них."
   ]
  },
  {
   "cell_type": "code",
   "execution_count": 15,
   "id": "1f7b68d7",
   "metadata": {},
   "outputs": [
    {
     "data": {
      "text/html": [
       "<div>\n",
       "<style scoped>\n",
       "    .dataframe tbody tr th:only-of-type {\n",
       "        vertical-align: middle;\n",
       "    }\n",
       "\n",
       "    .dataframe tbody tr th {\n",
       "        vertical-align: top;\n",
       "    }\n",
       "\n",
       "    .dataframe thead th {\n",
       "        text-align: right;\n",
       "    }\n",
       "</style>\n",
       "<table border=\"1\" class=\"dataframe\">\n",
       "  <thead>\n",
       "    <tr style=\"text-align: right;\">\n",
       "      <th></th>\n",
       "      <th>user_id</th>\n",
       "      <th>name</th>\n",
       "      <th>age</th>\n",
       "      <th>city</th>\n",
       "      <th>subscription_type</th>\n",
       "    </tr>\n",
       "  </thead>\n",
       "  <tbody>\n",
       "    <tr>\n",
       "      <th>1534</th>\n",
       "      <td>293</td>\n",
       "      <td>Агата</td>\n",
       "      <td>26</td>\n",
       "      <td>Краснодар</td>\n",
       "      <td>ultra</td>\n",
       "    </tr>\n",
       "    <tr>\n",
       "      <th>1535</th>\n",
       "      <td>16</td>\n",
       "      <td>Амалия</td>\n",
       "      <td>27</td>\n",
       "      <td>Краснодар</td>\n",
       "      <td>ultra</td>\n",
       "    </tr>\n",
       "    <tr>\n",
       "      <th>1536</th>\n",
       "      <td>909</td>\n",
       "      <td>Константин</td>\n",
       "      <td>20</td>\n",
       "      <td>Екатеринбург</td>\n",
       "      <td>free</td>\n",
       "    </tr>\n",
       "    <tr>\n",
       "      <th>1537</th>\n",
       "      <td>403</td>\n",
       "      <td>Полина</td>\n",
       "      <td>19</td>\n",
       "      <td>Сочи</td>\n",
       "      <td>ultra</td>\n",
       "    </tr>\n",
       "    <tr>\n",
       "      <th>1538</th>\n",
       "      <td>908</td>\n",
       "      <td>Рустам</td>\n",
       "      <td>30</td>\n",
       "      <td>Тюмень</td>\n",
       "      <td>free</td>\n",
       "    </tr>\n",
       "    <tr>\n",
       "      <th>1539</th>\n",
       "      <td>43</td>\n",
       "      <td>Стефания</td>\n",
       "      <td>22</td>\n",
       "      <td>Омск</td>\n",
       "      <td>ultra</td>\n",
       "    </tr>\n",
       "    <tr>\n",
       "      <th>1540</th>\n",
       "      <td>127</td>\n",
       "      <td>Павел</td>\n",
       "      <td>25</td>\n",
       "      <td>Пятигорск</td>\n",
       "      <td>ultra</td>\n",
       "    </tr>\n",
       "    <tr>\n",
       "      <th>1541</th>\n",
       "      <td>659</td>\n",
       "      <td>Злата</td>\n",
       "      <td>27</td>\n",
       "      <td>Ростов-на-Дону</td>\n",
       "      <td>ultra</td>\n",
       "    </tr>\n",
       "    <tr>\n",
       "      <th>1542</th>\n",
       "      <td>204</td>\n",
       "      <td>Руслан</td>\n",
       "      <td>30</td>\n",
       "      <td>Пятигорск</td>\n",
       "      <td>ultra</td>\n",
       "    </tr>\n",
       "    <tr>\n",
       "      <th>1543</th>\n",
       "      <td>153</td>\n",
       "      <td>Герман</td>\n",
       "      <td>23</td>\n",
       "      <td>Москва</td>\n",
       "      <td>ultra</td>\n",
       "    </tr>\n",
       "    <tr>\n",
       "      <th>1544</th>\n",
       "      <td>1245</td>\n",
       "      <td>Регина</td>\n",
       "      <td>27</td>\n",
       "      <td>Пятигорск</td>\n",
       "      <td>free</td>\n",
       "    </tr>\n",
       "    <tr>\n",
       "      <th>1545</th>\n",
       "      <td>807</td>\n",
       "      <td>Александр</td>\n",
       "      <td>28</td>\n",
       "      <td>Екатеринбург</td>\n",
       "      <td>free</td>\n",
       "    </tr>\n",
       "    <tr>\n",
       "      <th>1546</th>\n",
       "      <td>924</td>\n",
       "      <td>Мария</td>\n",
       "      <td>23</td>\n",
       "      <td>Пятигорск</td>\n",
       "      <td>free</td>\n",
       "    </tr>\n",
       "    <tr>\n",
       "      <th>1547</th>\n",
       "      <td>635</td>\n",
       "      <td>Герман</td>\n",
       "      <td>21</td>\n",
       "      <td>Москва</td>\n",
       "      <td>ultra</td>\n",
       "    </tr>\n",
       "    <tr>\n",
       "      <th>1548</th>\n",
       "      <td>136</td>\n",
       "      <td>Марсель</td>\n",
       "      <td>25</td>\n",
       "      <td>Тюмень</td>\n",
       "      <td>ultra</td>\n",
       "    </tr>\n",
       "    <tr>\n",
       "      <th>1549</th>\n",
       "      <td>108</td>\n",
       "      <td>Влада</td>\n",
       "      <td>29</td>\n",
       "      <td>Тюмень</td>\n",
       "      <td>ultra</td>\n",
       "    </tr>\n",
       "    <tr>\n",
       "      <th>1550</th>\n",
       "      <td>737</td>\n",
       "      <td>Мелания</td>\n",
       "      <td>27</td>\n",
       "      <td>Ростов-на-Дону</td>\n",
       "      <td>free</td>\n",
       "    </tr>\n",
       "    <tr>\n",
       "      <th>1551</th>\n",
       "      <td>666</td>\n",
       "      <td>Зарина</td>\n",
       "      <td>29</td>\n",
       "      <td>Москва</td>\n",
       "      <td>ultra</td>\n",
       "    </tr>\n",
       "    <tr>\n",
       "      <th>1552</th>\n",
       "      <td>297</td>\n",
       "      <td>Егор</td>\n",
       "      <td>33</td>\n",
       "      <td>Пятигорск</td>\n",
       "      <td>ultra</td>\n",
       "    </tr>\n",
       "    <tr>\n",
       "      <th>1553</th>\n",
       "      <td>121</td>\n",
       "      <td>Алина</td>\n",
       "      <td>25</td>\n",
       "      <td>Пятигорск</td>\n",
       "      <td>ultra</td>\n",
       "    </tr>\n",
       "    <tr>\n",
       "      <th>1554</th>\n",
       "      <td>1198</td>\n",
       "      <td>Демид</td>\n",
       "      <td>29</td>\n",
       "      <td>Ростов-на-Дону</td>\n",
       "      <td>free</td>\n",
       "    </tr>\n",
       "    <tr>\n",
       "      <th>1555</th>\n",
       "      <td>72</td>\n",
       "      <td>Никита</td>\n",
       "      <td>25</td>\n",
       "      <td>Москва</td>\n",
       "      <td>ultra</td>\n",
       "    </tr>\n",
       "    <tr>\n",
       "      <th>1556</th>\n",
       "      <td>422</td>\n",
       "      <td>Кирилл</td>\n",
       "      <td>27</td>\n",
       "      <td>Сочи</td>\n",
       "      <td>ultra</td>\n",
       "    </tr>\n",
       "    <tr>\n",
       "      <th>1557</th>\n",
       "      <td>611</td>\n",
       "      <td>Владимир</td>\n",
       "      <td>28</td>\n",
       "      <td>Омск</td>\n",
       "      <td>ultra</td>\n",
       "    </tr>\n",
       "    <tr>\n",
       "      <th>1558</th>\n",
       "      <td>1237</td>\n",
       "      <td>Евгения</td>\n",
       "      <td>23</td>\n",
       "      <td>Тюмень</td>\n",
       "      <td>free</td>\n",
       "    </tr>\n",
       "    <tr>\n",
       "      <th>1559</th>\n",
       "      <td>209</td>\n",
       "      <td>Андрей</td>\n",
       "      <td>23</td>\n",
       "      <td>Омск</td>\n",
       "      <td>ultra</td>\n",
       "    </tr>\n",
       "    <tr>\n",
       "      <th>1560</th>\n",
       "      <td>829</td>\n",
       "      <td>Федор</td>\n",
       "      <td>29</td>\n",
       "      <td>Пятигорск</td>\n",
       "      <td>free</td>\n",
       "    </tr>\n",
       "    <tr>\n",
       "      <th>1561</th>\n",
       "      <td>809</td>\n",
       "      <td>Юрий</td>\n",
       "      <td>26</td>\n",
       "      <td>Сочи</td>\n",
       "      <td>free</td>\n",
       "    </tr>\n",
       "    <tr>\n",
       "      <th>1562</th>\n",
       "      <td>307</td>\n",
       "      <td>Ясмина</td>\n",
       "      <td>19</td>\n",
       "      <td>Краснодар</td>\n",
       "      <td>ultra</td>\n",
       "    </tr>\n",
       "    <tr>\n",
       "      <th>1563</th>\n",
       "      <td>47</td>\n",
       "      <td>Юрий</td>\n",
       "      <td>28</td>\n",
       "      <td>Тюмень</td>\n",
       "      <td>ultra</td>\n",
       "    </tr>\n",
       "    <tr>\n",
       "      <th>1564</th>\n",
       "      <td>1045</td>\n",
       "      <td>Артемий</td>\n",
       "      <td>28</td>\n",
       "      <td>Ростов-на-Дону</td>\n",
       "      <td>free</td>\n",
       "    </tr>\n",
       "  </tbody>\n",
       "</table>\n",
       "</div>"
      ],
      "text/plain": [
       "      user_id        name  age            city subscription_type\n",
       "1534      293       Агата   26       Краснодар             ultra\n",
       "1535       16      Амалия   27       Краснодар             ultra\n",
       "1536      909  Константин   20    Екатеринбург              free\n",
       "1537      403      Полина   19            Сочи             ultra\n",
       "1538      908      Рустам   30          Тюмень              free\n",
       "1539       43    Стефания   22            Омск             ultra\n",
       "1540      127       Павел   25       Пятигорск             ultra\n",
       "1541      659       Злата   27  Ростов-на-Дону             ultra\n",
       "1542      204      Руслан   30       Пятигорск             ultra\n",
       "1543      153      Герман   23          Москва             ultra\n",
       "1544     1245      Регина   27       Пятигорск              free\n",
       "1545      807   Александр   28    Екатеринбург              free\n",
       "1546      924       Мария   23       Пятигорск              free\n",
       "1547      635      Герман   21          Москва             ultra\n",
       "1548      136     Марсель   25          Тюмень             ultra\n",
       "1549      108       Влада   29          Тюмень             ultra\n",
       "1550      737     Мелания   27  Ростов-на-Дону              free\n",
       "1551      666      Зарина   29          Москва             ultra\n",
       "1552      297        Егор   33       Пятигорск             ultra\n",
       "1553      121       Алина   25       Пятигорск             ultra\n",
       "1554     1198       Демид   29  Ростов-на-Дону              free\n",
       "1555       72      Никита   25          Москва             ultra\n",
       "1556      422      Кирилл   27            Сочи             ultra\n",
       "1557      611    Владимир   28            Омск             ultra\n",
       "1558     1237     Евгения   23          Тюмень              free\n",
       "1559      209      Андрей   23            Омск             ultra\n",
       "1560      829       Федор   29       Пятигорск              free\n",
       "1561      809        Юрий   26            Сочи              free\n",
       "1562      307      Ясмина   19       Краснодар             ultra\n",
       "1563       47        Юрий   28          Тюмень             ultra\n",
       "1564     1045     Артемий   28  Ростов-на-Дону              free"
      ]
     },
     "execution_count": 15,
     "metadata": {},
     "output_type": "execute_result"
    }
   ],
   "source": [
    "users_data[users_data.duplicated()]"
   ]
  },
  {
   "cell_type": "markdown",
   "id": "8e031048",
   "metadata": {},
   "source": [
    "Удалим явные дубликаты и обновим индексы."
   ]
  },
  {
   "cell_type": "code",
   "execution_count": 16,
   "id": "09b56d55",
   "metadata": {},
   "outputs": [],
   "source": [
    "users_data = users_data.drop_duplicates().reset_index(drop=True)"
   ]
  },
  {
   "cell_type": "markdown",
   "id": "ed7170ec",
   "metadata": {},
   "source": [
    "Проверяем результат."
   ]
  },
  {
   "cell_type": "code",
   "execution_count": 17,
   "id": "932db83f",
   "metadata": {},
   "outputs": [
    {
     "data": {
      "text/plain": [
       "0"
      ]
     },
     "execution_count": 17,
     "metadata": {},
     "output_type": "execute_result"
    }
   ],
   "source": [
    "users_data.duplicated().sum()"
   ]
  },
  {
   "cell_type": "code",
   "execution_count": 18,
   "id": "1983249f",
   "metadata": {},
   "outputs": [
    {
     "data": {
      "text/html": [
       "<div>\n",
       "<style scoped>\n",
       "    .dataframe tbody tr th:only-of-type {\n",
       "        vertical-align: middle;\n",
       "    }\n",
       "\n",
       "    .dataframe tbody tr th {\n",
       "        vertical-align: top;\n",
       "    }\n",
       "\n",
       "    .dataframe thead th {\n",
       "        text-align: right;\n",
       "    }\n",
       "</style>\n",
       "<table border=\"1\" class=\"dataframe\">\n",
       "  <thead>\n",
       "    <tr style=\"text-align: right;\">\n",
       "      <th></th>\n",
       "      <th>user_id</th>\n",
       "      <th>name</th>\n",
       "      <th>age</th>\n",
       "      <th>city</th>\n",
       "      <th>subscription_type</th>\n",
       "    </tr>\n",
       "  </thead>\n",
       "  <tbody>\n",
       "    <tr>\n",
       "      <th>1529</th>\n",
       "      <td>1530</td>\n",
       "      <td>Ростислав</td>\n",
       "      <td>29</td>\n",
       "      <td>Сочи</td>\n",
       "      <td>free</td>\n",
       "    </tr>\n",
       "    <tr>\n",
       "      <th>1530</th>\n",
       "      <td>1531</td>\n",
       "      <td>Никита</td>\n",
       "      <td>25</td>\n",
       "      <td>Пятигорск</td>\n",
       "      <td>free</td>\n",
       "    </tr>\n",
       "    <tr>\n",
       "      <th>1531</th>\n",
       "      <td>1532</td>\n",
       "      <td>Алексей</td>\n",
       "      <td>26</td>\n",
       "      <td>Тюмень</td>\n",
       "      <td>free</td>\n",
       "    </tr>\n",
       "    <tr>\n",
       "      <th>1532</th>\n",
       "      <td>1533</td>\n",
       "      <td>Степан</td>\n",
       "      <td>22</td>\n",
       "      <td>Краснодар</td>\n",
       "      <td>free</td>\n",
       "    </tr>\n",
       "    <tr>\n",
       "      <th>1533</th>\n",
       "      <td>1534</td>\n",
       "      <td>Альберт</td>\n",
       "      <td>25</td>\n",
       "      <td>Краснодар</td>\n",
       "      <td>free</td>\n",
       "    </tr>\n",
       "  </tbody>\n",
       "</table>\n",
       "</div>"
      ],
      "text/plain": [
       "      user_id       name  age       city subscription_type\n",
       "1529     1530  Ростислав   29       Сочи              free\n",
       "1530     1531     Никита   25  Пятигорск              free\n",
       "1531     1532    Алексей   26     Тюмень              free\n",
       "1532     1533     Степан   22  Краснодар              free\n",
       "1533     1534    Альберт   25  Краснодар              free"
      ]
     },
     "execution_count": 18,
     "metadata": {},
     "output_type": "execute_result"
    }
   ],
   "source": [
    "users_data.tail()"
   ]
  },
  {
   "cell_type": "markdown",
   "id": "56e69275",
   "metadata": {},
   "source": [
    "Мы избавились от 31 явного дубликата, индексы отображаются корректно. "
   ]
  },
  {
   "cell_type": "markdown",
   "id": "c4d993c1",
   "metadata": {},
   "source": [
    "#### Неявные дубликаты"
   ]
  },
  {
   "cell_type": "markdown",
   "id": "93c5ffb0",
   "metadata": {},
   "source": [
    "Проверим столбцы `'city'` и `'subscription_type'` из датафрейма `users_data` на наличие неявнях дубликатов."
   ]
  },
  {
   "cell_type": "code",
   "execution_count": 19,
   "id": "60a7c1d2",
   "metadata": {},
   "outputs": [
    {
     "name": "stdout",
     "output_type": "stream",
     "text": [
      "8\n"
     ]
    },
    {
     "data": {
      "text/plain": [
       "['Екатеринбург',\n",
       " 'Краснодар',\n",
       " 'Москва',\n",
       " 'Омск',\n",
       " 'Пятигорск',\n",
       " 'Ростов-на-Дону',\n",
       " 'Сочи',\n",
       " 'Тюмень']"
      ]
     },
     "execution_count": 19,
     "metadata": {},
     "output_type": "execute_result"
    }
   ],
   "source": [
    "print(len(users_data['city'].unique()))\n",
    "sorted(users_data['city'].unique())"
   ]
  },
  {
   "cell_type": "code",
   "execution_count": 20,
   "id": "d2f87e21",
   "metadata": {},
   "outputs": [
    {
     "name": "stdout",
     "output_type": "stream",
     "text": [
      "2\n"
     ]
    },
    {
     "data": {
      "text/plain": [
       "['free', 'ultra']"
      ]
     },
     "execution_count": 20,
     "metadata": {},
     "output_type": "execute_result"
    }
   ],
   "source": [
    "print(len(users_data['subscription_type'].unique()))\n",
    "sorted(users_data['subscription_type'].unique())"
   ]
  },
  {
   "cell_type": "markdown",
   "id": "027a9180",
   "metadata": {},
   "source": [
    "Неявных дубликатов в таблице нет, поэтому двигаемся дальше."
   ]
  },
  {
   "cell_type": "markdown",
   "id": "ba205997",
   "metadata": {},
   "source": [
    "### Добавление столбца `'month'`"
   ]
  },
  {
   "cell_type": "markdown",
   "id": "ee4d82c7",
   "metadata": {},
   "source": [
    "Добавим столбец  `'month'` в датафрейм `rides_data`, в котором будет указан номер месяца поездки."
   ]
  },
  {
   "cell_type": "code",
   "execution_count": 21,
   "id": "9f8b6032",
   "metadata": {},
   "outputs": [],
   "source": [
    "rides_data['month'] = rides_data['date'].dt.month"
   ]
  },
  {
   "cell_type": "markdown",
   "id": "774bcc6b",
   "metadata": {},
   "source": [
    "Проверяем результат."
   ]
  },
  {
   "cell_type": "code",
   "execution_count": 22,
   "id": "fcf02237",
   "metadata": {},
   "outputs": [
    {
     "data": {
      "text/html": [
       "<div>\n",
       "<style scoped>\n",
       "    .dataframe tbody tr th:only-of-type {\n",
       "        vertical-align: middle;\n",
       "    }\n",
       "\n",
       "    .dataframe tbody tr th {\n",
       "        vertical-align: top;\n",
       "    }\n",
       "\n",
       "    .dataframe thead th {\n",
       "        text-align: right;\n",
       "    }\n",
       "</style>\n",
       "<table border=\"1\" class=\"dataframe\">\n",
       "  <thead>\n",
       "    <tr style=\"text-align: right;\">\n",
       "      <th></th>\n",
       "      <th>user_id</th>\n",
       "      <th>distance</th>\n",
       "      <th>duration</th>\n",
       "      <th>date</th>\n",
       "      <th>month</th>\n",
       "    </tr>\n",
       "  </thead>\n",
       "  <tbody>\n",
       "    <tr>\n",
       "      <th>0</th>\n",
       "      <td>1</td>\n",
       "      <td>4409.919140</td>\n",
       "      <td>25.599769</td>\n",
       "      <td>2021-01-01</td>\n",
       "      <td>1</td>\n",
       "    </tr>\n",
       "    <tr>\n",
       "      <th>1</th>\n",
       "      <td>1</td>\n",
       "      <td>2617.592153</td>\n",
       "      <td>15.816871</td>\n",
       "      <td>2021-01-18</td>\n",
       "      <td>1</td>\n",
       "    </tr>\n",
       "    <tr>\n",
       "      <th>2</th>\n",
       "      <td>1</td>\n",
       "      <td>754.159807</td>\n",
       "      <td>6.232113</td>\n",
       "      <td>2021-04-20</td>\n",
       "      <td>4</td>\n",
       "    </tr>\n",
       "    <tr>\n",
       "      <th>3</th>\n",
       "      <td>1</td>\n",
       "      <td>2694.783254</td>\n",
       "      <td>18.511000</td>\n",
       "      <td>2021-08-11</td>\n",
       "      <td>8</td>\n",
       "    </tr>\n",
       "    <tr>\n",
       "      <th>4</th>\n",
       "      <td>1</td>\n",
       "      <td>4028.687306</td>\n",
       "      <td>26.265803</td>\n",
       "      <td>2021-08-28</td>\n",
       "      <td>8</td>\n",
       "    </tr>\n",
       "  </tbody>\n",
       "</table>\n",
       "</div>"
      ],
      "text/plain": [
       "   user_id     distance   duration       date  month\n",
       "0        1  4409.919140  25.599769 2021-01-01      1\n",
       "1        1  2617.592153  15.816871 2021-01-18      1\n",
       "2        1   754.159807   6.232113 2021-04-20      4\n",
       "3        1  2694.783254  18.511000 2021-08-11      8\n",
       "4        1  4028.687306  26.265803 2021-08-28      8"
      ]
     },
     "execution_count": 22,
     "metadata": {},
     "output_type": "execute_result"
    }
   ],
   "source": [
    "rides_data.head()"
   ]
  },
  {
   "cell_type": "markdown",
   "id": "c884bf7f",
   "metadata": {},
   "source": [
    "В конце таблицы мы видим, что новый столбец отображается, и информация в нем корректна."
   ]
  },
  {
   "cell_type": "markdown",
   "id": "58d9033e",
   "metadata": {},
   "source": [
    "### Вывод"
   ]
  },
  {
   "cell_type": "markdown",
   "id": "411c6f10",
   "metadata": {},
   "source": [
    "Мы избавились от 31 явного дубликата в датафрейме `users_data`.\n",
    "\n",
    "Также был добавлен столбец  `'month'` в датафрейм `rides_data`, в котором указан номер месяца поездки."
   ]
  },
  {
   "cell_type": "markdown",
   "id": "212593c7",
   "metadata": {},
   "source": [
    "## Исследовательский анализ данных"
   ]
  },
  {
   "cell_type": "markdown",
   "id": "c60ea1fd",
   "metadata": {},
   "source": [
    "### Анализ столбца `'city'`"
   ]
  },
  {
   "cell_type": "markdown",
   "id": "c3ba6d59",
   "metadata": {},
   "source": [
    "Изучим данные столбца из датафрейма `users_data`."
   ]
  },
  {
   "cell_type": "code",
   "execution_count": 23,
   "id": "bc35ad15",
   "metadata": {},
   "outputs": [
    {
     "data": {
      "text/plain": [
       "Пятигорск         219\n",
       "Екатеринбург      204\n",
       "Ростов-на-Дону    198\n",
       "Краснодар         193\n",
       "Сочи              189\n",
       "Омск              183\n",
       "Тюмень            180\n",
       "Москва            168\n",
       "Name: city, dtype: int64"
      ]
     },
     "execution_count": 23,
     "metadata": {},
     "output_type": "execute_result"
    }
   ],
   "source": [
    "users_data['city'].value_counts()"
   ]
  },
  {
   "cell_type": "code",
   "execution_count": 24,
   "id": "0a71df3a",
   "metadata": {},
   "outputs": [
    {
     "data": {
      "image/png": "[encoded data removed]",
      "text/plain": [
       "<Figure size 720x432 with 1 Axes>"
      ]
     },
     "metadata": {
      "needs_background": "light"
     },
     "output_type": "display_data"
    }
   ],
   "source": [
    "users_data['city'].value_counts().plot(\n",
    "    kind='bar', \n",
    "    figsize=(10,6), \n",
    "    title='Распределение пользователей по городам',\n",
    "    ylabel='Количество пользователей'\n",
    ");"
   ]
  },
  {
   "cell_type": "markdown",
   "id": "a691ae31",
   "metadata": {},
   "source": [
    "В данных представлено 8 городов. Наибольшее количество пользователей обнаружено в Пятигорске - 219 пользователей (14.3%), что на 25% больше, чем в Москве, где обнаружено наименьшее число пользователей - 168 (11%). Это вызывает вопросы, поскольку Москва является крупным городом с большим количеством потенциальных пользователей. \n",
    "\n",
    "Возможные причины этого могут быть более высокая конкуренция в Москве, меньшая развитость инфраструктуры для передвижения на самокатах. \n",
    "\n",
    "Также возможно, что у нас недостаточно данных для Москвы или данные были неправильно собраны или записаны. Это может привести к искажению результатов. Или в данных могут быть выбросы, которые искажают общую картину. Например, несколько пользователей в Пятигорске, которые очень часто используют самокаты, могут создать иллюзию, что в этом городе самокаты используются чаще."
   ]
  },
  {
   "cell_type": "markdown",
   "id": "1106d7b5",
   "metadata": {},
   "source": [
    "### Анализ столбца `'subscription_type'`"
   ]
  },
  {
   "cell_type": "markdown",
   "id": "6d42b2b4",
   "metadata": {},
   "source": [
    "Изучим данные столбца из датафрейма `users_data`."
   ]
  },
  {
   "cell_type": "code",
   "execution_count": 25,
   "id": "4f77856f",
   "metadata": {},
   "outputs": [
    {
     "data": {
      "text/plain": [
       "free     835\n",
       "ultra    699\n",
       "Name: subscription_type, dtype: int64"
      ]
     },
     "execution_count": 25,
     "metadata": {},
     "output_type": "execute_result"
    }
   ],
   "source": [
    "users_data['subscription_type'].value_counts()"
   ]
  },
  {
   "cell_type": "code",
   "execution_count": 26,
   "id": "14dbaf1b",
   "metadata": {},
   "outputs": [
    {
     "data": {
      "image/png": "[encoded data removed]",
      "text/plain": [
       "<Figure size 576x576 with 1 Axes>"
      ]
     },
     "metadata": {},
     "output_type": "display_data"
    }
   ],
   "source": [
    "users_data['subscription_type']\\\n",
    "    .value_counts()\\\n",
    "    .plot(kind='pie', \n",
    "          figsize=(8,8), \n",
    "          autopct='%1.1f%%',\n",
    "          colors=['gold', 'lightskyblue'],\n",
    "          title = 'Распределение пользователей по типу подписки');"
   ]
  },
  {
   "cell_type": "markdown",
   "id": "aadc2ba9",
   "metadata": {},
   "source": [
    "Приложением без подписки пользуется 835 пользователей, что составляет 54.4% от всех пользователей, а с подпиской Ultra пользуется 699 пользователей, что составляет 45.6% соответственно.\n",
    "\n",
    "Пользователей приложения без подписки больше всего лишь на 8.8%, чем пользователей с подпиской Ultra."
   ]
  },
  {
   "cell_type": "markdown",
   "id": "2ebb312c",
   "metadata": {},
   "source": [
    "### Анализ столбца `'age'`"
   ]
  },
  {
   "cell_type": "markdown",
   "id": "e1f48220",
   "metadata": {},
   "source": [
    "Изучим данные столбца из датафрейма `users_data`."
   ]
  },
  {
   "cell_type": "code",
   "execution_count": 27,
   "id": "2a554963",
   "metadata": {},
   "outputs": [
    {
     "data": {
      "text/plain": [
       "count    1534.000000\n",
       "mean       24.903520\n",
       "std         4.572367\n",
       "min        12.000000\n",
       "25%        22.000000\n",
       "50%        25.000000\n",
       "75%        28.000000\n",
       "max        43.000000\n",
       "Name: age, dtype: float64"
      ]
     },
     "execution_count": 27,
     "metadata": {},
     "output_type": "execute_result"
    }
   ],
   "source": [
    "users_data['age'].describe()"
   ]
  },
  {
   "cell_type": "code",
   "execution_count": 28,
   "id": "ddc329f9",
   "metadata": {},
   "outputs": [
    {
     "data": {
      "image/png": "[encoded data removed]",
      "text/plain": [
       "<Figure size 720x360 with 1 Axes>"
      ]
     },
     "metadata": {
      "needs_background": "light"
     },
     "output_type": "display_data"
    }
   ],
   "source": [
    "users_data.hist(column='age', bins=31, figsize=(10, 5));\n",
    "plt.title('Возраст пользователей')\n",
    "plt.xlabel('Возраст')\n",
    "plt.ylabel('Количество пользователей')\n",
    "plt.show()"
   ]
  },
  {
   "cell_type": "markdown",
   "id": "ea9cf032",
   "metadata": {},
   "source": [
    "Распределение возраста пользователей выглядит равномерным. Половина пользователей имеет возраст от 22 до 28 лет. Самому младшему пользователю 12 лет, самому старшему - 43 года."
   ]
  },
  {
   "cell_type": "markdown",
   "id": "92d2b4a3",
   "metadata": {},
   "source": [
    "### Анализ столбца `'distance'`"
   ]
  },
  {
   "cell_type": "markdown",
   "id": "4e212a29",
   "metadata": {},
   "source": [
    "Изучим данные столбца из датафрейма `rides_data`."
   ]
  },
  {
   "cell_type": "code",
   "execution_count": 29,
   "id": "b5a7591b",
   "metadata": {},
   "outputs": [
    {
     "data": {
      "text/plain": [
       "count    18068.000000\n",
       "mean      3070.659976\n",
       "std       1116.831209\n",
       "min          0.855683\n",
       "25%       2543.226360\n",
       "50%       3133.609994\n",
       "75%       3776.222735\n",
       "max       7211.007745\n",
       "Name: distance, dtype: float64"
      ]
     },
     "execution_count": 29,
     "metadata": {},
     "output_type": "execute_result"
    }
   ],
   "source": [
    "rides_data['distance'].describe()"
   ]
  },
  {
   "cell_type": "code",
   "execution_count": 30,
   "id": "dc4b2e9b",
   "metadata": {},
   "outputs": [
    {
     "data": {
      "image/png": "[encoded data removed]",
      "text/plain": [
       "<Figure size 720x360 with 1 Axes>"
      ]
     },
     "metadata": {
      "needs_background": "light"
     },
     "output_type": "display_data"
    }
   ],
   "source": [
    "rides_data.hist(column='distance', bins=36, figsize=(10, 5));\n",
    "plt.title('Пройденное расстояние за одну поездку')\n",
    "plt.xlabel('Расстояние, м')\n",
    "plt.ylabel('Количество поездок')\n",
    "plt.show()"
   ]
  },
  {
   "cell_type": "code",
   "execution_count": 31,
   "id": "0684a476",
   "metadata": {
    "scrolled": true
   },
   "outputs": [
    {
     "data": {
      "image/png": "[encoded data removed]",
      "text/plain": [
       "<Figure size 432x288 with 1 Axes>"
      ]
     },
     "metadata": {
      "needs_background": "light"
     },
     "output_type": "display_data"
    }
   ],
   "source": [
    "rides_data.boxplot(column='distance', vert=False);"
   ]
  },
  {
   "cell_type": "markdown",
   "id": "628e1681",
   "metadata": {},
   "source": [
    "Гистограмма имеет необычное распределение, на ней видно два пика. Наличие двух пиков на гистограмме может указывать на наличие двух различных групп. Эти группы могут представлять различные типы поездок или поведение пользователей. Вот некоторые возможные объяснения:\n",
    "\n",
    "Типы поездок: Первый пик около 3000 метров может представлять \"обычные\" поездки, которые большинство пользователей делают в обычный день (например, поездки до работы или школы). Второй пик около 600 метров может представлять \"короткие\" поездки, которые пользователи делают для специфических целей (например, перемещение внутри большого торгового центра или кампуса).\n",
    "\n",
    "Поведение пользователей: Два пика могут отражать различное поведение двух групп пользователей. Например, одна группа пользователей может предпочитать короткие поездки, в то время как другая группа может регулярно совершать более длинные поездки.\n"
   ]
  },
  {
   "cell_type": "markdown",
   "id": "31a6fa41",
   "metadata": {},
   "source": [
    "\n",
    "Среднее расстояние, которое проехали пользователи, составляет примерно 3070 метров. Межквартильный размах находится между 2543 и 3776 метров. Минимальное расстояние составляет менее 1 метра, в то время как максимальное расстояние составляет около 7211 метров. "
   ]
  },
  {
   "cell_type": "markdown",
   "id": "f046cd01",
   "metadata": {},
   "source": [
    "### Анализ столбца `'duration'`"
   ]
  },
  {
   "cell_type": "markdown",
   "id": "e1186ebb",
   "metadata": {},
   "source": [
    "Изучим данные столбца из датафрейма `rides_data`."
   ]
  },
  {
   "cell_type": "code",
   "execution_count": 32,
   "id": "4d8e3f7b",
   "metadata": {
    "scrolled": true
   },
   "outputs": [
    {
     "data": {
      "text/plain": [
       "count    18068.000000\n",
       "mean        17.805011\n",
       "std          6.091051\n",
       "min          0.500000\n",
       "25%         13.597563\n",
       "50%         17.678395\n",
       "75%         21.724800\n",
       "max         40.823963\n",
       "Name: duration, dtype: float64"
      ]
     },
     "execution_count": 32,
     "metadata": {},
     "output_type": "execute_result"
    }
   ],
   "source": [
    "rides_data['duration'].describe()"
   ]
  },
  {
   "cell_type": "code",
   "execution_count": 33,
   "id": "99f5225c",
   "metadata": {},
   "outputs": [
    {
     "data": {
      "image/png": "[encoded data removed]",
      "text/plain": [
       "<Figure size 720x360 with 1 Axes>"
      ]
     },
     "metadata": {
      "needs_background": "light"
     },
     "output_type": "display_data"
    }
   ],
   "source": [
    "rides_data.hist(column='duration', bins=41, figsize=(10, 5));\n",
    "plt.title('Длительность одной поездки')\n",
    "plt.xlabel('Длительность, мин')\n",
    "plt.ylabel('Количество поездок')\n",
    "plt.show()"
   ]
  },
  {
   "cell_type": "code",
   "execution_count": 34,
   "id": "15b413ca",
   "metadata": {},
   "outputs": [
    {
     "data": {
      "image/png": "[encoded data removed]",
      "text/plain": [
       "<Figure size 432x288 with 1 Axes>"
      ]
     },
     "metadata": {
      "needs_background": "light"
     },
     "output_type": "display_data"
    }
   ],
   "source": [
    "rides_data.boxplot(column='duration', vert=False);"
   ]
  },
  {
   "cell_type": "markdown",
   "id": "cdd47957",
   "metadata": {},
   "source": [
    "Значения длительности поездки распределено нормально, но можно заметить скачок значений, которые не превышают 2 мин и отмечены как выброс. Также заметен длинный хвост из редких больших значений свыше 34 мин, которые отмечаются как аномальные. Изучим их подробнее. \n",
    "\n",
    "Начнем с малых значений."
   ]
  },
  {
   "cell_type": "code",
   "execution_count": 35,
   "id": "350b76d5",
   "metadata": {},
   "outputs": [
    {
     "name": "stdout",
     "output_type": "stream",
     "text": [
      "95\n"
     ]
    },
    {
     "data": {
      "text/html": [
       "<div>\n",
       "<style scoped>\n",
       "    .dataframe tbody tr th:only-of-type {\n",
       "        vertical-align: middle;\n",
       "    }\n",
       "\n",
       "    .dataframe tbody tr th {\n",
       "        vertical-align: top;\n",
       "    }\n",
       "\n",
       "    .dataframe thead th {\n",
       "        text-align: right;\n",
       "    }\n",
       "</style>\n",
       "<table border=\"1\" class=\"dataframe\">\n",
       "  <thead>\n",
       "    <tr style=\"text-align: right;\">\n",
       "      <th></th>\n",
       "      <th>user_id</th>\n",
       "      <th>distance</th>\n",
       "      <th>duration</th>\n",
       "      <th>date</th>\n",
       "      <th>month</th>\n",
       "    </tr>\n",
       "  </thead>\n",
       "  <tbody>\n",
       "    <tr>\n",
       "      <th>15132</th>\n",
       "      <td>1325</td>\n",
       "      <td>4030.308008</td>\n",
       "      <td>0.5</td>\n",
       "      <td>2021-12-22</td>\n",
       "      <td>12</td>\n",
       "    </tr>\n",
       "    <tr>\n",
       "      <th>17909</th>\n",
       "      <td>1524</td>\n",
       "      <td>4103.998874</td>\n",
       "      <td>0.5</td>\n",
       "      <td>2021-06-18</td>\n",
       "      <td>6</td>\n",
       "    </tr>\n",
       "    <tr>\n",
       "      <th>10692</th>\n",
       "      <td>1006</td>\n",
       "      <td>4106.278268</td>\n",
       "      <td>0.5</td>\n",
       "      <td>2021-10-31</td>\n",
       "      <td>10</td>\n",
       "    </tr>\n",
       "    <tr>\n",
       "      <th>9698</th>\n",
       "      <td>937</td>\n",
       "      <td>4169.066800</td>\n",
       "      <td>0.5</td>\n",
       "      <td>2021-12-12</td>\n",
       "      <td>12</td>\n",
       "    </tr>\n",
       "    <tr>\n",
       "      <th>14342</th>\n",
       "      <td>1268</td>\n",
       "      <td>4177.139336</td>\n",
       "      <td>0.5</td>\n",
       "      <td>2021-06-09</td>\n",
       "      <td>6</td>\n",
       "    </tr>\n",
       "    <tr>\n",
       "      <th>14417</th>\n",
       "      <td>1273</td>\n",
       "      <td>4178.876258</td>\n",
       "      <td>0.5</td>\n",
       "      <td>2021-04-30</td>\n",
       "      <td>4</td>\n",
       "    </tr>\n",
       "    <tr>\n",
       "      <th>6531</th>\n",
       "      <td>701</td>\n",
       "      <td>4196.445201</td>\n",
       "      <td>0.5</td>\n",
       "      <td>2021-08-31</td>\n",
       "      <td>8</td>\n",
       "    </tr>\n",
       "    <tr>\n",
       "      <th>10650</th>\n",
       "      <td>1003</td>\n",
       "      <td>4204.302074</td>\n",
       "      <td>0.5</td>\n",
       "      <td>2021-05-17</td>\n",
       "      <td>5</td>\n",
       "    </tr>\n",
       "    <tr>\n",
       "      <th>16336</th>\n",
       "      <td>1412</td>\n",
       "      <td>4247.502137</td>\n",
       "      <td>0.5</td>\n",
       "      <td>2021-11-28</td>\n",
       "      <td>11</td>\n",
       "    </tr>\n",
       "    <tr>\n",
       "      <th>16754</th>\n",
       "      <td>1439</td>\n",
       "      <td>4324.482439</td>\n",
       "      <td>0.5</td>\n",
       "      <td>2021-12-27</td>\n",
       "      <td>12</td>\n",
       "    </tr>\n",
       "  </tbody>\n",
       "</table>\n",
       "</div>"
      ],
      "text/plain": [
       "       user_id     distance  duration       date  month\n",
       "15132     1325  4030.308008       0.5 2021-12-22     12\n",
       "17909     1524  4103.998874       0.5 2021-06-18      6\n",
       "10692     1006  4106.278268       0.5 2021-10-31     10\n",
       "9698       937  4169.066800       0.5 2021-12-12     12\n",
       "14342     1268  4177.139336       0.5 2021-06-09      6\n",
       "14417     1273  4178.876258       0.5 2021-04-30      4\n",
       "6531       701  4196.445201       0.5 2021-08-31      8\n",
       "10650     1003  4204.302074       0.5 2021-05-17      5\n",
       "16336     1412  4247.502137       0.5 2021-11-28     11\n",
       "16754     1439  4324.482439       0.5 2021-12-27     12"
      ]
     },
     "execution_count": 35,
     "metadata": {},
     "output_type": "execute_result"
    }
   ],
   "source": [
    "print(rides_data['duration'][rides_data['duration'] < 2].count())\n",
    "rides_data[rides_data['duration'] < 2].sort_values(by='distance').head(10)"
   ]
  },
  {
   "cell_type": "markdown",
   "id": "57b208d0",
   "metadata": {},
   "source": [
    "В таблице отобразились 95 поездок длительностью менее 2 минут, а пройденные дистанции не менее 4 км. Очевидно, такое расстояние невозможно преодолеть за такое короткое время.\n",
    "\n",
    "В таблице видно только одно значение в столбце `'duration'`. Проверим, встречаются ли другие значения помимо 0.5 мин."
   ]
  },
  {
   "cell_type": "code",
   "execution_count": 36,
   "id": "25f65793",
   "metadata": {},
   "outputs": [
    {
     "data": {
      "text/plain": [
       "array([0.5])"
      ]
     },
     "execution_count": 36,
     "metadata": {},
     "output_type": "execute_result"
    }
   ],
   "source": [
    "rides_data['duration'][rides_data['duration'] < 2].unique()"
   ]
  },
  {
   "cell_type": "markdown",
   "id": "8e3660a6",
   "metadata": {},
   "source": [
    "Все 95 строк имеют одно и то же значение длительности поездки, они составляют 6% от общего объема данных. Вероятнее всего, некорректные значения могли возникнуть из-за сбоя при копировании, считывании или сохранении данных. \n",
    "\n",
    "Удалим эти строки из датафрейма."
   ]
  },
  {
   "cell_type": "code",
   "execution_count": 37,
   "id": "61224eda",
   "metadata": {},
   "outputs": [],
   "source": [
    "rides_data = rides_data[rides_data['duration'] > 1]"
   ]
  },
  {
   "cell_type": "markdown",
   "id": "cfc814ec",
   "metadata": {},
   "source": [
    "Проверяем результат."
   ]
  },
  {
   "cell_type": "code",
   "execution_count": 38,
   "id": "d42474bb",
   "metadata": {},
   "outputs": [
    {
     "data": {
      "text/plain": [
       "0"
      ]
     },
     "execution_count": 38,
     "metadata": {},
     "output_type": "execute_result"
    }
   ],
   "source": [
    "rides_data['duration'][rides_data['duration'] < 2].count()"
   ]
  },
  {
   "cell_type": "markdown",
   "id": "560bf92b",
   "metadata": {},
   "source": [
    "Мы избавились от аномальных значений.\n",
    "\n",
    "Теперь изучим данные со значениями свыше 34 минут."
   ]
  },
  {
   "cell_type": "code",
   "execution_count": 39,
   "id": "a9ae576d",
   "metadata": {},
   "outputs": [
    {
     "name": "stdout",
     "output_type": "stream",
     "text": [
      "75\n"
     ]
    },
    {
     "data": {
      "text/html": [
       "<div>\n",
       "<style scoped>\n",
       "    .dataframe tbody tr th:only-of-type {\n",
       "        vertical-align: middle;\n",
       "    }\n",
       "\n",
       "    .dataframe tbody tr th {\n",
       "        vertical-align: top;\n",
       "    }\n",
       "\n",
       "    .dataframe thead th {\n",
       "        text-align: right;\n",
       "    }\n",
       "</style>\n",
       "<table border=\"1\" class=\"dataframe\">\n",
       "  <thead>\n",
       "    <tr style=\"text-align: right;\">\n",
       "      <th></th>\n",
       "      <th>user_id</th>\n",
       "      <th>distance</th>\n",
       "      <th>duration</th>\n",
       "      <th>date</th>\n",
       "      <th>month</th>\n",
       "    </tr>\n",
       "  </thead>\n",
       "  <tbody>\n",
       "    <tr>\n",
       "      <th>13883</th>\n",
       "      <td>1237</td>\n",
       "      <td>3672.447904</td>\n",
       "      <td>34.031534</td>\n",
       "      <td>2021-01-25</td>\n",
       "      <td>1</td>\n",
       "    </tr>\n",
       "    <tr>\n",
       "      <th>17684</th>\n",
       "      <td>1509</td>\n",
       "      <td>3728.895778</td>\n",
       "      <td>34.339432</td>\n",
       "      <td>2021-01-22</td>\n",
       "      <td>1</td>\n",
       "    </tr>\n",
       "    <tr>\n",
       "      <th>5065</th>\n",
       "      <td>545</td>\n",
       "      <td>3766.439469</td>\n",
       "      <td>34.598637</td>\n",
       "      <td>2021-05-28</td>\n",
       "      <td>5</td>\n",
       "    </tr>\n",
       "    <tr>\n",
       "      <th>1621</th>\n",
       "      <td>174</td>\n",
       "      <td>3794.401307</td>\n",
       "      <td>35.766408</td>\n",
       "      <td>2021-12-23</td>\n",
       "      <td>12</td>\n",
       "    </tr>\n",
       "    <tr>\n",
       "      <th>17353</th>\n",
       "      <td>1485</td>\n",
       "      <td>3807.409685</td>\n",
       "      <td>34.767689</td>\n",
       "      <td>2021-12-09</td>\n",
       "      <td>12</td>\n",
       "    </tr>\n",
       "    <tr>\n",
       "      <th>7448</th>\n",
       "      <td>767</td>\n",
       "      <td>3850.899177</td>\n",
       "      <td>34.004905</td>\n",
       "      <td>2021-09-15</td>\n",
       "      <td>9</td>\n",
       "    </tr>\n",
       "    <tr>\n",
       "      <th>3128</th>\n",
       "      <td>337</td>\n",
       "      <td>3888.423279</td>\n",
       "      <td>34.330540</td>\n",
       "      <td>2021-09-22</td>\n",
       "      <td>9</td>\n",
       "    </tr>\n",
       "    <tr>\n",
       "      <th>2279</th>\n",
       "      <td>243</td>\n",
       "      <td>3915.218384</td>\n",
       "      <td>36.491310</td>\n",
       "      <td>2021-12-30</td>\n",
       "      <td>12</td>\n",
       "    </tr>\n",
       "    <tr>\n",
       "      <th>6050</th>\n",
       "      <td>649</td>\n",
       "      <td>3931.027998</td>\n",
       "      <td>34.586168</td>\n",
       "      <td>2021-06-14</td>\n",
       "      <td>6</td>\n",
       "    </tr>\n",
       "    <tr>\n",
       "      <th>1455</th>\n",
       "      <td>158</td>\n",
       "      <td>3967.285849</td>\n",
       "      <td>35.803715</td>\n",
       "      <td>2021-05-09</td>\n",
       "      <td>5</td>\n",
       "    </tr>\n",
       "  </tbody>\n",
       "</table>\n",
       "</div>"
      ],
      "text/plain": [
       "       user_id     distance   duration       date  month\n",
       "13883     1237  3672.447904  34.031534 2021-01-25      1\n",
       "17684     1509  3728.895778  34.339432 2021-01-22      1\n",
       "5065       545  3766.439469  34.598637 2021-05-28      5\n",
       "1621       174  3794.401307  35.766408 2021-12-23     12\n",
       "17353     1485  3807.409685  34.767689 2021-12-09     12\n",
       "7448       767  3850.899177  34.004905 2021-09-15      9\n",
       "3128       337  3888.423279  34.330540 2021-09-22      9\n",
       "2279       243  3915.218384  36.491310 2021-12-30     12\n",
       "6050       649  3931.027998  34.586168 2021-06-14      6\n",
       "1455       158  3967.285849  35.803715 2021-05-09      5"
      ]
     },
     "execution_count": 39,
     "metadata": {},
     "output_type": "execute_result"
    }
   ],
   "source": [
    "print(rides_data['duration'][rides_data['duration'] > 34].count())\n",
    "rides_data[rides_data['duration'] > 34].sort_values(by='distance').head(10)"
   ]
  },
  {
   "cell_type": "markdown",
   "id": "ec4ce00e",
   "metadata": {},
   "source": [
    "Хоть эти поездки и выделяются по своей длительности, выглядят они корректно, поэтому оставим их как есть. \n",
    "\n",
    "Теперь взглянем на общие данные еще раз."
   ]
  },
  {
   "cell_type": "code",
   "execution_count": 40,
   "id": "32e4d386",
   "metadata": {
    "scrolled": true
   },
   "outputs": [
    {
     "data": {
      "text/plain": [
       "count    17973.000000\n",
       "mean        17.896480\n",
       "std          5.975424\n",
       "min          2.035632\n",
       "25%         13.670439\n",
       "50%         17.714122\n",
       "75%         21.747016\n",
       "max         40.823963\n",
       "Name: duration, dtype: float64"
      ]
     },
     "execution_count": 40,
     "metadata": {},
     "output_type": "execute_result"
    }
   ],
   "source": [
    "rides_data['duration'].describe()"
   ]
  },
  {
   "cell_type": "code",
   "execution_count": 41,
   "id": "9f8a6d11",
   "metadata": {},
   "outputs": [
    {
     "data": {
      "image/png": "[encoded data removed]",
      "text/plain": [
       "<Figure size 720x360 with 1 Axes>"
      ]
     },
     "metadata": {
      "needs_background": "light"
     },
     "output_type": "display_data"
    }
   ],
   "source": [
    "rides_data.hist(column='duration', bins=40, figsize=(10, 5));\n",
    "plt.title('Длительность одной поездки')\n",
    "plt.xlabel('Длительность, мин')\n",
    "plt.ylabel('Количество поездок')\n",
    "plt.show()"
   ]
  },
  {
   "cell_type": "markdown",
   "id": "e8e9ecf2",
   "metadata": {},
   "source": [
    "Теперь гистограмма в порядке. Распределение длительности поездки выглядит равномерным. Половина поездок имеют длительность от 13 до 22 мин, что и подтверждает средняя длительность поездок в 17 мин. Самая короткая поездка заняла 2 мин, самая длинная 42 мин."
   ]
  },
  {
   "cell_type": "markdown",
   "id": "4c44becc",
   "metadata": {},
   "source": [
    "### Вывод\n"
   ]
  },
  {
   "cell_type": "markdown",
   "id": "bb3937e5",
   "metadata": {},
   "source": [
    "95 строк (6% от общего объема данных) имели аномальные значения длительности поездки, которые мы удалили. Вероятнее всего, некорректные значения могли возникнуть из-за сбоя при копировании, считывании или сохранении данных. \n",
    "\n",
    "В данных представлено 8 городов. Наибольшее количество пользователей обнаружено в Пятигорске - 219 пользователей (14.3%), что на 25% больше, чем в Москве, где обнаружено наименьшее число пользователей - 168 (11%). Это вызывает вопросы, поскольку Москва является крупным городом с большим количеством потенциальных пользователей.\n",
    "\n",
    "Приложением без подписки пользуется 835 пользователей, что составляет 54.4% от всех пользователей, а с подпиской Ultra пользуется 699 пользователей, что составляет 45.6% соответственно.\n",
    "\n",
    "Пользователей приложения без подписки больше всего лишь на 8.8%, чем пользователей с подпиской Ultra.\n",
    "\n",
    "Среднее расстояние, которое проехали пользователи, составляет примерно 3070 метров. Половина поездок имеет длину между 2543 и 3776 метров. Минимальное расстояние составляет менее 1 метра, в то время как максимальное расстояние составляет около 7211 метров. \n",
    "\n",
    "Половина поездок имеют длительность от 13 до 22 мин, что и подтверждает средняя длительность поездок в 17 мин. Самая короткая поездка заняла 2 мин, самая длинная 42 мин."
   ]
  },
  {
   "cell_type": "markdown",
   "id": "4ef51331",
   "metadata": {},
   "source": [
    "## Объединение данных"
   ]
  },
  {
   "cell_type": "markdown",
   "id": "712311af",
   "metadata": {},
   "source": [
    "### Объединение всех данных в один датафрейм"
   ]
  },
  {
   "cell_type": "markdown",
   "id": "f790f74e",
   "metadata": {},
   "source": [
    "Объединим все таблицы в одну. За основу возьмем датафрейм `rides_data`,  присоединим к нему поочередно датафрейм `users_data` по общему столбцу `'user_id'` и `subscriptions_data` по общему столбцу `'subscription_type'`."
   ]
  },
  {
   "cell_type": "code",
   "execution_count": 42,
   "id": "d89f319c",
   "metadata": {},
   "outputs": [],
   "source": [
    "total_data = rides_data\\\n",
    ".merge(\n",
    "    users_data, \n",
    "    on='user_id', \n",
    "    how='left')\n",
    "total_data = total_data\\\n",
    "    .merge(\n",
    "    subscriptions_data, \n",
    "    on='subscription_type', \n",
    "    how='left')"
   ]
  },
  {
   "cell_type": "markdown",
   "id": "96f9c243",
   "metadata": {},
   "source": [
    "Проверяем результат."
   ]
  },
  {
   "cell_type": "code",
   "execution_count": 43,
   "id": "c57d796d",
   "metadata": {
    "scrolled": true
   },
   "outputs": [
    {
     "data": {
      "text/html": [
       "<div>\n",
       "<style scoped>\n",
       "    .dataframe tbody tr th:only-of-type {\n",
       "        vertical-align: middle;\n",
       "    }\n",
       "\n",
       "    .dataframe tbody tr th {\n",
       "        vertical-align: top;\n",
       "    }\n",
       "\n",
       "    .dataframe thead th {\n",
       "        text-align: right;\n",
       "    }\n",
       "</style>\n",
       "<table border=\"1\" class=\"dataframe\">\n",
       "  <thead>\n",
       "    <tr style=\"text-align: right;\">\n",
       "      <th></th>\n",
       "      <th>user_id</th>\n",
       "      <th>distance</th>\n",
       "      <th>duration</th>\n",
       "      <th>date</th>\n",
       "      <th>month</th>\n",
       "      <th>name</th>\n",
       "      <th>age</th>\n",
       "      <th>city</th>\n",
       "      <th>subscription_type</th>\n",
       "      <th>minute_price</th>\n",
       "      <th>start_ride_price</th>\n",
       "      <th>subscription_fee</th>\n",
       "    </tr>\n",
       "  </thead>\n",
       "  <tbody>\n",
       "    <tr>\n",
       "      <th>0</th>\n",
       "      <td>1</td>\n",
       "      <td>4409.919140</td>\n",
       "      <td>25.599769</td>\n",
       "      <td>2021-01-01</td>\n",
       "      <td>1</td>\n",
       "      <td>Кира</td>\n",
       "      <td>22</td>\n",
       "      <td>Тюмень</td>\n",
       "      <td>ultra</td>\n",
       "      <td>6</td>\n",
       "      <td>0</td>\n",
       "      <td>199</td>\n",
       "    </tr>\n",
       "    <tr>\n",
       "      <th>1</th>\n",
       "      <td>1</td>\n",
       "      <td>2617.592153</td>\n",
       "      <td>15.816871</td>\n",
       "      <td>2021-01-18</td>\n",
       "      <td>1</td>\n",
       "      <td>Кира</td>\n",
       "      <td>22</td>\n",
       "      <td>Тюмень</td>\n",
       "      <td>ultra</td>\n",
       "      <td>6</td>\n",
       "      <td>0</td>\n",
       "      <td>199</td>\n",
       "    </tr>\n",
       "    <tr>\n",
       "      <th>2</th>\n",
       "      <td>1</td>\n",
       "      <td>754.159807</td>\n",
       "      <td>6.232113</td>\n",
       "      <td>2021-04-20</td>\n",
       "      <td>4</td>\n",
       "      <td>Кира</td>\n",
       "      <td>22</td>\n",
       "      <td>Тюмень</td>\n",
       "      <td>ultra</td>\n",
       "      <td>6</td>\n",
       "      <td>0</td>\n",
       "      <td>199</td>\n",
       "    </tr>\n",
       "    <tr>\n",
       "      <th>3</th>\n",
       "      <td>1</td>\n",
       "      <td>2694.783254</td>\n",
       "      <td>18.511000</td>\n",
       "      <td>2021-08-11</td>\n",
       "      <td>8</td>\n",
       "      <td>Кира</td>\n",
       "      <td>22</td>\n",
       "      <td>Тюмень</td>\n",
       "      <td>ultra</td>\n",
       "      <td>6</td>\n",
       "      <td>0</td>\n",
       "      <td>199</td>\n",
       "    </tr>\n",
       "    <tr>\n",
       "      <th>4</th>\n",
       "      <td>1</td>\n",
       "      <td>4028.687306</td>\n",
       "      <td>26.265803</td>\n",
       "      <td>2021-08-28</td>\n",
       "      <td>8</td>\n",
       "      <td>Кира</td>\n",
       "      <td>22</td>\n",
       "      <td>Тюмень</td>\n",
       "      <td>ultra</td>\n",
       "      <td>6</td>\n",
       "      <td>0</td>\n",
       "      <td>199</td>\n",
       "    </tr>\n",
       "  </tbody>\n",
       "</table>\n",
       "</div>"
      ],
      "text/plain": [
       "   user_id     distance   duration       date  month  name  age    city  \\\n",
       "0        1  4409.919140  25.599769 2021-01-01      1  Кира   22  Тюмень   \n",
       "1        1  2617.592153  15.816871 2021-01-18      1  Кира   22  Тюмень   \n",
       "2        1   754.159807   6.232113 2021-04-20      4  Кира   22  Тюмень   \n",
       "3        1  2694.783254  18.511000 2021-08-11      8  Кира   22  Тюмень   \n",
       "4        1  4028.687306  26.265803 2021-08-28      8  Кира   22  Тюмень   \n",
       "\n",
       "  subscription_type  minute_price  start_ride_price  subscription_fee  \n",
       "0             ultra             6                 0               199  \n",
       "1             ultra             6                 0               199  \n",
       "2             ultra             6                 0               199  \n",
       "3             ultra             6                 0               199  \n",
       "4             ultra             6                 0               199  "
      ]
     },
     "execution_count": 43,
     "metadata": {},
     "output_type": "execute_result"
    }
   ],
   "source": [
    "total_data.head()"
   ]
  },
  {
   "cell_type": "markdown",
   "id": "5575888e",
   "metadata": {},
   "source": [
    "Убедимся, все ли данные были внесены, не появились ли пропуски."
   ]
  },
  {
   "cell_type": "code",
   "execution_count": 44,
   "id": "67d34b30",
   "metadata": {
    "scrolled": true
   },
   "outputs": [
    {
     "name": "stdout",
     "output_type": "stream",
     "text": [
      "Количество строк в таблице до объединения: 17973\n",
      "Количество строк в таблице после объединения: 17973\n"
     ]
    }
   ],
   "source": [
    "print(f'Количество строк в таблице до объединения: {rides_data.shape[0]}')\n",
    "print(f'Количество строк в таблице после объединения: {total_data.shape[0]}')"
   ]
  },
  {
   "cell_type": "code",
   "execution_count": 45,
   "id": "93204d9b",
   "metadata": {},
   "outputs": [
    {
     "data": {
      "text/plain": [
       "user_id              0\n",
       "distance             0\n",
       "duration             0\n",
       "date                 0\n",
       "month                0\n",
       "name                 0\n",
       "age                  0\n",
       "city                 0\n",
       "subscription_type    0\n",
       "minute_price         0\n",
       "start_ride_price     0\n",
       "subscription_fee     0\n",
       "dtype: int64"
      ]
     },
     "execution_count": 45,
     "metadata": {},
     "output_type": "execute_result"
    }
   ],
   "source": [
    "total_data.isna().sum()"
   ]
  },
  {
   "cell_type": "markdown",
   "id": "419b52fb",
   "metadata": {},
   "source": [
    "Количество строк в таблице после объединения равно количеству строк до объединения - это подтверждает, что объединение таблиц было выполнено успешно, и все данные были корректно внесены в итоговую таблицу. Пропусков в данных не обнаружено.\n",
    "\n",
    "Теперь, когда все данные собраны в одной таблице, мы можем перейти к следующим этапам анализа данных."
   ]
  },
  {
   "cell_type": "markdown",
   "id": "95209a54",
   "metadata": {},
   "source": [
    "### Создание отдельных датафреймов по виду подписки"
   ]
  },
  {
   "cell_type": "markdown",
   "id": "6ba08965",
   "metadata": {},
   "source": [
    "Выделим отдельно данные по пользователям бесплатной подписки и подписки Ultra.\n",
    "\n",
    "Создаем переменную `free_sub_data` с данными пользователей бесплатной подписки."
   ]
  },
  {
   "cell_type": "code",
   "execution_count": 46,
   "id": "4d004134",
   "metadata": {},
   "outputs": [
    {
     "data": {
      "text/html": [
       "<div>\n",
       "<style scoped>\n",
       "    .dataframe tbody tr th:only-of-type {\n",
       "        vertical-align: middle;\n",
       "    }\n",
       "\n",
       "    .dataframe tbody tr th {\n",
       "        vertical-align: top;\n",
       "    }\n",
       "\n",
       "    .dataframe thead th {\n",
       "        text-align: right;\n",
       "    }\n",
       "</style>\n",
       "<table border=\"1\" class=\"dataframe\">\n",
       "  <thead>\n",
       "    <tr style=\"text-align: right;\">\n",
       "      <th></th>\n",
       "      <th>user_id</th>\n",
       "      <th>distance</th>\n",
       "      <th>duration</th>\n",
       "      <th>date</th>\n",
       "      <th>month</th>\n",
       "      <th>name</th>\n",
       "      <th>age</th>\n",
       "      <th>city</th>\n",
       "      <th>subscription_type</th>\n",
       "      <th>minute_price</th>\n",
       "      <th>start_ride_price</th>\n",
       "      <th>subscription_fee</th>\n",
       "    </tr>\n",
       "  </thead>\n",
       "  <tbody>\n",
       "    <tr>\n",
       "      <th>6500</th>\n",
       "      <td>700</td>\n",
       "      <td>2515.690719</td>\n",
       "      <td>14.944286</td>\n",
       "      <td>2021-01-02</td>\n",
       "      <td>1</td>\n",
       "      <td>Айдар</td>\n",
       "      <td>22</td>\n",
       "      <td>Омск</td>\n",
       "      <td>free</td>\n",
       "      <td>8</td>\n",
       "      <td>50</td>\n",
       "      <td>0</td>\n",
       "    </tr>\n",
       "    <tr>\n",
       "      <th>6501</th>\n",
       "      <td>700</td>\n",
       "      <td>846.932642</td>\n",
       "      <td>16.234663</td>\n",
       "      <td>2021-02-01</td>\n",
       "      <td>2</td>\n",
       "      <td>Айдар</td>\n",
       "      <td>22</td>\n",
       "      <td>Омск</td>\n",
       "      <td>free</td>\n",
       "      <td>8</td>\n",
       "      <td>50</td>\n",
       "      <td>0</td>\n",
       "    </tr>\n",
       "    <tr>\n",
       "      <th>6502</th>\n",
       "      <td>700</td>\n",
       "      <td>4004.434142</td>\n",
       "      <td>20.016628</td>\n",
       "      <td>2021-02-04</td>\n",
       "      <td>2</td>\n",
       "      <td>Айдар</td>\n",
       "      <td>22</td>\n",
       "      <td>Омск</td>\n",
       "      <td>free</td>\n",
       "      <td>8</td>\n",
       "      <td>50</td>\n",
       "      <td>0</td>\n",
       "    </tr>\n",
       "    <tr>\n",
       "      <th>6503</th>\n",
       "      <td>700</td>\n",
       "      <td>1205.911290</td>\n",
       "      <td>9.782872</td>\n",
       "      <td>2021-02-10</td>\n",
       "      <td>2</td>\n",
       "      <td>Айдар</td>\n",
       "      <td>22</td>\n",
       "      <td>Омск</td>\n",
       "      <td>free</td>\n",
       "      <td>8</td>\n",
       "      <td>50</td>\n",
       "      <td>0</td>\n",
       "    </tr>\n",
       "    <tr>\n",
       "      <th>6504</th>\n",
       "      <td>700</td>\n",
       "      <td>3047.379435</td>\n",
       "      <td>17.427673</td>\n",
       "      <td>2021-02-14</td>\n",
       "      <td>2</td>\n",
       "      <td>Айдар</td>\n",
       "      <td>22</td>\n",
       "      <td>Омск</td>\n",
       "      <td>free</td>\n",
       "      <td>8</td>\n",
       "      <td>50</td>\n",
       "      <td>0</td>\n",
       "    </tr>\n",
       "  </tbody>\n",
       "</table>\n",
       "</div>"
      ],
      "text/plain": [
       "      user_id     distance   duration       date  month   name  age  city  \\\n",
       "6500      700  2515.690719  14.944286 2021-01-02      1  Айдар   22  Омск   \n",
       "6501      700   846.932642  16.234663 2021-02-01      2  Айдар   22  Омск   \n",
       "6502      700  4004.434142  20.016628 2021-02-04      2  Айдар   22  Омск   \n",
       "6503      700  1205.911290   9.782872 2021-02-10      2  Айдар   22  Омск   \n",
       "6504      700  3047.379435  17.427673 2021-02-14      2  Айдар   22  Омск   \n",
       "\n",
       "     subscription_type  minute_price  start_ride_price  subscription_fee  \n",
       "6500              free             8                50                 0  \n",
       "6501              free             8                50                 0  \n",
       "6502              free             8                50                 0  \n",
       "6503              free             8                50                 0  \n",
       "6504              free             8                50                 0  "
      ]
     },
     "execution_count": 46,
     "metadata": {},
     "output_type": "execute_result"
    }
   ],
   "source": [
    "free_sub_data = total_data[total_data['subscription_type'] == 'free']\n",
    "free_sub_data.head()"
   ]
  },
  {
   "cell_type": "markdown",
   "id": "7662240b",
   "metadata": {},
   "source": [
    "Теперь создаем переменную `ultra_sub_data` с данными пользователей подписки Ultra."
   ]
  },
  {
   "cell_type": "code",
   "execution_count": 47,
   "id": "5a6530b5",
   "metadata": {},
   "outputs": [
    {
     "data": {
      "text/html": [
       "<div>\n",
       "<style scoped>\n",
       "    .dataframe tbody tr th:only-of-type {\n",
       "        vertical-align: middle;\n",
       "    }\n",
       "\n",
       "    .dataframe tbody tr th {\n",
       "        vertical-align: top;\n",
       "    }\n",
       "\n",
       "    .dataframe thead th {\n",
       "        text-align: right;\n",
       "    }\n",
       "</style>\n",
       "<table border=\"1\" class=\"dataframe\">\n",
       "  <thead>\n",
       "    <tr style=\"text-align: right;\">\n",
       "      <th></th>\n",
       "      <th>user_id</th>\n",
       "      <th>distance</th>\n",
       "      <th>duration</th>\n",
       "      <th>date</th>\n",
       "      <th>month</th>\n",
       "      <th>name</th>\n",
       "      <th>age</th>\n",
       "      <th>city</th>\n",
       "      <th>subscription_type</th>\n",
       "      <th>minute_price</th>\n",
       "      <th>start_ride_price</th>\n",
       "      <th>subscription_fee</th>\n",
       "    </tr>\n",
       "  </thead>\n",
       "  <tbody>\n",
       "    <tr>\n",
       "      <th>0</th>\n",
       "      <td>1</td>\n",
       "      <td>4409.919140</td>\n",
       "      <td>25.599769</td>\n",
       "      <td>2021-01-01</td>\n",
       "      <td>1</td>\n",
       "      <td>Кира</td>\n",
       "      <td>22</td>\n",
       "      <td>Тюмень</td>\n",
       "      <td>ultra</td>\n",
       "      <td>6</td>\n",
       "      <td>0</td>\n",
       "      <td>199</td>\n",
       "    </tr>\n",
       "    <tr>\n",
       "      <th>1</th>\n",
       "      <td>1</td>\n",
       "      <td>2617.592153</td>\n",
       "      <td>15.816871</td>\n",
       "      <td>2021-01-18</td>\n",
       "      <td>1</td>\n",
       "      <td>Кира</td>\n",
       "      <td>22</td>\n",
       "      <td>Тюмень</td>\n",
       "      <td>ultra</td>\n",
       "      <td>6</td>\n",
       "      <td>0</td>\n",
       "      <td>199</td>\n",
       "    </tr>\n",
       "    <tr>\n",
       "      <th>2</th>\n",
       "      <td>1</td>\n",
       "      <td>754.159807</td>\n",
       "      <td>6.232113</td>\n",
       "      <td>2021-04-20</td>\n",
       "      <td>4</td>\n",
       "      <td>Кира</td>\n",
       "      <td>22</td>\n",
       "      <td>Тюмень</td>\n",
       "      <td>ultra</td>\n",
       "      <td>6</td>\n",
       "      <td>0</td>\n",
       "      <td>199</td>\n",
       "    </tr>\n",
       "    <tr>\n",
       "      <th>3</th>\n",
       "      <td>1</td>\n",
       "      <td>2694.783254</td>\n",
       "      <td>18.511000</td>\n",
       "      <td>2021-08-11</td>\n",
       "      <td>8</td>\n",
       "      <td>Кира</td>\n",
       "      <td>22</td>\n",
       "      <td>Тюмень</td>\n",
       "      <td>ultra</td>\n",
       "      <td>6</td>\n",
       "      <td>0</td>\n",
       "      <td>199</td>\n",
       "    </tr>\n",
       "    <tr>\n",
       "      <th>4</th>\n",
       "      <td>1</td>\n",
       "      <td>4028.687306</td>\n",
       "      <td>26.265803</td>\n",
       "      <td>2021-08-28</td>\n",
       "      <td>8</td>\n",
       "      <td>Кира</td>\n",
       "      <td>22</td>\n",
       "      <td>Тюмень</td>\n",
       "      <td>ultra</td>\n",
       "      <td>6</td>\n",
       "      <td>0</td>\n",
       "      <td>199</td>\n",
       "    </tr>\n",
       "  </tbody>\n",
       "</table>\n",
       "</div>"
      ],
      "text/plain": [
       "   user_id     distance   duration       date  month  name  age    city  \\\n",
       "0        1  4409.919140  25.599769 2021-01-01      1  Кира   22  Тюмень   \n",
       "1        1  2617.592153  15.816871 2021-01-18      1  Кира   22  Тюмень   \n",
       "2        1   754.159807   6.232113 2021-04-20      4  Кира   22  Тюмень   \n",
       "3        1  2694.783254  18.511000 2021-08-11      8  Кира   22  Тюмень   \n",
       "4        1  4028.687306  26.265803 2021-08-28      8  Кира   22  Тюмень   \n",
       "\n",
       "  subscription_type  minute_price  start_ride_price  subscription_fee  \n",
       "0             ultra             6                 0               199  \n",
       "1             ultra             6                 0               199  \n",
       "2             ultra             6                 0               199  \n",
       "3             ultra             6                 0               199  \n",
       "4             ultra             6                 0               199  "
      ]
     },
     "execution_count": 47,
     "metadata": {},
     "output_type": "execute_result"
    }
   ],
   "source": [
    "ultra_sub_data = total_data[total_data['subscription_type'] == 'ultra']\n",
    "ultra_sub_data.head()"
   ]
  },
  {
   "cell_type": "markdown",
   "id": "8a00d612",
   "metadata": {},
   "source": [
    "Убедимся, не появились ли пропуски в новых разделенных таблицах."
   ]
  },
  {
   "cell_type": "code",
   "execution_count": 48,
   "id": "4e5fbccb",
   "metadata": {},
   "outputs": [
    {
     "data": {
      "text/plain": [
       "user_id              0\n",
       "distance             0\n",
       "duration             0\n",
       "date                 0\n",
       "month                0\n",
       "name                 0\n",
       "age                  0\n",
       "city                 0\n",
       "subscription_type    0\n",
       "minute_price         0\n",
       "start_ride_price     0\n",
       "subscription_fee     0\n",
       "dtype: int64"
      ]
     },
     "execution_count": 48,
     "metadata": {},
     "output_type": "execute_result"
    }
   ],
   "source": [
    "free_sub_data.isna().sum()"
   ]
  },
  {
   "cell_type": "code",
   "execution_count": 49,
   "id": "2a7ecd5e",
   "metadata": {},
   "outputs": [
    {
     "data": {
      "text/plain": [
       "user_id              0\n",
       "distance             0\n",
       "duration             0\n",
       "date                 0\n",
       "month                0\n",
       "name                 0\n",
       "age                  0\n",
       "city                 0\n",
       "subscription_type    0\n",
       "minute_price         0\n",
       "start_ride_price     0\n",
       "subscription_fee     0\n",
       "dtype: int64"
      ]
     },
     "execution_count": 49,
     "metadata": {},
     "output_type": "execute_result"
    }
   ],
   "source": [
    "ultra_sub_data.isna().sum()"
   ]
  },
  {
   "cell_type": "markdown",
   "id": "e29673ae",
   "metadata": {},
   "source": [
    "Пропусков в данных не обнаружено, разделение таблиц было выполнено корректно. \n",
    "\n",
    "Проверим общее количество поездок по каждому типу подписки."
   ]
  },
  {
   "cell_type": "code",
   "execution_count": 50,
   "id": "a85cdbf6",
   "metadata": {},
   "outputs": [
    {
     "name": "stdout",
     "output_type": "stream",
     "text": [
      "Количество поездок пользователей с бесплатной подпиской: 11473\n",
      "Количество поездок пользователей с подпиской Ultra: 6500\n"
     ]
    }
   ],
   "source": [
    "print(\n",
    "    'Количество поездок пользователей с бесплатной подпиской:',\\\n",
    "    len(free_sub_data))\n",
    "print(\n",
    "    'Количество поездок пользователей с подпиской Ultra:',\\\n",
    "    len(ultra_sub_data))"
   ]
  },
  {
   "cell_type": "markdown",
   "id": "ab74c250",
   "metadata": {},
   "source": [
    "Несмотря на то, что пользователей бесплатной подпиской меньше всего на 8.8%, поездок по этой подписке совершается почти в 2 раза больше (43.8%), чем по подписке Ultra."
   ]
  },
  {
   "cell_type": "markdown",
   "id": "fffd8760",
   "metadata": {},
   "source": [
    "### Визуализация поездок по типу подписки"
   ]
  },
  {
   "cell_type": "markdown",
   "id": "4a881e41",
   "metadata": {},
   "source": [
    "#### Сравнение расстояния поездок по типу подписки"
   ]
  },
  {
   "cell_type": "markdown",
   "id": "666edcbe",
   "metadata": {},
   "source": [
    "Сравним пройденное расстояние за одну поездку пользователей бесплатной подписки и пользователей подписки Ultra."
   ]
  },
  {
   "cell_type": "code",
   "execution_count": 51,
   "id": "9ea1c777",
   "metadata": {},
   "outputs": [
    {
     "data": {
      "image/png": "[encoded data removed]",
      "text/plain": [
       "<Figure size 720x360 with 1 Axes>"
      ]
     },
     "metadata": {
      "needs_background": "light"
     },
     "output_type": "display_data"
    }
   ],
   "source": [
    "plt.figure(figsize=(10, 5))\n",
    "\n",
    "plt.hist(\n",
    "    free_sub_data['distance'], \n",
    "    bins=36, \n",
    "    alpha=0.5, \n",
    "    label='Подписка Free'\n",
    ")\n",
    "plt.hist(\n",
    "    ultra_sub_data['distance'], \n",
    "    bins=28, \n",
    "    alpha=0.5, \n",
    "    label='Подписка Ultra'\n",
    ")\n",
    "\n",
    "plt.title('Пройденное расстояние за одну поездку')\n",
    "plt.xlabel('Расстояние, м')\n",
    "plt.ylabel('Количество поездок')\n",
    "plt.legend(loc='upper right')\n",
    "\n",
    "plt.show()"
   ]
  },
  {
   "cell_type": "code",
   "execution_count": 52,
   "id": "89cd7403",
   "metadata": {
    "scrolled": true
   },
   "outputs": [
    {
     "data": {
      "text/plain": [
       "count    11473.000000\n",
       "mean      3028.374239\n",
       "std       1235.541051\n",
       "min          0.855683\n",
       "25%       2360.878149\n",
       "50%       3102.083025\n",
       "75%       3883.979311\n",
       "max       7066.003772\n",
       "Name: distance, dtype: float64"
      ]
     },
     "execution_count": 52,
     "metadata": {},
     "output_type": "execute_result"
    }
   ],
   "source": [
    "free_sub_data['distance'].describe()"
   ]
  },
  {
   "cell_type": "code",
   "execution_count": 53,
   "id": "12808237",
   "metadata": {},
   "outputs": [
    {
     "data": {
      "text/plain": [
       "count    6500.000000\n",
       "mean     3115.445388\n",
       "std       836.895330\n",
       "min       244.210438\n",
       "25%      2785.444017\n",
       "50%      3148.637229\n",
       "75%      3560.574425\n",
       "max      5699.769662\n",
       "Name: distance, dtype: float64"
      ]
     },
     "execution_count": 53,
     "metadata": {},
     "output_type": "execute_result"
    }
   ],
   "source": [
    "ultra_sub_data['distance'].describe()"
   ]
  },
  {
   "cell_type": "markdown",
   "id": "df4341e2",
   "metadata": {},
   "source": [
    "Можно заметить, что по подписке Ultra совершается заметно меньше коротких поездок до 2 км, чем по бесплатной подписке. Также по бесплатной подписке больше длинных поездок. \n",
    "\n",
    "Пиковое значение расстояния поездки по обеим подпискам остается примерно одинаковым - в районе 3 км. \n",
    "\n",
    "В среднем по бесплатной подписке пользователи преодолевают от 2.2 до 4.2 км. По подписке Ultra - от 2.6 до 3.6 км."
   ]
  },
  {
   "cell_type": "markdown",
   "id": "fad282ee",
   "metadata": {},
   "source": [
    "#### Сравнение времени поездок по типу подписки"
   ]
  },
  {
   "cell_type": "markdown",
   "id": "db63cf29",
   "metadata": {},
   "source": [
    "Сравним длительность одной поездки пользователей бесплатной подписки и пользователей подписки Ultra."
   ]
  },
  {
   "cell_type": "markdown",
   "id": "c4bd45d7",
   "metadata": {},
   "source": [
    "Визуализируем длительность по бесплатной подписке."
   ]
  },
  {
   "cell_type": "code",
   "execution_count": 54,
   "id": "fb932025",
   "metadata": {},
   "outputs": [
    {
     "data": {
      "image/png": "[encoded data removed]",
      "text/plain": [
       "<Figure size 720x360 with 1 Axes>"
      ]
     },
     "metadata": {
      "needs_background": "light"
     },
     "output_type": "display_data"
    }
   ],
   "source": [
    "free_sub_data.hist(column='duration', bins=40, figsize=(10, 5));\n",
    "plt.title('Длительность одной поездки пользователей бесплатной подписки')\n",
    "plt.xlabel('Длительность, мин')\n",
    "plt.ylabel('Количество поездок')\n",
    "plt.show()"
   ]
  },
  {
   "cell_type": "code",
   "execution_count": 55,
   "id": "5eea5558",
   "metadata": {},
   "outputs": [
    {
     "data": {
      "text/plain": [
       "count    11473.000000\n",
       "mean        17.530771\n",
       "std          6.162609\n",
       "min          2.035632\n",
       "25%         13.085688\n",
       "50%         17.383807\n",
       "75%         21.638038\n",
       "max         34.948498\n",
       "Name: duration, dtype: float64"
      ]
     },
     "execution_count": 55,
     "metadata": {},
     "output_type": "execute_result"
    }
   ],
   "source": [
    "free_sub_data['duration'].describe()"
   ]
  },
  {
   "cell_type": "markdown",
   "id": "4c2c31d4",
   "metadata": {},
   "source": [
    "Визуализируем длительность по подписке Ultra."
   ]
  },
  {
   "cell_type": "code",
   "execution_count": 56,
   "id": "47fadda5",
   "metadata": {},
   "outputs": [
    {
     "data": {
      "image/png": "[encoded data removed]",
      "text/plain": [
       "<Figure size 720x360 with 1 Axes>"
      ]
     },
     "metadata": {
      "needs_background": "light"
     },
     "output_type": "display_data"
    }
   ],
   "source": [
    "ultra_sub_data.hist(column='duration', bins=37, figsize=(10, 5));\n",
    "plt.title('Длительность одной поездки пользователей подписки Ultra')\n",
    "plt.xlabel('Длительность, мин')\n",
    "plt.ylabel('Количество поездок')\n",
    "plt.show()"
   ]
  },
  {
   "cell_type": "code",
   "execution_count": 57,
   "id": "e2f7cff6",
   "metadata": {
    "scrolled": true
   },
   "outputs": [
    {
     "data": {
      "text/plain": [
       "count    6500.000000\n",
       "mean       18.541985\n",
       "std         5.572048\n",
       "min         3.760353\n",
       "25%        14.524654\n",
       "50%        18.178153\n",
       "75%        21.884129\n",
       "max        40.823963\n",
       "Name: duration, dtype: float64"
      ]
     },
     "execution_count": 57,
     "metadata": {},
     "output_type": "execute_result"
    }
   ],
   "source": [
    "ultra_sub_data['duration'].describe()"
   ]
  },
  {
   "cell_type": "markdown",
   "id": "b42c7bfc",
   "metadata": {},
   "source": [
    "Графики почти идентичны друг другу, отличия минимальны. \n",
    "\n",
    "Среднее значение времени поездки по обеим подпискам остается примерно одинаковым - в районе 17-18 мин. \n",
    "\n",
    "В среднем по бесплатной подписке пользователи ездят от 13 до 22 мин. По подписке Ultra - от 14 до 22 мин."
   ]
  },
  {
   "cell_type": "markdown",
   "id": "ca7985a1",
   "metadata": {},
   "source": [
    "### Вывод"
   ]
  },
  {
   "cell_type": "markdown",
   "id": "afbeb443",
   "metadata": {},
   "source": [
    "Были объединены данные о пользователях, поездках и подписках в один датафрейм `total_data`. На основе нового датиафрейма мы выделили  отдельно два датафрейма по типу подписки: `free_sub_data` - пользователи бесплатной подписки, `ultra_sub_data` - пользователи подписки Ultra.\n",
    "\n",
    "Визуализировали данные о расстоянии и времени поездок для пользователей обеих категорий:\n",
    "\n",
    "- Пиковые значения поездок по обеим подпискам остается примерно одинаковым - в районе 17-18 мин по времени и 3 км по дистанции. \n",
    "\n",
    "- В среднем по бесплатной подписке пользователи ездят от 13 до 22 мин и преодолевают от 2.2 до 4.2 км. \n",
    "\n",
    "- По подписке Ultra - ездят от 14 до 22 мин и преодолевают от 2.6 до 3.6 км."
   ]
  },
  {
   "cell_type": "markdown",
   "id": "402d620f",
   "metadata": {},
   "source": [
    "## Подсчёт выручки"
   ]
  },
  {
   "cell_type": "markdown",
   "id": "7baf5db2",
   "metadata": {},
   "source": [
    "### Создание датафрейма с агрегированными данными о поездках"
   ]
  },
  {
   "cell_type": "markdown",
   "id": "747a5e7c",
   "metadata": {},
   "source": [
    "Перед созданием датафрейма сначала округлим до следующего целого числа продолжительность каждой поездки в каждой строке исходного датафрейма для подсчёта стоимости поездки."
   ]
  },
  {
   "cell_type": "code",
   "execution_count": 58,
   "id": "470f8d8c",
   "metadata": {},
   "outputs": [],
   "source": [
    "total_data['duration'] = np.ceil(total_data['duration'])"
   ]
  },
  {
   "cell_type": "markdown",
   "id": "b68de613",
   "metadata": {},
   "source": [
    "Теперь создадим сводную таблицу на основе датафрейма с объединенными данными `'total_data'` с указанием суммарного расстояния, количества поездок и суммарного времени для каждого пользователя за каждый месяц."
   ]
  },
  {
   "cell_type": "code",
   "execution_count": 59,
   "id": "53049e0a",
   "metadata": {},
   "outputs": [],
   "source": [
    "rides_pivot_table = total_data\\\n",
    "    .pivot_table(\n",
    "        index=['month', 'user_id', 'subscription_type', 'city'], \n",
    "        values=['distance', 'duration'], \n",
    "        aggfunc={'distance': [len, sum], 'duration': sum})"
   ]
  },
  {
   "cell_type": "markdown",
   "id": "416eb0fb",
   "metadata": {},
   "source": [
    "Объединим \"двухэтажные\" наименования столбцов в одну строку. "
   ]
  },
  {
   "cell_type": "code",
   "execution_count": 60,
   "id": "d05b2b8f",
   "metadata": {},
   "outputs": [],
   "source": [
    "rides_pivot_table.columns = rides_pivot_table.columns.map('_'.join)"
   ]
  },
  {
   "cell_type": "markdown",
   "id": "2f5a85b0",
   "metadata": {},
   "source": [
    "Сбросим индексы."
   ]
  },
  {
   "cell_type": "code",
   "execution_count": 61,
   "id": "404406e1",
   "metadata": {},
   "outputs": [],
   "source": [
    "rides_pivot_table.reset_index(inplace=True)"
   ]
  },
  {
   "cell_type": "markdown",
   "id": "2656faf9",
   "metadata": {},
   "source": [
    "Переименуем столбцы."
   ]
  },
  {
   "cell_type": "code",
   "execution_count": 62,
   "id": "bdc63430",
   "metadata": {},
   "outputs": [],
   "source": [
    "rides_pivot_table = rides_pivot_table\\\n",
    ".rename(columns={\n",
    "    'distance_len': 'rides_amount', \n",
    "    'distance_sum': 'total_distance',\n",
    "    'duration_sum': 'total_duration'\n",
    "})"
   ]
  },
  {
   "cell_type": "markdown",
   "id": "6289b190",
   "metadata": {},
   "source": [
    "Ещё раз округлим до следующего целого числа полную продолжительность поездкок за месяц."
   ]
  },
  {
   "cell_type": "code",
   "execution_count": 63,
   "id": "4231b484",
   "metadata": {},
   "outputs": [],
   "source": [
    "rides_pivot_table['total_duration'] = \\\n",
    "np.ceil(rides_pivot_table['total_duration'])"
   ]
  },
  {
   "cell_type": "markdown",
   "id": "e57dcdcd",
   "metadata": {},
   "source": [
    "Округляем значения в столбце `'total_distance'` и меняем тип данных в столбцах `'total_duration'` и `'rides_amount'`с `float` на `int` для облегчения восприятия информации."
   ]
  },
  {
   "cell_type": "code",
   "execution_count": 64,
   "id": "8857c9f3",
   "metadata": {},
   "outputs": [],
   "source": [
    "rides_pivot_table['total_distance'] = \\\n",
    "rides_pivot_table['total_distance'].round(2)\n",
    "\n",
    "rides_pivot_table['total_duration'] = \\\n",
    "rides_pivot_table['total_duration'].astype('int')\n",
    "\n",
    "rides_pivot_table['rides_amount'] = \\\n",
    "rides_pivot_table['rides_amount'].astype('int')"
   ]
  },
  {
   "cell_type": "markdown",
   "id": "6ff847d6",
   "metadata": {},
   "source": [
    "Выведем таблицу на экран. \n",
    "\n",
    "Описание данных:\n",
    "- `'rides_amount'` — количество поездок, совершенных каждым пользователем за каждый месяц\n",
    "- `'total_distance'` — суммарное расстояние поездок каждого пользователя за каждый месяц\n",
    "- `'total_duration'` — суммарное время поездок каждого пользователя за каждый месяц"
   ]
  },
  {
   "cell_type": "code",
   "execution_count": 65,
   "id": "07110331",
   "metadata": {},
   "outputs": [
    {
     "data": {
      "text/html": [
       "<div>\n",
       "<style scoped>\n",
       "    .dataframe tbody tr th:only-of-type {\n",
       "        vertical-align: middle;\n",
       "    }\n",
       "\n",
       "    .dataframe tbody tr th {\n",
       "        vertical-align: top;\n",
       "    }\n",
       "\n",
       "    .dataframe thead th {\n",
       "        text-align: right;\n",
       "    }\n",
       "</style>\n",
       "<table border=\"1\" class=\"dataframe\">\n",
       "  <thead>\n",
       "    <tr style=\"text-align: right;\">\n",
       "      <th></th>\n",
       "      <th>month</th>\n",
       "      <th>user_id</th>\n",
       "      <th>subscription_type</th>\n",
       "      <th>city</th>\n",
       "      <th>rides_amount</th>\n",
       "      <th>total_distance</th>\n",
       "      <th>total_duration</th>\n",
       "    </tr>\n",
       "  </thead>\n",
       "  <tbody>\n",
       "    <tr>\n",
       "      <th>0</th>\n",
       "      <td>1</td>\n",
       "      <td>1</td>\n",
       "      <td>ultra</td>\n",
       "      <td>Тюмень</td>\n",
       "      <td>2</td>\n",
       "      <td>7027.51</td>\n",
       "      <td>42</td>\n",
       "    </tr>\n",
       "    <tr>\n",
       "      <th>1</th>\n",
       "      <td>1</td>\n",
       "      <td>3</td>\n",
       "      <td>ultra</td>\n",
       "      <td>Москва</td>\n",
       "      <td>1</td>\n",
       "      <td>3061.78</td>\n",
       "      <td>13</td>\n",
       "    </tr>\n",
       "    <tr>\n",
       "      <th>2</th>\n",
       "      <td>1</td>\n",
       "      <td>5</td>\n",
       "      <td>ultra</td>\n",
       "      <td>Омск</td>\n",
       "      <td>1</td>\n",
       "      <td>3914.65</td>\n",
       "      <td>13</td>\n",
       "    </tr>\n",
       "    <tr>\n",
       "      <th>3</th>\n",
       "      <td>1</td>\n",
       "      <td>7</td>\n",
       "      <td>ultra</td>\n",
       "      <td>Омск</td>\n",
       "      <td>2</td>\n",
       "      <td>6478.08</td>\n",
       "      <td>28</td>\n",
       "    </tr>\n",
       "    <tr>\n",
       "      <th>4</th>\n",
       "      <td>1</td>\n",
       "      <td>12</td>\n",
       "      <td>ultra</td>\n",
       "      <td>Тюмень</td>\n",
       "      <td>1</td>\n",
       "      <td>3577.15</td>\n",
       "      <td>33</td>\n",
       "    </tr>\n",
       "    <tr>\n",
       "      <th>5</th>\n",
       "      <td>1</td>\n",
       "      <td>13</td>\n",
       "      <td>ultra</td>\n",
       "      <td>Краснодар</td>\n",
       "      <td>2</td>\n",
       "      <td>6687.99</td>\n",
       "      <td>42</td>\n",
       "    </tr>\n",
       "    <tr>\n",
       "      <th>6</th>\n",
       "      <td>1</td>\n",
       "      <td>14</td>\n",
       "      <td>ultra</td>\n",
       "      <td>Пятигорск</td>\n",
       "      <td>2</td>\n",
       "      <td>7699.64</td>\n",
       "      <td>35</td>\n",
       "    </tr>\n",
       "    <tr>\n",
       "      <th>7</th>\n",
       "      <td>1</td>\n",
       "      <td>15</td>\n",
       "      <td>ultra</td>\n",
       "      <td>Тюмень</td>\n",
       "      <td>1</td>\n",
       "      <td>4187.62</td>\n",
       "      <td>39</td>\n",
       "    </tr>\n",
       "    <tr>\n",
       "      <th>8</th>\n",
       "      <td>1</td>\n",
       "      <td>20</td>\n",
       "      <td>ultra</td>\n",
       "      <td>Омск</td>\n",
       "      <td>1</td>\n",
       "      <td>3516.72</td>\n",
       "      <td>29</td>\n",
       "    </tr>\n",
       "    <tr>\n",
       "      <th>9</th>\n",
       "      <td>1</td>\n",
       "      <td>22</td>\n",
       "      <td>ultra</td>\n",
       "      <td>Пятигорск</td>\n",
       "      <td>1</td>\n",
       "      <td>3058.69</td>\n",
       "      <td>13</td>\n",
       "    </tr>\n",
       "  </tbody>\n",
       "</table>\n",
       "</div>"
      ],
      "text/plain": [
       "   month  user_id subscription_type       city  rides_amount  total_distance  \\\n",
       "0      1        1             ultra     Тюмень             2         7027.51   \n",
       "1      1        3             ultra     Москва             1         3061.78   \n",
       "2      1        5             ultra       Омск             1         3914.65   \n",
       "3      1        7             ultra       Омск             2         6478.08   \n",
       "4      1       12             ultra     Тюмень             1         3577.15   \n",
       "5      1       13             ultra  Краснодар             2         6687.99   \n",
       "6      1       14             ultra  Пятигорск             2         7699.64   \n",
       "7      1       15             ultra     Тюмень             1         4187.62   \n",
       "8      1       20             ultra       Омск             1         3516.72   \n",
       "9      1       22             ultra  Пятигорск             1         3058.69   \n",
       "\n",
       "   total_duration  \n",
       "0              42  \n",
       "1              13  \n",
       "2              13  \n",
       "3              28  \n",
       "4              33  \n",
       "5              42  \n",
       "6              35  \n",
       "7              39  \n",
       "8              29  \n",
       "9              13  "
      ]
     },
     "execution_count": 65,
     "metadata": {},
     "output_type": "execute_result"
    }
   ],
   "source": [
    "rides_pivot_table.head(10)"
   ]
  },
  {
   "cell_type": "markdown",
   "id": "c7905adf",
   "metadata": {},
   "source": [
    "### Подсчёт помесячной выручки за каждого пользователя"
   ]
  },
  {
   "cell_type": "markdown",
   "id": "0c83cf5d",
   "metadata": {},
   "source": [
    "Создадим функцию `calculate_income`, при помощи которой мы сможем посчитать помесячную выручку, которую принёс каждый пользователь."
   ]
  },
  {
   "cell_type": "code",
   "execution_count": 66,
   "id": "07f57ded",
   "metadata": {},
   "outputs": [],
   "source": [
    "def calculate_income(row):\n",
    "    subscription_row = \\\n",
    "    subscriptions_data[subscriptions_data['subscription_type'] == \\\n",
    "                       row['subscription_type']]\n",
    "    \n",
    "    income = \\\n",
    "    subscription_row['start_ride_price'].values[0] * \\\n",
    "    row['rides_amount'] + \\\n",
    "    subscription_row['minute_price'].values[0] * \\\n",
    "    row['total_duration'] + \\\n",
    "    subscription_row['subscription_fee'].values[0]\n",
    "    \n",
    "    return income"
   ]
  },
  {
   "cell_type": "markdown",
   "id": "44573815",
   "metadata": {},
   "source": [
    "Теперь добавим к сводной таблице новый столбец `'income'` и применим функцию `calculate_income`."
   ]
  },
  {
   "cell_type": "code",
   "execution_count": 67,
   "id": "f5693009",
   "metadata": {},
   "outputs": [],
   "source": [
    "rides_pivot_table['income'] = \\\n",
    "rides_pivot_table.apply(calculate_income, axis=1)"
   ]
  },
  {
   "cell_type": "markdown",
   "id": "39267134",
   "metadata": {},
   "source": [
    "Проверяем результат."
   ]
  },
  {
   "cell_type": "code",
   "execution_count": 68,
   "id": "85c2a698",
   "metadata": {},
   "outputs": [
    {
     "data": {
      "text/html": [
       "<div>\n",
       "<style scoped>\n",
       "    .dataframe tbody tr th:only-of-type {\n",
       "        vertical-align: middle;\n",
       "    }\n",
       "\n",
       "    .dataframe tbody tr th {\n",
       "        vertical-align: top;\n",
       "    }\n",
       "\n",
       "    .dataframe thead th {\n",
       "        text-align: right;\n",
       "    }\n",
       "</style>\n",
       "<table border=\"1\" class=\"dataframe\">\n",
       "  <thead>\n",
       "    <tr style=\"text-align: right;\">\n",
       "      <th></th>\n",
       "      <th>month</th>\n",
       "      <th>user_id</th>\n",
       "      <th>subscription_type</th>\n",
       "      <th>city</th>\n",
       "      <th>rides_amount</th>\n",
       "      <th>total_distance</th>\n",
       "      <th>total_duration</th>\n",
       "      <th>income</th>\n",
       "    </tr>\n",
       "  </thead>\n",
       "  <tbody>\n",
       "    <tr>\n",
       "      <th>0</th>\n",
       "      <td>1</td>\n",
       "      <td>1</td>\n",
       "      <td>ultra</td>\n",
       "      <td>Тюмень</td>\n",
       "      <td>2</td>\n",
       "      <td>7027.51</td>\n",
       "      <td>42</td>\n",
       "      <td>451</td>\n",
       "    </tr>\n",
       "    <tr>\n",
       "      <th>1</th>\n",
       "      <td>1</td>\n",
       "      <td>3</td>\n",
       "      <td>ultra</td>\n",
       "      <td>Москва</td>\n",
       "      <td>1</td>\n",
       "      <td>3061.78</td>\n",
       "      <td>13</td>\n",
       "      <td>277</td>\n",
       "    </tr>\n",
       "    <tr>\n",
       "      <th>2</th>\n",
       "      <td>1</td>\n",
       "      <td>5</td>\n",
       "      <td>ultra</td>\n",
       "      <td>Омск</td>\n",
       "      <td>1</td>\n",
       "      <td>3914.65</td>\n",
       "      <td>13</td>\n",
       "      <td>277</td>\n",
       "    </tr>\n",
       "    <tr>\n",
       "      <th>3</th>\n",
       "      <td>1</td>\n",
       "      <td>7</td>\n",
       "      <td>ultra</td>\n",
       "      <td>Омск</td>\n",
       "      <td>2</td>\n",
       "      <td>6478.08</td>\n",
       "      <td>28</td>\n",
       "      <td>367</td>\n",
       "    </tr>\n",
       "    <tr>\n",
       "      <th>4</th>\n",
       "      <td>1</td>\n",
       "      <td>12</td>\n",
       "      <td>ultra</td>\n",
       "      <td>Тюмень</td>\n",
       "      <td>1</td>\n",
       "      <td>3577.15</td>\n",
       "      <td>33</td>\n",
       "      <td>397</td>\n",
       "    </tr>\n",
       "  </tbody>\n",
       "</table>\n",
       "</div>"
      ],
      "text/plain": [
       "   month  user_id subscription_type    city  rides_amount  total_distance  \\\n",
       "0      1        1             ultra  Тюмень             2         7027.51   \n",
       "1      1        3             ultra  Москва             1         3061.78   \n",
       "2      1        5             ultra    Омск             1         3914.65   \n",
       "3      1        7             ultra    Омск             2         6478.08   \n",
       "4      1       12             ultra  Тюмень             1         3577.15   \n",
       "\n",
       "   total_duration  income  \n",
       "0              42     451  \n",
       "1              13     277  \n",
       "2              13     277  \n",
       "3              28     367  \n",
       "4              33     397  "
      ]
     },
     "execution_count": 68,
     "metadata": {},
     "output_type": "execute_result"
    }
   ],
   "source": [
    "rides_pivot_table.head()"
   ]
  },
  {
   "cell_type": "markdown",
   "id": "2efebb09",
   "metadata": {},
   "source": [
    "Выясним общую годовую выручку, а также годовую выручку в зависимости от типа подписки."
   ]
  },
  {
   "cell_type": "code",
   "execution_count": 69,
   "id": "8180bf6d",
   "metadata": {},
   "outputs": [
    {
     "name": "stdout",
     "output_type": "stream",
     "text": [
      "Полная выручка за 2021 год составляет 3873131 рублей.\n",
      "Полная выручка за пользователей бесплатной подписки составляет 2228594 рублей (57.54%).\n",
      "Полная выручка за пользователей подписки Ultra составляет 1644537 рублей (42.46%).\n"
     ]
    }
   ],
   "source": [
    "print(\n",
    "    f\"Полная выручка за 2021 год составляет \"\n",
    "    f\"{rides_pivot_table['income'].sum()} рублей.\"\n",
    ")\n",
    "\n",
    "free_income = rides_pivot_table['income'][\n",
    "    rides_pivot_table['subscription_type'] == 'free'\n",
    "].sum()\n",
    "total_income = rides_pivot_table['income'].sum()\n",
    "free_percentage = (free_income / total_income * 100).round(2)\n",
    "\n",
    "print(\n",
    "    f\"Полная выручка за пользователей бесплатной подписки составляет \"\n",
    "    f\"{free_income} рублей ({free_percentage}%).\"\n",
    ")\n",
    "\n",
    "ultra_income = rides_pivot_table['income'][\n",
    "    rides_pivot_table['subscription_type'] == 'ultra'\n",
    "].sum()\n",
    "ultra_percentage = (ultra_income / total_income * 100).round(2)\n",
    "\n",
    "print(\n",
    "    f\"Полная выручка за пользователей подписки Ultra составляет \"\n",
    "    f\"{ultra_income} рублей ({ultra_percentage}%).\"\n",
    ")"
   ]
  },
  {
   "cell_type": "markdown",
   "id": "c714e80b",
   "metadata": {},
   "source": [
    "Всего за год компания заработала 3 901 049 рублей, и больше половины этой суммы (57.84%) принесли пользователи бесплатной подписки.\n",
    "\n",
    "Изучим помесячную выручку по каждому типу подписки."
   ]
  },
  {
   "cell_type": "code",
   "execution_count": 70,
   "id": "5c834f42",
   "metadata": {},
   "outputs": [
    {
     "data": {
      "image/png": "[encoded data removed]",
      "text/plain": [
       "<Figure size 720x360 with 1 Axes>"
      ]
     },
     "metadata": {
      "needs_background": "light"
     },
     "output_type": "display_data"
    }
   ],
   "source": [
    "rides_pivot_table[rides_pivot_table['subscription_type'] == 'free']\\\n",
    "    .groupby('month')['income']\\\n",
    "    .sum()\\\n",
    "    .plot(kind='bar', figsize=(10, 5), grid=True);\n",
    "plt.title('Помесячная выручка за пользователей бесплатной подписки')\n",
    "plt.xlabel('Месяц')\n",
    "plt.ylabel('Выручка')\n",
    "plt.show()"
   ]
  },
  {
   "cell_type": "markdown",
   "id": "24665a8f",
   "metadata": {},
   "source": [
    "Среди пользователей бесплатной подписки самые прибыльные месяцы оказались январь и декабрь, наименее прибыльный - февраль."
   ]
  },
  {
   "cell_type": "code",
   "execution_count": 71,
   "id": "0b4d25fd",
   "metadata": {},
   "outputs": [
    {
     "data": {
      "image/png": "[encoded data removed]",
      "text/plain": [
       "<Figure size 720x360 with 1 Axes>"
      ]
     },
     "metadata": {
      "needs_background": "light"
     },
     "output_type": "display_data"
    }
   ],
   "source": [
    "rides_pivot_table[rides_pivot_table['subscription_type'] == 'ultra']\\\n",
    "    .groupby('month')['income']\\\n",
    "    .sum()\\\n",
    "    .plot(kind='bar', figsize=(10, 5), grid=True);\n",
    "plt.title('Помесячная выручка за пользователей подписки Ultra')\n",
    "plt.xlabel('Месяц')\n",
    "plt.ylabel('Выручка')\n",
    "plt.show()"
   ]
  },
  {
   "cell_type": "markdown",
   "id": "dbf6395d",
   "metadata": {},
   "source": [
    "Здесь мы видим, что среди пользователей подписки Ultra наиболее прибыльными вышли январь и май, но наименее прибыльным тмкже остается февраль."
   ]
  },
  {
   "cell_type": "code",
   "execution_count": 72,
   "id": "dd7b5f9f",
   "metadata": {
    "scrolled": true
   },
   "outputs": [
    {
     "data": {
      "text/html": [
       "<div>\n",
       "<style scoped>\n",
       "    .dataframe tbody tr th:only-of-type {\n",
       "        vertical-align: middle;\n",
       "    }\n",
       "\n",
       "    .dataframe tbody tr th {\n",
       "        vertical-align: top;\n",
       "    }\n",
       "\n",
       "    .dataframe thead th {\n",
       "        text-align: right;\n",
       "    }\n",
       "</style>\n",
       "<table border=\"1\" class=\"dataframe\">\n",
       "  <thead>\n",
       "    <tr style=\"text-align: right;\">\n",
       "      <th></th>\n",
       "      <th>month</th>\n",
       "      <th>user_id</th>\n",
       "      <th>subscription_type</th>\n",
       "      <th>city</th>\n",
       "      <th>rides_amount</th>\n",
       "      <th>total_distance</th>\n",
       "      <th>total_duration</th>\n",
       "      <th>income</th>\n",
       "    </tr>\n",
       "  </thead>\n",
       "  <tbody>\n",
       "    <tr>\n",
       "      <th>0</th>\n",
       "      <td>1</td>\n",
       "      <td>1</td>\n",
       "      <td>ultra</td>\n",
       "      <td>Тюмень</td>\n",
       "      <td>2</td>\n",
       "      <td>7027.51</td>\n",
       "      <td>42</td>\n",
       "      <td>451</td>\n",
       "    </tr>\n",
       "    <tr>\n",
       "      <th>1</th>\n",
       "      <td>1</td>\n",
       "      <td>3</td>\n",
       "      <td>ultra</td>\n",
       "      <td>Москва</td>\n",
       "      <td>1</td>\n",
       "      <td>3061.78</td>\n",
       "      <td>13</td>\n",
       "      <td>277</td>\n",
       "    </tr>\n",
       "    <tr>\n",
       "      <th>2</th>\n",
       "      <td>1</td>\n",
       "      <td>5</td>\n",
       "      <td>ultra</td>\n",
       "      <td>Омск</td>\n",
       "      <td>1</td>\n",
       "      <td>3914.65</td>\n",
       "      <td>13</td>\n",
       "      <td>277</td>\n",
       "    </tr>\n",
       "    <tr>\n",
       "      <th>3</th>\n",
       "      <td>1</td>\n",
       "      <td>7</td>\n",
       "      <td>ultra</td>\n",
       "      <td>Омск</td>\n",
       "      <td>2</td>\n",
       "      <td>6478.08</td>\n",
       "      <td>28</td>\n",
       "      <td>367</td>\n",
       "    </tr>\n",
       "    <tr>\n",
       "      <th>4</th>\n",
       "      <td>1</td>\n",
       "      <td>12</td>\n",
       "      <td>ultra</td>\n",
       "      <td>Тюмень</td>\n",
       "      <td>1</td>\n",
       "      <td>3577.15</td>\n",
       "      <td>33</td>\n",
       "      <td>397</td>\n",
       "    </tr>\n",
       "    <tr>\n",
       "      <th>...</th>\n",
       "      <td>...</td>\n",
       "      <td>...</td>\n",
       "      <td>...</td>\n",
       "      <td>...</td>\n",
       "      <td>...</td>\n",
       "      <td>...</td>\n",
       "      <td>...</td>\n",
       "      <td>...</td>\n",
       "    </tr>\n",
       "    <tr>\n",
       "      <th>11295</th>\n",
       "      <td>12</td>\n",
       "      <td>1525</td>\n",
       "      <td>free</td>\n",
       "      <td>Омск</td>\n",
       "      <td>1</td>\n",
       "      <td>4597.85</td>\n",
       "      <td>34</td>\n",
       "      <td>322</td>\n",
       "    </tr>\n",
       "    <tr>\n",
       "      <th>11296</th>\n",
       "      <td>12</td>\n",
       "      <td>1526</td>\n",
       "      <td>free</td>\n",
       "      <td>Омск</td>\n",
       "      <td>1</td>\n",
       "      <td>3644.12</td>\n",
       "      <td>23</td>\n",
       "      <td>234</td>\n",
       "    </tr>\n",
       "    <tr>\n",
       "      <th>11297</th>\n",
       "      <td>12</td>\n",
       "      <td>1528</td>\n",
       "      <td>free</td>\n",
       "      <td>Пятигорск</td>\n",
       "      <td>1</td>\n",
       "      <td>3998.57</td>\n",
       "      <td>11</td>\n",
       "      <td>138</td>\n",
       "    </tr>\n",
       "    <tr>\n",
       "      <th>11298</th>\n",
       "      <td>12</td>\n",
       "      <td>1532</td>\n",
       "      <td>free</td>\n",
       "      <td>Тюмень</td>\n",
       "      <td>2</td>\n",
       "      <td>6111.89</td>\n",
       "      <td>42</td>\n",
       "      <td>436</td>\n",
       "    </tr>\n",
       "    <tr>\n",
       "      <th>11299</th>\n",
       "      <td>12</td>\n",
       "      <td>1534</td>\n",
       "      <td>free</td>\n",
       "      <td>Краснодар</td>\n",
       "      <td>1</td>\n",
       "      <td>2371.71</td>\n",
       "      <td>16</td>\n",
       "      <td>178</td>\n",
       "    </tr>\n",
       "  </tbody>\n",
       "</table>\n",
       "<p>11300 rows × 8 columns</p>\n",
       "</div>"
      ],
      "text/plain": [
       "       month  user_id subscription_type       city  rides_amount  \\\n",
       "0          1        1             ultra     Тюмень             2   \n",
       "1          1        3             ultra     Москва             1   \n",
       "2          1        5             ultra       Омск             1   \n",
       "3          1        7             ultra       Омск             2   \n",
       "4          1       12             ultra     Тюмень             1   \n",
       "...      ...      ...               ...        ...           ...   \n",
       "11295     12     1525              free       Омск             1   \n",
       "11296     12     1526              free       Омск             1   \n",
       "11297     12     1528              free  Пятигорск             1   \n",
       "11298     12     1532              free     Тюмень             2   \n",
       "11299     12     1534              free  Краснодар             1   \n",
       "\n",
       "       total_distance  total_duration  income  \n",
       "0             7027.51              42     451  \n",
       "1             3061.78              13     277  \n",
       "2             3914.65              13     277  \n",
       "3             6478.08              28     367  \n",
       "4             3577.15              33     397  \n",
       "...               ...             ...     ...  \n",
       "11295         4597.85              34     322  \n",
       "11296         3644.12              23     234  \n",
       "11297         3998.57              11     138  \n",
       "11298         6111.89              42     436  \n",
       "11299         2371.71              16     178  \n",
       "\n",
       "[11300 rows x 8 columns]"
      ]
     },
     "execution_count": 72,
     "metadata": {},
     "output_type": "execute_result"
    }
   ],
   "source": [
    "rides_pivot_table"
   ]
  },
  {
   "cell_type": "markdown",
   "id": "0525ac99",
   "metadata": {},
   "source": [
    "### Вывод"
   ]
  },
  {
   "cell_type": "markdown",
   "id": "c9147d80",
   "metadata": {},
   "source": [
    "Создали сводную таблицу `rides_pivot_table` на основе датафрейма с объединенными данными `total_data` с указанием суммарного расстояния, количества поездок и суммарного времени для каждого пользователя за каждый месяц. Также высчитали помесячную выручку, которую принёс каждый пользователь.\n",
    "\n",
    "Всего за год компания заработала 3 901 049 рублей, из которых 57.84% приходится на пользователей бесплатной подписки и 42.16% на пользователей подписки Ultra соответственно.\n",
    "\n",
    "Пользователи бесплатной подписки больше всего ездят в январе и декабре, а пользователи подписки Ultra - в январе и мае. По обоим  видам подписки самым неприбыльным месяцем вышел февраль.\n",
    "\n",
    "Выручка января опережает выручку за май, а зимние месяцы почти не отличаются от летних - это кажется необычным, учитывая, что обычно активность аренды самокатов увеличивается в теплые месяцы. Можно предположить, что в декабре и январе могли проводиться какие-то маркетинговые акции или события, которые привлекают больше пользователей. Также есть вероятность, что в данных есть неочевидные ошибки. Это может произойти из-за проблем с записью данных, ошибок при вводе данных или неправильной обработки данных."
   ]
  },
  {
   "cell_type": "markdown",
   "id": "41545ac0",
   "metadata": {},
   "source": [
    "## Проверка гипотез"
   ]
  },
  {
   "cell_type": "markdown",
   "id": "eb538cf2",
   "metadata": {},
   "source": [
    "### Время, потраченное на поездки пользователями с подпиской Ultra"
   ]
  },
  {
   "cell_type": "markdown",
   "id": "cf606c94",
   "metadata": {},
   "source": [
    "Важно понять, тратят ли пользователи с подпиской больше времени на поездки? Если да, то пользователи с подпиской могут быть «выгоднее» для компании. "
   ]
  },
  {
   "cell_type": "markdown",
   "id": "4bedc96f",
   "metadata": {},
   "source": [
    "Проведем t-тест для двух независимых выборок.\n",
    "\n",
    "**Гипотеза**: Пользователи с подпиской Ultra тратят больше времени на поездки, чем пользователи с бесплатной подпиской.\n",
    "\n",
    "$H_0$: Время поездки пользователей на подписке Ultra **равно** времени поездки пользователей с бесплатной подпиской.\n",
    "\n",
    "$H_1$: Время поездки пользователей на подписке Ultra **больше** времени поездки пользователей с бесплатной подпиской."
   ]
  },
  {
   "cell_type": "markdown",
   "id": "f921dacc",
   "metadata": {},
   "source": [
    "Для проверки этой гипотезы мы будем использовать исходные данные о продолжительности каждой поездки из датафреймов `ultra_sub_data` и `free_sub_data`.\n",
    "\n",
    "Уровень статистической значимости — 5%."
   ]
  },
  {
   "cell_type": "code",
   "execution_count": 73,
   "id": "acc16a87",
   "metadata": {},
   "outputs": [
    {
     "name": "stdout",
     "output_type": "stream",
     "text": [
      "p-значение: 4.704468074453899e-28\n",
      "Отвергаем нулевую гипотезу\n"
     ]
    }
   ],
   "source": [
    "ultra = ultra_sub_data['duration']\n",
    "free = free_sub_data['duration']\n",
    "\n",
    "alpha = 0.05\n",
    "\n",
    "results = st.ttest_ind(\n",
    "    ultra, \n",
    "    free, \n",
    "    alternative = 'greater')\n",
    "\n",
    "print('p-значение:', results.pvalue)\n",
    "\n",
    "if results.pvalue < alpha:\n",
    "    print('Отвергаем нулевую гипотезу')\n",
    "else:\n",
    "    print('Не получилось отвергнуть нулевую гипотезу') "
   ]
  },
  {
   "cell_type": "markdown",
   "id": "ca5ae71a",
   "metadata": {},
   "source": [
    "**Вывод**\n",
    "\n",
    "На основе проведенного t-теста, p-значение которого близко к нулю (менее 0.01%), мы отвергаем нулевую гипотезу о том, что время поездки пользователей на подписке Ultra равно времени поездки пользователей с бесплатной подпиской. Это указывает на то, что время поездки пользователей на подписке Ultra, скорее всего, больше времени поездки пользователей с бесплатной подпиской. \n",
    "\n",
    "Это может быть выгодно для бизнеса, поскольку пользователи, проводящие больше времени в поездках, могут быть более вовлечены и, следовательно, могут приносить больше дохода в долгосрочной перспективе.\n",
    "\n",
    "Однако стоит помнить, что эти данные не подтверждают исходную гипотезу, а лишь не противоречат ей."
   ]
  },
  {
   "cell_type": "markdown",
   "id": "7a9099e2",
   "metadata": {},
   "source": [
    "### Среднее расстояние, пройденное за одну поездку пользователями с подпиской Ultra"
   ]
  },
  {
   "cell_type": "markdown",
   "id": "50b17f73",
   "metadata": {},
   "source": [
    "Расстояние одной поездки в 3130 метров — оптимальное с точки зрения износа самоката. Можно ли сказать, что среднее расстояние, которое проезжают пользователи с подпиской за одну поездку, не превышает 3130 метров?"
   ]
  },
  {
   "cell_type": "markdown",
   "id": "354e475a",
   "metadata": {},
   "source": [
    "Проведем одновыборочный t-тест.\n",
    "\n",
    "**Гипотеза**: Среднее пройденное расстояние за одну поездку пользователя с подпиской Ultra не превышает 3130 метров.\n",
    "\n",
    "$H_0$: Среднее пройденное расстояние за одну поездку пользователя с подпиской Ultra **равно** 3130 м.\n",
    "\n",
    "$H_1$: Среднее пройденное расстояние за одну поездку пользователя с подпиской Ultra **больше** 3130 м."
   ]
  },
  {
   "cell_type": "markdown",
   "id": "9bd31585",
   "metadata": {},
   "source": [
    "Для проверки этой гипотезы мы будем использовать исходные данные о рассотянии поездкок из датафрейма `ultra_sub_data`.\n",
    "\n",
    "Уровень статистической значимости — 5%."
   ]
  },
  {
   "cell_type": "code",
   "execution_count": 74,
   "id": "92c04898",
   "metadata": {},
   "outputs": [
    {
     "name": "stdout",
     "output_type": "stream",
     "text": [
      "p-значение: 0.9195368847849785\n",
      "Не получилось отвергнуть нулевую гипотезу\n"
     ]
    }
   ],
   "source": [
    "distance_ultra_sub = ultra_sub_data['distance']\n",
    "\n",
    "interested_value = 3130\n",
    "\n",
    "alpha = 0.05\n",
    "\n",
    "results = st.ttest_1samp(\n",
    "    distance_ultra_sub, \n",
    "    interested_value, \n",
    "    alternative = 'greater')\n",
    "\n",
    "print('p-значение:', results.pvalue)\n",
    "\n",
    "if results.pvalue < alpha:\n",
    "    print('Отвергаем нулевую гипотезу')\n",
    "else:\n",
    "    print('Не получилось отвергнуть нулевую гипотезу')"
   ]
  },
  {
   "cell_type": "markdown",
   "id": "1ab49c57",
   "metadata": {},
   "source": [
    "**Вывод**\n",
    "\n",
    "На основе проведенного одновыборочного t-теста, p-значение которого равно 9.19%, что превышает уровень статистической значимости, мы не можем отвергнуть нулевую гипотезу о том, что среднее пройденное расстояние за одну поездку пользователя с подпиской Ultra равно 3130 метров. Это указывает на то, что среднее пройденное расстояние за одну поездку пользователя с подпиской Ultra, скорее всего, не превышает 3130 метров. \n",
    "\n",
    "Если среднее пройденное расстояние за одну поездку пользователя с подпиской Ultra не превышает 3130 метров, это может быть выгодно для бизнеса, поскольку это может уменьшить износ самокатов и, следовательно, снизить затраты на обслуживание и замену оборудования.\n",
    "\n",
    "Однако стоит помнить, что эти данные не подтверждают исходную гипотезу, а лишь не противоречат ей. Для более уверенных выводов необходимо провести дополнительные исследования."
   ]
  },
  {
   "cell_type": "markdown",
   "id": "dfe463df",
   "metadata": {},
   "source": [
    "### Помесячная выручка по месяцам от пользователей по типу подписки"
   ]
  },
  {
   "cell_type": "markdown",
   "id": "67bc84ba",
   "metadata": {},
   "source": [
    "Будет ли помесячная выручка от пользователей с подпиской выше, чем выручка от пользователей без подписки?"
   ]
  },
  {
   "cell_type": "markdown",
   "id": "d6e87d6d",
   "metadata": {},
   "source": [
    "\n",
    "Проведем t-тест для двух независимых выборок.\n",
    "\n",
    "**Гипотеза**: Помесячная выручка от пользователей подписки Ultra больше, чем от пользователей с бесплатной подпиской.\n",
    "\n",
    "$H_0$: Помесячная выручка от пользователей подписки Ultra **равна** выручке от пользователей с бесплатной подпиской.\n",
    "\n",
    "$H_1$: Помесячная выручка от пользователей подписки Ultra **больше** выручке от пользователей с бесплатной подпиской."
   ]
  },
  {
   "cell_type": "markdown",
   "id": "1237af9e",
   "metadata": {},
   "source": [
    "Для проверки этой гипотезы мы будем использовать данные о выручке с каждого пользователя за месяц из датафрейма `rides_pivot_table`.\n",
    "\n",
    "Уровень статистической значимости — 5%."
   ]
  },
  {
   "cell_type": "code",
   "execution_count": 75,
   "id": "69dd43d1",
   "metadata": {
    "scrolled": false
   },
   "outputs": [
    {
     "name": "stdout",
     "output_type": "stream",
     "text": [
      "p-значение: 2.0314113674863288e-30\n",
      "Отвергаем нулевую гипотезу\n"
     ]
    }
   ],
   "source": [
    "ultra = rides_pivot_table\\\n",
    "    .loc[rides_pivot_table['subscription_type'] == 'ultra', 'income']\n",
    "free = rides_pivot_table\\\n",
    "    .loc[rides_pivot_table['subscription_type'] == 'free', 'income']\n",
    "\n",
    "alpha = 0.05\n",
    "\n",
    "results = st.ttest_ind(\n",
    "    ultra, \n",
    "    free, \n",
    "    alternative = 'greater')\n",
    "\n",
    "print('p-значение:', results.pvalue)\n",
    "\n",
    "if results.pvalue < alpha:\n",
    "    print('Отвергаем нулевую гипотезу')\n",
    "else:\n",
    "    print('Не получилось отвергнуть нулевую гипотезу') "
   ]
  },
  {
   "cell_type": "markdown",
   "id": "5707cc27",
   "metadata": {},
   "source": [
    "**Вывод**\n",
    "\n",
    "На основе проведенного t-теста, p-значение которого близко к нулю (менее 0.01%), мы отвергаем нулевую гипотезу о том, что помесячная выручка от пользователей подписки Ultra равна выручке от пользователей с бесплатной подпиской. Это указывает на то, что помесячная выручка от пользователей подписки Ultra, скорее всего, больше выручки от пользователей с бесплатной подпиской. Это может быть выгодно для бизнеса, поскольку большая выручка напрямую влияет на прибыльность.\n",
    "\n",
    "Однако стоит помнить, что эти данные не подтверждают исходную гипотезу, а лишь не противоречат ей. "
   ]
  },
  {
   "cell_type": "markdown",
   "id": "870c19d9",
   "metadata": {},
   "source": [
    "### Тест для проверки гипотезы о снижении количества обращений в техподдержку после обновления сервера"
   ]
  },
  {
   "cell_type": "markdown",
   "id": "b8b8d223",
   "metadata": {},
   "source": [
    "Представьте такую ситуацию: техническая команда сервиса обновила сервера, с которыми взаимодействует мобильное приложение. Она надеется, что из-за этого количество обращений в техподдержку значимо снизилось. Некоторый файл содержит для каждого пользователя данные о количестве обращений до обновления и после него. Какой тест необходим для проверки этой гипотезы?"
   ]
  },
  {
   "cell_type": "markdown",
   "id": "04924a5c",
   "metadata": {},
   "source": [
    "**Ответ:**\n",
    "Тест для гипотезы о равенстве средних для зависимых (парных) выборок. Чтобы проверить гипотезу в Python, нужно использовать метод `scipy.stats.ttest_rel()`. Мы будем проверять одностороннюю гипотезу, так как нас интересует только снижение количества обращений в техподдержку. "
   ]
  },
  {
   "cell_type": "markdown",
   "id": "dfa3f71b",
   "metadata": {},
   "source": [
    "Гипотезы в данном случае были бы сформулированы так:\n",
    "\n",
    "$H_0$: Количество обращений в техподдержку после обновления сервера **не меньше** количеству обращений в техподдержку до обновления.\n",
    "\n",
    "$H_1$: Количество обращений в техподдержку после обновления сервера **меньше** количеству обращений в техподдержку до обновления."
   ]
  },
  {
   "cell_type": "markdown",
   "id": "dc2104c0",
   "metadata": {},
   "source": [
    "### Вывод"
   ]
  },
  {
   "cell_type": "markdown",
   "id": "d3b64ffc",
   "metadata": {},
   "source": [
    "Мы проверили гипотезы и получили следующие результаты:\n",
    "\n",
    "- Мы отвергаем нулевую гипотезу о том, что время поездки пользователей на подписке Ultra равно времени поездки пользователей с бесплатной подпиской. Время поездки пользователей на подписке Ultra, скорее всего, больше времени поездки пользователей с бесплатной подпиской.\n",
    "\n",
    "- Мы не можем отвергнуть нулевую гипотезу о том, что среднее пройденное расстояние за одну поездку пользователя с подпиской Ultra равно 3130 метров. Среднее пройденное расстояние за одну поездку пользователя с подпиской Ultra, скорее всего, не превышает 3130 метров.\n",
    "\n",
    "- Мы отвергаем нулевую гипотезу о том, что помесячная выручка от пользователей подписки Ultra равна выручке от пользователей с бесплатной подпиской. Помесячная выручка от пользователей подписки Ultra, скорее всего, больше выручки от пользователей с бесплатной подпиской.\n",
    "\n",
    "Также для проверки гипотезы о снижении количества обращений в техподдержку после обновления сервера мы бы использовали тест для односторонней гипотезы о равенстве средних для зависимых (парных) выборок. "
   ]
  },
  {
   "cell_type": "markdown",
   "id": "61213c5e",
   "metadata": {},
   "source": [
    "## Распределения"
   ]
  },
  {
   "cell_type": "markdown",
   "id": "f41ba4f1",
   "metadata": {},
   "source": [
    "### Определение минимального количества рассылаемых промокодов"
   ]
  },
  {
   "cell_type": "markdown",
   "id": "abbbd7c7",
   "metadata": {},
   "source": [
    "Отделу маркетинга GoFast поставили задачу: нужно провести акцию с раздачей промокодов на один бесплатный месяц подписки, в рамках которой как минимум 100 существующих клиентов должны продлить эту подписку. То есть по завершении периода действия подписки пользователь может либо отказаться от неё, либо продлить, совершив соответствующий платёж. \n",
    "\n",
    "Эта акция уже проводилась ранее и по итогу выяснилось, что после бесплатного пробного периода подписку продлевают 10% пользователей. Необходимо выяснить, какое минимальное количество промокодов нужно разослать, чтобы вероятность не выполнить план была примерно 5%. "
   ]
  },
  {
   "cell_type": "markdown",
   "id": "1fcc9d7a",
   "metadata": {},
   "source": [
    "Для решения этой задачи мы можем использовать биномиальное распределение. Нам нужно найти такое количество промокодов `n`, при котором вероятность того, что количество продлений подписки будет меньше или равно 100, составляет примерно 5% (это наш уровень статистической значимости).\n",
    "\n",
    "Найдем значение `n` спомощью цикла и метода `cdf()`."
   ]
  },
  {
   "cell_type": "code",
   "execution_count": 76,
   "id": "dbd02298",
   "metadata": {},
   "outputs": [
    {
     "name": "stdout",
     "output_type": "stream",
     "text": [
      "Минимальное количество промокодов, которое нужно разослать: 1172\n"
     ]
    }
   ],
   "source": [
    "p1 = 0.1\n",
    "alpha = 0.05\n",
    "target_successes = 100\n",
    "desired_probability = 0.95\n",
    "\n",
    "# Подбираем значение n\n",
    "for n in range(target_successes, 2000):\n",
    "    if binom.cdf(target_successes, n, p1) < alpha:\n",
    "        break\n",
    "\n",
    "min_n = n \n",
    "print(f\"Минимальное количество промокодов, которое нужно разослать: {min_n}\")"
   ]
  },
  {
   "cell_type": "markdown",
   "id": "0a2bbbe8",
   "metadata": {},
   "source": [
    "Мы выяснили необходимое количество промокодов, которое нужно разослать, чтобы получить кумулятивную вероятность не выполнить план в 5%.\n",
    "\n",
    "Теперь построим график зависимости вероятности продления."
   ]
  },
  {
   "cell_type": "code",
   "execution_count": 77,
   "id": "1758d85c",
   "metadata": {},
   "outputs": [
    {
     "data": {
      "image/png": "[encoded data removed]",
      "text/plain": [
       "<Figure size 720x432 with 1 Axes>"
      ]
     },
     "metadata": {
      "needs_background": "light"
     },
     "output_type": "display_data"
    }
   ],
   "source": [
    "# Построение графика\n",
    "n_values = range(target_successes, 1300)\n",
    "probabilities = [\n",
    "    1 - binom.cdf(target_successes - 1, n, p1) \n",
    "    for n in n_values\n",
    "]\n",
    "\n",
    "plt.figure(figsize=(10, 6))\n",
    "plt.plot(\n",
    "    n_values, \n",
    "    probabilities, \n",
    "    label='Вероятность ≥ 100 продлений'\n",
    ")\n",
    "plt.axhline(\n",
    "    y=desired_probability, \n",
    "    color='r', \n",
    "    linestyle='--', \n",
    "    label=f'Желаемая вероятность ({desired_probability * 100}%)'\n",
    ")\n",
    "plt.axvline(\n",
    "    x=min_n, \n",
    "    color='g', \n",
    "    linestyle='--', \n",
    "    label=f'Минимальное n ({min_n})'\n",
    ")\n",
    "plt.xlabel('Количество промокодов')\n",
    "plt.ylabel('Вероятность выполнения плана')\n",
    "plt.title('Зависимость вероятности от количества промокодов')\n",
    "plt.legend()\n",
    "plt.grid(True)\n",
    "plt.show()"
   ]
  },
  {
   "cell_type": "markdown",
   "id": "1961bf21",
   "metadata": {},
   "source": [
    "На графике мы видим, что вероятность выполнения плана начинает расти после 800, а достигает 100% вероятности в районе 1250 промокодов. 1172 промокода показывают вероятность в 95% выполнить план для отдела маркетинга."
   ]
  },
  {
   "cell_type": "markdown",
   "id": "330ba117",
   "metadata": {},
   "source": [
    "Можно сделать вывод, что нужно разослать 1172 промокодов, чтобы вероятность не выполнить план была примерно 5%."
   ]
  },
  {
   "cell_type": "markdown",
   "id": "9795830b",
   "metadata": {},
   "source": [
    "### Рассылка клиентам push-уведомлений в мобильном приложении"
   ]
  },
  {
   "cell_type": "markdown",
   "id": "b2a8ebd2",
   "metadata": {},
   "source": [
    "Отдел маркетинга рассылает клиентам push-уведомления в мобильном приложении. Клиенты могут открыть его или не открывать. Известно, что уведомления открывают около 40% получивших клиентов. Отдел планирует разослать 1 млн уведомлений. Необходимо оценить вероятность того, что уведомление откроют не более 399,5 тыс. пользователей.\n",
    "\n",
    "В этом случае мы можем использовать нормальную аппроксимацию биномиального распределения, так как количество уведомлений достаточно велико."
   ]
  },
  {
   "cell_type": "code",
   "execution_count": 78,
   "id": "e3784ffa",
   "metadata": {},
   "outputs": [
    {
     "name": "stdout",
     "output_type": "stream",
     "text": [
      "Вероятность, что уведомление откроют не более 399,5 тыс. пользователей: 15.37%\n"
     ]
    }
   ],
   "source": [
    "n = 1000000\n",
    "p = 0.4\n",
    "mu = n * p\n",
    "sigma = np.sqrt(n * p * (1 - p))\n",
    "x = 399500\n",
    "\n",
    "# Вычисление вероятности\n",
    "p2 = norm.cdf(x, mu, sigma)\n",
    "\n",
    "print(f\"Вероятность, что уведомление откроют \"\n",
    "      f\"не более 399,5 тыс. пользователей: {p2:.2%}\")"
   ]
  },
  {
   "cell_type": "markdown",
   "id": "aa899880",
   "metadata": {},
   "source": [
    "Мы выяснили кумулятивную вероятность случая, что уведомление откроют не более 399,5 тыс. пользователей.\n",
    "\n",
    "Теперь построим график зависимости вероятности."
   ]
  },
  {
   "cell_type": "code",
   "execution_count": 79,
   "id": "1cbb9c71",
   "metadata": {},
   "outputs": [
    {
     "data": {
      "image/png": "[encoded data removed]",
      "text/plain": [
       "<Figure size 720x432 with 1 Axes>"
      ]
     },
     "metadata": {
      "needs_background": "light"
     },
     "output_type": "display_data"
    }
   ],
   "source": [
    "# Построение графика\n",
    "x_values = np.linspace(mu - 4*sigma, mu + 4*sigma, 1000)\n",
    "probabilities = norm.cdf(x_values, mu, sigma)\n",
    "\n",
    "plt.figure(figsize=(10, 6))\n",
    "plt.plot(\n",
    "    x_values, \n",
    "    probabilities, \n",
    "    label='Вероятность открытия уведолмений'\n",
    ")\n",
    "plt.axvline(\n",
    "    x=x, \n",
    "    color='r', \n",
    "    linestyle='--', \n",
    "    label=f'Открытия уведомлений ({x/1000} тыс.)'\n",
    ")\n",
    "plt.axhline(\n",
    "    y=p2, \n",
    "    color='g', \n",
    "    linestyle='--', \n",
    "    label=f'Вероятность: {p2:.2%}'\n",
    ")\n",
    "plt.xlabel('Количество открытий уведомлений')\n",
    "plt.ylabel('Вероятность')\n",
    "plt.title('Зависимость вероятности от количества открытий уведомлений')\n",
    "plt.legend()\n",
    "plt.grid(True)\n",
    "plt.show()"
   ]
  },
  {
   "cell_type": "markdown",
   "id": "0f4152f6",
   "metadata": {},
   "source": [
    "Красной чертой отмечено оцениваемое количество пользователей, которые должны открыть уведомление. Область левее красной линии занимает 15.37% от общей площади графика."
   ]
  },
  {
   "cell_type": "markdown",
   "id": "b09b8e8b",
   "metadata": {},
   "source": [
    "Можно сделать вывод, что вероятность открытия уведомления не более 399,5 тыс. пользователей равна 15.37%."
   ]
  },
  {
   "cell_type": "markdown",
   "id": "fb439f0f",
   "metadata": {},
   "source": [
    "### Вывод"
   ]
  },
  {
   "cell_type": "markdown",
   "id": "11502850",
   "metadata": {},
   "source": [
    "В рамках акции для продления подписки как минимум 100 клиентов отделу маркетинга нужно разослать 1172 промокодов, чтобы вероятность не выполнить план была примерно 5%.\n",
    "\n",
    "При рассылке клиентам отделом маркетинга 1 млн push-уведомлений вероятность того, что уведомление откроют не более 399,5 тыс. пользователей равна 15.37%."
   ]
  },
  {
   "cell_type": "markdown",
   "id": "76b211a4",
   "metadata": {},
   "source": [
    "## Общий вывод"
   ]
  },
  {
   "cell_type": "markdown",
   "id": "ca27837c",
   "metadata": {},
   "source": [
    "Были проанализированы данные и проверены некоторые гипотезы, которые могут помочь бизнесу вырасти. Полученные результаты могут быть использованы для дальнейшего улучшения сервиса. В ходе проведенного анализа данных были получены следующие результаты:\n",
    "\n",
    "В данных не были обнаружены пропущенные значения. Была проведена работа по удалению 31 дубликата в датафрейме `users_data` и 95 аномальных значений в столбце `'duration'` датафрейма `rides_data`. Также в столбце `'date'` датафрейма `rides_data` изменили тип данных на `'datetime'`.\n",
    "\n",
    "После проведения анализа данных мы сделали следующие выводы:\n",
    "\n",
    "- В данных представлено 8 городов. Наибольшее количество пользователей обнаружено в Пятигорске - 219 пользователей (14.3%), что на 25% больше, чем в Москве, где обнаружено наименьшее число пользователей - 168 (11%).\n",
    "\n",
    "- Приложением без подписки пользуется 835 пользователей, что составляет 54.4% от всех пользователей, а с подпиской Ultra пользуется 699 пользователей, что составляет 45.6% соответственно.\n",
    "\n",
    "- Пользователей приложения без подписки больше всего лишь на 8.8%, чем пользователей с подпиской Ultra.\n",
    "\n",
    "- Среднее расстояние, которое проехали пользователи, составляет примерно 3070 метров. Половина поездок имеет длину между 2543 и 3776 метров. Минимальное расстояние составляет менее 1 метра, в то время как максимальное расстояние составляет около 7211 метров. \n",
    "\n",
    "- Половина поездок имеют длительность от 13 до 22 мин, что и подтверждает средняя длительность поездок в 17 мин. Самая короткая поездка заняла 2 мин, самая длинная 42 мин.\n",
    "\n",
    "После группировки данных мы выяснили, что:\n",
    "\n",
    "- Пользователи бесплатной подписки совершают на 43.8% поездок больше, чем по подписке Ultra.\n",
    " \n",
    "- Пиковые значения поездок по обеим подпискам остается примерно одинаковым - в районе 17-18 мин по времени и 3 км по дистанции. \n",
    "\n",
    "- В среднем по бесплатной подписке пользователи ездят от 13 до 22 мин и преодолевают от 2.2 до 4.2 км. \n",
    "\n",
    "- По подписке Ultra - ездят от 14 до 22 мин и преодолевают от 2.6 до 3.6 км.\n",
    "\n",
    "- Всего за год компания заработала 3 901 049 рублей, из которых 57.84% приходится на пользователей бесплатной подписки и 42.16% на пользователей подписки Ultra соответственно.\n",
    "\n",
    "- Пользователи бесплатной подписки больше всего ездят в январе и декабре, а пользователи подписки Ultra - в январе и мае. По обоим видам подписки самым неприбыльным месяцем вышел февраль.\n",
    "\n",
    "Мы проверили гипотезы и получили следующие результаты:\n",
    "\n",
    "- Мы отвергаем нулевую гипотезу о том, что время поездки пользователей на подписке Ultra равно времени поездки пользователей с бесплатной подпиской. Время поездки пользователей на подписке Ultra, скорее всего, больше времени поездки пользователей с бесплатной подпиской.\n",
    "\n",
    "- Мы не можем отвергнуть нулевую гипотезу о том, что среднее пройденное расстояние за одну поездку пользователя с подпиской Ultra равно 3130 метров. Среднее пройденное расстояние за одну поездку пользователя с подпиской Ultra, скорее всего, не превышает 3130 метров.\n",
    "\n",
    "- Мы отвергаем нулевую гипотезу о том, что помесячная выручка от пользователей подписки Ultra равна выручке от пользователей с бесплатной подпиской. Помесячная выручка от пользователей подписки Ultra, скорее всего, больше выручки от пользователей с бесплатной подпиской.\n",
    "\n",
    "Также для проверки гипотезы о снижении количества обращений в техподдержку после обновления сервера мы бы использовали тест для односторонней гипотезы о равенстве средних для зависимых (парных) выборок. \n",
    "\n",
    "В задачах по распределению мы сделали следующие выводы:\n",
    "\n",
    "- В рамках акции для продления подписки как минимум 100 клиентов отделу маркетинга нужно разослать 1172 промокодов, чтобы вероятность не выполнить план была примерно 5%.\n",
    "\n",
    "- При рассылке клиентам отделом маркетинга 1 млн push-уведомлений вероятность того, что уведомление откроют не более 399,5 тыс. пользователей равна 15.37%."
   ]
  },
  {
   "cell_type": "markdown",
   "id": "97a84ea6",
   "metadata": {},
   "source": [
    "На основе проведенного анализа, мы можем дать следующие рекомендации:\n",
    "\n",
    "- Учитывая, что в Москве меньше пользователей, чем ожидалось, стоит провести дополнительное исследование для выяснения причин. Возможно, стоит увеличить маркетинговые усилия в Москве или улучшить инфраструктуру для самокатов.\n",
    "\n",
    "- Учитывая, что пользователи подписки Ultra в среднем проезжают больше расстояния и тратят больше времени на поездки, можно рассмотреть возможность оптимизации этой подписки, чтобы сделать ее более привлекательной для пользователей. Или, учитывая, что пользователи без подписки совершают больше поездок, возможно, стоит рассмотреть оптимизацию условий подписки или предложить специальные акции для этих пользователей.\n",
    "\n",
    "- Учитывая различия в поведении пользователей (например, длительность и расстояние поездок), можно рассмотреть возможность предложения различных тарифов или услуг, которые лучше соответствуют потребностям разных групп пользователей."
   ]
  }
 ],
 "metadata": {
  "ExecuteTimeLog": [
   {
    "duration": 425,
    "start_time": "2023-12-01T08:21:37.404Z"
   },
   {
    "duration": 3,
    "start_time": "2023-12-01T09:01:35.432Z"
   },
   {
    "duration": 75,
    "start_time": "2023-12-01T09:09:26.134Z"
   },
   {
    "duration": 46,
    "start_time": "2023-12-01T09:09:32.865Z"
   },
   {
    "duration": 143,
    "start_time": "2023-12-01T09:12:00.808Z"
   },
   {
    "duration": 67,
    "start_time": "2023-12-01T09:12:05.635Z"
   },
   {
    "duration": 16,
    "start_time": "2023-12-01T09:12:09.654Z"
   },
   {
    "duration": 12,
    "start_time": "2023-12-01T09:12:13.036Z"
   },
   {
    "duration": 8,
    "start_time": "2023-12-01T09:12:20.127Z"
   },
   {
    "duration": 67,
    "start_time": "2023-12-01T09:12:54.692Z"
   },
   {
    "duration": 150,
    "start_time": "2023-12-01T09:13:41.236Z"
   },
   {
    "duration": 8,
    "start_time": "2023-12-01T09:15:07.014Z"
   },
   {
    "duration": 9,
    "start_time": "2023-12-01T09:15:08.965Z"
   },
   {
    "duration": 9,
    "start_time": "2023-12-01T09:16:11.163Z"
   },
   {
    "duration": 8,
    "start_time": "2023-12-01T09:16:13.186Z"
   },
   {
    "duration": 8,
    "start_time": "2023-12-01T09:17:34.806Z"
   },
   {
    "duration": 8,
    "start_time": "2023-12-01T09:17:36.106Z"
   },
   {
    "duration": 7,
    "start_time": "2023-12-01T09:17:50.340Z"
   },
   {
    "duration": 88,
    "start_time": "2023-12-01T09:19:40.973Z"
   },
   {
    "duration": 11,
    "start_time": "2023-12-01T09:23:07.997Z"
   },
   {
    "duration": 6,
    "start_time": "2023-12-01T09:23:09.221Z"
   },
   {
    "duration": 13,
    "start_time": "2023-12-01T09:23:11.582Z"
   },
   {
    "duration": 8,
    "start_time": "2023-12-01T09:23:13.419Z"
   },
   {
    "duration": 16,
    "start_time": "2023-12-01T09:23:15.147Z"
   },
   {
    "duration": 6,
    "start_time": "2023-12-01T09:23:16.591Z"
   },
   {
    "duration": 11,
    "start_time": "2023-12-01T09:27:20.108Z"
   },
   {
    "duration": 23,
    "start_time": "2023-12-01T09:27:24.965Z"
   },
   {
    "duration": 19,
    "start_time": "2023-12-01T09:28:19.521Z"
   },
   {
    "duration": 10,
    "start_time": "2023-12-01T09:30:38.769Z"
   },
   {
    "duration": 635,
    "start_time": "2023-12-01T09:30:59.737Z"
   },
   {
    "duration": 239,
    "start_time": "2023-12-01T09:31:16.172Z"
   },
   {
    "duration": 332,
    "start_time": "2023-12-01T09:31:32.587Z"
   },
   {
    "duration": 473,
    "start_time": "2023-12-01T09:31:48.717Z"
   },
   {
    "duration": 410,
    "start_time": "2023-12-01T09:31:54.583Z"
   },
   {
    "duration": 323,
    "start_time": "2023-12-01T09:32:01.631Z"
   },
   {
    "duration": 375,
    "start_time": "2023-12-01T09:32:08.772Z"
   },
   {
    "duration": 418,
    "start_time": "2023-12-01T09:32:22.086Z"
   },
   {
    "duration": 78,
    "start_time": "2023-12-01T09:32:24.742Z"
   },
   {
    "duration": 410,
    "start_time": "2023-12-01T09:32:27.314Z"
   },
   {
    "duration": 84,
    "start_time": "2023-12-01T09:32:35.608Z"
   },
   {
    "duration": 7,
    "start_time": "2023-12-01T09:32:38.915Z"
   },
   {
    "duration": 276,
    "start_time": "2023-12-01T09:32:44.891Z"
   },
   {
    "duration": 365,
    "start_time": "2023-12-01T09:32:55.126Z"
   },
   {
    "duration": 291,
    "start_time": "2023-12-01T09:33:02.059Z"
   },
   {
    "duration": 290,
    "start_time": "2023-12-01T09:33:15.853Z"
   },
   {
    "duration": 449,
    "start_time": "2023-12-01T09:34:37.884Z"
   },
   {
    "duration": 100,
    "start_time": "2023-12-01T09:34:41.729Z"
   },
   {
    "duration": 80,
    "start_time": "2023-12-01T09:35:21.558Z"
   },
   {
    "duration": 6,
    "start_time": "2023-12-01T10:05:33.506Z"
   },
   {
    "duration": 6,
    "start_time": "2023-12-01T10:05:39.463Z"
   },
   {
    "duration": 7,
    "start_time": "2023-12-01T10:08:26.581Z"
   },
   {
    "duration": 6,
    "start_time": "2023-12-01T10:09:39.702Z"
   },
   {
    "duration": 8,
    "start_time": "2023-12-01T10:09:40.803Z"
   },
   {
    "duration": 5,
    "start_time": "2023-12-01T10:10:39.877Z"
   },
   {
    "duration": 6,
    "start_time": "2023-12-01T10:10:45.170Z"
   },
   {
    "duration": 7,
    "start_time": "2023-12-01T10:11:01.212Z"
   },
   {
    "duration": 7,
    "start_time": "2023-12-01T10:12:09.660Z"
   },
   {
    "duration": 9,
    "start_time": "2023-12-01T10:12:28.338Z"
   },
   {
    "duration": 430,
    "start_time": "2023-12-01T10:12:36.098Z"
   },
   {
    "duration": 68,
    "start_time": "2023-12-01T10:12:36.530Z"
   },
   {
    "duration": 14,
    "start_time": "2023-12-01T10:12:36.600Z"
   },
   {
    "duration": 16,
    "start_time": "2023-12-01T10:12:36.616Z"
   },
   {
    "duration": 8,
    "start_time": "2023-12-01T10:12:36.634Z"
   },
   {
    "duration": 12,
    "start_time": "2023-12-01T10:12:36.644Z"
   },
   {
    "duration": 13,
    "start_time": "2023-12-01T10:12:36.658Z"
   },
   {
    "duration": 35,
    "start_time": "2023-12-01T10:12:36.673Z"
   },
   {
    "duration": 20,
    "start_time": "2023-12-01T10:12:36.710Z"
   },
   {
    "duration": 10,
    "start_time": "2023-12-01T10:12:36.732Z"
   },
   {
    "duration": 459,
    "start_time": "2023-12-01T10:12:36.744Z"
   },
   {
    "duration": 0,
    "start_time": "2023-12-01T10:12:37.207Z"
   },
   {
    "duration": 0,
    "start_time": "2023-12-01T10:12:37.208Z"
   },
   {
    "duration": 0,
    "start_time": "2023-12-01T10:12:37.209Z"
   },
   {
    "duration": 0,
    "start_time": "2023-12-01T10:12:37.210Z"
   },
   {
    "duration": 0,
    "start_time": "2023-12-01T10:12:37.211Z"
   },
   {
    "duration": 0,
    "start_time": "2023-12-01T10:12:37.213Z"
   },
   {
    "duration": 0,
    "start_time": "2023-12-01T10:12:37.214Z"
   },
   {
    "duration": 298,
    "start_time": "2023-12-01T10:13:45.123Z"
   },
   {
    "duration": 382,
    "start_time": "2023-12-01T10:13:50.296Z"
   },
   {
    "duration": 6,
    "start_time": "2023-12-01T10:13:54.606Z"
   },
   {
    "duration": 12,
    "start_time": "2023-12-01T10:13:55.044Z"
   },
   {
    "duration": 14,
    "start_time": "2023-12-01T10:13:57.245Z"
   },
   {
    "duration": 11,
    "start_time": "2023-12-01T10:14:03.761Z"
   },
   {
    "duration": 7,
    "start_time": "2023-12-01T10:14:48.708Z"
   },
   {
    "duration": 7,
    "start_time": "2023-12-01T10:14:50.419Z"
   },
   {
    "duration": 8,
    "start_time": "2023-12-01T10:19:24.074Z"
   },
   {
    "duration": 8,
    "start_time": "2023-12-01T10:20:45.545Z"
   },
   {
    "duration": 6,
    "start_time": "2023-12-01T10:22:03.497Z"
   },
   {
    "duration": 6,
    "start_time": "2023-12-01T10:22:12.673Z"
   },
   {
    "duration": 17,
    "start_time": "2023-12-01T10:22:16.537Z"
   },
   {
    "duration": 5,
    "start_time": "2023-12-01T10:25:35.989Z"
   },
   {
    "duration": 9,
    "start_time": "2023-12-01T10:31:18.924Z"
   },
   {
    "duration": 8,
    "start_time": "2023-12-01T10:31:31.863Z"
   },
   {
    "duration": 9,
    "start_time": "2023-12-01T10:31:34.174Z"
   },
   {
    "duration": 32,
    "start_time": "2023-12-01T10:31:45.889Z"
   },
   {
    "duration": 10,
    "start_time": "2023-12-01T10:31:52.972Z"
   },
   {
    "duration": 11,
    "start_time": "2023-12-01T10:32:04.162Z"
   },
   {
    "duration": 8,
    "start_time": "2023-12-01T10:32:10.742Z"
   },
   {
    "duration": 68,
    "start_time": "2023-12-01T10:32:39.888Z"
   },
   {
    "duration": 95,
    "start_time": "2023-12-01T10:33:15.563Z"
   },
   {
    "duration": 9,
    "start_time": "2023-12-01T10:41:49.393Z"
   },
   {
    "duration": 92,
    "start_time": "2023-12-01T10:44:25.719Z"
   },
   {
    "duration": 87,
    "start_time": "2023-12-01T10:44:28.257Z"
   },
   {
    "duration": 80,
    "start_time": "2023-12-01T10:59:02.133Z"
   },
   {
    "duration": 8,
    "start_time": "2023-12-01T11:00:02.593Z"
   },
   {
    "duration": 6,
    "start_time": "2023-12-01T11:00:27.926Z"
   },
   {
    "duration": 10,
    "start_time": "2023-12-01T11:00:40.672Z"
   },
   {
    "duration": 9,
    "start_time": "2023-12-01T11:00:47.286Z"
   },
   {
    "duration": 147,
    "start_time": "2023-12-01T11:05:40.310Z"
   },
   {
    "duration": 120,
    "start_time": "2023-12-01T11:08:02.263Z"
   },
   {
    "duration": 162,
    "start_time": "2023-12-01T11:10:02.020Z"
   },
   {
    "duration": 171,
    "start_time": "2023-12-01T11:10:33.033Z"
   },
   {
    "duration": 16,
    "start_time": "2023-12-01T11:12:25.466Z"
   },
   {
    "duration": 191,
    "start_time": "2023-12-01T11:13:43.064Z"
   },
   {
    "duration": 223,
    "start_time": "2023-12-01T11:13:45.786Z"
   },
   {
    "duration": 191,
    "start_time": "2023-12-01T11:13:55.423Z"
   },
   {
    "duration": 169,
    "start_time": "2023-12-01T11:14:02.450Z"
   },
   {
    "duration": 203,
    "start_time": "2023-12-01T11:14:08.605Z"
   },
   {
    "duration": 170,
    "start_time": "2023-12-01T11:14:23.040Z"
   },
   {
    "duration": 214,
    "start_time": "2023-12-01T11:14:28.657Z"
   },
   {
    "duration": 277,
    "start_time": "2023-12-01T11:14:37.603Z"
   },
   {
    "duration": 190,
    "start_time": "2023-12-01T11:14:46.224Z"
   },
   {
    "duration": 184,
    "start_time": "2023-12-01T11:14:53.756Z"
   },
   {
    "duration": 189,
    "start_time": "2023-12-01T11:14:58.896Z"
   },
   {
    "duration": 191,
    "start_time": "2023-12-01T11:15:14.187Z"
   },
   {
    "duration": 194,
    "start_time": "2023-12-01T11:15:31.812Z"
   },
   {
    "duration": 190,
    "start_time": "2023-12-01T11:16:10.258Z"
   },
   {
    "duration": 444,
    "start_time": "2023-12-01T11:18:29.682Z"
   },
   {
    "duration": 68,
    "start_time": "2023-12-01T11:18:30.128Z"
   },
   {
    "duration": 17,
    "start_time": "2023-12-01T11:18:30.198Z"
   },
   {
    "duration": 39,
    "start_time": "2023-12-01T11:18:30.217Z"
   },
   {
    "duration": 27,
    "start_time": "2023-12-01T11:18:30.259Z"
   },
   {
    "duration": 43,
    "start_time": "2023-12-01T11:18:30.288Z"
   },
   {
    "duration": 64,
    "start_time": "2023-12-01T11:18:30.333Z"
   },
   {
    "duration": 35,
    "start_time": "2023-12-01T11:18:30.399Z"
   },
   {
    "duration": 42,
    "start_time": "2023-12-01T11:18:30.436Z"
   },
   {
    "duration": 17,
    "start_time": "2023-12-01T11:18:30.480Z"
   },
   {
    "duration": 575,
    "start_time": "2023-12-01T11:18:30.499Z"
   },
   {
    "duration": 428,
    "start_time": "2023-12-01T11:18:31.077Z"
   },
   {
    "duration": 6,
    "start_time": "2023-12-01T11:18:31.507Z"
   },
   {
    "duration": 56,
    "start_time": "2023-12-01T11:18:31.516Z"
   },
   {
    "duration": 70,
    "start_time": "2023-12-01T11:18:31.573Z"
   },
   {
    "duration": 128,
    "start_time": "2023-12-01T11:18:31.646Z"
   },
   {
    "duration": 34,
    "start_time": "2023-12-01T11:18:31.776Z"
   },
   {
    "duration": 27,
    "start_time": "2023-12-01T11:18:31.811Z"
   },
   {
    "duration": 64,
    "start_time": "2023-12-01T11:18:31.840Z"
   },
   {
    "duration": 88,
    "start_time": "2023-12-01T11:18:31.906Z"
   },
   {
    "duration": 47,
    "start_time": "2023-12-01T11:18:31.996Z"
   },
   {
    "duration": 27,
    "start_time": "2023-12-01T11:18:32.045Z"
   },
   {
    "duration": 37,
    "start_time": "2023-12-01T11:18:32.073Z"
   },
   {
    "duration": 22,
    "start_time": "2023-12-01T11:18:32.112Z"
   },
   {
    "duration": 28,
    "start_time": "2023-12-01T11:18:32.135Z"
   },
   {
    "duration": 198,
    "start_time": "2023-12-01T11:18:32.164Z"
   },
   {
    "duration": 195,
    "start_time": "2023-12-01T11:18:32.364Z"
   },
   {
    "duration": 197,
    "start_time": "2023-12-01T11:18:32.561Z"
   },
   {
    "duration": 210,
    "start_time": "2023-12-01T11:18:32.760Z"
   },
   {
    "duration": 211,
    "start_time": "2023-12-01T11:18:32.971Z"
   },
   {
    "duration": 428,
    "start_time": "2023-12-01T11:24:11.999Z"
   },
   {
    "duration": 67,
    "start_time": "2023-12-01T11:24:12.429Z"
   },
   {
    "duration": 16,
    "start_time": "2023-12-01T11:24:12.498Z"
   },
   {
    "duration": 31,
    "start_time": "2023-12-01T11:24:12.516Z"
   },
   {
    "duration": 40,
    "start_time": "2023-12-01T11:24:12.550Z"
   },
   {
    "duration": 29,
    "start_time": "2023-12-01T11:24:12.592Z"
   },
   {
    "duration": 48,
    "start_time": "2023-12-01T11:24:12.623Z"
   },
   {
    "duration": 31,
    "start_time": "2023-12-01T11:24:12.673Z"
   },
   {
    "duration": 41,
    "start_time": "2023-12-01T11:24:12.706Z"
   },
   {
    "duration": 28,
    "start_time": "2023-12-01T11:24:12.749Z"
   },
   {
    "duration": 561,
    "start_time": "2023-12-01T11:24:12.779Z"
   },
   {
    "duration": 385,
    "start_time": "2023-12-01T11:24:13.342Z"
   },
   {
    "duration": 7,
    "start_time": "2023-12-01T11:24:13.729Z"
   },
   {
    "duration": 27,
    "start_time": "2023-12-01T11:24:13.739Z"
   },
   {
    "duration": 17,
    "start_time": "2023-12-01T11:24:13.768Z"
   },
   {
    "duration": 5,
    "start_time": "2023-12-01T11:24:13.786Z"
   },
   {
    "duration": 15,
    "start_time": "2023-12-01T11:24:13.792Z"
   },
   {
    "duration": 12,
    "start_time": "2023-12-01T11:24:13.809Z"
   },
   {
    "duration": 6,
    "start_time": "2023-12-01T11:24:13.823Z"
   },
   {
    "duration": 6,
    "start_time": "2023-12-01T11:24:13.830Z"
   },
   {
    "duration": 23,
    "start_time": "2023-12-01T11:24:13.838Z"
   },
   {
    "duration": 9,
    "start_time": "2023-12-01T11:24:13.862Z"
   },
   {
    "duration": 11,
    "start_time": "2023-12-01T11:24:13.873Z"
   },
   {
    "duration": 23,
    "start_time": "2023-12-01T11:24:13.885Z"
   },
   {
    "duration": 9,
    "start_time": "2023-12-01T11:24:13.909Z"
   },
   {
    "duration": 157,
    "start_time": "2023-12-01T11:24:13.920Z"
   },
   {
    "duration": 196,
    "start_time": "2023-12-01T11:24:14.079Z"
   },
   {
    "duration": 176,
    "start_time": "2023-12-01T11:24:14.277Z"
   },
   {
    "duration": 196,
    "start_time": "2023-12-01T11:24:14.455Z"
   },
   {
    "duration": 212,
    "start_time": "2023-12-01T11:24:14.653Z"
   },
   {
    "duration": 197,
    "start_time": "2023-12-01T11:25:25.086Z"
   },
   {
    "duration": 192,
    "start_time": "2023-12-01T11:26:10.434Z"
   },
   {
    "duration": 201,
    "start_time": "2023-12-01T11:26:16.013Z"
   },
   {
    "duration": 14,
    "start_time": "2023-12-01T11:26:48.394Z"
   },
   {
    "duration": 15,
    "start_time": "2023-12-01T11:27:02.380Z"
   },
   {
    "duration": 14,
    "start_time": "2023-12-01T11:27:07.345Z"
   },
   {
    "duration": 77,
    "start_time": "2023-12-01T11:28:30.381Z"
   },
   {
    "duration": 15,
    "start_time": "2023-12-01T11:28:39.068Z"
   },
   {
    "duration": 15,
    "start_time": "2023-12-01T11:28:52.554Z"
   },
   {
    "duration": 16,
    "start_time": "2023-12-01T11:28:57.505Z"
   },
   {
    "duration": 16,
    "start_time": "2023-12-01T11:29:08.686Z"
   },
   {
    "duration": 24,
    "start_time": "2023-12-01T11:29:15.490Z"
   },
   {
    "duration": 15,
    "start_time": "2023-12-01T11:29:24.515Z"
   },
   {
    "duration": 15,
    "start_time": "2023-12-01T11:29:40.075Z"
   },
   {
    "duration": 17,
    "start_time": "2023-12-01T11:35:03.168Z"
   },
   {
    "duration": 18,
    "start_time": "2023-12-01T11:35:08.835Z"
   },
   {
    "duration": 17,
    "start_time": "2023-12-01T11:35:40.696Z"
   },
   {
    "duration": 217,
    "start_time": "2023-12-01T11:35:58.707Z"
   },
   {
    "duration": 11,
    "start_time": "2023-12-01T11:36:20.157Z"
   },
   {
    "duration": 11,
    "start_time": "2023-12-01T11:38:29.579Z"
   },
   {
    "duration": 11,
    "start_time": "2023-12-01T11:40:28.621Z"
   },
   {
    "duration": 8,
    "start_time": "2023-12-01T11:40:44.591Z"
   },
   {
    "duration": 11,
    "start_time": "2023-12-01T11:41:02.365Z"
   },
   {
    "duration": 10,
    "start_time": "2023-12-01T11:41:08.431Z"
   },
   {
    "duration": 15,
    "start_time": "2023-12-01T11:41:44.488Z"
   },
   {
    "duration": 13,
    "start_time": "2023-12-01T11:42:16.613Z"
   },
   {
    "duration": 5,
    "start_time": "2023-12-01T11:42:55.877Z"
   },
   {
    "duration": 11,
    "start_time": "2023-12-01T11:44:37.922Z"
   },
   {
    "duration": 1899,
    "start_time": "2023-12-01T11:45:02.820Z"
   },
   {
    "duration": 1384,
    "start_time": "2023-12-01T11:45:17.009Z"
   },
   {
    "duration": 9,
    "start_time": "2023-12-01T11:45:25.568Z"
   },
   {
    "duration": 12,
    "start_time": "2023-12-01T11:46:20.153Z"
   },
   {
    "duration": 10,
    "start_time": "2023-12-01T11:48:46.620Z"
   },
   {
    "duration": 79,
    "start_time": "2023-12-01T11:48:55.829Z"
   },
   {
    "duration": 12,
    "start_time": "2023-12-01T11:49:00.037Z"
   },
   {
    "duration": 16,
    "start_time": "2023-12-01T11:49:06.994Z"
   },
   {
    "duration": 458,
    "start_time": "2023-12-01T11:51:06.565Z"
   },
   {
    "duration": 487,
    "start_time": "2023-12-01T11:51:24.221Z"
   },
   {
    "duration": 479,
    "start_time": "2023-12-01T11:52:25.674Z"
   },
   {
    "duration": 513,
    "start_time": "2023-12-01T11:52:59.395Z"
   },
   {
    "duration": 422,
    "start_time": "2023-12-01T11:53:16.230Z"
   },
   {
    "duration": 1428,
    "start_time": "2023-12-01T11:54:19.514Z"
   },
   {
    "duration": 1346,
    "start_time": "2023-12-01T11:54:33.504Z"
   },
   {
    "duration": 83,
    "start_time": "2023-12-01T11:55:06.166Z"
   },
   {
    "duration": 79,
    "start_time": "2023-12-01T11:55:11.115Z"
   },
   {
    "duration": 132,
    "start_time": "2023-12-01T11:55:16.140Z"
   },
   {
    "duration": 113,
    "start_time": "2023-12-01T12:01:02.713Z"
   },
   {
    "duration": 132,
    "start_time": "2023-12-01T12:01:13.408Z"
   },
   {
    "duration": 89,
    "start_time": "2023-12-01T12:01:22.518Z"
   },
   {
    "duration": 99,
    "start_time": "2023-12-01T12:02:45.378Z"
   },
   {
    "duration": 148,
    "start_time": "2023-12-01T12:03:25.572Z"
   },
   {
    "duration": 116,
    "start_time": "2023-12-01T12:06:47.349Z"
   },
   {
    "duration": 112,
    "start_time": "2023-12-01T12:06:50.565Z"
   },
   {
    "duration": 7,
    "start_time": "2023-12-01T12:06:53.299Z"
   },
   {
    "duration": 6,
    "start_time": "2023-12-01T12:07:03.057Z"
   },
   {
    "duration": 6,
    "start_time": "2023-12-01T12:07:09.912Z"
   },
   {
    "duration": 11,
    "start_time": "2023-12-01T12:07:19.621Z"
   },
   {
    "duration": 6,
    "start_time": "2023-12-01T12:08:44.222Z"
   },
   {
    "duration": 6,
    "start_time": "2023-12-01T12:09:09.600Z"
   },
   {
    "duration": 6,
    "start_time": "2023-12-01T12:09:49.010Z"
   },
   {
    "duration": 6,
    "start_time": "2023-12-01T12:10:27.980Z"
   },
   {
    "duration": 440,
    "start_time": "2023-12-01T12:10:52.574Z"
   },
   {
    "duration": 12,
    "start_time": "2023-12-01T12:11:48.186Z"
   },
   {
    "duration": 12,
    "start_time": "2023-12-01T12:12:10.474Z"
   },
   {
    "duration": 5,
    "start_time": "2023-12-01T12:17:15.186Z"
   },
   {
    "duration": 17,
    "start_time": "2023-12-01T12:18:46.755Z"
   },
   {
    "duration": 13,
    "start_time": "2023-12-01T12:19:02.291Z"
   },
   {
    "duration": 13,
    "start_time": "2023-12-01T12:19:09.621Z"
   },
   {
    "duration": 13,
    "start_time": "2023-12-01T12:21:12.100Z"
   },
   {
    "duration": 6,
    "start_time": "2023-12-01T12:21:23.720Z"
   },
   {
    "duration": 7,
    "start_time": "2023-12-01T12:26:31.920Z"
   },
   {
    "duration": 8,
    "start_time": "2023-12-01T12:26:39.652Z"
   },
   {
    "duration": 10,
    "start_time": "2023-12-01T12:27:03.231Z"
   },
   {
    "duration": 1209,
    "start_time": "2023-12-01T12:27:30.845Z"
   },
   {
    "duration": 9,
    "start_time": "2023-12-01T12:27:38.741Z"
   },
   {
    "duration": 9,
    "start_time": "2023-12-01T12:28:11.130Z"
   },
   {
    "duration": 6,
    "start_time": "2023-12-01T12:32:26.845Z"
   },
   {
    "duration": 4,
    "start_time": "2023-12-01T12:32:36.305Z"
   },
   {
    "duration": 6,
    "start_time": "2023-12-01T12:32:39.551Z"
   },
   {
    "duration": 59,
    "start_time": "2023-12-02T06:54:35.422Z"
   },
   {
    "duration": 414,
    "start_time": "2023-12-02T06:54:41.442Z"
   },
   {
    "duration": 187,
    "start_time": "2023-12-02T06:54:41.858Z"
   },
   {
    "duration": 14,
    "start_time": "2023-12-02T06:54:42.046Z"
   },
   {
    "duration": 10,
    "start_time": "2023-12-02T06:54:42.061Z"
   },
   {
    "duration": 8,
    "start_time": "2023-12-02T06:54:42.073Z"
   },
   {
    "duration": 12,
    "start_time": "2023-12-02T06:54:42.082Z"
   },
   {
    "duration": 19,
    "start_time": "2023-12-02T06:54:42.095Z"
   },
   {
    "duration": 37,
    "start_time": "2023-12-02T06:54:42.116Z"
   },
   {
    "duration": 28,
    "start_time": "2023-12-02T06:54:42.155Z"
   },
   {
    "duration": 13,
    "start_time": "2023-12-02T06:54:42.184Z"
   },
   {
    "duration": 722,
    "start_time": "2023-12-02T06:54:42.199Z"
   },
   {
    "duration": 389,
    "start_time": "2023-12-02T06:54:42.924Z"
   },
   {
    "duration": 9,
    "start_time": "2023-12-02T06:54:43.314Z"
   },
   {
    "duration": 22,
    "start_time": "2023-12-02T06:54:43.328Z"
   },
   {
    "duration": 16,
    "start_time": "2023-12-02T06:54:43.351Z"
   },
   {
    "duration": 7,
    "start_time": "2023-12-02T06:54:43.368Z"
   },
   {
    "duration": 5,
    "start_time": "2023-12-02T06:54:43.377Z"
   },
   {
    "duration": 94,
    "start_time": "2023-12-02T06:54:43.384Z"
   },
   {
    "duration": 8,
    "start_time": "2023-12-02T06:54:43.479Z"
   },
   {
    "duration": 16,
    "start_time": "2023-12-02T06:54:43.489Z"
   },
   {
    "duration": 8,
    "start_time": "2023-12-02T06:54:43.507Z"
   },
   {
    "duration": 8,
    "start_time": "2023-12-02T06:54:43.517Z"
   },
   {
    "duration": 26,
    "start_time": "2023-12-02T06:54:43.526Z"
   },
   {
    "duration": 5,
    "start_time": "2023-12-02T06:54:43.554Z"
   },
   {
    "duration": 9,
    "start_time": "2023-12-02T06:54:43.560Z"
   },
   {
    "duration": 7,
    "start_time": "2023-12-02T06:54:43.570Z"
   },
   {
    "duration": 168,
    "start_time": "2023-12-02T06:54:43.579Z"
   },
   {
    "duration": 160,
    "start_time": "2023-12-02T06:54:43.749Z"
   },
   {
    "duration": 5,
    "start_time": "2023-12-02T06:54:43.911Z"
   },
   {
    "duration": 127,
    "start_time": "2023-12-02T06:54:43.918Z"
   },
   {
    "duration": 102,
    "start_time": "2023-12-02T06:54:44.046Z"
   },
   {
    "duration": 9,
    "start_time": "2023-12-02T06:54:44.149Z"
   },
   {
    "duration": 181,
    "start_time": "2023-12-02T06:54:44.159Z"
   },
   {
    "duration": 8,
    "start_time": "2023-12-02T06:54:44.341Z"
   },
   {
    "duration": 206,
    "start_time": "2023-12-02T06:54:44.351Z"
   },
   {
    "duration": 12,
    "start_time": "2023-12-02T06:54:44.559Z"
   },
   {
    "duration": 19,
    "start_time": "2023-12-02T06:54:44.573Z"
   },
   {
    "duration": 5,
    "start_time": "2023-12-02T06:54:44.594Z"
   },
   {
    "duration": 8,
    "start_time": "2023-12-02T06:54:44.600Z"
   },
   {
    "duration": 200,
    "start_time": "2023-12-02T06:54:44.610Z"
   },
   {
    "duration": 7,
    "start_time": "2023-12-02T06:54:44.814Z"
   },
   {
    "duration": 13,
    "start_time": "2023-12-02T06:58:35.919Z"
   },
   {
    "duration": 6,
    "start_time": "2023-12-02T06:59:52.220Z"
   },
   {
    "duration": 6,
    "start_time": "2023-12-02T07:00:06.410Z"
   },
   {
    "duration": 701,
    "start_time": "2023-12-02T07:01:49.560Z"
   },
   {
    "duration": 6,
    "start_time": "2023-12-02T07:02:15.255Z"
   },
   {
    "duration": 5,
    "start_time": "2023-12-02T07:02:27.830Z"
   },
   {
    "duration": 7,
    "start_time": "2023-12-02T07:02:31.200Z"
   },
   {
    "duration": 5,
    "start_time": "2023-12-02T07:16:27.030Z"
   },
   {
    "duration": 6,
    "start_time": "2023-12-02T07:16:34.831Z"
   },
   {
    "duration": 440,
    "start_time": "2023-12-02T07:17:52.527Z"
   },
   {
    "duration": 66,
    "start_time": "2023-12-02T07:17:52.969Z"
   },
   {
    "duration": 15,
    "start_time": "2023-12-02T07:17:53.037Z"
   },
   {
    "duration": 40,
    "start_time": "2023-12-02T07:17:53.053Z"
   },
   {
    "duration": 12,
    "start_time": "2023-12-02T07:17:53.095Z"
   },
   {
    "duration": 47,
    "start_time": "2023-12-02T07:17:53.109Z"
   },
   {
    "duration": 33,
    "start_time": "2023-12-02T07:17:53.158Z"
   },
   {
    "duration": 24,
    "start_time": "2023-12-02T07:17:53.193Z"
   },
   {
    "duration": 19,
    "start_time": "2023-12-02T07:17:53.218Z"
   },
   {
    "duration": 10,
    "start_time": "2023-12-02T07:17:53.239Z"
   },
   {
    "duration": 501,
    "start_time": "2023-12-02T07:17:53.251Z"
   },
   {
    "duration": 380,
    "start_time": "2023-12-02T07:17:53.754Z"
   },
   {
    "duration": 10,
    "start_time": "2023-12-02T07:17:54.136Z"
   },
   {
    "duration": 22,
    "start_time": "2023-12-02T07:17:54.147Z"
   },
   {
    "duration": 23,
    "start_time": "2023-12-02T07:17:54.170Z"
   },
   {
    "duration": 6,
    "start_time": "2023-12-02T07:17:54.195Z"
   },
   {
    "duration": 7,
    "start_time": "2023-12-02T07:17:54.202Z"
   },
   {
    "duration": 8,
    "start_time": "2023-12-02T07:17:54.211Z"
   },
   {
    "duration": 22,
    "start_time": "2023-12-02T07:17:54.221Z"
   },
   {
    "duration": 4,
    "start_time": "2023-12-02T07:17:54.245Z"
   },
   {
    "duration": 7,
    "start_time": "2023-12-02T07:17:54.251Z"
   },
   {
    "duration": 21,
    "start_time": "2023-12-02T07:17:54.260Z"
   },
   {
    "duration": 10,
    "start_time": "2023-12-02T07:17:54.282Z"
   },
   {
    "duration": 5,
    "start_time": "2023-12-02T07:17:54.293Z"
   },
   {
    "duration": 9,
    "start_time": "2023-12-02T07:17:54.300Z"
   },
   {
    "duration": 33,
    "start_time": "2023-12-02T07:17:54.311Z"
   },
   {
    "duration": 155,
    "start_time": "2023-12-02T07:17:54.346Z"
   },
   {
    "duration": 210,
    "start_time": "2023-12-02T07:17:54.505Z"
   },
   {
    "duration": 6,
    "start_time": "2023-12-02T07:17:54.717Z"
   },
   {
    "duration": 130,
    "start_time": "2023-12-02T07:17:54.725Z"
   },
   {
    "duration": 100,
    "start_time": "2023-12-02T07:17:54.857Z"
   },
   {
    "duration": 7,
    "start_time": "2023-12-02T07:17:54.958Z"
   },
   {
    "duration": 187,
    "start_time": "2023-12-02T07:17:54.967Z"
   },
   {
    "duration": 8,
    "start_time": "2023-12-02T07:17:55.155Z"
   },
   {
    "duration": 187,
    "start_time": "2023-12-02T07:17:55.164Z"
   },
   {
    "duration": 12,
    "start_time": "2023-12-02T07:17:55.353Z"
   },
   {
    "duration": 8,
    "start_time": "2023-12-02T07:17:55.366Z"
   },
   {
    "duration": 4,
    "start_time": "2023-12-02T07:17:55.376Z"
   },
   {
    "duration": 8,
    "start_time": "2023-12-02T07:17:55.381Z"
   },
   {
    "duration": 24,
    "start_time": "2023-12-02T07:17:55.390Z"
   },
   {
    "duration": 188,
    "start_time": "2023-12-02T07:17:55.415Z"
   },
   {
    "duration": 9,
    "start_time": "2023-12-02T07:17:55.604Z"
   },
   {
    "duration": 6,
    "start_time": "2023-12-02T07:18:35.784Z"
   },
   {
    "duration": 421,
    "start_time": "2023-12-02T07:18:41.527Z"
   },
   {
    "duration": 66,
    "start_time": "2023-12-02T07:18:41.950Z"
   },
   {
    "duration": 14,
    "start_time": "2023-12-02T07:18:42.018Z"
   },
   {
    "duration": 15,
    "start_time": "2023-12-02T07:18:42.034Z"
   },
   {
    "duration": 22,
    "start_time": "2023-12-02T07:18:42.051Z"
   },
   {
    "duration": 11,
    "start_time": "2023-12-02T07:18:42.075Z"
   },
   {
    "duration": 65,
    "start_time": "2023-12-02T07:18:42.088Z"
   },
   {
    "duration": 13,
    "start_time": "2023-12-02T07:18:42.155Z"
   },
   {
    "duration": 46,
    "start_time": "2023-12-02T07:18:42.170Z"
   },
   {
    "duration": 12,
    "start_time": "2023-12-02T07:18:42.218Z"
   },
   {
    "duration": 506,
    "start_time": "2023-12-02T07:18:42.232Z"
   },
   {
    "duration": 393,
    "start_time": "2023-12-02T07:18:42.739Z"
   },
   {
    "duration": 7,
    "start_time": "2023-12-02T07:18:43.141Z"
   },
   {
    "duration": 8,
    "start_time": "2023-12-02T07:18:43.150Z"
   },
   {
    "duration": 12,
    "start_time": "2023-12-02T07:18:43.160Z"
   },
   {
    "duration": 4,
    "start_time": "2023-12-02T07:18:43.174Z"
   },
   {
    "duration": 6,
    "start_time": "2023-12-02T07:18:43.179Z"
   },
   {
    "duration": 7,
    "start_time": "2023-12-02T07:18:43.187Z"
   },
   {
    "duration": 6,
    "start_time": "2023-12-02T07:18:43.195Z"
   },
   {
    "duration": 43,
    "start_time": "2023-12-02T07:18:43.203Z"
   },
   {
    "duration": 7,
    "start_time": "2023-12-02T07:18:43.248Z"
   },
   {
    "duration": 16,
    "start_time": "2023-12-02T07:18:43.257Z"
   },
   {
    "duration": 11,
    "start_time": "2023-12-02T07:18:43.275Z"
   },
   {
    "duration": 5,
    "start_time": "2023-12-02T07:18:43.288Z"
   },
   {
    "duration": 10,
    "start_time": "2023-12-02T07:18:43.295Z"
   },
   {
    "duration": 40,
    "start_time": "2023-12-02T07:18:43.307Z"
   },
   {
    "duration": 158,
    "start_time": "2023-12-02T07:18:43.349Z"
   },
   {
    "duration": 202,
    "start_time": "2023-12-02T07:18:43.509Z"
   },
   {
    "duration": 5,
    "start_time": "2023-12-02T07:18:43.713Z"
   },
   {
    "duration": 132,
    "start_time": "2023-12-02T07:18:43.719Z"
   },
   {
    "duration": 102,
    "start_time": "2023-12-02T07:18:43.852Z"
   },
   {
    "duration": 7,
    "start_time": "2023-12-02T07:18:43.956Z"
   },
   {
    "duration": 172,
    "start_time": "2023-12-02T07:18:43.964Z"
   },
   {
    "duration": 9,
    "start_time": "2023-12-02T07:18:44.141Z"
   },
   {
    "duration": 198,
    "start_time": "2023-12-02T07:18:44.151Z"
   },
   {
    "duration": 12,
    "start_time": "2023-12-02T07:18:44.351Z"
   },
   {
    "duration": 13,
    "start_time": "2023-12-02T07:18:44.365Z"
   },
   {
    "duration": 13,
    "start_time": "2023-12-02T07:18:44.379Z"
   },
   {
    "duration": 26,
    "start_time": "2023-12-02T07:18:44.394Z"
   },
   {
    "duration": 13,
    "start_time": "2023-12-02T07:18:44.422Z"
   },
   {
    "duration": 198,
    "start_time": "2023-12-02T07:18:44.439Z"
   },
   {
    "duration": 8,
    "start_time": "2023-12-02T07:18:44.639Z"
   },
   {
    "duration": 9,
    "start_time": "2023-12-02T07:21:17.681Z"
   },
   {
    "duration": 422,
    "start_time": "2023-12-02T07:21:23.250Z"
   },
   {
    "duration": 69,
    "start_time": "2023-12-02T07:21:23.674Z"
   },
   {
    "duration": 19,
    "start_time": "2023-12-02T07:21:23.745Z"
   },
   {
    "duration": 13,
    "start_time": "2023-12-02T07:21:23.765Z"
   },
   {
    "duration": 8,
    "start_time": "2023-12-02T07:21:23.780Z"
   },
   {
    "duration": 12,
    "start_time": "2023-12-02T07:21:23.789Z"
   },
   {
    "duration": 17,
    "start_time": "2023-12-02T07:21:23.802Z"
   },
   {
    "duration": 32,
    "start_time": "2023-12-02T07:21:23.820Z"
   },
   {
    "duration": 19,
    "start_time": "2023-12-02T07:21:23.853Z"
   },
   {
    "duration": 9,
    "start_time": "2023-12-02T07:21:23.874Z"
   },
   {
    "duration": 516,
    "start_time": "2023-12-02T07:21:23.885Z"
   },
   {
    "duration": 374,
    "start_time": "2023-12-02T07:21:24.402Z"
   },
   {
    "duration": 6,
    "start_time": "2023-12-02T07:21:24.777Z"
   },
   {
    "duration": 15,
    "start_time": "2023-12-02T07:21:24.786Z"
   },
   {
    "duration": 14,
    "start_time": "2023-12-02T07:21:24.802Z"
   },
   {
    "duration": 28,
    "start_time": "2023-12-02T07:21:24.817Z"
   },
   {
    "duration": 7,
    "start_time": "2023-12-02T07:21:24.847Z"
   },
   {
    "duration": 13,
    "start_time": "2023-12-02T07:21:24.855Z"
   },
   {
    "duration": 6,
    "start_time": "2023-12-02T07:21:24.870Z"
   },
   {
    "duration": 10,
    "start_time": "2023-12-02T07:21:24.877Z"
   },
   {
    "duration": 7,
    "start_time": "2023-12-02T07:21:24.888Z"
   },
   {
    "duration": 7,
    "start_time": "2023-12-02T07:21:24.897Z"
   },
   {
    "duration": 40,
    "start_time": "2023-12-02T07:21:24.906Z"
   },
   {
    "duration": 5,
    "start_time": "2023-12-02T07:21:24.947Z"
   },
   {
    "duration": 14,
    "start_time": "2023-12-02T07:21:24.954Z"
   },
   {
    "duration": 10,
    "start_time": "2023-12-02T07:21:24.970Z"
   },
   {
    "duration": 184,
    "start_time": "2023-12-02T07:21:24.981Z"
   },
   {
    "duration": 199,
    "start_time": "2023-12-02T07:21:25.167Z"
   },
   {
    "duration": 6,
    "start_time": "2023-12-02T07:21:25.367Z"
   },
   {
    "duration": 128,
    "start_time": "2023-12-02T07:21:25.374Z"
   },
   {
    "duration": 103,
    "start_time": "2023-12-02T07:21:25.504Z"
   },
   {
    "duration": 10,
    "start_time": "2023-12-02T07:21:25.609Z"
   },
   {
    "duration": 187,
    "start_time": "2023-12-02T07:21:25.621Z"
   },
   {
    "duration": 8,
    "start_time": "2023-12-02T07:21:25.809Z"
   },
   {
    "duration": 220,
    "start_time": "2023-12-02T07:21:25.818Z"
   },
   {
    "duration": 12,
    "start_time": "2023-12-02T07:21:26.042Z"
   },
   {
    "duration": 13,
    "start_time": "2023-12-02T07:21:26.055Z"
   },
   {
    "duration": 5,
    "start_time": "2023-12-02T07:21:26.069Z"
   },
   {
    "duration": 26,
    "start_time": "2023-12-02T07:21:26.076Z"
   },
   {
    "duration": 8,
    "start_time": "2023-12-02T07:21:26.104Z"
   },
   {
    "duration": 179,
    "start_time": "2023-12-02T07:21:26.116Z"
   },
   {
    "duration": 7,
    "start_time": "2023-12-02T07:21:26.297Z"
   },
   {
    "duration": 2,
    "start_time": "2023-12-02T07:23:08.683Z"
   },
   {
    "duration": 188,
    "start_time": "2023-12-02T07:23:10.640Z"
   },
   {
    "duration": 5,
    "start_time": "2023-12-02T07:23:29.651Z"
   },
   {
    "duration": 170,
    "start_time": "2023-12-02T07:23:32.993Z"
   },
   {
    "duration": 4,
    "start_time": "2023-12-02T07:24:21.040Z"
   },
   {
    "duration": 177,
    "start_time": "2023-12-02T07:24:22.807Z"
   },
   {
    "duration": 3,
    "start_time": "2023-12-02T07:24:34.583Z"
   },
   {
    "duration": 160,
    "start_time": "2023-12-02T07:24:36.834Z"
   },
   {
    "duration": 8,
    "start_time": "2023-12-02T07:24:41.270Z"
   },
   {
    "duration": 387,
    "start_time": "2023-12-02T07:25:13.502Z"
   },
   {
    "duration": 65,
    "start_time": "2023-12-02T07:25:13.891Z"
   },
   {
    "duration": 14,
    "start_time": "2023-12-02T07:25:13.957Z"
   },
   {
    "duration": 8,
    "start_time": "2023-12-02T07:25:13.973Z"
   },
   {
    "duration": 7,
    "start_time": "2023-12-02T07:25:13.982Z"
   },
   {
    "duration": 10,
    "start_time": "2023-12-02T07:25:13.991Z"
   },
   {
    "duration": 14,
    "start_time": "2023-12-02T07:25:14.002Z"
   },
   {
    "duration": 28,
    "start_time": "2023-12-02T07:25:14.017Z"
   },
   {
    "duration": 19,
    "start_time": "2023-12-02T07:25:14.046Z"
   },
   {
    "duration": 9,
    "start_time": "2023-12-02T07:25:14.068Z"
   },
   {
    "duration": 494,
    "start_time": "2023-12-02T07:25:14.078Z"
   },
   {
    "duration": 392,
    "start_time": "2023-12-02T07:25:14.574Z"
   },
   {
    "duration": 5,
    "start_time": "2023-12-02T07:25:14.968Z"
   },
   {
    "duration": 21,
    "start_time": "2023-12-02T07:25:14.975Z"
   },
   {
    "duration": 14,
    "start_time": "2023-12-02T07:25:14.997Z"
   },
   {
    "duration": 72,
    "start_time": "2023-12-02T07:25:15.012Z"
   },
   {
    "duration": 18,
    "start_time": "2023-12-02T07:25:15.086Z"
   },
   {
    "duration": 31,
    "start_time": "2023-12-02T07:25:15.106Z"
   },
   {
    "duration": 26,
    "start_time": "2023-12-02T07:25:15.139Z"
   },
   {
    "duration": 42,
    "start_time": "2023-12-02T07:25:15.167Z"
   },
   {
    "duration": 37,
    "start_time": "2023-12-02T07:25:15.210Z"
   },
   {
    "duration": 18,
    "start_time": "2023-12-02T07:25:15.249Z"
   },
   {
    "duration": 37,
    "start_time": "2023-12-02T07:25:15.268Z"
   },
   {
    "duration": 15,
    "start_time": "2023-12-02T07:25:15.307Z"
   },
   {
    "duration": 12,
    "start_time": "2023-12-02T07:25:15.324Z"
   },
   {
    "duration": 11,
    "start_time": "2023-12-02T07:25:15.337Z"
   },
   {
    "duration": 168,
    "start_time": "2023-12-02T07:25:15.349Z"
   },
   {
    "duration": 216,
    "start_time": "2023-12-02T07:25:15.521Z"
   },
   {
    "duration": 6,
    "start_time": "2023-12-02T07:25:15.742Z"
   },
   {
    "duration": 145,
    "start_time": "2023-12-02T07:25:15.750Z"
   },
   {
    "duration": 96,
    "start_time": "2023-12-02T07:25:15.897Z"
   },
   {
    "duration": 7,
    "start_time": "2023-12-02T07:25:15.995Z"
   },
   {
    "duration": 187,
    "start_time": "2023-12-02T07:25:16.004Z"
   },
   {
    "duration": 9,
    "start_time": "2023-12-02T07:25:16.192Z"
   },
   {
    "duration": 201,
    "start_time": "2023-12-02T07:25:16.202Z"
   },
   {
    "duration": 12,
    "start_time": "2023-12-02T07:25:16.405Z"
   },
   {
    "duration": 22,
    "start_time": "2023-12-02T07:25:16.418Z"
   },
   {
    "duration": 13,
    "start_time": "2023-12-02T07:25:16.442Z"
   },
   {
    "duration": 20,
    "start_time": "2023-12-02T07:25:16.457Z"
   },
   {
    "duration": 13,
    "start_time": "2023-12-02T07:25:16.479Z"
   },
   {
    "duration": 199,
    "start_time": "2023-12-02T07:25:16.494Z"
   },
   {
    "duration": 197,
    "start_time": "2023-12-02T07:25:16.694Z"
   },
   {
    "duration": 13,
    "start_time": "2023-12-02T07:25:16.893Z"
   },
   {
    "duration": 2,
    "start_time": "2023-12-02T07:26:19.305Z"
   },
   {
    "duration": 188,
    "start_time": "2023-12-02T07:26:21.452Z"
   },
   {
    "duration": 10,
    "start_time": "2023-12-02T07:34:59.319Z"
   },
   {
    "duration": 11,
    "start_time": "2023-12-02T07:35:38.884Z"
   },
   {
    "duration": 10,
    "start_time": "2023-12-02T07:35:57.276Z"
   },
   {
    "duration": 10,
    "start_time": "2023-12-02T07:39:07.350Z"
   },
   {
    "duration": 10,
    "start_time": "2023-12-02T07:39:16.286Z"
   },
   {
    "duration": 9,
    "start_time": "2023-12-02T07:41:19.997Z"
   },
   {
    "duration": 11,
    "start_time": "2023-12-02T07:41:33.464Z"
   },
   {
    "duration": 10,
    "start_time": "2023-12-02T07:41:38.270Z"
   },
   {
    "duration": 11,
    "start_time": "2023-12-02T07:42:43.484Z"
   },
   {
    "duration": 13,
    "start_time": "2023-12-02T07:46:10.705Z"
   },
   {
    "duration": 13,
    "start_time": "2023-12-02T07:49:56.777Z"
   },
   {
    "duration": 73,
    "start_time": "2023-12-02T07:50:03.560Z"
   },
   {
    "duration": 11,
    "start_time": "2023-12-02T07:50:18.389Z"
   },
   {
    "duration": 12,
    "start_time": "2023-12-02T07:51:04.545Z"
   },
   {
    "duration": 13,
    "start_time": "2023-12-02T07:51:58.825Z"
   },
   {
    "duration": 12,
    "start_time": "2023-12-02T07:53:12.744Z"
   },
   {
    "duration": 11,
    "start_time": "2023-12-02T07:53:40.081Z"
   },
   {
    "duration": 13,
    "start_time": "2023-12-02T07:53:54.843Z"
   },
   {
    "duration": 12,
    "start_time": "2023-12-02T07:54:03.608Z"
   },
   {
    "duration": 12,
    "start_time": "2023-12-02T07:54:06.673Z"
   },
   {
    "duration": 12,
    "start_time": "2023-12-02T07:54:10.950Z"
   },
   {
    "duration": 12,
    "start_time": "2023-12-02T07:54:14.162Z"
   },
   {
    "duration": 12,
    "start_time": "2023-12-02T07:54:16.667Z"
   },
   {
    "duration": 12,
    "start_time": "2023-12-02T07:54:19.861Z"
   },
   {
    "duration": 11,
    "start_time": "2023-12-02T07:54:22.378Z"
   },
   {
    "duration": 11,
    "start_time": "2023-12-02T07:54:25.114Z"
   },
   {
    "duration": 9,
    "start_time": "2023-12-02T07:54:44.352Z"
   },
   {
    "duration": 384,
    "start_time": "2023-12-02T07:55:20.077Z"
   },
   {
    "duration": 68,
    "start_time": "2023-12-02T07:55:20.463Z"
   },
   {
    "duration": 16,
    "start_time": "2023-12-02T07:55:20.533Z"
   },
   {
    "duration": 21,
    "start_time": "2023-12-02T07:55:20.551Z"
   },
   {
    "duration": 31,
    "start_time": "2023-12-02T07:55:20.575Z"
   },
   {
    "duration": 40,
    "start_time": "2023-12-02T07:55:20.608Z"
   },
   {
    "duration": 28,
    "start_time": "2023-12-02T07:55:20.650Z"
   },
   {
    "duration": 22,
    "start_time": "2023-12-02T07:55:20.680Z"
   },
   {
    "duration": 20,
    "start_time": "2023-12-02T07:55:20.704Z"
   },
   {
    "duration": 9,
    "start_time": "2023-12-02T07:55:20.726Z"
   },
   {
    "duration": 541,
    "start_time": "2023-12-02T07:55:20.737Z"
   },
   {
    "duration": 382,
    "start_time": "2023-12-02T07:55:21.279Z"
   },
   {
    "duration": 6,
    "start_time": "2023-12-02T07:55:21.663Z"
   },
   {
    "duration": 8,
    "start_time": "2023-12-02T07:55:21.672Z"
   },
   {
    "duration": 13,
    "start_time": "2023-12-02T07:55:21.682Z"
   },
   {
    "duration": 5,
    "start_time": "2023-12-02T07:55:21.697Z"
   },
   {
    "duration": 38,
    "start_time": "2023-12-02T07:55:21.704Z"
   },
   {
    "duration": 9,
    "start_time": "2023-12-02T07:55:21.744Z"
   },
   {
    "duration": 8,
    "start_time": "2023-12-02T07:55:21.755Z"
   },
   {
    "duration": 14,
    "start_time": "2023-12-02T07:55:21.765Z"
   },
   {
    "duration": 12,
    "start_time": "2023-12-02T07:55:21.781Z"
   },
   {
    "duration": 12,
    "start_time": "2023-12-02T07:55:21.794Z"
   },
   {
    "duration": 35,
    "start_time": "2023-12-02T07:55:21.808Z"
   },
   {
    "duration": 5,
    "start_time": "2023-12-02T07:55:21.845Z"
   },
   {
    "duration": 20,
    "start_time": "2023-12-02T07:55:21.851Z"
   },
   {
    "duration": 5,
    "start_time": "2023-12-02T07:55:21.873Z"
   },
   {
    "duration": 155,
    "start_time": "2023-12-02T07:55:21.880Z"
   },
   {
    "duration": 196,
    "start_time": "2023-12-02T07:55:22.037Z"
   },
   {
    "duration": 10,
    "start_time": "2023-12-02T07:55:22.235Z"
   },
   {
    "duration": 118,
    "start_time": "2023-12-02T07:55:22.246Z"
   },
   {
    "duration": 93,
    "start_time": "2023-12-02T07:55:22.366Z"
   },
   {
    "duration": 8,
    "start_time": "2023-12-02T07:55:22.460Z"
   },
   {
    "duration": 176,
    "start_time": "2023-12-02T07:55:22.470Z"
   },
   {
    "duration": 8,
    "start_time": "2023-12-02T07:55:22.648Z"
   },
   {
    "duration": 209,
    "start_time": "2023-12-02T07:55:22.657Z"
   },
   {
    "duration": 17,
    "start_time": "2023-12-02T07:55:22.867Z"
   },
   {
    "duration": 7,
    "start_time": "2023-12-02T07:55:22.886Z"
   },
   {
    "duration": 12,
    "start_time": "2023-12-02T07:55:22.895Z"
   },
   {
    "duration": 44,
    "start_time": "2023-12-02T07:55:22.908Z"
   },
   {
    "duration": 14,
    "start_time": "2023-12-02T07:55:22.954Z"
   },
   {
    "duration": 12,
    "start_time": "2023-12-02T07:55:22.972Z"
   },
   {
    "duration": 9,
    "start_time": "2023-12-02T07:55:22.986Z"
   },
   {
    "duration": 220,
    "start_time": "2023-12-02T07:55:22.997Z"
   },
   {
    "duration": 23,
    "start_time": "2023-12-02T07:55:23.219Z"
   },
   {
    "duration": 13,
    "start_time": "2023-12-02T07:57:22.535Z"
   },
   {
    "duration": 10,
    "start_time": "2023-12-02T07:57:26.325Z"
   },
   {
    "duration": 194,
    "start_time": "2023-12-02T07:57:55.321Z"
   },
   {
    "duration": 174,
    "start_time": "2023-12-02T07:58:05.962Z"
   },
   {
    "duration": 10,
    "start_time": "2023-12-02T07:58:50.797Z"
   },
   {
    "duration": 11,
    "start_time": "2023-12-02T07:58:57.405Z"
   },
   {
    "duration": 12,
    "start_time": "2023-12-02T08:01:47.040Z"
   },
   {
    "duration": 14,
    "start_time": "2023-12-02T08:02:06.298Z"
   },
   {
    "duration": 12,
    "start_time": "2023-12-02T08:02:40.970Z"
   },
   {
    "duration": 11,
    "start_time": "2023-12-02T08:02:44.406Z"
   },
   {
    "duration": 5,
    "start_time": "2023-12-02T08:05:31.754Z"
   },
   {
    "duration": 5,
    "start_time": "2023-12-02T08:05:36.780Z"
   },
   {
    "duration": 422,
    "start_time": "2023-12-02T08:05:42.339Z"
   },
   {
    "duration": 68,
    "start_time": "2023-12-02T08:05:42.763Z"
   },
   {
    "duration": 16,
    "start_time": "2023-12-02T08:05:42.833Z"
   },
   {
    "duration": 14,
    "start_time": "2023-12-02T08:05:42.850Z"
   },
   {
    "duration": 17,
    "start_time": "2023-12-02T08:05:42.866Z"
   },
   {
    "duration": 18,
    "start_time": "2023-12-02T08:05:42.884Z"
   },
   {
    "duration": 21,
    "start_time": "2023-12-02T08:05:42.904Z"
   },
   {
    "duration": 21,
    "start_time": "2023-12-02T08:05:42.927Z"
   },
   {
    "duration": 21,
    "start_time": "2023-12-02T08:05:42.950Z"
   },
   {
    "duration": 19,
    "start_time": "2023-12-02T08:05:42.972Z"
   },
   {
    "duration": 575,
    "start_time": "2023-12-02T08:05:42.993Z"
   },
   {
    "duration": 369,
    "start_time": "2023-12-02T08:05:43.569Z"
   },
   {
    "duration": 6,
    "start_time": "2023-12-02T08:05:43.940Z"
   },
   {
    "duration": 81,
    "start_time": "2023-12-02T08:05:43.948Z"
   },
   {
    "duration": 81,
    "start_time": "2023-12-02T08:05:44.030Z"
   },
   {
    "duration": 4,
    "start_time": "2023-12-02T08:05:44.113Z"
   },
   {
    "duration": 6,
    "start_time": "2023-12-02T08:05:44.119Z"
   },
   {
    "duration": 28,
    "start_time": "2023-12-02T08:05:44.126Z"
   },
   {
    "duration": 15,
    "start_time": "2023-12-02T08:05:44.156Z"
   },
   {
    "duration": 11,
    "start_time": "2023-12-02T08:05:44.173Z"
   },
   {
    "duration": 7,
    "start_time": "2023-12-02T08:05:44.185Z"
   },
   {
    "duration": 26,
    "start_time": "2023-12-02T08:05:44.194Z"
   },
   {
    "duration": 11,
    "start_time": "2023-12-02T08:05:44.221Z"
   },
   {
    "duration": 7,
    "start_time": "2023-12-02T08:05:44.234Z"
   },
   {
    "duration": 21,
    "start_time": "2023-12-02T08:05:44.242Z"
   },
   {
    "duration": 7,
    "start_time": "2023-12-02T08:05:44.264Z"
   },
   {
    "duration": 143,
    "start_time": "2023-12-02T08:05:44.272Z"
   },
   {
    "duration": 191,
    "start_time": "2023-12-02T08:05:44.417Z"
   },
   {
    "duration": 5,
    "start_time": "2023-12-02T08:05:44.610Z"
   },
   {
    "duration": 127,
    "start_time": "2023-12-02T08:05:44.616Z"
   },
   {
    "duration": 99,
    "start_time": "2023-12-02T08:05:44.745Z"
   },
   {
    "duration": 8,
    "start_time": "2023-12-02T08:05:44.845Z"
   },
   {
    "duration": 182,
    "start_time": "2023-12-02T08:05:44.854Z"
   },
   {
    "duration": 11,
    "start_time": "2023-12-02T08:05:45.038Z"
   },
   {
    "duration": 302,
    "start_time": "2023-12-02T08:05:45.050Z"
   },
   {
    "duration": 13,
    "start_time": "2023-12-02T08:05:45.354Z"
   },
   {
    "duration": 6,
    "start_time": "2023-12-02T08:05:45.369Z"
   },
   {
    "duration": 12,
    "start_time": "2023-12-02T08:05:45.376Z"
   },
   {
    "duration": 10,
    "start_time": "2023-12-02T08:05:45.389Z"
   },
   {
    "duration": 9,
    "start_time": "2023-12-02T08:05:45.400Z"
   },
   {
    "duration": 37,
    "start_time": "2023-12-02T08:05:45.413Z"
   },
   {
    "duration": 11,
    "start_time": "2023-12-02T08:05:45.452Z"
   },
   {
    "duration": 12,
    "start_time": "2023-12-02T08:05:45.464Z"
   },
   {
    "duration": 198,
    "start_time": "2023-12-02T08:05:45.477Z"
   },
   {
    "duration": 196,
    "start_time": "2023-12-02T08:05:45.677Z"
   },
   {
    "duration": 14,
    "start_time": "2023-12-02T08:05:45.875Z"
   },
   {
    "duration": 18,
    "start_time": "2023-12-02T08:06:44.778Z"
   },
   {
    "duration": 11,
    "start_time": "2023-12-02T09:00:50.343Z"
   },
   {
    "duration": 15,
    "start_time": "2023-12-02T09:16:35.922Z"
   },
   {
    "duration": 154,
    "start_time": "2023-12-02T09:16:44.278Z"
   },
   {
    "duration": 81,
    "start_time": "2023-12-02T09:16:47.056Z"
   },
   {
    "duration": 83,
    "start_time": "2023-12-02T09:16:55.492Z"
   },
   {
    "duration": 91,
    "start_time": "2023-12-02T09:17:02.300Z"
   },
   {
    "duration": 69,
    "start_time": "2023-12-02T09:17:08.121Z"
   },
   {
    "duration": 80,
    "start_time": "2023-12-02T09:17:12.279Z"
   },
   {
    "duration": 11,
    "start_time": "2023-12-02T09:17:16.198Z"
   },
   {
    "duration": 11,
    "start_time": "2023-12-02T09:17:20.979Z"
   },
   {
    "duration": 11,
    "start_time": "2023-12-02T09:17:23.528Z"
   },
   {
    "duration": 11,
    "start_time": "2023-12-02T09:17:33.223Z"
   },
   {
    "duration": 10,
    "start_time": "2023-12-02T09:22:53.394Z"
   },
   {
    "duration": 391,
    "start_time": "2023-12-02T09:23:03.465Z"
   },
   {
    "duration": 69,
    "start_time": "2023-12-02T09:23:03.859Z"
   },
   {
    "duration": 14,
    "start_time": "2023-12-02T09:23:03.930Z"
   },
   {
    "duration": 32,
    "start_time": "2023-12-02T09:23:03.947Z"
   },
   {
    "duration": 7,
    "start_time": "2023-12-02T09:23:03.981Z"
   },
   {
    "duration": 11,
    "start_time": "2023-12-02T09:23:03.990Z"
   },
   {
    "duration": 20,
    "start_time": "2023-12-02T09:23:04.002Z"
   },
   {
    "duration": 17,
    "start_time": "2023-12-02T09:23:04.024Z"
   },
   {
    "duration": 19,
    "start_time": "2023-12-02T09:23:04.042Z"
   },
   {
    "duration": 9,
    "start_time": "2023-12-02T09:23:04.064Z"
   },
   {
    "duration": 503,
    "start_time": "2023-12-02T09:23:04.075Z"
   },
   {
    "duration": 365,
    "start_time": "2023-12-02T09:23:04.579Z"
   },
   {
    "duration": 6,
    "start_time": "2023-12-02T09:23:04.946Z"
   },
   {
    "duration": 11,
    "start_time": "2023-12-02T09:23:04.954Z"
   },
   {
    "duration": 13,
    "start_time": "2023-12-02T09:23:04.966Z"
   },
   {
    "duration": 4,
    "start_time": "2023-12-02T09:23:04.981Z"
   },
   {
    "duration": 9,
    "start_time": "2023-12-02T09:23:04.987Z"
   },
   {
    "duration": 8,
    "start_time": "2023-12-02T09:23:04.998Z"
   },
   {
    "duration": 38,
    "start_time": "2023-12-02T09:23:05.008Z"
   },
   {
    "duration": 15,
    "start_time": "2023-12-02T09:23:05.048Z"
   },
   {
    "duration": 24,
    "start_time": "2023-12-02T09:23:05.064Z"
   },
   {
    "duration": 9,
    "start_time": "2023-12-02T09:23:05.090Z"
   },
   {
    "duration": 14,
    "start_time": "2023-12-02T09:23:05.100Z"
   },
   {
    "duration": 5,
    "start_time": "2023-12-02T09:23:05.116Z"
   },
   {
    "duration": 26,
    "start_time": "2023-12-02T09:23:05.123Z"
   },
   {
    "duration": 6,
    "start_time": "2023-12-02T09:23:05.150Z"
   },
   {
    "duration": 174,
    "start_time": "2023-12-02T09:23:05.158Z"
   },
   {
    "duration": 213,
    "start_time": "2023-12-02T09:23:05.342Z"
   },
   {
    "duration": 6,
    "start_time": "2023-12-02T09:23:05.557Z"
   },
   {
    "duration": 151,
    "start_time": "2023-12-02T09:23:05.564Z"
   },
   {
    "duration": 117,
    "start_time": "2023-12-02T09:23:05.717Z"
   },
   {
    "duration": 14,
    "start_time": "2023-12-02T09:23:05.835Z"
   },
   {
    "duration": 185,
    "start_time": "2023-12-02T09:23:05.851Z"
   },
   {
    "duration": 10,
    "start_time": "2023-12-02T09:23:06.041Z"
   },
   {
    "duration": 216,
    "start_time": "2023-12-02T09:23:06.053Z"
   },
   {
    "duration": 14,
    "start_time": "2023-12-02T09:23:06.271Z"
   },
   {
    "duration": 6,
    "start_time": "2023-12-02T09:23:06.287Z"
   },
   {
    "duration": 15,
    "start_time": "2023-12-02T09:23:06.295Z"
   },
   {
    "duration": 32,
    "start_time": "2023-12-02T09:23:06.311Z"
   },
   {
    "duration": 13,
    "start_time": "2023-12-02T09:23:06.345Z"
   },
   {
    "duration": 15,
    "start_time": "2023-12-02T09:23:06.359Z"
   },
   {
    "duration": 22,
    "start_time": "2023-12-02T09:23:06.376Z"
   },
   {
    "duration": 208,
    "start_time": "2023-12-02T09:23:06.400Z"
   },
   {
    "duration": 206,
    "start_time": "2023-12-02T09:23:06.609Z"
   },
   {
    "duration": 27,
    "start_time": "2023-12-02T09:23:06.817Z"
   },
   {
    "duration": 12,
    "start_time": "2023-12-02T09:23:43.959Z"
   },
   {
    "duration": 183,
    "start_time": "2023-12-02T09:26:54.874Z"
   },
   {
    "duration": 187,
    "start_time": "2023-12-02T09:27:19.230Z"
   },
   {
    "duration": 193,
    "start_time": "2023-12-02T09:27:30.987Z"
   },
   {
    "duration": 185,
    "start_time": "2023-12-02T09:27:34.841Z"
   },
   {
    "duration": 268,
    "start_time": "2023-12-02T09:27:38.537Z"
   },
   {
    "duration": 14,
    "start_time": "2023-12-02T09:28:17.363Z"
   },
   {
    "duration": 15,
    "start_time": "2023-12-02T09:29:02.127Z"
   },
   {
    "duration": 12,
    "start_time": "2023-12-02T09:30:02.654Z"
   },
   {
    "duration": 14,
    "start_time": "2023-12-02T09:30:06.901Z"
   },
   {
    "duration": 193,
    "start_time": "2023-12-02T09:33:53.233Z"
   },
   {
    "duration": 13,
    "start_time": "2023-12-02T09:34:37.862Z"
   },
   {
    "duration": 15,
    "start_time": "2023-12-02T09:34:49.146Z"
   },
   {
    "duration": 18,
    "start_time": "2023-12-02T09:34:55.066Z"
   },
   {
    "duration": 15,
    "start_time": "2023-12-02T09:35:22.998Z"
   },
   {
    "duration": 17,
    "start_time": "2023-12-02T09:35:28.555Z"
   },
   {
    "duration": 14,
    "start_time": "2023-12-02T09:35:38.455Z"
   },
   {
    "duration": 15,
    "start_time": "2023-12-02T09:36:23.028Z"
   },
   {
    "duration": 17,
    "start_time": "2023-12-02T09:37:15.486Z"
   },
   {
    "duration": 21,
    "start_time": "2023-12-02T09:37:29.081Z"
   },
   {
    "duration": 22,
    "start_time": "2023-12-02T09:37:40.768Z"
   },
   {
    "duration": 17,
    "start_time": "2023-12-02T09:40:54.471Z"
   },
   {
    "duration": 22,
    "start_time": "2023-12-02T09:40:58.832Z"
   },
   {
    "duration": 14,
    "start_time": "2023-12-02T09:42:12.518Z"
   },
   {
    "duration": 12,
    "start_time": "2023-12-02T09:44:21.357Z"
   },
   {
    "duration": 15,
    "start_time": "2023-12-02T09:44:37.324Z"
   },
   {
    "duration": 17,
    "start_time": "2023-12-02T09:44:41.825Z"
   },
   {
    "duration": 221,
    "start_time": "2023-12-02T09:44:47.917Z"
   },
   {
    "duration": 221,
    "start_time": "2023-12-02T09:45:57.971Z"
   },
   {
    "duration": 77,
    "start_time": "2023-12-02T09:46:14.013Z"
   },
   {
    "duration": 3,
    "start_time": "2023-12-02T09:46:37.673Z"
   },
   {
    "duration": 116,
    "start_time": "2023-12-02T09:46:43.668Z"
   },
   {
    "duration": 731,
    "start_time": "2023-12-02T09:47:11.810Z"
   },
   {
    "duration": 71,
    "start_time": "2023-12-02T09:47:12.543Z"
   },
   {
    "duration": 14,
    "start_time": "2023-12-02T09:47:12.616Z"
   },
   {
    "duration": 10,
    "start_time": "2023-12-02T09:47:12.633Z"
   },
   {
    "duration": 18,
    "start_time": "2023-12-02T09:47:12.645Z"
   },
   {
    "duration": 15,
    "start_time": "2023-12-02T09:47:12.667Z"
   },
   {
    "duration": 22,
    "start_time": "2023-12-02T09:47:12.685Z"
   },
   {
    "duration": 38,
    "start_time": "2023-12-02T09:47:12.709Z"
   },
   {
    "duration": 23,
    "start_time": "2023-12-02T09:47:12.748Z"
   },
   {
    "duration": 10,
    "start_time": "2023-12-02T09:47:12.774Z"
   },
   {
    "duration": 362,
    "start_time": "2023-12-02T09:47:12.786Z"
   },
   {
    "duration": 408,
    "start_time": "2023-12-02T09:47:13.151Z"
   },
   {
    "duration": 6,
    "start_time": "2023-12-02T09:47:13.561Z"
   },
   {
    "duration": 9,
    "start_time": "2023-12-02T09:47:13.569Z"
   },
   {
    "duration": 24,
    "start_time": "2023-12-02T09:47:13.580Z"
   },
   {
    "duration": 6,
    "start_time": "2023-12-02T09:47:13.606Z"
   },
   {
    "duration": 9,
    "start_time": "2023-12-02T09:47:13.642Z"
   },
   {
    "duration": 8,
    "start_time": "2023-12-02T09:47:13.653Z"
   },
   {
    "duration": 7,
    "start_time": "2023-12-02T09:47:13.664Z"
   },
   {
    "duration": 7,
    "start_time": "2023-12-02T09:47:13.673Z"
   },
   {
    "duration": 11,
    "start_time": "2023-12-02T09:47:13.682Z"
   },
   {
    "duration": 50,
    "start_time": "2023-12-02T09:47:13.695Z"
   },
   {
    "duration": 13,
    "start_time": "2023-12-02T09:47:13.746Z"
   },
   {
    "duration": 85,
    "start_time": "2023-12-02T09:47:13.762Z"
   },
   {
    "duration": 10,
    "start_time": "2023-12-02T09:47:13.850Z"
   },
   {
    "duration": 8,
    "start_time": "2023-12-02T09:47:13.863Z"
   },
   {
    "duration": 194,
    "start_time": "2023-12-02T09:47:13.873Z"
   },
   {
    "duration": 7,
    "start_time": "2023-12-02T09:47:14.072Z"
   },
   {
    "duration": 115,
    "start_time": "2023-12-02T09:47:14.081Z"
   },
   {
    "duration": 9,
    "start_time": "2023-12-02T09:47:14.198Z"
   },
   {
    "duration": 199,
    "start_time": "2023-12-02T09:47:14.208Z"
   },
   {
    "duration": 9,
    "start_time": "2023-12-02T09:47:14.409Z"
   },
   {
    "duration": 255,
    "start_time": "2023-12-02T09:47:14.419Z"
   },
   {
    "duration": 168,
    "start_time": "2023-12-02T09:47:14.676Z"
   },
   {
    "duration": 14,
    "start_time": "2023-12-02T09:47:14.846Z"
   },
   {
    "duration": 6,
    "start_time": "2023-12-02T09:47:14.861Z"
   },
   {
    "duration": 11,
    "start_time": "2023-12-02T09:47:14.868Z"
   },
   {
    "duration": 4,
    "start_time": "2023-12-02T09:47:14.881Z"
   },
   {
    "duration": 21,
    "start_time": "2023-12-02T09:47:14.887Z"
   },
   {
    "duration": 39,
    "start_time": "2023-12-02T09:47:14.910Z"
   },
   {
    "duration": 238,
    "start_time": "2023-12-02T09:47:14.951Z"
   },
   {
    "duration": 129,
    "start_time": "2023-12-02T09:47:15.191Z"
   },
   {
    "duration": 23,
    "start_time": "2023-12-02T09:47:15.322Z"
   },
   {
    "duration": 510,
    "start_time": "2023-12-02T09:47:15.347Z"
   },
   {
    "duration": 22,
    "start_time": "2023-12-02T09:47:15.859Z"
   },
   {
    "duration": 126,
    "start_time": "2023-12-02T09:47:40.534Z"
   },
   {
    "duration": 123,
    "start_time": "2023-12-02T09:47:48.565Z"
   },
   {
    "duration": 123,
    "start_time": "2023-12-02T09:47:54.397Z"
   },
   {
    "duration": 200,
    "start_time": "2023-12-02T09:48:01.290Z"
   },
   {
    "duration": 643,
    "start_time": "2023-12-02T09:48:08.604Z"
   },
   {
    "duration": 69,
    "start_time": "2023-12-02T09:48:09.249Z"
   },
   {
    "duration": 12,
    "start_time": "2023-12-02T09:48:09.319Z"
   },
   {
    "duration": 12,
    "start_time": "2023-12-02T09:48:09.333Z"
   },
   {
    "duration": 7,
    "start_time": "2023-12-02T09:48:09.347Z"
   },
   {
    "duration": 25,
    "start_time": "2023-12-02T09:48:09.355Z"
   },
   {
    "duration": 43,
    "start_time": "2023-12-02T09:48:09.382Z"
   },
   {
    "duration": 14,
    "start_time": "2023-12-02T09:48:09.426Z"
   },
   {
    "duration": 37,
    "start_time": "2023-12-02T09:48:09.442Z"
   },
   {
    "duration": 14,
    "start_time": "2023-12-02T09:48:09.480Z"
   },
   {
    "duration": 552,
    "start_time": "2023-12-02T09:48:09.496Z"
   },
   {
    "duration": 895,
    "start_time": "2023-12-02T09:48:10.050Z"
   },
   {
    "duration": 6,
    "start_time": "2023-12-02T09:48:10.947Z"
   },
   {
    "duration": 9,
    "start_time": "2023-12-02T09:48:10.956Z"
   },
   {
    "duration": 14,
    "start_time": "2023-12-02T09:48:10.967Z"
   },
   {
    "duration": 63,
    "start_time": "2023-12-02T09:48:10.982Z"
   },
   {
    "duration": 7,
    "start_time": "2023-12-02T09:48:11.047Z"
   },
   {
    "duration": 8,
    "start_time": "2023-12-02T09:48:11.056Z"
   },
   {
    "duration": 123,
    "start_time": "2023-12-02T09:48:11.066Z"
   },
   {
    "duration": 5,
    "start_time": "2023-12-02T09:48:11.193Z"
   },
   {
    "duration": 8,
    "start_time": "2023-12-02T09:48:11.200Z"
   },
   {
    "duration": 40,
    "start_time": "2023-12-02T09:48:11.211Z"
   },
   {
    "duration": 11,
    "start_time": "2023-12-02T09:48:11.253Z"
   },
   {
    "duration": 10,
    "start_time": "2023-12-02T09:48:11.266Z"
   },
   {
    "duration": 13,
    "start_time": "2023-12-02T09:48:11.277Z"
   },
   {
    "duration": 7,
    "start_time": "2023-12-02T09:48:11.291Z"
   },
   {
    "duration": 184,
    "start_time": "2023-12-02T09:48:11.299Z"
   },
   {
    "duration": 6,
    "start_time": "2023-12-02T09:48:11.485Z"
   },
   {
    "duration": 110,
    "start_time": "2023-12-02T09:48:11.492Z"
   },
   {
    "duration": 8,
    "start_time": "2023-12-02T09:48:11.604Z"
   },
   {
    "duration": 208,
    "start_time": "2023-12-02T09:48:11.614Z"
   },
   {
    "duration": 20,
    "start_time": "2023-12-02T09:48:11.824Z"
   },
   {
    "duration": 211,
    "start_time": "2023-12-02T09:48:11.845Z"
   },
   {
    "duration": 126,
    "start_time": "2023-12-02T09:48:12.058Z"
   },
   {
    "duration": 14,
    "start_time": "2023-12-02T09:48:12.186Z"
   },
   {
    "duration": 8,
    "start_time": "2023-12-02T09:48:12.201Z"
   },
   {
    "duration": 38,
    "start_time": "2023-12-02T09:48:12.211Z"
   },
   {
    "duration": 20,
    "start_time": "2023-12-02T09:48:12.251Z"
   },
   {
    "duration": 18,
    "start_time": "2023-12-02T09:48:12.273Z"
   },
   {
    "duration": 54,
    "start_time": "2023-12-02T09:48:12.292Z"
   },
   {
    "duration": 408,
    "start_time": "2023-12-02T09:48:12.350Z"
   },
   {
    "duration": 287,
    "start_time": "2023-12-02T09:48:12.760Z"
   },
   {
    "duration": 9,
    "start_time": "2023-12-02T09:48:13.049Z"
   },
   {
    "duration": 414,
    "start_time": "2023-12-02T09:48:13.060Z"
   },
   {
    "duration": 69,
    "start_time": "2023-12-02T09:48:13.476Z"
   },
   {
    "duration": 106,
    "start_time": "2023-12-02T09:50:24.702Z"
   },
   {
    "duration": 16,
    "start_time": "2023-12-02T09:51:18.915Z"
   },
   {
    "duration": 14,
    "start_time": "2023-12-02T09:55:56.587Z"
   },
   {
    "duration": 13,
    "start_time": "2023-12-02T09:56:07.807Z"
   },
   {
    "duration": 128,
    "start_time": "2023-12-02T09:58:59.127Z"
   },
   {
    "duration": 122,
    "start_time": "2023-12-02T09:59:15.583Z"
   },
   {
    "duration": 193,
    "start_time": "2023-12-02T09:59:19.458Z"
   },
   {
    "duration": 12,
    "start_time": "2023-12-02T11:03:29.196Z"
   },
   {
    "duration": 11,
    "start_time": "2023-12-02T11:11:56.203Z"
   },
   {
    "duration": 190,
    "start_time": "2023-12-02T11:12:29.177Z"
   },
   {
    "duration": 682,
    "start_time": "2023-12-02T11:20:29.855Z"
   },
   {
    "duration": 69,
    "start_time": "2023-12-02T11:20:30.539Z"
   },
   {
    "duration": 12,
    "start_time": "2023-12-02T11:20:30.610Z"
   },
   {
    "duration": 17,
    "start_time": "2023-12-02T11:20:30.624Z"
   },
   {
    "duration": 24,
    "start_time": "2023-12-02T11:20:30.642Z"
   },
   {
    "duration": 31,
    "start_time": "2023-12-02T11:20:30.668Z"
   },
   {
    "duration": 46,
    "start_time": "2023-12-02T11:20:30.701Z"
   },
   {
    "duration": 26,
    "start_time": "2023-12-02T11:20:30.749Z"
   },
   {
    "duration": 59,
    "start_time": "2023-12-02T11:20:30.776Z"
   },
   {
    "duration": 21,
    "start_time": "2023-12-02T11:20:30.837Z"
   },
   {
    "duration": 311,
    "start_time": "2023-12-02T11:20:30.860Z"
   },
   {
    "duration": 389,
    "start_time": "2023-12-02T11:20:31.173Z"
   },
   {
    "duration": 6,
    "start_time": "2023-12-02T11:20:31.564Z"
   },
   {
    "duration": 42,
    "start_time": "2023-12-02T11:20:31.571Z"
   },
   {
    "duration": 34,
    "start_time": "2023-12-02T11:20:31.614Z"
   },
   {
    "duration": 37,
    "start_time": "2023-12-02T11:20:31.650Z"
   },
   {
    "duration": 75,
    "start_time": "2023-12-02T11:20:31.689Z"
   },
   {
    "duration": 28,
    "start_time": "2023-12-02T11:20:31.766Z"
   },
   {
    "duration": 16,
    "start_time": "2023-12-02T11:20:31.796Z"
   },
   {
    "duration": 23,
    "start_time": "2023-12-02T11:20:31.814Z"
   },
   {
    "duration": 38,
    "start_time": "2023-12-02T11:20:31.839Z"
   },
   {
    "duration": 38,
    "start_time": "2023-12-02T11:20:31.879Z"
   },
   {
    "duration": 27,
    "start_time": "2023-12-02T11:20:31.919Z"
   },
   {
    "duration": 60,
    "start_time": "2023-12-02T11:20:31.948Z"
   },
   {
    "duration": 9,
    "start_time": "2023-12-02T11:20:32.009Z"
   },
   {
    "duration": 22,
    "start_time": "2023-12-02T11:20:32.019Z"
   },
   {
    "duration": 160,
    "start_time": "2023-12-02T11:20:32.042Z"
   },
   {
    "duration": 5,
    "start_time": "2023-12-02T11:20:32.206Z"
   },
   {
    "duration": 113,
    "start_time": "2023-12-02T11:20:32.213Z"
   },
   {
    "duration": 14,
    "start_time": "2023-12-02T11:20:32.328Z"
   },
   {
    "duration": 183,
    "start_time": "2023-12-02T11:20:32.344Z"
   },
   {
    "duration": 15,
    "start_time": "2023-12-02T11:20:32.528Z"
   },
   {
    "duration": 195,
    "start_time": "2023-12-02T11:20:32.544Z"
   },
   {
    "duration": 127,
    "start_time": "2023-12-02T11:20:32.741Z"
   },
   {
    "duration": 16,
    "start_time": "2023-12-02T11:20:32.869Z"
   },
   {
    "duration": 68,
    "start_time": "2023-12-02T11:20:32.887Z"
   },
   {
    "duration": 222,
    "start_time": "2023-12-02T11:20:32.956Z"
   },
   {
    "duration": 127,
    "start_time": "2023-12-02T11:20:33.179Z"
   },
   {
    "duration": 13,
    "start_time": "2023-12-02T11:20:33.308Z"
   },
   {
    "duration": 44,
    "start_time": "2023-12-02T11:20:33.322Z"
   },
   {
    "duration": 41,
    "start_time": "2023-12-02T11:20:33.368Z"
   },
   {
    "duration": 5,
    "start_time": "2023-12-02T11:20:33.410Z"
   },
   {
    "duration": 30,
    "start_time": "2023-12-02T11:20:33.417Z"
   },
   {
    "duration": 16,
    "start_time": "2023-12-02T11:20:33.449Z"
   },
   {
    "duration": 22,
    "start_time": "2023-12-02T11:20:33.467Z"
   },
   {
    "duration": 22,
    "start_time": "2023-12-02T11:20:33.491Z"
   },
   {
    "duration": 261,
    "start_time": "2023-12-02T11:20:33.514Z"
   },
   {
    "duration": 16,
    "start_time": "2023-12-02T11:39:45.314Z"
   },
   {
    "duration": 207,
    "start_time": "2023-12-02T11:40:45.062Z"
   },
   {
    "duration": 6,
    "start_time": "2023-12-02T11:58:33.082Z"
   },
   {
    "duration": 5,
    "start_time": "2023-12-02T11:58:37.230Z"
   },
   {
    "duration": 5,
    "start_time": "2023-12-02T11:58:48.324Z"
   },
   {
    "duration": 5,
    "start_time": "2023-12-02T11:58:52.174Z"
   },
   {
    "duration": 45,
    "start_time": "2023-12-03T08:19:23.840Z"
   },
   {
    "duration": 734,
    "start_time": "2023-12-03T08:19:29.489Z"
   },
   {
    "duration": 187,
    "start_time": "2023-12-03T08:19:30.225Z"
   },
   {
    "duration": 11,
    "start_time": "2023-12-03T08:19:30.414Z"
   },
   {
    "duration": 24,
    "start_time": "2023-12-03T08:19:30.426Z"
   },
   {
    "duration": 30,
    "start_time": "2023-12-03T08:19:30.452Z"
   },
   {
    "duration": 30,
    "start_time": "2023-12-03T08:19:30.483Z"
   },
   {
    "duration": 30,
    "start_time": "2023-12-03T08:19:30.515Z"
   },
   {
    "duration": 22,
    "start_time": "2023-12-03T08:19:30.547Z"
   },
   {
    "duration": 28,
    "start_time": "2023-12-03T08:19:30.571Z"
   },
   {
    "duration": 20,
    "start_time": "2023-12-03T08:19:30.601Z"
   },
   {
    "duration": 280,
    "start_time": "2023-12-03T08:19:30.622Z"
   },
   {
    "duration": 373,
    "start_time": "2023-12-03T08:19:30.903Z"
   },
   {
    "duration": 7,
    "start_time": "2023-12-03T08:19:31.277Z"
   },
   {
    "duration": 33,
    "start_time": "2023-12-03T08:19:31.288Z"
   },
   {
    "duration": 23,
    "start_time": "2023-12-03T08:19:31.323Z"
   },
   {
    "duration": 4,
    "start_time": "2023-12-03T08:19:31.348Z"
   },
   {
    "duration": 23,
    "start_time": "2023-12-03T08:19:31.354Z"
   },
   {
    "duration": 16,
    "start_time": "2023-12-03T08:19:31.379Z"
   },
   {
    "duration": 57,
    "start_time": "2023-12-03T08:19:31.396Z"
   },
   {
    "duration": 19,
    "start_time": "2023-12-03T08:19:31.455Z"
   },
   {
    "duration": 19,
    "start_time": "2023-12-03T08:19:31.475Z"
   },
   {
    "duration": 20,
    "start_time": "2023-12-03T08:19:31.495Z"
   },
   {
    "duration": 27,
    "start_time": "2023-12-03T08:19:31.516Z"
   },
   {
    "duration": 29,
    "start_time": "2023-12-03T08:19:31.545Z"
   },
   {
    "duration": 19,
    "start_time": "2023-12-03T08:19:31.575Z"
   },
   {
    "duration": 32,
    "start_time": "2023-12-03T08:19:31.595Z"
   },
   {
    "duration": 182,
    "start_time": "2023-12-03T08:19:31.629Z"
   },
   {
    "duration": 6,
    "start_time": "2023-12-03T08:19:31.813Z"
   },
   {
    "duration": 95,
    "start_time": "2023-12-03T08:19:31.821Z"
   },
   {
    "duration": 7,
    "start_time": "2023-12-03T08:19:31.918Z"
   },
   {
    "duration": 171,
    "start_time": "2023-12-03T08:19:31.927Z"
   },
   {
    "duration": 9,
    "start_time": "2023-12-03T08:19:32.100Z"
   },
   {
    "duration": 215,
    "start_time": "2023-12-03T08:19:32.111Z"
   },
   {
    "duration": 130,
    "start_time": "2023-12-03T08:19:32.327Z"
   },
   {
    "duration": 10,
    "start_time": "2023-12-03T08:19:32.459Z"
   },
   {
    "duration": 189,
    "start_time": "2023-12-03T08:19:32.470Z"
   },
   {
    "duration": 108,
    "start_time": "2023-12-03T08:19:32.661Z"
   },
   {
    "duration": 12,
    "start_time": "2023-12-03T08:19:32.770Z"
   },
   {
    "duration": 10,
    "start_time": "2023-12-03T08:19:32.783Z"
   },
   {
    "duration": 24,
    "start_time": "2023-12-03T08:19:32.794Z"
   },
   {
    "duration": 10,
    "start_time": "2023-12-03T08:19:32.822Z"
   },
   {
    "duration": 14,
    "start_time": "2023-12-03T08:19:32.833Z"
   },
   {
    "duration": 11,
    "start_time": "2023-12-03T08:19:32.849Z"
   },
   {
    "duration": 18,
    "start_time": "2023-12-03T08:19:32.861Z"
   },
   {
    "duration": 8,
    "start_time": "2023-12-03T08:19:32.881Z"
   },
   {
    "duration": 187,
    "start_time": "2023-12-03T08:19:32.891Z"
   },
   {
    "duration": 74,
    "start_time": "2023-12-03T08:19:33.079Z"
   },
   {
    "duration": 0,
    "start_time": "2023-12-03T08:19:33.155Z"
   },
   {
    "duration": 4,
    "start_time": "2023-12-03T08:20:07.536Z"
   },
   {
    "duration": 7,
    "start_time": "2023-12-03T08:20:11.809Z"
   },
   {
    "duration": 4,
    "start_time": "2023-12-03T08:21:34.555Z"
   },
   {
    "duration": 4,
    "start_time": "2023-12-03T08:21:36.360Z"
   },
   {
    "duration": 5,
    "start_time": "2023-12-03T08:24:22.773Z"
   },
   {
    "duration": 12,
    "start_time": "2023-12-03T08:31:59.268Z"
   },
   {
    "duration": 17,
    "start_time": "2023-12-03T08:33:12.412Z"
   },
   {
    "duration": 29,
    "start_time": "2023-12-03T08:33:19.026Z"
   },
   {
    "duration": 28,
    "start_time": "2023-12-03T08:34:09.301Z"
   },
   {
    "duration": 34,
    "start_time": "2023-12-03T08:34:16.001Z"
   },
   {
    "duration": 16,
    "start_time": "2023-12-03T08:41:28.779Z"
   },
   {
    "duration": 14,
    "start_time": "2023-12-03T08:41:30.503Z"
   },
   {
    "duration": 12,
    "start_time": "2023-12-03T08:41:41.691Z"
   },
   {
    "duration": 15,
    "start_time": "2023-12-03T08:42:34.395Z"
   },
   {
    "duration": 9,
    "start_time": "2023-12-03T08:42:48.050Z"
   },
   {
    "duration": 12,
    "start_time": "2023-12-03T09:20:27.199Z"
   },
   {
    "duration": 23,
    "start_time": "2023-12-03T09:20:47.229Z"
   },
   {
    "duration": 26,
    "start_time": "2023-12-03T09:20:48.708Z"
   },
   {
    "duration": 14,
    "start_time": "2023-12-03T09:21:54.879Z"
   },
   {
    "duration": 14,
    "start_time": "2023-12-03T09:21:57.571Z"
   },
   {
    "duration": 8,
    "start_time": "2023-12-03T09:45:34.505Z"
   },
   {
    "duration": 172,
    "start_time": "2023-12-03T09:45:36.492Z"
   },
   {
    "duration": 10,
    "start_time": "2023-12-03T09:46:25.172Z"
   },
   {
    "duration": 170,
    "start_time": "2023-12-03T09:46:26.597Z"
   },
   {
    "duration": 8,
    "start_time": "2023-12-03T09:47:00.030Z"
   },
   {
    "duration": 160,
    "start_time": "2023-12-03T09:47:00.492Z"
   },
   {
    "duration": 8,
    "start_time": "2023-12-03T09:47:11.825Z"
   },
   {
    "duration": 224,
    "start_time": "2023-12-03T09:47:13.163Z"
   },
   {
    "duration": 172,
    "start_time": "2023-12-03T09:55:29.206Z"
   },
   {
    "duration": 178,
    "start_time": "2023-12-03T09:56:32.355Z"
   },
   {
    "duration": 206,
    "start_time": "2023-12-03T09:57:00.710Z"
   },
   {
    "duration": 187,
    "start_time": "2023-12-03T09:57:56.658Z"
   },
   {
    "duration": 138,
    "start_time": "2023-12-03T09:58:30.414Z"
   },
   {
    "duration": 79,
    "start_time": "2023-12-03T09:58:36.924Z"
   },
   {
    "duration": 135,
    "start_time": "2023-12-03T09:59:30.417Z"
   },
   {
    "duration": 138,
    "start_time": "2023-12-03T10:00:41.849Z"
   },
   {
    "duration": 90,
    "start_time": "2023-12-03T10:01:12.096Z"
   },
   {
    "duration": 189,
    "start_time": "2023-12-03T10:01:55.364Z"
   },
   {
    "duration": 244,
    "start_time": "2023-12-03T10:03:16.922Z"
   },
   {
    "duration": 181,
    "start_time": "2023-12-03T10:04:05.729Z"
   },
   {
    "duration": 177,
    "start_time": "2023-12-03T10:04:14.414Z"
   },
   {
    "duration": 205,
    "start_time": "2023-12-03T10:04:31.802Z"
   },
   {
    "duration": 190,
    "start_time": "2023-12-03T10:05:08.521Z"
   },
   {
    "duration": 185,
    "start_time": "2023-12-03T10:05:14.553Z"
   },
   {
    "duration": 178,
    "start_time": "2023-12-03T10:05:32.229Z"
   },
   {
    "duration": 195,
    "start_time": "2023-12-03T10:05:35.652Z"
   },
   {
    "duration": 189,
    "start_time": "2023-12-03T10:06:06.793Z"
   },
   {
    "duration": 189,
    "start_time": "2023-12-03T10:06:18.540Z"
   },
   {
    "duration": 164,
    "start_time": "2023-12-03T10:06:39.653Z"
   },
   {
    "duration": 231,
    "start_time": "2023-12-03T10:06:47.266Z"
   },
   {
    "duration": 160,
    "start_time": "2023-12-03T10:06:53.233Z"
   },
   {
    "duration": 150,
    "start_time": "2023-12-03T10:06:59.637Z"
   },
   {
    "duration": 168,
    "start_time": "2023-12-03T10:07:14.823Z"
   },
   {
    "duration": 160,
    "start_time": "2023-12-03T10:07:23.326Z"
   },
   {
    "duration": 169,
    "start_time": "2023-12-03T10:07:32.511Z"
   },
   {
    "duration": 199,
    "start_time": "2023-12-03T10:08:04.845Z"
   },
   {
    "duration": 186,
    "start_time": "2023-12-03T10:08:16.320Z"
   },
   {
    "duration": 210,
    "start_time": "2023-12-03T10:08:26.266Z"
   },
   {
    "duration": 171,
    "start_time": "2023-12-03T10:08:37.478Z"
   },
   {
    "duration": 172,
    "start_time": "2023-12-03T10:08:46.723Z"
   },
   {
    "duration": 245,
    "start_time": "2023-12-03T10:08:57.286Z"
   },
   {
    "duration": 182,
    "start_time": "2023-12-03T10:09:11.132Z"
   },
   {
    "duration": 182,
    "start_time": "2023-12-03T10:09:24.904Z"
   },
   {
    "duration": 201,
    "start_time": "2023-12-03T10:11:39.351Z"
   },
   {
    "duration": 21,
    "start_time": "2023-12-03T10:12:13.886Z"
   },
   {
    "duration": 3,
    "start_time": "2023-12-03T10:12:33.451Z"
   },
   {
    "duration": 6,
    "start_time": "2023-12-03T10:12:53.546Z"
   },
   {
    "duration": 5,
    "start_time": "2023-12-03T10:13:10.001Z"
   },
   {
    "duration": 5,
    "start_time": "2023-12-03T10:13:28.381Z"
   },
   {
    "duration": 8,
    "start_time": "2023-12-03T10:13:34.243Z"
   },
   {
    "duration": 5,
    "start_time": "2023-12-03T10:13:41.426Z"
   },
   {
    "duration": 7,
    "start_time": "2023-12-03T10:14:03.714Z"
   },
   {
    "duration": 5,
    "start_time": "2023-12-03T10:14:28.966Z"
   },
   {
    "duration": 4,
    "start_time": "2023-12-03T10:14:33.612Z"
   },
   {
    "duration": 5,
    "start_time": "2023-12-03T10:14:46.069Z"
   },
   {
    "duration": 15,
    "start_time": "2023-12-03T10:30:36.594Z"
   },
   {
    "duration": 166,
    "start_time": "2023-12-03T10:39:32.463Z"
   },
   {
    "duration": 163,
    "start_time": "2023-12-03T10:39:52.928Z"
   },
   {
    "duration": 20,
    "start_time": "2023-12-03T10:49:22.774Z"
   },
   {
    "duration": 19,
    "start_time": "2023-12-03T10:49:34.732Z"
   },
   {
    "duration": 19,
    "start_time": "2023-12-03T10:50:51.142Z"
   },
   {
    "duration": 13,
    "start_time": "2023-12-03T10:50:58.554Z"
   },
   {
    "duration": 4,
    "start_time": "2023-12-03T10:51:24.581Z"
   },
   {
    "duration": 4,
    "start_time": "2023-12-03T10:51:40.592Z"
   },
   {
    "duration": 4,
    "start_time": "2023-12-03T10:52:41.978Z"
   },
   {
    "duration": 3,
    "start_time": "2023-12-03T10:52:55.761Z"
   },
   {
    "duration": 9,
    "start_time": "2023-12-03T11:01:04.207Z"
   },
   {
    "duration": 93,
    "start_time": "2023-12-03T11:04:13.492Z"
   },
   {
    "duration": 795,
    "start_time": "2023-12-04T05:51:05.562Z"
   },
   {
    "duration": 294,
    "start_time": "2023-12-04T05:51:06.360Z"
   },
   {
    "duration": 12,
    "start_time": "2023-12-04T05:51:06.656Z"
   },
   {
    "duration": 29,
    "start_time": "2023-12-04T05:51:06.670Z"
   },
   {
    "duration": 46,
    "start_time": "2023-12-04T05:51:06.700Z"
   },
   {
    "duration": 20,
    "start_time": "2023-12-04T05:51:06.748Z"
   },
   {
    "duration": 40,
    "start_time": "2023-12-04T05:51:06.770Z"
   },
   {
    "duration": 32,
    "start_time": "2023-12-04T05:51:06.812Z"
   },
   {
    "duration": 19,
    "start_time": "2023-12-04T05:51:06.845Z"
   },
   {
    "duration": 11,
    "start_time": "2023-12-04T05:51:06.866Z"
   },
   {
    "duration": 285,
    "start_time": "2023-12-04T05:51:06.878Z"
   },
   {
    "duration": 369,
    "start_time": "2023-12-04T05:51:07.164Z"
   },
   {
    "duration": 8,
    "start_time": "2023-12-04T05:51:07.535Z"
   },
   {
    "duration": 23,
    "start_time": "2023-12-04T05:51:07.545Z"
   },
   {
    "duration": 20,
    "start_time": "2023-12-04T05:51:07.570Z"
   },
   {
    "duration": 6,
    "start_time": "2023-12-04T05:51:07.592Z"
   },
   {
    "duration": 9,
    "start_time": "2023-12-04T05:51:07.600Z"
   },
   {
    "duration": 15,
    "start_time": "2023-12-04T05:51:07.630Z"
   },
   {
    "duration": 24,
    "start_time": "2023-12-04T05:51:07.647Z"
   },
   {
    "duration": 18,
    "start_time": "2023-12-04T05:51:07.673Z"
   },
   {
    "duration": 71,
    "start_time": "2023-12-04T05:51:07.693Z"
   },
   {
    "duration": 27,
    "start_time": "2023-12-04T05:51:07.766Z"
   },
   {
    "duration": 19,
    "start_time": "2023-12-04T05:51:07.794Z"
   },
   {
    "duration": 88,
    "start_time": "2023-12-04T05:51:07.815Z"
   },
   {
    "duration": 9,
    "start_time": "2023-12-04T05:51:07.904Z"
   },
   {
    "duration": 29,
    "start_time": "2023-12-04T05:51:07.915Z"
   },
   {
    "duration": 153,
    "start_time": "2023-12-04T05:51:07.945Z"
   },
   {
    "duration": 5,
    "start_time": "2023-12-04T05:51:08.101Z"
   },
   {
    "duration": 108,
    "start_time": "2023-12-04T05:51:08.108Z"
   },
   {
    "duration": 13,
    "start_time": "2023-12-04T05:51:08.218Z"
   },
   {
    "duration": 187,
    "start_time": "2023-12-04T05:51:08.233Z"
   },
   {
    "duration": 12,
    "start_time": "2023-12-04T05:51:08.422Z"
   },
   {
    "duration": 215,
    "start_time": "2023-12-04T05:51:08.435Z"
   },
   {
    "duration": 137,
    "start_time": "2023-12-04T05:51:08.652Z"
   },
   {
    "duration": 10,
    "start_time": "2023-12-04T05:51:08.791Z"
   },
   {
    "duration": 253,
    "start_time": "2023-12-04T05:51:08.802Z"
   },
   {
    "duration": 126,
    "start_time": "2023-12-04T05:51:09.057Z"
   },
   {
    "duration": 13,
    "start_time": "2023-12-04T05:51:09.185Z"
   },
   {
    "duration": 75,
    "start_time": "2023-12-04T05:51:09.200Z"
   },
   {
    "duration": 17,
    "start_time": "2023-12-04T05:51:09.277Z"
   },
   {
    "duration": 5,
    "start_time": "2023-12-04T05:51:09.295Z"
   },
   {
    "duration": 15,
    "start_time": "2023-12-04T05:51:09.301Z"
   },
   {
    "duration": 24,
    "start_time": "2023-12-04T05:51:09.318Z"
   },
   {
    "duration": 13,
    "start_time": "2023-12-04T05:51:09.344Z"
   },
   {
    "duration": 8,
    "start_time": "2023-12-04T05:51:09.359Z"
   },
   {
    "duration": 225,
    "start_time": "2023-12-04T05:51:09.369Z"
   },
   {
    "duration": 16,
    "start_time": "2023-12-04T05:51:09.596Z"
   },
   {
    "duration": 28,
    "start_time": "2023-12-04T05:51:09.614Z"
   },
   {
    "duration": 13,
    "start_time": "2023-12-04T05:51:09.644Z"
   },
   {
    "duration": 24,
    "start_time": "2023-12-04T05:51:09.659Z"
   },
   {
    "duration": 15,
    "start_time": "2023-12-04T05:51:09.685Z"
   },
   {
    "duration": 5,
    "start_time": "2023-12-04T05:51:09.702Z"
   },
   {
    "duration": 231,
    "start_time": "2023-12-04T05:51:09.730Z"
   },
   {
    "duration": 10,
    "start_time": "2023-12-04T05:51:09.963Z"
   },
   {
    "duration": 210,
    "start_time": "2023-12-04T05:51:09.974Z"
   },
   {
    "duration": 11,
    "start_time": "2023-12-04T05:51:10.186Z"
   },
   {
    "duration": 267,
    "start_time": "2023-12-04T05:51:10.200Z"
   },
   {
    "duration": 65,
    "start_time": "2023-12-04T05:51:10.469Z"
   },
   {
    "duration": 629,
    "start_time": "2023-12-04T05:51:10.536Z"
   },
   {
    "duration": 65,
    "start_time": "2023-12-04T05:51:11.167Z"
   },
   {
    "duration": 116,
    "start_time": "2023-12-04T06:11:12.659Z"
   },
   {
    "duration": 106,
    "start_time": "2023-12-04T06:12:02.719Z"
   },
   {
    "duration": 116,
    "start_time": "2023-12-04T06:12:27.533Z"
   },
   {
    "duration": 102,
    "start_time": "2023-12-04T06:12:46.434Z"
   },
   {
    "duration": 109,
    "start_time": "2023-12-04T06:12:50.822Z"
   },
   {
    "duration": 99,
    "start_time": "2023-12-04T06:19:19.665Z"
   },
   {
    "duration": 103,
    "start_time": "2023-12-04T06:20:04.286Z"
   },
   {
    "duration": 97,
    "start_time": "2023-12-04T06:20:15.874Z"
   },
   {
    "duration": 117,
    "start_time": "2023-12-04T06:27:08.033Z"
   },
   {
    "duration": 91,
    "start_time": "2023-12-04T06:27:25.372Z"
   },
   {
    "duration": 17,
    "start_time": "2023-12-04T06:28:07.431Z"
   },
   {
    "duration": 5,
    "start_time": "2023-12-04T06:44:38.306Z"
   },
   {
    "duration": 15,
    "start_time": "2023-12-04T06:44:42.603Z"
   },
   {
    "duration": 112,
    "start_time": "2023-12-04T06:45:16.964Z"
   },
   {
    "duration": 18,
    "start_time": "2023-12-04T06:45:18.054Z"
   },
   {
    "duration": 4,
    "start_time": "2023-12-04T06:45:33.021Z"
   },
   {
    "duration": 15,
    "start_time": "2023-12-04T06:45:34.365Z"
   },
   {
    "duration": 92,
    "start_time": "2023-12-04T06:46:25.403Z"
   },
   {
    "duration": 17,
    "start_time": "2023-12-04T06:46:26.708Z"
   },
   {
    "duration": 3,
    "start_time": "2023-12-04T06:46:35.591Z"
   },
   {
    "duration": 17,
    "start_time": "2023-12-04T06:46:36.231Z"
   },
   {
    "duration": 4,
    "start_time": "2023-12-04T06:48:29.490Z"
   },
   {
    "duration": 16,
    "start_time": "2023-12-04T06:48:30.153Z"
   },
   {
    "duration": 4,
    "start_time": "2023-12-04T06:49:01.998Z"
   },
   {
    "duration": 16,
    "start_time": "2023-12-04T06:49:02.755Z"
   },
   {
    "duration": 3,
    "start_time": "2023-12-04T06:49:29.425Z"
   },
   {
    "duration": 18,
    "start_time": "2023-12-04T06:49:33.217Z"
   },
   {
    "duration": 101,
    "start_time": "2023-12-04T06:49:44.745Z"
   },
   {
    "duration": 2,
    "start_time": "2023-12-04T06:49:45.313Z"
   },
   {
    "duration": 21,
    "start_time": "2023-12-04T06:49:45.796Z"
   },
   {
    "duration": 4,
    "start_time": "2023-12-04T06:49:55.686Z"
   },
   {
    "duration": 16,
    "start_time": "2023-12-04T06:49:56.150Z"
   },
   {
    "duration": 104,
    "start_time": "2023-12-04T06:50:08.046Z"
   },
   {
    "duration": 3,
    "start_time": "2023-12-04T06:50:08.636Z"
   },
   {
    "duration": 15,
    "start_time": "2023-12-04T06:50:09.330Z"
   },
   {
    "duration": 91,
    "start_time": "2023-12-04T06:50:22.796Z"
   },
   {
    "duration": 3,
    "start_time": "2023-12-04T06:50:23.264Z"
   },
   {
    "duration": 14,
    "start_time": "2023-12-04T06:50:23.731Z"
   },
   {
    "duration": 89,
    "start_time": "2023-12-04T06:50:43.676Z"
   },
   {
    "duration": 3,
    "start_time": "2023-12-04T06:50:44.925Z"
   },
   {
    "duration": 17,
    "start_time": "2023-12-04T06:50:45.411Z"
   },
   {
    "duration": 106,
    "start_time": "2023-12-04T06:50:56.529Z"
   },
   {
    "duration": 3,
    "start_time": "2023-12-04T06:50:58.706Z"
   },
   {
    "duration": 16,
    "start_time": "2023-12-04T06:51:00.464Z"
   },
   {
    "duration": 21,
    "start_time": "2023-12-04T06:52:28.060Z"
   },
   {
    "duration": 4,
    "start_time": "2023-12-04T06:52:28.729Z"
   },
   {
    "duration": 16,
    "start_time": "2023-12-04T06:52:29.367Z"
   },
   {
    "duration": 26,
    "start_time": "2023-12-04T06:52:51.459Z"
   },
   {
    "duration": 15,
    "start_time": "2023-12-04T06:52:52.486Z"
   },
   {
    "duration": 87,
    "start_time": "2023-12-04T06:54:02.364Z"
   },
   {
    "duration": 17,
    "start_time": "2023-12-04T06:54:03.464Z"
   },
   {
    "duration": 88,
    "start_time": "2023-12-04T06:54:36.710Z"
   },
   {
    "duration": 4,
    "start_time": "2023-12-04T06:54:39.304Z"
   },
   {
    "duration": 16,
    "start_time": "2023-12-04T06:54:39.902Z"
   },
   {
    "duration": 4,
    "start_time": "2023-12-04T06:55:11.120Z"
   },
   {
    "duration": 17,
    "start_time": "2023-12-04T06:55:12.938Z"
   },
   {
    "duration": 12,
    "start_time": "2023-12-04T06:55:43.106Z"
   },
   {
    "duration": 7,
    "start_time": "2023-12-04T07:17:07.896Z"
   },
   {
    "duration": 11,
    "start_time": "2023-12-04T07:31:35.079Z"
   },
   {
    "duration": 1496,
    "start_time": "2023-12-04T07:35:35.735Z"
   },
   {
    "duration": 1485,
    "start_time": "2023-12-04T07:39:10.825Z"
   },
   {
    "duration": 3,
    "start_time": "2023-12-04T07:42:44.679Z"
   },
   {
    "duration": 4,
    "start_time": "2023-12-04T07:43:01.411Z"
   },
   {
    "duration": 5,
    "start_time": "2023-12-04T07:44:16.970Z"
   },
   {
    "duration": 10,
    "start_time": "2023-12-04T07:44:17.818Z"
   },
   {
    "duration": 6,
    "start_time": "2023-12-04T07:44:38.849Z"
   },
   {
    "duration": 11,
    "start_time": "2023-12-04T07:44:40.657Z"
   },
   {
    "duration": 10,
    "start_time": "2023-12-04T07:49:11.254Z"
   },
   {
    "duration": 120,
    "start_time": "2023-12-04T07:52:58.459Z"
   },
   {
    "duration": 1615,
    "start_time": "2023-12-04T07:53:42.170Z"
   },
   {
    "duration": 1537,
    "start_time": "2023-12-04T07:55:28.836Z"
   },
   {
    "duration": 1474,
    "start_time": "2023-12-04T07:55:53.578Z"
   },
   {
    "duration": 106,
    "start_time": "2023-12-04T07:56:18.545Z"
   },
   {
    "duration": 1506,
    "start_time": "2023-12-04T07:56:36.509Z"
   },
   {
    "duration": 1508,
    "start_time": "2023-12-04T08:03:16.492Z"
   },
   {
    "duration": 3,
    "start_time": "2023-12-04T08:04:24.867Z"
   },
   {
    "duration": 1566,
    "start_time": "2023-12-04T08:04:33.179Z"
   },
   {
    "duration": 4,
    "start_time": "2023-12-04T08:05:21.156Z"
   },
   {
    "duration": 1476,
    "start_time": "2023-12-04T08:05:25.346Z"
   },
   {
    "duration": 3,
    "start_time": "2023-12-04T08:08:08.892Z"
   },
   {
    "duration": 1686,
    "start_time": "2023-12-04T08:08:09.610Z"
   },
   {
    "duration": 89,
    "start_time": "2023-12-04T08:12:40.929Z"
   },
   {
    "duration": 93,
    "start_time": "2023-12-04T08:13:25.093Z"
   },
   {
    "duration": 8,
    "start_time": "2023-12-04T08:13:25.727Z"
   },
   {
    "duration": 3,
    "start_time": "2023-12-04T08:13:28.407Z"
   },
   {
    "duration": 4,
    "start_time": "2023-12-04T08:13:28.825Z"
   },
   {
    "duration": 1761,
    "start_time": "2023-12-04T08:13:29.263Z"
   },
   {
    "duration": 0,
    "start_time": "2023-12-04T08:13:31.026Z"
   },
   {
    "duration": 0,
    "start_time": "2023-12-04T08:13:31.027Z"
   },
   {
    "duration": 94,
    "start_time": "2023-12-04T08:13:54.187Z"
   },
   {
    "duration": 4,
    "start_time": "2023-12-04T08:13:54.765Z"
   },
   {
    "duration": 5,
    "start_time": "2023-12-04T08:13:55.227Z"
   },
   {
    "duration": 2,
    "start_time": "2023-12-04T08:13:56.554Z"
   },
   {
    "duration": 1629,
    "start_time": "2023-12-04T08:13:57.172Z"
   },
   {
    "duration": 10,
    "start_time": "2023-12-04T08:14:10.022Z"
   },
   {
    "duration": 3,
    "start_time": "2023-12-04T08:14:29.994Z"
   },
   {
    "duration": 89,
    "start_time": "2023-12-04T08:14:36.040Z"
   },
   {
    "duration": 3,
    "start_time": "2023-12-04T08:14:36.439Z"
   },
   {
    "duration": 7,
    "start_time": "2023-12-04T08:14:36.971Z"
   },
   {
    "duration": 2,
    "start_time": "2023-12-04T08:14:37.465Z"
   },
   {
    "duration": 3,
    "start_time": "2023-12-04T08:14:37.933Z"
   },
   {
    "duration": 12,
    "start_time": "2023-12-04T08:14:39.223Z"
   },
   {
    "duration": 88,
    "start_time": "2023-12-04T08:14:54.136Z"
   },
   {
    "duration": 6,
    "start_time": "2023-12-04T08:14:54.524Z"
   },
   {
    "duration": 4,
    "start_time": "2023-12-04T08:14:57.440Z"
   },
   {
    "duration": 10,
    "start_time": "2023-12-04T08:14:59.330Z"
   },
   {
    "duration": 109,
    "start_time": "2023-12-04T08:15:13.638Z"
   },
   {
    "duration": 4,
    "start_time": "2023-12-04T08:15:14.027Z"
   },
   {
    "duration": 6,
    "start_time": "2023-12-04T08:15:14.435Z"
   },
   {
    "duration": 12,
    "start_time": "2023-12-04T08:15:15.398Z"
   },
   {
    "duration": 4,
    "start_time": "2023-12-04T08:15:39.902Z"
   },
   {
    "duration": 4,
    "start_time": "2023-12-04T08:15:41.894Z"
   },
   {
    "duration": 5,
    "start_time": "2023-12-04T08:15:42.795Z"
   },
   {
    "duration": 10,
    "start_time": "2023-12-04T08:15:43.398Z"
   },
   {
    "duration": 4,
    "start_time": "2023-12-04T08:15:48.508Z"
   },
   {
    "duration": 4757,
    "start_time": "2023-12-04T08:15:49.489Z"
   },
   {
    "duration": 9,
    "start_time": "2023-12-04T08:16:04.121Z"
   },
   {
    "duration": 3,
    "start_time": "2023-12-04T08:16:19.783Z"
   },
   {
    "duration": 12786,
    "start_time": "2023-12-04T08:16:20.839Z"
   },
   {
    "duration": 9,
    "start_time": "2023-12-04T08:16:35.235Z"
   },
   {
    "duration": 3,
    "start_time": "2023-12-04T08:24:35.644Z"
   },
   {
    "duration": 4804,
    "start_time": "2023-12-04T08:24:36.275Z"
   },
   {
    "duration": 11,
    "start_time": "2023-12-04T08:24:41.081Z"
   },
   {
    "duration": 5,
    "start_time": "2023-12-04T08:26:59.500Z"
   },
   {
    "duration": 11,
    "start_time": "2023-12-04T08:27:00.049Z"
   },
   {
    "duration": 11,
    "start_time": "2023-12-04T08:27:04.850Z"
   },
   {
    "duration": 11,
    "start_time": "2023-12-04T08:28:36.670Z"
   },
   {
    "duration": 13,
    "start_time": "2023-12-04T08:30:06.614Z"
   },
   {
    "duration": 15,
    "start_time": "2023-12-04T08:30:14.105Z"
   },
   {
    "duration": 10,
    "start_time": "2023-12-04T08:31:06.091Z"
   },
   {
    "duration": 10,
    "start_time": "2023-12-04T08:31:12.143Z"
   },
   {
    "duration": 783,
    "start_time": "2023-12-05T06:23:20.899Z"
   },
   {
    "duration": 186,
    "start_time": "2023-12-05T06:23:21.684Z"
   },
   {
    "duration": 11,
    "start_time": "2023-12-05T06:23:21.871Z"
   },
   {
    "duration": 11,
    "start_time": "2023-12-05T06:23:21.884Z"
   },
   {
    "duration": 5,
    "start_time": "2023-12-05T06:23:21.897Z"
   },
   {
    "duration": 13,
    "start_time": "2023-12-05T06:23:21.904Z"
   },
   {
    "duration": 25,
    "start_time": "2023-12-05T06:23:21.918Z"
   },
   {
    "duration": 24,
    "start_time": "2023-12-05T06:23:21.944Z"
   },
   {
    "duration": 17,
    "start_time": "2023-12-05T06:23:21.970Z"
   },
   {
    "duration": 11,
    "start_time": "2023-12-05T06:23:21.989Z"
   },
   {
    "duration": 285,
    "start_time": "2023-12-05T06:23:22.001Z"
   },
   {
    "duration": 358,
    "start_time": "2023-12-05T06:23:22.288Z"
   },
   {
    "duration": 13,
    "start_time": "2023-12-05T06:23:22.654Z"
   },
   {
    "duration": 10,
    "start_time": "2023-12-05T06:23:22.670Z"
   },
   {
    "duration": 16,
    "start_time": "2023-12-05T06:23:22.681Z"
   },
   {
    "duration": 5,
    "start_time": "2023-12-05T06:23:22.698Z"
   },
   {
    "duration": 6,
    "start_time": "2023-12-05T06:23:22.704Z"
   },
   {
    "duration": 27,
    "start_time": "2023-12-05T06:23:22.711Z"
   },
   {
    "duration": 63,
    "start_time": "2023-12-05T06:23:22.740Z"
   },
   {
    "duration": 5,
    "start_time": "2023-12-05T06:23:22.804Z"
   },
   {
    "duration": 7,
    "start_time": "2023-12-05T06:23:22.810Z"
   },
   {
    "duration": 20,
    "start_time": "2023-12-05T06:23:22.818Z"
   },
   {
    "duration": 20,
    "start_time": "2023-12-05T06:23:22.840Z"
   },
   {
    "duration": 8,
    "start_time": "2023-12-05T06:23:22.862Z"
   },
   {
    "duration": 8,
    "start_time": "2023-12-05T06:23:22.873Z"
   },
   {
    "duration": 5,
    "start_time": "2023-12-05T06:23:22.882Z"
   },
   {
    "duration": 159,
    "start_time": "2023-12-05T06:23:22.889Z"
   },
   {
    "duration": 14,
    "start_time": "2023-12-05T06:23:23.049Z"
   },
   {
    "duration": 106,
    "start_time": "2023-12-05T06:23:23.064Z"
   },
   {
    "duration": 9,
    "start_time": "2023-12-05T06:23:23.172Z"
   },
   {
    "duration": 201,
    "start_time": "2023-12-05T06:23:23.183Z"
   },
   {
    "duration": 9,
    "start_time": "2023-12-05T06:23:23.385Z"
   },
   {
    "duration": 198,
    "start_time": "2023-12-05T06:23:23.395Z"
   },
   {
    "duration": 115,
    "start_time": "2023-12-05T06:23:23.594Z"
   },
   {
    "duration": 8,
    "start_time": "2023-12-05T06:23:23.710Z"
   },
   {
    "duration": 203,
    "start_time": "2023-12-05T06:23:23.720Z"
   },
   {
    "duration": 112,
    "start_time": "2023-12-05T06:23:23.925Z"
   },
   {
    "duration": 26,
    "start_time": "2023-12-05T06:23:24.038Z"
   },
   {
    "duration": 5,
    "start_time": "2023-12-05T06:23:24.067Z"
   },
   {
    "duration": 18,
    "start_time": "2023-12-05T06:23:24.073Z"
   },
   {
    "duration": 17,
    "start_time": "2023-12-05T06:23:24.095Z"
   },
   {
    "duration": 17,
    "start_time": "2023-12-05T06:23:24.114Z"
   },
   {
    "duration": 10,
    "start_time": "2023-12-05T06:23:24.132Z"
   },
   {
    "duration": 27,
    "start_time": "2023-12-05T06:23:24.143Z"
   },
   {
    "duration": 16,
    "start_time": "2023-12-05T06:23:24.171Z"
   },
   {
    "duration": 203,
    "start_time": "2023-12-05T06:23:24.189Z"
   },
   {
    "duration": 14,
    "start_time": "2023-12-05T06:23:24.394Z"
   },
   {
    "duration": 15,
    "start_time": "2023-12-05T06:23:24.409Z"
   },
   {
    "duration": 27,
    "start_time": "2023-12-05T06:23:24.425Z"
   },
   {
    "duration": 33,
    "start_time": "2023-12-05T06:23:24.455Z"
   },
   {
    "duration": 14,
    "start_time": "2023-12-05T06:23:24.490Z"
   },
   {
    "duration": 7,
    "start_time": "2023-12-05T06:23:24.506Z"
   },
   {
    "duration": 200,
    "start_time": "2023-12-05T06:23:24.514Z"
   },
   {
    "duration": 8,
    "start_time": "2023-12-05T06:23:24.715Z"
   },
   {
    "duration": 187,
    "start_time": "2023-12-05T06:23:24.724Z"
   },
   {
    "duration": 7,
    "start_time": "2023-12-05T06:23:24.913Z"
   },
   {
    "duration": 296,
    "start_time": "2023-12-05T06:23:24.922Z"
   },
   {
    "duration": 8,
    "start_time": "2023-12-05T06:23:25.220Z"
   },
   {
    "duration": 192,
    "start_time": "2023-12-05T06:23:25.230Z"
   },
   {
    "duration": 7,
    "start_time": "2023-12-05T06:23:25.423Z"
   },
   {
    "duration": 29,
    "start_time": "2023-12-05T06:23:25.431Z"
   },
   {
    "duration": 95,
    "start_time": "2023-12-05T06:23:25.461Z"
   },
   {
    "duration": 6,
    "start_time": "2023-12-05T06:23:25.565Z"
   },
   {
    "duration": 9,
    "start_time": "2023-12-05T06:23:25.572Z"
   },
   {
    "duration": 11,
    "start_time": "2023-12-05T06:23:25.583Z"
   },
   {
    "duration": 6,
    "start_time": "2023-12-05T06:23:25.596Z"
   },
   {
    "duration": 10,
    "start_time": "2023-12-05T06:23:25.603Z"
   },
   {
    "duration": 27,
    "start_time": "2023-12-05T06:23:25.614Z"
   },
   {
    "duration": 5,
    "start_time": "2023-12-05T06:23:25.642Z"
   },
   {
    "duration": 5068,
    "start_time": "2023-12-05T06:23:25.649Z"
   },
   {
    "duration": 8,
    "start_time": "2023-12-05T06:23:30.719Z"
   },
   {
    "duration": 82,
    "start_time": "2023-12-05T08:15:59.780Z"
   },
   {
    "duration": 1323,
    "start_time": "2023-12-05T08:27:44.051Z"
   },
   {
    "duration": 1253,
    "start_time": "2023-12-05T08:28:07.208Z"
   },
   {
    "duration": 1171,
    "start_time": "2023-12-05T08:28:19.762Z"
   },
   {
    "duration": 173,
    "start_time": "2023-12-05T08:32:05.399Z"
   },
   {
    "duration": 429,
    "start_time": "2023-12-05T08:37:25.524Z"
   },
   {
    "duration": 6,
    "start_time": "2023-12-05T08:43:41.152Z"
   },
   {
    "duration": 6,
    "start_time": "2023-12-05T08:46:52.065Z"
   },
   {
    "duration": 32,
    "start_time": "2023-12-05T08:47:17.907Z"
   },
   {
    "duration": 53,
    "start_time": "2023-12-05T08:48:12.127Z"
   },
   {
    "duration": 849,
    "start_time": "2023-12-05T08:48:19.089Z"
   },
   {
    "duration": 795,
    "start_time": "2023-12-05T08:50:53.651Z"
   },
   {
    "duration": 758,
    "start_time": "2023-12-05T08:50:58.244Z"
   },
   {
    "duration": 794,
    "start_time": "2023-12-05T08:51:34.632Z"
   },
   {
    "duration": 5,
    "start_time": "2023-12-05T08:56:04.898Z"
   },
   {
    "duration": 6,
    "start_time": "2023-12-05T08:56:09.395Z"
   },
   {
    "duration": 5,
    "start_time": "2023-12-05T08:57:04.573Z"
   },
   {
    "duration": 3,
    "start_time": "2023-12-05T09:15:10.288Z"
   },
   {
    "duration": 5,
    "start_time": "2023-12-05T09:25:06.312Z"
   },
   {
    "duration": 56,
    "start_time": "2023-12-06T03:32:00.786Z"
   },
   {
    "duration": 1292,
    "start_time": "2023-12-06T03:32:08.281Z"
   },
   {
    "duration": 304,
    "start_time": "2023-12-06T03:32:09.575Z"
   },
   {
    "duration": 13,
    "start_time": "2023-12-06T03:32:09.880Z"
   },
   {
    "duration": 15,
    "start_time": "2023-12-06T03:32:09.895Z"
   },
   {
    "duration": 9,
    "start_time": "2023-12-06T03:32:09.911Z"
   },
   {
    "duration": 15,
    "start_time": "2023-12-06T03:32:09.921Z"
   },
   {
    "duration": 25,
    "start_time": "2023-12-06T03:32:09.937Z"
   },
   {
    "duration": 9,
    "start_time": "2023-12-06T03:32:09.964Z"
   },
   {
    "duration": 32,
    "start_time": "2023-12-06T03:32:09.975Z"
   },
   {
    "duration": 10,
    "start_time": "2023-12-06T03:32:10.012Z"
   },
   {
    "duration": 288,
    "start_time": "2023-12-06T03:32:10.023Z"
   },
   {
    "duration": 380,
    "start_time": "2023-12-06T03:32:10.312Z"
   },
   {
    "duration": 13,
    "start_time": "2023-12-06T03:32:10.694Z"
   },
   {
    "duration": 23,
    "start_time": "2023-12-06T03:32:10.708Z"
   },
   {
    "duration": 11,
    "start_time": "2023-12-06T03:32:10.733Z"
   },
   {
    "duration": 4,
    "start_time": "2023-12-06T03:32:10.746Z"
   },
   {
    "duration": 7,
    "start_time": "2023-12-06T03:32:10.751Z"
   },
   {
    "duration": 7,
    "start_time": "2023-12-06T03:32:10.760Z"
   },
   {
    "duration": 5,
    "start_time": "2023-12-06T03:32:10.768Z"
   },
   {
    "duration": 4,
    "start_time": "2023-12-06T03:32:10.775Z"
   },
   {
    "duration": 12,
    "start_time": "2023-12-06T03:32:10.804Z"
   },
   {
    "duration": 8,
    "start_time": "2023-12-06T03:32:10.818Z"
   },
   {
    "duration": 14,
    "start_time": "2023-12-06T03:32:10.828Z"
   },
   {
    "duration": 5,
    "start_time": "2023-12-06T03:32:10.844Z"
   },
   {
    "duration": 9,
    "start_time": "2023-12-06T03:32:10.850Z"
   },
   {
    "duration": 7,
    "start_time": "2023-12-06T03:32:10.860Z"
   },
   {
    "duration": 176,
    "start_time": "2023-12-06T03:32:10.868Z"
   },
   {
    "duration": 12,
    "start_time": "2023-12-06T03:32:11.048Z"
   },
   {
    "duration": 112,
    "start_time": "2023-12-06T03:32:11.062Z"
   },
   {
    "duration": 8,
    "start_time": "2023-12-06T03:32:11.176Z"
   },
   {
    "duration": 195,
    "start_time": "2023-12-06T03:32:11.186Z"
   },
   {
    "duration": 8,
    "start_time": "2023-12-06T03:32:11.382Z"
   },
   {
    "duration": 199,
    "start_time": "2023-12-06T03:32:11.392Z"
   },
   {
    "duration": 127,
    "start_time": "2023-12-06T03:32:11.593Z"
   },
   {
    "duration": 8,
    "start_time": "2023-12-06T03:32:11.721Z"
   },
   {
    "duration": 208,
    "start_time": "2023-12-06T03:32:11.731Z"
   },
   {
    "duration": 192,
    "start_time": "2023-12-06T03:32:11.941Z"
   },
   {
    "duration": 12,
    "start_time": "2023-12-06T03:32:12.135Z"
   },
   {
    "duration": 17,
    "start_time": "2023-12-06T03:32:12.148Z"
   },
   {
    "duration": 10,
    "start_time": "2023-12-06T03:32:12.167Z"
   },
   {
    "duration": 4,
    "start_time": "2023-12-06T03:32:12.179Z"
   },
   {
    "duration": 31,
    "start_time": "2023-12-06T03:32:12.184Z"
   },
   {
    "duration": 11,
    "start_time": "2023-12-06T03:32:12.216Z"
   },
   {
    "duration": 11,
    "start_time": "2023-12-06T03:32:12.229Z"
   },
   {
    "duration": 11,
    "start_time": "2023-12-06T03:32:12.242Z"
   },
   {
    "duration": 205,
    "start_time": "2023-12-06T03:32:12.254Z"
   },
   {
    "duration": 14,
    "start_time": "2023-12-06T03:32:12.461Z"
   },
   {
    "duration": 33,
    "start_time": "2023-12-06T03:32:12.476Z"
   },
   {
    "duration": 19,
    "start_time": "2023-12-06T03:32:12.511Z"
   },
   {
    "duration": 20,
    "start_time": "2023-12-06T03:32:12.531Z"
   },
   {
    "duration": 13,
    "start_time": "2023-12-06T03:32:12.552Z"
   },
   {
    "duration": 14,
    "start_time": "2023-12-06T03:32:12.567Z"
   },
   {
    "duration": 208,
    "start_time": "2023-12-06T03:32:12.582Z"
   },
   {
    "duration": 19,
    "start_time": "2023-12-06T03:32:12.791Z"
   },
   {
    "duration": 164,
    "start_time": "2023-12-06T03:32:12.812Z"
   },
   {
    "duration": 8,
    "start_time": "2023-12-06T03:32:12.978Z"
   },
   {
    "duration": 225,
    "start_time": "2023-12-06T03:32:12.987Z"
   },
   {
    "duration": 8,
    "start_time": "2023-12-06T03:32:13.214Z"
   },
   {
    "duration": 191,
    "start_time": "2023-12-06T03:32:13.224Z"
   },
   {
    "duration": 7,
    "start_time": "2023-12-06T03:32:13.417Z"
   },
   {
    "duration": 6,
    "start_time": "2023-12-06T03:32:13.426Z"
   },
   {
    "duration": 115,
    "start_time": "2023-12-06T03:32:13.433Z"
   },
   {
    "duration": 4,
    "start_time": "2023-12-06T03:32:13.550Z"
   },
   {
    "duration": 9,
    "start_time": "2023-12-06T03:32:13.556Z"
   },
   {
    "duration": 3,
    "start_time": "2023-12-06T03:32:13.567Z"
   },
   {
    "duration": 7,
    "start_time": "2023-12-06T03:32:13.572Z"
   },
   {
    "duration": 7,
    "start_time": "2023-12-06T03:32:13.580Z"
   },
   {
    "duration": 30,
    "start_time": "2023-12-06T03:32:13.588Z"
   },
   {
    "duration": 9,
    "start_time": "2023-12-06T03:32:13.620Z"
   },
   {
    "duration": 4879,
    "start_time": "2023-12-06T03:32:13.631Z"
   },
   {
    "duration": 9,
    "start_time": "2023-12-06T03:32:18.512Z"
   },
   {
    "duration": 15,
    "start_time": "2023-12-06T03:32:18.522Z"
   },
   {
    "duration": 5,
    "start_time": "2023-12-06T03:32:18.539Z"
   },
   {
    "duration": 9,
    "start_time": "2023-12-06T03:32:18.546Z"
   },
   {
    "duration": 4,
    "start_time": "2023-12-06T04:09:13.796Z"
   },
   {
    "duration": 195,
    "start_time": "2023-12-06T04:12:14.897Z"
   },
   {
    "duration": 874,
    "start_time": "2023-12-06T04:12:22.081Z"
   },
   {
    "duration": 191,
    "start_time": "2023-12-06T04:15:06.903Z"
   },
   {
    "duration": 192,
    "start_time": "2023-12-06T04:15:28.315Z"
   },
   {
    "duration": 100,
    "start_time": "2023-12-06T04:20:27.289Z"
   },
   {
    "duration": 3,
    "start_time": "2023-12-06T04:21:14.344Z"
   },
   {
    "duration": 274,
    "start_time": "2023-12-06T04:21:20.616Z"
   },
   {
    "duration": 15,
    "start_time": "2023-12-06T04:23:45.147Z"
   },
   {
    "duration": 4,
    "start_time": "2023-12-06T04:23:56.407Z"
   },
   {
    "duration": 155,
    "start_time": "2023-12-06T04:24:02.325Z"
   },
   {
    "duration": 6,
    "start_time": "2023-12-06T04:24:46.889Z"
   },
   {
    "duration": 155,
    "start_time": "2023-12-06T04:24:56.210Z"
   },
   {
    "duration": 257,
    "start_time": "2023-12-06T04:25:06.264Z"
   },
   {
    "duration": 1333,
    "start_time": "2023-12-07T08:52:57.135Z"
   },
   {
    "duration": 190,
    "start_time": "2023-12-07T08:52:58.471Z"
   },
   {
    "duration": 14,
    "start_time": "2023-12-07T08:52:58.664Z"
   },
   {
    "duration": 23,
    "start_time": "2023-12-07T08:52:58.680Z"
   },
   {
    "duration": 40,
    "start_time": "2023-12-07T08:52:58.705Z"
   },
   {
    "duration": 26,
    "start_time": "2023-12-07T08:52:58.747Z"
   },
   {
    "duration": 32,
    "start_time": "2023-12-07T08:52:58.774Z"
   },
   {
    "duration": 17,
    "start_time": "2023-12-07T08:52:58.807Z"
   },
   {
    "duration": 19,
    "start_time": "2023-12-07T08:52:58.825Z"
   },
   {
    "duration": 12,
    "start_time": "2023-12-07T08:52:58.845Z"
   },
   {
    "duration": 317,
    "start_time": "2023-12-07T08:52:58.859Z"
   },
   {
    "duration": 404,
    "start_time": "2023-12-07T08:52:59.178Z"
   },
   {
    "duration": 6,
    "start_time": "2023-12-07T08:52:59.584Z"
   },
   {
    "duration": 21,
    "start_time": "2023-12-07T08:52:59.593Z"
   },
   {
    "duration": 17,
    "start_time": "2023-12-07T08:52:59.616Z"
   },
   {
    "duration": 6,
    "start_time": "2023-12-07T08:52:59.635Z"
   },
   {
    "duration": 11,
    "start_time": "2023-12-07T08:52:59.651Z"
   },
   {
    "duration": 7,
    "start_time": "2023-12-07T08:52:59.665Z"
   },
   {
    "duration": 6,
    "start_time": "2023-12-07T08:52:59.674Z"
   },
   {
    "duration": 16,
    "start_time": "2023-12-07T08:52:59.681Z"
   },
   {
    "duration": 11,
    "start_time": "2023-12-07T08:52:59.698Z"
   },
   {
    "duration": 22,
    "start_time": "2023-12-07T08:52:59.710Z"
   },
   {
    "duration": 19,
    "start_time": "2023-12-07T08:52:59.734Z"
   },
   {
    "duration": 5,
    "start_time": "2023-12-07T08:52:59.754Z"
   },
   {
    "duration": 10,
    "start_time": "2023-12-07T08:52:59.761Z"
   },
   {
    "duration": 18,
    "start_time": "2023-12-07T08:52:59.772Z"
   },
   {
    "duration": 156,
    "start_time": "2023-12-07T08:52:59.791Z"
   },
   {
    "duration": 9,
    "start_time": "2023-12-07T08:52:59.948Z"
   },
   {
    "duration": 112,
    "start_time": "2023-12-07T08:52:59.958Z"
   },
   {
    "duration": 8,
    "start_time": "2023-12-07T08:53:00.071Z"
   },
   {
    "duration": 217,
    "start_time": "2023-12-07T08:53:00.081Z"
   },
   {
    "duration": 8,
    "start_time": "2023-12-07T08:53:00.300Z"
   },
   {
    "duration": 220,
    "start_time": "2023-12-07T08:53:00.309Z"
   },
   {
    "duration": 131,
    "start_time": "2023-12-07T08:53:00.531Z"
   },
   {
    "duration": 10,
    "start_time": "2023-12-07T08:53:00.663Z"
   },
   {
    "duration": 233,
    "start_time": "2023-12-07T08:53:00.675Z"
   },
   {
    "duration": 208,
    "start_time": "2023-12-07T08:53:00.910Z"
   },
   {
    "duration": 14,
    "start_time": "2023-12-07T08:53:01.120Z"
   },
   {
    "duration": 43,
    "start_time": "2023-12-07T08:53:01.136Z"
   },
   {
    "duration": 90,
    "start_time": "2023-12-07T08:53:01.180Z"
   },
   {
    "duration": 29,
    "start_time": "2023-12-07T08:53:01.276Z"
   },
   {
    "duration": 59,
    "start_time": "2023-12-07T08:53:01.307Z"
   },
   {
    "duration": 42,
    "start_time": "2023-12-07T08:53:01.367Z"
   },
   {
    "duration": 53,
    "start_time": "2023-12-07T08:53:01.410Z"
   },
   {
    "duration": 130,
    "start_time": "2023-12-07T08:53:01.464Z"
   },
   {
    "duration": 265,
    "start_time": "2023-12-07T08:53:01.595Z"
   },
   {
    "duration": 18,
    "start_time": "2023-12-07T08:53:01.862Z"
   },
   {
    "duration": 100,
    "start_time": "2023-12-07T08:53:01.881Z"
   },
   {
    "duration": 113,
    "start_time": "2023-12-07T08:53:01.982Z"
   },
   {
    "duration": 40,
    "start_time": "2023-12-07T08:53:02.096Z"
   },
   {
    "duration": 48,
    "start_time": "2023-12-07T08:53:02.137Z"
   },
   {
    "duration": 18,
    "start_time": "2023-12-07T08:53:02.186Z"
   },
   {
    "duration": 232,
    "start_time": "2023-12-07T08:53:02.205Z"
   },
   {
    "duration": 16,
    "start_time": "2023-12-07T08:53:02.438Z"
   },
   {
    "duration": 321,
    "start_time": "2023-12-07T08:53:02.456Z"
   },
   {
    "duration": 8,
    "start_time": "2023-12-07T08:53:02.779Z"
   },
   {
    "duration": 236,
    "start_time": "2023-12-07T08:53:02.788Z"
   },
   {
    "duration": 7,
    "start_time": "2023-12-07T08:53:03.026Z"
   },
   {
    "duration": 256,
    "start_time": "2023-12-07T08:53:03.035Z"
   },
   {
    "duration": 8,
    "start_time": "2023-12-07T08:53:03.293Z"
   },
   {
    "duration": 12,
    "start_time": "2023-12-07T08:53:03.302Z"
   },
   {
    "duration": 131,
    "start_time": "2023-12-07T08:53:03.315Z"
   },
   {
    "duration": 3,
    "start_time": "2023-12-07T08:53:03.447Z"
   },
   {
    "duration": 17,
    "start_time": "2023-12-07T08:53:03.452Z"
   },
   {
    "duration": 22,
    "start_time": "2023-12-07T08:53:03.471Z"
   },
   {
    "duration": 5,
    "start_time": "2023-12-07T08:53:03.494Z"
   },
   {
    "duration": 6,
    "start_time": "2023-12-07T08:53:03.500Z"
   },
   {
    "duration": 11,
    "start_time": "2023-12-07T08:53:03.508Z"
   },
   {
    "duration": 15,
    "start_time": "2023-12-07T08:53:03.520Z"
   },
   {
    "duration": 4976,
    "start_time": "2023-12-07T08:53:03.537Z"
   },
   {
    "duration": 8,
    "start_time": "2023-12-07T08:53:08.515Z"
   },
   {
    "duration": 15,
    "start_time": "2023-12-07T08:53:08.524Z"
   },
   {
    "duration": 12,
    "start_time": "2023-12-07T08:53:08.540Z"
   },
   {
    "duration": 14,
    "start_time": "2023-12-07T08:53:08.554Z"
   },
   {
    "duration": 320,
    "start_time": "2023-12-07T08:53:08.570Z"
   },
   {
    "duration": 195,
    "start_time": "2023-12-07T08:53:08.891Z"
   },
   {
    "duration": 281,
    "start_time": "2023-12-07T09:01:37.859Z"
   },
   {
    "duration": 106,
    "start_time": "2023-12-07T09:01:45.290Z"
   },
   {
    "duration": 55,
    "start_time": "2023-12-07T09:01:57.241Z"
   },
   {
    "duration": 56,
    "start_time": "2023-12-07T09:10:43.835Z"
   },
   {
    "duration": 1828,
    "start_time": "2023-12-07T09:14:38.038Z"
   },
   {
    "duration": 1843,
    "start_time": "2023-12-07T09:15:26.241Z"
   },
   {
    "duration": 1577,
    "start_time": "2023-12-07T09:15:35.476Z"
   },
   {
    "duration": 209,
    "start_time": "2023-12-07T09:16:56.919Z"
   },
   {
    "duration": 200,
    "start_time": "2023-12-07T09:17:04.604Z"
   },
   {
    "duration": 1726,
    "start_time": "2023-12-07T09:17:55.114Z"
   },
   {
    "duration": 1604,
    "start_time": "2023-12-07T09:20:38.453Z"
   },
   {
    "duration": 1763,
    "start_time": "2023-12-07T09:21:50.446Z"
   },
   {
    "duration": 1645,
    "start_time": "2023-12-07T09:22:57.255Z"
   },
   {
    "duration": 114,
    "start_time": "2023-12-07T09:23:14.402Z"
   },
   {
    "duration": 124,
    "start_time": "2023-12-07T09:23:22.483Z"
   },
   {
    "duration": 138,
    "start_time": "2023-12-07T09:24:16.953Z"
   },
   {
    "duration": 118,
    "start_time": "2023-12-07T09:24:24.663Z"
   },
   {
    "duration": 117,
    "start_time": "2023-12-07T09:24:28.215Z"
   },
   {
    "duration": 127,
    "start_time": "2023-12-07T09:24:30.750Z"
   },
   {
    "duration": 884,
    "start_time": "2023-12-07T09:24:42.255Z"
   },
   {
    "duration": 148,
    "start_time": "2023-12-07T09:24:46.296Z"
   },
   {
    "duration": 124,
    "start_time": "2023-12-07T09:24:48.785Z"
   },
   {
    "duration": 105,
    "start_time": "2023-12-07T09:24:59.320Z"
   },
   {
    "duration": 144,
    "start_time": "2023-12-07T09:25:51.970Z"
   },
   {
    "duration": 103,
    "start_time": "2023-12-07T09:26:58.108Z"
   },
   {
    "duration": 117,
    "start_time": "2023-12-07T09:27:04.549Z"
   },
   {
    "duration": 386,
    "start_time": "2023-12-07T09:27:38.755Z"
   },
   {
    "duration": 134,
    "start_time": "2023-12-07T09:33:57.052Z"
   },
   {
    "duration": 150,
    "start_time": "2023-12-07T09:46:55.360Z"
   },
   {
    "duration": 150,
    "start_time": "2023-12-07T09:46:58.113Z"
   },
   {
    "duration": 5,
    "start_time": "2023-12-07T09:48:43.688Z"
   },
   {
    "duration": 184,
    "start_time": "2023-12-07T09:48:45.024Z"
   },
   {
    "duration": 135,
    "start_time": "2023-12-07T09:49:07.675Z"
   },
   {
    "duration": 133,
    "start_time": "2023-12-07T09:49:14.623Z"
   },
   {
    "duration": 145,
    "start_time": "2023-12-07T09:49:30.770Z"
   },
   {
    "duration": 1127,
    "start_time": "2023-12-07T09:49:36.998Z"
   },
   {
    "duration": 68,
    "start_time": "2023-12-07T09:49:38.127Z"
   },
   {
    "duration": 15,
    "start_time": "2023-12-07T09:49:38.197Z"
   },
   {
    "duration": 10,
    "start_time": "2023-12-07T09:49:38.215Z"
   },
   {
    "duration": 15,
    "start_time": "2023-12-07T09:49:38.227Z"
   },
   {
    "duration": 17,
    "start_time": "2023-12-07T09:49:38.243Z"
   },
   {
    "duration": 31,
    "start_time": "2023-12-07T09:49:38.262Z"
   },
   {
    "duration": 11,
    "start_time": "2023-12-07T09:49:38.295Z"
   },
   {
    "duration": 31,
    "start_time": "2023-12-07T09:49:38.307Z"
   },
   {
    "duration": 10,
    "start_time": "2023-12-07T09:49:38.340Z"
   },
   {
    "duration": 438,
    "start_time": "2023-12-07T09:49:38.352Z"
   },
   {
    "duration": 417,
    "start_time": "2023-12-07T09:49:38.791Z"
   },
   {
    "duration": 6,
    "start_time": "2023-12-07T09:49:39.210Z"
   },
   {
    "duration": 10,
    "start_time": "2023-12-07T09:49:39.218Z"
   },
   {
    "duration": 28,
    "start_time": "2023-12-07T09:49:39.230Z"
   },
   {
    "duration": 6,
    "start_time": "2023-12-07T09:49:39.260Z"
   },
   {
    "duration": 9,
    "start_time": "2023-12-07T09:49:39.267Z"
   },
   {
    "duration": 8,
    "start_time": "2023-12-07T09:49:39.278Z"
   },
   {
    "duration": 6,
    "start_time": "2023-12-07T09:49:39.288Z"
   },
   {
    "duration": 5,
    "start_time": "2023-12-07T09:49:39.296Z"
   },
   {
    "duration": 52,
    "start_time": "2023-12-07T09:49:39.302Z"
   },
   {
    "duration": 10,
    "start_time": "2023-12-07T09:49:39.355Z"
   },
   {
    "duration": 14,
    "start_time": "2023-12-07T09:49:39.366Z"
   },
   {
    "duration": 14,
    "start_time": "2023-12-07T09:49:39.381Z"
   },
   {
    "duration": 8,
    "start_time": "2023-12-07T09:49:39.397Z"
   },
   {
    "duration": 7,
    "start_time": "2023-12-07T09:49:39.407Z"
   },
   {
    "duration": 169,
    "start_time": "2023-12-07T09:49:39.415Z"
   },
   {
    "duration": 5,
    "start_time": "2023-12-07T09:49:39.588Z"
   },
   {
    "duration": 116,
    "start_time": "2023-12-07T09:49:39.595Z"
   },
   {
    "duration": 7,
    "start_time": "2023-12-07T09:49:39.713Z"
   },
   {
    "duration": 211,
    "start_time": "2023-12-07T09:49:39.722Z"
   },
   {
    "duration": 8,
    "start_time": "2023-12-07T09:49:39.935Z"
   },
   {
    "duration": 226,
    "start_time": "2023-12-07T09:49:39.952Z"
   },
   {
    "duration": 130,
    "start_time": "2023-12-07T09:49:40.180Z"
   },
   {
    "duration": 9,
    "start_time": "2023-12-07T09:49:40.311Z"
   },
   {
    "duration": 220,
    "start_time": "2023-12-07T09:49:40.321Z"
   },
   {
    "duration": 192,
    "start_time": "2023-12-07T09:49:40.543Z"
   },
   {
    "duration": 22,
    "start_time": "2023-12-07T09:49:40.736Z"
   },
   {
    "duration": 6,
    "start_time": "2023-12-07T09:49:40.759Z"
   },
   {
    "duration": 25,
    "start_time": "2023-12-07T09:49:40.766Z"
   },
   {
    "duration": 5,
    "start_time": "2023-12-07T09:49:40.793Z"
   },
   {
    "duration": 12,
    "start_time": "2023-12-07T09:49:40.800Z"
   },
   {
    "duration": 13,
    "start_time": "2023-12-07T09:49:40.813Z"
   },
   {
    "duration": 36,
    "start_time": "2023-12-07T09:49:40.828Z"
   },
   {
    "duration": 9,
    "start_time": "2023-12-07T09:49:40.867Z"
   },
   {
    "duration": 226,
    "start_time": "2023-12-07T09:49:40.878Z"
   },
   {
    "duration": 16,
    "start_time": "2023-12-07T09:49:41.106Z"
   },
   {
    "duration": 31,
    "start_time": "2023-12-07T09:49:41.124Z"
   },
   {
    "duration": 25,
    "start_time": "2023-12-07T09:49:41.159Z"
   },
   {
    "duration": 24,
    "start_time": "2023-12-07T09:49:41.186Z"
   },
   {
    "duration": 15,
    "start_time": "2023-12-07T09:49:41.212Z"
   },
   {
    "duration": 11,
    "start_time": "2023-12-07T09:49:41.229Z"
   },
   {
    "duration": 223,
    "start_time": "2023-12-07T09:49:41.241Z"
   },
   {
    "duration": 8,
    "start_time": "2023-12-07T09:49:41.466Z"
   },
   {
    "duration": 186,
    "start_time": "2023-12-07T09:49:41.476Z"
   },
   {
    "duration": 9,
    "start_time": "2023-12-07T09:49:41.663Z"
   },
   {
    "duration": 223,
    "start_time": "2023-12-07T09:49:41.674Z"
   },
   {
    "duration": 8,
    "start_time": "2023-12-07T09:49:41.899Z"
   },
   {
    "duration": 208,
    "start_time": "2023-12-07T09:49:41.908Z"
   },
   {
    "duration": 7,
    "start_time": "2023-12-07T09:49:42.118Z"
   },
   {
    "duration": 15,
    "start_time": "2023-12-07T09:49:42.127Z"
   },
   {
    "duration": 125,
    "start_time": "2023-12-07T09:49:42.143Z"
   },
   {
    "duration": 3,
    "start_time": "2023-12-07T09:49:42.270Z"
   },
   {
    "duration": 22,
    "start_time": "2023-12-07T09:49:42.274Z"
   },
   {
    "duration": 24,
    "start_time": "2023-12-07T09:49:42.298Z"
   },
   {
    "duration": 22,
    "start_time": "2023-12-07T09:49:42.323Z"
   },
   {
    "duration": 21,
    "start_time": "2023-12-07T09:49:42.347Z"
   },
   {
    "duration": 20,
    "start_time": "2023-12-07T09:49:42.370Z"
   },
   {
    "duration": 13,
    "start_time": "2023-12-07T09:49:42.392Z"
   },
   {
    "duration": 4862,
    "start_time": "2023-12-07T09:49:42.407Z"
   },
   {
    "duration": 10,
    "start_time": "2023-12-07T09:49:47.270Z"
   },
   {
    "duration": 14,
    "start_time": "2023-12-07T09:49:47.282Z"
   },
   {
    "duration": 37,
    "start_time": "2023-12-07T09:49:47.298Z"
   },
   {
    "duration": 25,
    "start_time": "2023-12-07T09:49:47.337Z"
   },
   {
    "duration": 133,
    "start_time": "2023-12-07T09:49:47.363Z"
   },
   {
    "duration": 159,
    "start_time": "2023-12-07T09:49:47.498Z"
   },
   {
    "duration": 4,
    "start_time": "2023-12-07T09:49:47.658Z"
   },
   {
    "duration": 177,
    "start_time": "2023-12-07T09:49:47.664Z"
   },
   {
    "duration": 152,
    "start_time": "2023-12-07T09:51:44.075Z"
   },
   {
    "duration": 4,
    "start_time": "2023-12-07T09:54:09.505Z"
   },
   {
    "duration": 146,
    "start_time": "2023-12-07T10:13:10.546Z"
   },
   {
    "duration": 226,
    "start_time": "2023-12-07T10:35:44.154Z"
   },
   {
    "duration": 222,
    "start_time": "2023-12-07T10:35:53.851Z"
   },
   {
    "duration": 255,
    "start_time": "2023-12-07T10:36:17.809Z"
   },
   {
    "duration": 255,
    "start_time": "2023-12-07T10:36:55.431Z"
   },
   {
    "duration": 5,
    "start_time": "2023-12-07T10:37:26.773Z"
   },
   {
    "duration": 268,
    "start_time": "2023-12-07T10:37:32.929Z"
   },
   {
    "duration": 6,
    "start_time": "2023-12-07T10:37:43.862Z"
   },
   {
    "duration": 82,
    "start_time": "2023-12-07T10:37:56.515Z"
   },
   {
    "duration": 265,
    "start_time": "2023-12-07T10:38:02.332Z"
   },
   {
    "duration": 86,
    "start_time": "2023-12-07T10:38:06.247Z"
   },
   {
    "duration": 123,
    "start_time": "2023-12-07T10:38:09.525Z"
   },
   {
    "duration": 288,
    "start_time": "2023-12-07T10:38:11.053Z"
   },
   {
    "duration": 15,
    "start_time": "2023-12-07T11:06:50.346Z"
   },
   {
    "duration": 195,
    "start_time": "2023-12-07T11:07:15.193Z"
   },
   {
    "duration": 299,
    "start_time": "2023-12-07T11:08:20.035Z"
   },
   {
    "duration": 246,
    "start_time": "2023-12-07T11:08:28.899Z"
   },
   {
    "duration": 298,
    "start_time": "2023-12-07T11:08:42.258Z"
   },
   {
    "duration": 204,
    "start_time": "2023-12-07T11:08:48.202Z"
   },
   {
    "duration": 185,
    "start_time": "2023-12-07T11:08:56.507Z"
   },
   {
    "duration": 183,
    "start_time": "2023-12-07T11:09:12.460Z"
   },
   {
    "duration": 189,
    "start_time": "2023-12-07T11:09:23.097Z"
   },
   {
    "duration": 9,
    "start_time": "2023-12-07T11:09:43.283Z"
   },
   {
    "duration": 11,
    "start_time": "2023-12-07T11:09:58.612Z"
   },
   {
    "duration": 9,
    "start_time": "2023-12-07T11:10:07.297Z"
   },
   {
    "duration": 8,
    "start_time": "2023-12-07T11:10:09.883Z"
   },
   {
    "duration": 183,
    "start_time": "2023-12-07T11:15:39.978Z"
   },
   {
    "duration": 160,
    "start_time": "2023-12-07T11:16:03.865Z"
   },
   {
    "duration": 174,
    "start_time": "2023-12-07T11:17:17.324Z"
   },
   {
    "duration": 172,
    "start_time": "2023-12-07T11:18:28.519Z"
   },
   {
    "duration": 188,
    "start_time": "2023-12-07T11:18:40.696Z"
   },
   {
    "duration": 5,
    "start_time": "2023-12-07T11:20:18.876Z"
   },
   {
    "duration": 10,
    "start_time": "2023-12-07T11:20:56.098Z"
   },
   {
    "duration": 12,
    "start_time": "2023-12-07T11:21:14.001Z"
   },
   {
    "duration": 10425,
    "start_time": "2023-12-07T11:24:53.171Z"
   },
   {
    "duration": 301,
    "start_time": "2023-12-07T11:25:25.889Z"
   },
   {
    "duration": 193,
    "start_time": "2023-12-07T11:28:18.161Z"
   },
   {
    "duration": 172,
    "start_time": "2023-12-07T11:28:20.117Z"
   },
   {
    "duration": 8,
    "start_time": "2023-12-07T11:28:55.755Z"
   },
   {
    "duration": 6,
    "start_time": "2023-12-07T11:29:00.017Z"
   },
   {
    "duration": 5,
    "start_time": "2023-12-07T11:29:06.054Z"
   },
   {
    "duration": 6,
    "start_time": "2023-12-07T11:29:24.984Z"
   },
   {
    "duration": 109,
    "start_time": "2023-12-07T11:35:23.300Z"
   },
   {
    "duration": 80,
    "start_time": "2023-12-07T11:35:29.809Z"
   },
   {
    "duration": 76,
    "start_time": "2023-12-07T11:36:05.872Z"
   },
   {
    "duration": 5,
    "start_time": "2023-12-07T11:36:16.366Z"
   },
   {
    "duration": 3,
    "start_time": "2023-12-07T11:36:26.518Z"
   },
   {
    "duration": 4,
    "start_time": "2023-12-07T11:36:33.540Z"
   },
   {
    "duration": 93,
    "start_time": "2023-12-07T11:37:03.952Z"
   },
   {
    "duration": 72,
    "start_time": "2023-12-07T11:37:10.904Z"
   },
   {
    "duration": 4,
    "start_time": "2023-12-07T11:37:23.585Z"
   },
   {
    "duration": 6,
    "start_time": "2023-12-07T11:37:58.932Z"
   },
   {
    "duration": 7,
    "start_time": "2023-12-07T11:38:27.631Z"
   },
   {
    "duration": 6,
    "start_time": "2023-12-07T11:39:07.485Z"
   },
   {
    "duration": 8,
    "start_time": "2023-12-07T11:40:41.790Z"
   },
   {
    "duration": 8,
    "start_time": "2023-12-07T11:41:03.630Z"
   },
   {
    "duration": 10,
    "start_time": "2023-12-07T11:41:31.187Z"
   },
   {
    "duration": 9,
    "start_time": "2023-12-07T11:41:39.375Z"
   },
   {
    "duration": 10,
    "start_time": "2023-12-07T11:41:46.634Z"
   },
   {
    "duration": 168,
    "start_time": "2023-12-07T11:42:26.918Z"
   },
   {
    "duration": 170,
    "start_time": "2023-12-07T11:42:38.179Z"
   },
   {
    "duration": 9,
    "start_time": "2023-12-07T11:43:05.392Z"
   },
   {
    "duration": 10,
    "start_time": "2023-12-07T11:43:58.875Z"
   },
   {
    "duration": 175,
    "start_time": "2023-12-07T11:47:37.786Z"
   },
   {
    "duration": 167,
    "start_time": "2023-12-07T11:49:56.127Z"
   },
   {
    "duration": 171,
    "start_time": "2023-12-07T11:56:51.533Z"
   },
   {
    "duration": 51,
    "start_time": "2023-12-07T20:08:57.224Z"
   },
   {
    "duration": 1399,
    "start_time": "2023-12-07T20:09:06.018Z"
   },
   {
    "duration": 200,
    "start_time": "2023-12-07T20:09:07.419Z"
   },
   {
    "duration": 14,
    "start_time": "2023-12-07T20:09:07.620Z"
   },
   {
    "duration": 9,
    "start_time": "2023-12-07T20:09:07.637Z"
   },
   {
    "duration": 9,
    "start_time": "2023-12-07T20:09:07.647Z"
   },
   {
    "duration": 13,
    "start_time": "2023-12-07T20:09:07.657Z"
   },
   {
    "duration": 19,
    "start_time": "2023-12-07T20:09:07.672Z"
   },
   {
    "duration": 38,
    "start_time": "2023-12-07T20:09:07.693Z"
   },
   {
    "duration": 21,
    "start_time": "2023-12-07T20:09:07.733Z"
   },
   {
    "duration": 9,
    "start_time": "2023-12-07T20:09:07.758Z"
   },
   {
    "duration": 311,
    "start_time": "2023-12-07T20:09:07.768Z"
   },
   {
    "duration": 375,
    "start_time": "2023-12-07T20:09:08.081Z"
   },
   {
    "duration": 6,
    "start_time": "2023-12-07T20:09:08.457Z"
   },
   {
    "duration": 36,
    "start_time": "2023-12-07T20:09:08.465Z"
   },
   {
    "duration": 14,
    "start_time": "2023-12-07T20:09:08.503Z"
   },
   {
    "duration": 16,
    "start_time": "2023-12-07T20:09:08.518Z"
   },
   {
    "duration": 19,
    "start_time": "2023-12-07T20:09:08.535Z"
   },
   {
    "duration": 12,
    "start_time": "2023-12-07T20:09:08.555Z"
   },
   {
    "duration": 15,
    "start_time": "2023-12-07T20:09:08.569Z"
   },
   {
    "duration": 26,
    "start_time": "2023-12-07T20:09:08.585Z"
   },
   {
    "duration": 24,
    "start_time": "2023-12-07T20:09:08.613Z"
   },
   {
    "duration": 24,
    "start_time": "2023-12-07T20:09:08.639Z"
   },
   {
    "duration": 28,
    "start_time": "2023-12-07T20:09:08.664Z"
   },
   {
    "duration": 20,
    "start_time": "2023-12-07T20:09:08.694Z"
   },
   {
    "duration": 10,
    "start_time": "2023-12-07T20:09:08.716Z"
   },
   {
    "duration": 28,
    "start_time": "2023-12-07T20:09:08.728Z"
   },
   {
    "duration": 171,
    "start_time": "2023-12-07T20:09:08.758Z"
   },
   {
    "duration": 5,
    "start_time": "2023-12-07T20:09:08.934Z"
   },
   {
    "duration": 107,
    "start_time": "2023-12-07T20:09:08.941Z"
   },
   {
    "duration": 8,
    "start_time": "2023-12-07T20:09:09.050Z"
   },
   {
    "duration": 198,
    "start_time": "2023-12-07T20:09:09.059Z"
   },
   {
    "duration": 9,
    "start_time": "2023-12-07T20:09:09.258Z"
   },
   {
    "duration": 214,
    "start_time": "2023-12-07T20:09:09.268Z"
   },
   {
    "duration": 132,
    "start_time": "2023-12-07T20:09:09.484Z"
   },
   {
    "duration": 12,
    "start_time": "2023-12-07T20:09:09.617Z"
   },
   {
    "duration": 213,
    "start_time": "2023-12-07T20:09:09.630Z"
   },
   {
    "duration": 200,
    "start_time": "2023-12-07T20:09:09.844Z"
   },
   {
    "duration": 13,
    "start_time": "2023-12-07T20:09:10.046Z"
   },
   {
    "duration": 5,
    "start_time": "2023-12-07T20:09:10.061Z"
   },
   {
    "duration": 14,
    "start_time": "2023-12-07T20:09:10.068Z"
   },
   {
    "duration": 19,
    "start_time": "2023-12-07T20:09:10.084Z"
   },
   {
    "duration": 26,
    "start_time": "2023-12-07T20:09:10.105Z"
   },
   {
    "duration": 33,
    "start_time": "2023-12-07T20:09:10.132Z"
   },
   {
    "duration": 42,
    "start_time": "2023-12-07T20:09:10.166Z"
   },
   {
    "duration": 41,
    "start_time": "2023-12-07T20:09:10.210Z"
   },
   {
    "duration": 208,
    "start_time": "2023-12-07T20:09:10.253Z"
   },
   {
    "duration": 17,
    "start_time": "2023-12-07T20:09:10.462Z"
   },
   {
    "duration": 32,
    "start_time": "2023-12-07T20:09:10.481Z"
   },
   {
    "duration": 32,
    "start_time": "2023-12-07T20:09:10.515Z"
   },
   {
    "duration": 52,
    "start_time": "2023-12-07T20:09:10.549Z"
   },
   {
    "duration": 46,
    "start_time": "2023-12-07T20:09:10.603Z"
   },
   {
    "duration": 5,
    "start_time": "2023-12-07T20:09:10.651Z"
   },
   {
    "duration": 231,
    "start_time": "2023-12-07T20:09:10.658Z"
   },
   {
    "duration": 9,
    "start_time": "2023-12-07T20:09:10.891Z"
   },
   {
    "duration": 190,
    "start_time": "2023-12-07T20:09:10.901Z"
   },
   {
    "duration": 8,
    "start_time": "2023-12-07T20:09:11.092Z"
   },
   {
    "duration": 215,
    "start_time": "2023-12-07T20:09:11.102Z"
   },
   {
    "duration": 9,
    "start_time": "2023-12-07T20:09:11.321Z"
   },
   {
    "duration": 221,
    "start_time": "2023-12-07T20:09:11.332Z"
   },
   {
    "duration": 10,
    "start_time": "2023-12-07T20:09:11.555Z"
   },
   {
    "duration": 16,
    "start_time": "2023-12-07T20:09:11.566Z"
   },
   {
    "duration": 111,
    "start_time": "2023-12-07T20:09:11.584Z"
   },
   {
    "duration": 4,
    "start_time": "2023-12-07T20:09:11.697Z"
   },
   {
    "duration": 16,
    "start_time": "2023-12-07T20:09:11.702Z"
   },
   {
    "duration": 8,
    "start_time": "2023-12-07T20:09:11.720Z"
   },
   {
    "duration": 8,
    "start_time": "2023-12-07T20:09:11.730Z"
   },
   {
    "duration": 32,
    "start_time": "2023-12-07T20:09:11.740Z"
   },
   {
    "duration": 72,
    "start_time": "2023-12-07T20:09:11.773Z"
   },
   {
    "duration": 62,
    "start_time": "2023-12-07T20:09:11.846Z"
   },
   {
    "duration": 4994,
    "start_time": "2023-12-07T20:09:11.910Z"
   },
   {
    "duration": 9,
    "start_time": "2023-12-07T20:09:16.906Z"
   },
   {
    "duration": 21,
    "start_time": "2023-12-07T20:09:16.921Z"
   },
   {
    "duration": 187,
    "start_time": "2023-12-07T20:09:16.944Z"
   },
   {
    "duration": 197,
    "start_time": "2023-12-07T20:09:17.132Z"
   },
   {
    "duration": 5,
    "start_time": "2023-12-07T20:09:17.331Z"
   },
   {
    "duration": 6,
    "start_time": "2023-12-07T20:09:17.337Z"
   },
   {
    "duration": 8,
    "start_time": "2023-12-07T20:09:17.345Z"
   },
   {
    "duration": 15,
    "start_time": "2023-12-07T20:09:17.354Z"
   },
   {
    "duration": 166,
    "start_time": "2023-12-07T20:09:17.371Z"
   },
   {
    "duration": 318,
    "start_time": "2023-12-07T20:09:17.539Z"
   },
   {
    "duration": 4,
    "start_time": "2023-12-07T20:09:17.859Z"
   },
   {
    "duration": 287,
    "start_time": "2023-12-07T20:09:17.868Z"
   },
   {
    "duration": 16,
    "start_time": "2023-12-07T20:09:50.700Z"
   },
   {
    "duration": 5,
    "start_time": "2023-12-07T20:12:23.282Z"
   },
   {
    "duration": 5,
    "start_time": "2023-12-07T20:14:11.533Z"
   },
   {
    "duration": 1220,
    "start_time": "2023-12-07T20:21:55.419Z"
   },
   {
    "duration": 69,
    "start_time": "2023-12-07T20:21:56.641Z"
   },
   {
    "duration": 13,
    "start_time": "2023-12-07T20:21:56.712Z"
   },
   {
    "duration": 10,
    "start_time": "2023-12-07T20:21:56.727Z"
   },
   {
    "duration": 17,
    "start_time": "2023-12-07T20:21:56.739Z"
   },
   {
    "duration": 19,
    "start_time": "2023-12-07T20:21:56.757Z"
   },
   {
    "duration": 20,
    "start_time": "2023-12-07T20:21:56.777Z"
   },
   {
    "duration": 24,
    "start_time": "2023-12-07T20:21:56.798Z"
   },
   {
    "duration": 27,
    "start_time": "2023-12-07T20:21:56.824Z"
   },
   {
    "duration": 11,
    "start_time": "2023-12-07T20:21:56.853Z"
   },
   {
    "duration": 308,
    "start_time": "2023-12-07T20:21:56.866Z"
   },
   {
    "duration": 397,
    "start_time": "2023-12-07T20:21:57.176Z"
   },
   {
    "duration": 6,
    "start_time": "2023-12-07T20:21:57.574Z"
   },
   {
    "duration": 8,
    "start_time": "2023-12-07T20:21:57.582Z"
   },
   {
    "duration": 31,
    "start_time": "2023-12-07T20:21:57.592Z"
   },
   {
    "duration": 5,
    "start_time": "2023-12-07T20:21:57.625Z"
   },
   {
    "duration": 12,
    "start_time": "2023-12-07T20:21:57.632Z"
   },
   {
    "duration": 9,
    "start_time": "2023-12-07T20:21:57.646Z"
   },
   {
    "duration": 31,
    "start_time": "2023-12-07T20:21:57.657Z"
   },
   {
    "duration": 25,
    "start_time": "2023-12-07T20:21:57.690Z"
   },
   {
    "duration": 12,
    "start_time": "2023-12-07T20:21:57.717Z"
   },
   {
    "duration": 14,
    "start_time": "2023-12-07T20:21:57.731Z"
   },
   {
    "duration": 21,
    "start_time": "2023-12-07T20:21:57.747Z"
   },
   {
    "duration": 5,
    "start_time": "2023-12-07T20:21:57.770Z"
   },
   {
    "duration": 23,
    "start_time": "2023-12-07T20:21:57.777Z"
   },
   {
    "duration": 15,
    "start_time": "2023-12-07T20:21:57.802Z"
   },
   {
    "duration": 166,
    "start_time": "2023-12-07T20:21:57.818Z"
   },
   {
    "duration": 6,
    "start_time": "2023-12-07T20:21:57.989Z"
   },
   {
    "duration": 118,
    "start_time": "2023-12-07T20:21:57.997Z"
   },
   {
    "duration": 8,
    "start_time": "2023-12-07T20:21:58.122Z"
   },
   {
    "duration": 245,
    "start_time": "2023-12-07T20:21:58.132Z"
   },
   {
    "duration": 8,
    "start_time": "2023-12-07T20:21:58.379Z"
   },
   {
    "duration": 213,
    "start_time": "2023-12-07T20:21:58.389Z"
   },
   {
    "duration": 122,
    "start_time": "2023-12-07T20:21:58.603Z"
   },
   {
    "duration": 8,
    "start_time": "2023-12-07T20:21:58.727Z"
   },
   {
    "duration": 219,
    "start_time": "2023-12-07T20:21:58.737Z"
   },
   {
    "duration": 204,
    "start_time": "2023-12-07T20:21:58.957Z"
   },
   {
    "duration": 13,
    "start_time": "2023-12-07T20:21:59.162Z"
   },
   {
    "duration": 11,
    "start_time": "2023-12-07T20:21:59.177Z"
   },
   {
    "duration": 20,
    "start_time": "2023-12-07T20:21:59.189Z"
   },
   {
    "duration": 15,
    "start_time": "2023-12-07T20:21:59.210Z"
   },
   {
    "duration": 20,
    "start_time": "2023-12-07T20:21:59.226Z"
   },
   {
    "duration": 11,
    "start_time": "2023-12-07T20:21:59.247Z"
   },
   {
    "duration": 20,
    "start_time": "2023-12-07T20:21:59.260Z"
   },
   {
    "duration": 12,
    "start_time": "2023-12-07T20:21:59.281Z"
   },
   {
    "duration": 229,
    "start_time": "2023-12-07T20:21:59.294Z"
   },
   {
    "duration": 16,
    "start_time": "2023-12-07T20:21:59.524Z"
   },
   {
    "duration": 13,
    "start_time": "2023-12-07T20:21:59.541Z"
   },
   {
    "duration": 13,
    "start_time": "2023-12-07T20:21:59.555Z"
   },
   {
    "duration": 16,
    "start_time": "2023-12-07T20:21:59.569Z"
   },
   {
    "duration": 45,
    "start_time": "2023-12-07T20:21:59.586Z"
   },
   {
    "duration": 4,
    "start_time": "2023-12-07T20:21:59.633Z"
   },
   {
    "duration": 226,
    "start_time": "2023-12-07T20:21:59.638Z"
   },
   {
    "duration": 9,
    "start_time": "2023-12-07T20:21:59.865Z"
   },
   {
    "duration": 193,
    "start_time": "2023-12-07T20:21:59.876Z"
   },
   {
    "duration": 9,
    "start_time": "2023-12-07T20:22:00.070Z"
   },
   {
    "duration": 274,
    "start_time": "2023-12-07T20:22:00.080Z"
   },
   {
    "duration": 8,
    "start_time": "2023-12-07T20:22:00.356Z"
   },
   {
    "duration": 214,
    "start_time": "2023-12-07T20:22:00.366Z"
   },
   {
    "duration": 8,
    "start_time": "2023-12-07T20:22:00.582Z"
   },
   {
    "duration": 57,
    "start_time": "2023-12-07T20:22:00.592Z"
   },
   {
    "duration": 180,
    "start_time": "2023-12-07T20:22:00.651Z"
   },
   {
    "duration": 3,
    "start_time": "2023-12-07T20:22:00.833Z"
   },
   {
    "duration": 50,
    "start_time": "2023-12-07T20:22:00.838Z"
   },
   {
    "duration": 38,
    "start_time": "2023-12-07T20:22:00.890Z"
   },
   {
    "duration": 57,
    "start_time": "2023-12-07T20:22:00.930Z"
   },
   {
    "duration": 122,
    "start_time": "2023-12-07T20:22:00.989Z"
   },
   {
    "duration": 37,
    "start_time": "2023-12-07T20:22:01.113Z"
   },
   {
    "duration": 37,
    "start_time": "2023-12-07T20:22:01.152Z"
   },
   {
    "duration": 5093,
    "start_time": "2023-12-07T20:22:01.191Z"
   },
   {
    "duration": 9,
    "start_time": "2023-12-07T20:22:06.286Z"
   },
   {
    "duration": 16,
    "start_time": "2023-12-07T20:22:06.296Z"
   },
   {
    "duration": 215,
    "start_time": "2023-12-07T20:22:06.314Z"
   },
   {
    "duration": 194,
    "start_time": "2023-12-07T20:22:06.530Z"
   },
   {
    "duration": 14,
    "start_time": "2023-12-07T20:22:06.726Z"
   },
   {
    "duration": 18,
    "start_time": "2023-12-07T20:22:06.742Z"
   },
   {
    "duration": 10,
    "start_time": "2023-12-07T20:22:06.762Z"
   },
   {
    "duration": 10,
    "start_time": "2023-12-07T20:22:06.773Z"
   },
   {
    "duration": 150,
    "start_time": "2023-12-07T20:22:06.784Z"
   },
   {
    "duration": 277,
    "start_time": "2023-12-07T20:22:06.936Z"
   },
   {
    "duration": 4,
    "start_time": "2023-12-07T20:22:07.223Z"
   },
   {
    "duration": 304,
    "start_time": "2023-12-07T20:22:07.232Z"
   },
   {
    "duration": 1240,
    "start_time": "2023-12-09T05:21:44.528Z"
   },
   {
    "duration": 294,
    "start_time": "2023-12-09T05:21:45.769Z"
   },
   {
    "duration": 11,
    "start_time": "2023-12-09T05:21:46.065Z"
   },
   {
    "duration": 8,
    "start_time": "2023-12-09T05:21:46.078Z"
   },
   {
    "duration": 9,
    "start_time": "2023-12-09T05:21:46.088Z"
   },
   {
    "duration": 13,
    "start_time": "2023-12-09T05:21:46.099Z"
   },
   {
    "duration": 16,
    "start_time": "2023-12-09T05:21:46.114Z"
   },
   {
    "duration": 9,
    "start_time": "2023-12-09T05:21:46.131Z"
   },
   {
    "duration": 16,
    "start_time": "2023-12-09T05:21:46.141Z"
   },
   {
    "duration": 10,
    "start_time": "2023-12-09T05:21:46.159Z"
   },
   {
    "duration": 280,
    "start_time": "2023-12-09T05:21:46.171Z"
   },
   {
    "duration": 543,
    "start_time": "2023-12-09T05:21:46.452Z"
   },
   {
    "duration": 6,
    "start_time": "2023-12-09T05:21:46.996Z"
   },
   {
    "duration": 17,
    "start_time": "2023-12-09T05:21:47.003Z"
   },
   {
    "duration": 12,
    "start_time": "2023-12-09T05:21:47.021Z"
   },
   {
    "duration": 4,
    "start_time": "2023-12-09T05:21:47.034Z"
   },
   {
    "duration": 5,
    "start_time": "2023-12-09T05:21:47.040Z"
   },
   {
    "duration": 8,
    "start_time": "2023-12-09T05:21:47.047Z"
   },
   {
    "duration": 8,
    "start_time": "2023-12-09T05:21:47.056Z"
   },
   {
    "duration": 5,
    "start_time": "2023-12-09T05:21:47.065Z"
   },
   {
    "duration": 52,
    "start_time": "2023-12-09T05:21:47.072Z"
   },
   {
    "duration": 8,
    "start_time": "2023-12-09T05:21:47.125Z"
   },
   {
    "duration": 10,
    "start_time": "2023-12-09T05:21:47.135Z"
   },
   {
    "duration": 5,
    "start_time": "2023-12-09T05:21:47.146Z"
   },
   {
    "duration": 8,
    "start_time": "2023-12-09T05:21:47.152Z"
   },
   {
    "duration": 7,
    "start_time": "2023-12-09T05:21:47.162Z"
   },
   {
    "duration": 173,
    "start_time": "2023-12-09T05:21:47.171Z"
   },
   {
    "duration": 5,
    "start_time": "2023-12-09T05:21:47.348Z"
   },
   {
    "duration": 103,
    "start_time": "2023-12-09T05:21:47.355Z"
   },
   {
    "duration": 7,
    "start_time": "2023-12-09T05:21:47.459Z"
   },
   {
    "duration": 184,
    "start_time": "2023-12-09T05:21:47.467Z"
   },
   {
    "duration": 8,
    "start_time": "2023-12-09T05:21:47.653Z"
   },
   {
    "duration": 211,
    "start_time": "2023-12-09T05:21:47.663Z"
   },
   {
    "duration": 189,
    "start_time": "2023-12-09T05:21:47.876Z"
   },
   {
    "duration": 9,
    "start_time": "2023-12-09T05:21:48.067Z"
   },
   {
    "duration": 197,
    "start_time": "2023-12-09T05:21:48.078Z"
   },
   {
    "duration": 114,
    "start_time": "2023-12-09T05:21:48.277Z"
   },
   {
    "duration": 22,
    "start_time": "2023-12-09T05:21:48.393Z"
   },
   {
    "duration": 6,
    "start_time": "2023-12-09T05:21:48.416Z"
   },
   {
    "duration": 10,
    "start_time": "2023-12-09T05:21:48.424Z"
   },
   {
    "duration": 4,
    "start_time": "2023-12-09T05:21:48.436Z"
   },
   {
    "duration": 11,
    "start_time": "2023-12-09T05:21:48.442Z"
   },
   {
    "duration": 11,
    "start_time": "2023-12-09T05:21:48.454Z"
   },
   {
    "duration": 49,
    "start_time": "2023-12-09T05:21:48.467Z"
   },
   {
    "duration": 8,
    "start_time": "2023-12-09T05:21:48.518Z"
   },
   {
    "duration": 190,
    "start_time": "2023-12-09T05:21:48.527Z"
   },
   {
    "duration": 13,
    "start_time": "2023-12-09T05:21:48.718Z"
   },
   {
    "duration": 11,
    "start_time": "2023-12-09T05:21:48.732Z"
   },
   {
    "duration": 18,
    "start_time": "2023-12-09T05:21:48.744Z"
   },
   {
    "duration": 18,
    "start_time": "2023-12-09T05:21:48.764Z"
   },
   {
    "duration": 13,
    "start_time": "2023-12-09T05:21:48.784Z"
   },
   {
    "duration": 20,
    "start_time": "2023-12-09T05:21:48.798Z"
   },
   {
    "duration": 227,
    "start_time": "2023-12-09T05:21:48.820Z"
   },
   {
    "duration": 8,
    "start_time": "2023-12-09T05:21:49.048Z"
   },
   {
    "duration": 173,
    "start_time": "2023-12-09T05:21:49.058Z"
   },
   {
    "duration": 7,
    "start_time": "2023-12-09T05:21:49.232Z"
   },
   {
    "duration": 219,
    "start_time": "2023-12-09T05:21:49.240Z"
   },
   {
    "duration": 7,
    "start_time": "2023-12-09T05:21:49.461Z"
   },
   {
    "duration": 187,
    "start_time": "2023-12-09T05:21:49.470Z"
   },
   {
    "duration": 7,
    "start_time": "2023-12-09T05:21:49.659Z"
   },
   {
    "duration": 27,
    "start_time": "2023-12-09T05:21:49.667Z"
   },
   {
    "duration": 100,
    "start_time": "2023-12-09T05:21:49.696Z"
   },
   {
    "duration": 3,
    "start_time": "2023-12-09T05:21:49.797Z"
   },
   {
    "duration": 15,
    "start_time": "2023-12-09T05:21:49.801Z"
   },
   {
    "duration": 3,
    "start_time": "2023-12-09T05:21:49.817Z"
   },
   {
    "duration": 5,
    "start_time": "2023-12-09T05:21:49.822Z"
   },
   {
    "duration": 6,
    "start_time": "2023-12-09T05:21:49.828Z"
   },
   {
    "duration": 8,
    "start_time": "2023-12-09T05:21:49.835Z"
   },
   {
    "duration": 3,
    "start_time": "2023-12-09T05:21:49.844Z"
   },
   {
    "duration": 5296,
    "start_time": "2023-12-09T05:21:49.848Z"
   },
   {
    "duration": 8,
    "start_time": "2023-12-09T05:21:55.145Z"
   },
   {
    "duration": 10,
    "start_time": "2023-12-09T05:21:55.154Z"
   },
   {
    "duration": 179,
    "start_time": "2023-12-09T05:21:55.166Z"
   },
   {
    "duration": 178,
    "start_time": "2023-12-09T05:21:55.347Z"
   },
   {
    "duration": 13,
    "start_time": "2023-12-09T05:21:55.526Z"
   },
   {
    "duration": 4,
    "start_time": "2023-12-09T05:21:55.541Z"
   },
   {
    "duration": 4,
    "start_time": "2023-12-09T05:21:55.547Z"
   },
   {
    "duration": 7,
    "start_time": "2023-12-09T05:21:55.553Z"
   },
   {
    "duration": 145,
    "start_time": "2023-12-09T05:21:55.562Z"
   },
   {
    "duration": 323,
    "start_time": "2023-12-09T05:21:55.708Z"
   },
   {
    "duration": 4,
    "start_time": "2023-12-09T05:21:56.032Z"
   },
   {
    "duration": 515,
    "start_time": "2023-12-09T05:21:56.041Z"
   },
   {
    "duration": 3,
    "start_time": "2023-12-09T05:32:02.013Z"
   },
   {
    "duration": 3,
    "start_time": "2023-12-09T05:32:08.639Z"
   },
   {
    "duration": 16,
    "start_time": "2023-12-09T05:32:23.013Z"
   },
   {
    "duration": 3,
    "start_time": "2023-12-09T05:32:42.537Z"
   },
   {
    "duration": 8,
    "start_time": "2023-12-09T05:32:43.286Z"
   },
   {
    "duration": 55,
    "start_time": "2023-12-09T05:33:52.107Z"
   },
   {
    "duration": 2,
    "start_time": "2023-12-09T05:34:09.625Z"
   },
   {
    "duration": 3,
    "start_time": "2023-12-09T05:35:01.288Z"
   },
   {
    "duration": 21,
    "start_time": "2023-12-09T05:35:01.846Z"
   },
   {
    "duration": 3,
    "start_time": "2023-12-09T05:35:23.737Z"
   },
   {
    "duration": 3,
    "start_time": "2023-12-09T05:35:46.339Z"
   },
   {
    "duration": 3,
    "start_time": "2023-12-09T05:35:55.630Z"
   },
   {
    "duration": 3,
    "start_time": "2023-12-09T05:36:11.359Z"
   },
   {
    "duration": 17,
    "start_time": "2023-12-09T05:36:21.918Z"
   },
   {
    "duration": 3,
    "start_time": "2023-12-09T05:36:35.200Z"
   },
   {
    "duration": 24,
    "start_time": "2023-12-09T05:36:46.939Z"
   },
   {
    "duration": 24,
    "start_time": "2023-12-09T05:36:55.283Z"
   },
   {
    "duration": 4,
    "start_time": "2023-12-09T05:37:19.615Z"
   },
   {
    "duration": 23,
    "start_time": "2023-12-09T05:37:23.489Z"
   },
   {
    "duration": 3,
    "start_time": "2023-12-09T05:37:28.297Z"
   },
   {
    "duration": 22,
    "start_time": "2023-12-09T05:37:28.860Z"
   },
   {
    "duration": 3,
    "start_time": "2023-12-09T05:37:33.725Z"
   },
   {
    "duration": 24,
    "start_time": "2023-12-09T05:37:35.224Z"
   },
   {
    "duration": 4,
    "start_time": "2023-12-09T05:38:45.088Z"
   },
   {
    "duration": 23,
    "start_time": "2023-12-09T05:38:45.960Z"
   },
   {
    "duration": 4,
    "start_time": "2023-12-09T05:39:09.981Z"
   },
   {
    "duration": 23,
    "start_time": "2023-12-09T05:39:10.292Z"
   },
   {
    "duration": 4,
    "start_time": "2023-12-09T05:39:47.419Z"
   },
   {
    "duration": 21,
    "start_time": "2023-12-09T05:39:48.316Z"
   },
   {
    "duration": 4,
    "start_time": "2023-12-09T05:39:57.551Z"
   },
   {
    "duration": 21,
    "start_time": "2023-12-09T05:40:00.051Z"
   },
   {
    "duration": 4,
    "start_time": "2023-12-09T05:41:31.118Z"
   },
   {
    "duration": 23,
    "start_time": "2023-12-09T05:41:34.377Z"
   },
   {
    "duration": 3,
    "start_time": "2023-12-09T05:42:07.732Z"
   },
   {
    "duration": 3,
    "start_time": "2023-12-09T05:42:19.157Z"
   },
   {
    "duration": 3,
    "start_time": "2023-12-09T05:42:35.064Z"
   },
   {
    "duration": 22,
    "start_time": "2023-12-09T05:42:35.402Z"
   },
   {
    "duration": 3,
    "start_time": "2023-12-09T05:44:59.237Z"
   },
   {
    "duration": 22,
    "start_time": "2023-12-09T05:45:01.098Z"
   },
   {
    "duration": 43,
    "start_time": "2023-12-09T05:45:07.555Z"
   },
   {
    "duration": 23,
    "start_time": "2023-12-09T05:45:10.156Z"
   },
   {
    "duration": 38,
    "start_time": "2023-12-09T05:45:39.856Z"
   },
   {
    "duration": 3,
    "start_time": "2023-12-09T05:48:11.387Z"
   },
   {
    "duration": 21,
    "start_time": "2023-12-09T05:48:13.523Z"
   },
   {
    "duration": 3,
    "start_time": "2023-12-09T05:48:26.239Z"
   },
   {
    "duration": 67,
    "start_time": "2023-12-09T05:48:40.615Z"
   },
   {
    "duration": 3,
    "start_time": "2023-12-09T05:48:54.018Z"
   },
   {
    "duration": 21,
    "start_time": "2023-12-09T05:48:57.187Z"
   },
   {
    "duration": 3,
    "start_time": "2023-12-09T05:49:13.374Z"
   },
   {
    "duration": 22,
    "start_time": "2023-12-09T05:49:18.621Z"
   },
   {
    "duration": 3,
    "start_time": "2023-12-09T05:49:45.824Z"
   },
   {
    "duration": 22,
    "start_time": "2023-12-09T05:49:47.453Z"
   },
   {
    "duration": 3,
    "start_time": "2023-12-09T05:50:33.621Z"
   },
   {
    "duration": 23,
    "start_time": "2023-12-09T05:50:34.919Z"
   },
   {
    "duration": 3,
    "start_time": "2023-12-09T05:50:47.454Z"
   },
   {
    "duration": 22,
    "start_time": "2023-12-09T05:50:47.961Z"
   },
   {
    "duration": 3,
    "start_time": "2023-12-09T05:51:40.300Z"
   },
   {
    "duration": 37,
    "start_time": "2023-12-09T05:51:40.901Z"
   },
   {
    "duration": 35,
    "start_time": "2023-12-09T05:51:49.406Z"
   },
   {
    "duration": 63,
    "start_time": "2023-12-09T05:52:57.264Z"
   },
   {
    "duration": 29,
    "start_time": "2023-12-09T05:52:57.737Z"
   },
   {
    "duration": 3,
    "start_time": "2023-12-09T05:53:23.085Z"
   },
   {
    "duration": 23,
    "start_time": "2023-12-09T05:53:24.863Z"
   },
   {
    "duration": 3,
    "start_time": "2023-12-09T05:54:16.026Z"
   },
   {
    "duration": 3,
    "start_time": "2023-12-09T05:56:47.978Z"
   },
   {
    "duration": 18,
    "start_time": "2023-12-09T05:56:48.578Z"
   },
   {
    "duration": 4,
    "start_time": "2023-12-09T05:56:57.034Z"
   },
   {
    "duration": 24,
    "start_time": "2023-12-09T05:56:57.156Z"
   },
   {
    "duration": 31,
    "start_time": "2023-12-09T06:00:47.689Z"
   },
   {
    "duration": 23,
    "start_time": "2023-12-09T06:00:56.457Z"
   },
   {
    "duration": 3,
    "start_time": "2023-12-09T06:03:18.673Z"
   },
   {
    "duration": 24,
    "start_time": "2023-12-09T06:03:20.634Z"
   },
   {
    "duration": 3,
    "start_time": "2023-12-09T06:03:25.575Z"
   },
   {
    "duration": 4,
    "start_time": "2023-12-09T06:03:36.722Z"
   },
   {
    "duration": 21,
    "start_time": "2023-12-09T06:03:38.457Z"
   },
   {
    "duration": 37,
    "start_time": "2023-12-09T06:04:00.003Z"
   },
   {
    "duration": 27,
    "start_time": "2023-12-09T06:04:03.222Z"
   },
   {
    "duration": 1118,
    "start_time": "2023-12-09T06:07:49.888Z"
   },
   {
    "duration": 79,
    "start_time": "2023-12-09T06:07:51.010Z"
   },
   {
    "duration": 11,
    "start_time": "2023-12-09T06:07:51.090Z"
   },
   {
    "duration": 12,
    "start_time": "2023-12-09T06:07:51.102Z"
   },
   {
    "duration": 18,
    "start_time": "2023-12-09T06:07:51.116Z"
   },
   {
    "duration": 9,
    "start_time": "2023-12-09T06:07:51.136Z"
   },
   {
    "duration": 32,
    "start_time": "2023-12-09T06:07:51.146Z"
   },
   {
    "duration": 26,
    "start_time": "2023-12-09T06:07:51.180Z"
   },
   {
    "duration": 28,
    "start_time": "2023-12-09T06:07:51.208Z"
   },
   {
    "duration": 293,
    "start_time": "2023-12-09T06:07:51.240Z"
   },
   {
    "duration": 572,
    "start_time": "2023-12-09T06:07:51.535Z"
   },
   {
    "duration": 11,
    "start_time": "2023-12-09T06:07:52.109Z"
   },
   {
    "duration": 19,
    "start_time": "2023-12-09T06:07:52.122Z"
   },
   {
    "duration": 12,
    "start_time": "2023-12-09T06:07:52.143Z"
   },
   {
    "duration": 5,
    "start_time": "2023-12-09T06:07:52.156Z"
   },
   {
    "duration": 9,
    "start_time": "2023-12-09T06:07:52.162Z"
   },
   {
    "duration": 8,
    "start_time": "2023-12-09T06:07:52.172Z"
   },
   {
    "duration": 8,
    "start_time": "2023-12-09T06:07:52.181Z"
   },
   {
    "duration": 32,
    "start_time": "2023-12-09T06:07:52.190Z"
   },
   {
    "duration": 7,
    "start_time": "2023-12-09T06:07:52.224Z"
   },
   {
    "duration": 12,
    "start_time": "2023-12-09T06:07:52.233Z"
   },
   {
    "duration": 11,
    "start_time": "2023-12-09T06:07:52.247Z"
   },
   {
    "duration": 189,
    "start_time": "2023-12-09T06:07:52.260Z"
   },
   {
    "duration": 6,
    "start_time": "2023-12-09T06:07:52.451Z"
   },
   {
    "duration": 130,
    "start_time": "2023-12-09T06:07:52.458Z"
   },
   {
    "duration": 9,
    "start_time": "2023-12-09T06:07:52.590Z"
   },
   {
    "duration": 192,
    "start_time": "2023-12-09T06:07:52.601Z"
   },
   {
    "duration": 9,
    "start_time": "2023-12-09T06:07:52.797Z"
   },
   {
    "duration": 211,
    "start_time": "2023-12-09T06:07:52.807Z"
   },
   {
    "duration": 137,
    "start_time": "2023-12-09T06:07:53.020Z"
   },
   {
    "duration": 9,
    "start_time": "2023-12-09T06:07:53.159Z"
   },
   {
    "duration": 309,
    "start_time": "2023-12-09T06:07:53.170Z"
   },
   {
    "duration": 123,
    "start_time": "2023-12-09T06:07:53.481Z"
   },
   {
    "duration": 24,
    "start_time": "2023-12-09T06:07:53.606Z"
   },
   {
    "duration": 7,
    "start_time": "2023-12-09T06:07:53.631Z"
   },
   {
    "duration": 12,
    "start_time": "2023-12-09T06:07:53.639Z"
   },
   {
    "duration": 4,
    "start_time": "2023-12-09T06:07:53.652Z"
   },
   {
    "duration": 10,
    "start_time": "2023-12-09T06:07:53.657Z"
   },
   {
    "duration": 10,
    "start_time": "2023-12-09T06:07:53.669Z"
   },
   {
    "duration": 41,
    "start_time": "2023-12-09T06:07:53.680Z"
   },
   {
    "duration": 11,
    "start_time": "2023-12-09T06:07:53.723Z"
   },
   {
    "duration": 217,
    "start_time": "2023-12-09T06:07:53.736Z"
   },
   {
    "duration": 14,
    "start_time": "2023-12-09T06:07:53.954Z"
   },
   {
    "duration": 11,
    "start_time": "2023-12-09T06:07:53.969Z"
   },
   {
    "duration": 9,
    "start_time": "2023-12-09T06:07:53.982Z"
   },
   {
    "duration": 46,
    "start_time": "2023-12-09T06:07:53.992Z"
   },
   {
    "duration": 14,
    "start_time": "2023-12-09T06:07:54.040Z"
   },
   {
    "duration": 3,
    "start_time": "2023-12-09T06:07:54.055Z"
   },
   {
    "duration": 219,
    "start_time": "2023-12-09T06:07:54.060Z"
   },
   {
    "duration": 8,
    "start_time": "2023-12-09T06:07:54.280Z"
   },
   {
    "duration": 188,
    "start_time": "2023-12-09T06:07:54.289Z"
   },
   {
    "duration": 8,
    "start_time": "2023-12-09T06:07:54.478Z"
   },
   {
    "duration": 217,
    "start_time": "2023-12-09T06:07:54.487Z"
   },
   {
    "duration": 17,
    "start_time": "2023-12-09T06:07:54.705Z"
   },
   {
    "duration": 208,
    "start_time": "2023-12-09T06:07:54.723Z"
   },
   {
    "duration": 7,
    "start_time": "2023-12-09T06:07:54.933Z"
   },
   {
    "duration": 27,
    "start_time": "2023-12-09T06:07:54.942Z"
   },
   {
    "duration": 123,
    "start_time": "2023-12-09T06:07:54.970Z"
   },
   {
    "duration": 4,
    "start_time": "2023-12-09T06:07:55.095Z"
   },
   {
    "duration": 29,
    "start_time": "2023-12-09T06:07:55.100Z"
   },
   {
    "duration": 37,
    "start_time": "2023-12-09T06:07:55.131Z"
   },
   {
    "duration": 25,
    "start_time": "2023-12-09T06:07:55.169Z"
   },
   {
    "duration": 7,
    "start_time": "2023-12-09T06:07:55.196Z"
   },
   {
    "duration": 32,
    "start_time": "2023-12-09T06:07:55.205Z"
   },
   {
    "duration": 12,
    "start_time": "2023-12-09T06:07:55.239Z"
   },
   {
    "duration": 4964,
    "start_time": "2023-12-09T06:07:55.253Z"
   },
   {
    "duration": 15,
    "start_time": "2023-12-09T06:08:00.220Z"
   },
   {
    "duration": 33,
    "start_time": "2023-12-09T06:08:00.236Z"
   },
   {
    "duration": 236,
    "start_time": "2023-12-09T06:08:00.271Z"
   },
   {
    "duration": 196,
    "start_time": "2023-12-09T06:08:00.508Z"
   },
   {
    "duration": 29,
    "start_time": "2023-12-09T06:08:00.705Z"
   },
   {
    "duration": 60,
    "start_time": "2023-12-09T06:08:00.736Z"
   },
   {
    "duration": 49,
    "start_time": "2023-12-09T06:08:00.797Z"
   },
   {
    "duration": 27,
    "start_time": "2023-12-09T06:08:00.848Z"
   },
   {
    "duration": 174,
    "start_time": "2023-12-09T06:08:00.877Z"
   },
   {
    "duration": 251,
    "start_time": "2023-12-09T06:08:01.053Z"
   },
   {
    "duration": 7,
    "start_time": "2023-12-09T06:08:01.314Z"
   },
   {
    "duration": 318,
    "start_time": "2023-12-09T06:08:01.323Z"
   },
   {
    "duration": 40,
    "start_time": "2023-12-09T06:10:14.194Z"
   },
   {
    "duration": 8,
    "start_time": "2023-12-09T06:10:48.195Z"
   },
   {
    "duration": 1185,
    "start_time": "2023-12-09T06:16:16.201Z"
   },
   {
    "duration": 76,
    "start_time": "2023-12-09T06:16:17.387Z"
   },
   {
    "duration": 15,
    "start_time": "2023-12-09T06:16:17.465Z"
   },
   {
    "duration": 10,
    "start_time": "2023-12-09T06:16:17.482Z"
   },
   {
    "duration": 8,
    "start_time": "2023-12-09T06:16:17.494Z"
   },
   {
    "duration": 16,
    "start_time": "2023-12-09T06:16:17.504Z"
   },
   {
    "duration": 31,
    "start_time": "2023-12-09T06:16:17.522Z"
   },
   {
    "duration": 30,
    "start_time": "2023-12-09T06:16:17.555Z"
   },
   {
    "duration": 29,
    "start_time": "2023-12-09T06:16:17.587Z"
   },
   {
    "duration": 27,
    "start_time": "2023-12-09T06:16:17.621Z"
   },
   {
    "duration": 312,
    "start_time": "2023-12-09T06:16:17.650Z"
   },
   {
    "duration": 576,
    "start_time": "2023-12-09T06:16:17.964Z"
   },
   {
    "duration": 6,
    "start_time": "2023-12-09T06:16:18.541Z"
   },
   {
    "duration": 15,
    "start_time": "2023-12-09T06:16:18.549Z"
   },
   {
    "duration": 17,
    "start_time": "2023-12-09T06:16:18.565Z"
   },
   {
    "duration": 6,
    "start_time": "2023-12-09T06:16:18.583Z"
   },
   {
    "duration": 26,
    "start_time": "2023-12-09T06:16:18.591Z"
   },
   {
    "duration": 17,
    "start_time": "2023-12-09T06:16:18.619Z"
   },
   {
    "duration": 5,
    "start_time": "2023-12-09T06:16:18.638Z"
   },
   {
    "duration": 17,
    "start_time": "2023-12-09T06:16:18.644Z"
   },
   {
    "duration": 18,
    "start_time": "2023-12-09T06:16:18.662Z"
   },
   {
    "duration": 8,
    "start_time": "2023-12-09T06:16:18.681Z"
   },
   {
    "duration": 8,
    "start_time": "2023-12-09T06:16:18.690Z"
   },
   {
    "duration": 204,
    "start_time": "2023-12-09T06:16:18.699Z"
   },
   {
    "duration": 5,
    "start_time": "2023-12-09T06:16:18.905Z"
   },
   {
    "duration": 119,
    "start_time": "2023-12-09T06:16:18.911Z"
   },
   {
    "duration": 8,
    "start_time": "2023-12-09T06:16:19.031Z"
   },
   {
    "duration": 201,
    "start_time": "2023-12-09T06:16:19.043Z"
   },
   {
    "duration": 8,
    "start_time": "2023-12-09T06:16:19.245Z"
   },
   {
    "duration": 220,
    "start_time": "2023-12-09T06:16:19.255Z"
   },
   {
    "duration": 118,
    "start_time": "2023-12-09T06:16:19.477Z"
   },
   {
    "duration": 7,
    "start_time": "2023-12-09T06:16:19.597Z"
   },
   {
    "duration": 338,
    "start_time": "2023-12-09T06:16:19.606Z"
   },
   {
    "duration": 123,
    "start_time": "2023-12-09T06:16:19.946Z"
   },
   {
    "duration": 14,
    "start_time": "2023-12-09T06:16:20.070Z"
   },
   {
    "duration": 13,
    "start_time": "2023-12-09T06:16:20.086Z"
   },
   {
    "duration": 17,
    "start_time": "2023-12-09T06:16:20.114Z"
   },
   {
    "duration": 32,
    "start_time": "2023-12-09T06:16:20.133Z"
   },
   {
    "duration": 67,
    "start_time": "2023-12-09T06:16:20.166Z"
   },
   {
    "duration": 41,
    "start_time": "2023-12-09T06:16:20.234Z"
   },
   {
    "duration": 25,
    "start_time": "2023-12-09T06:16:20.277Z"
   },
   {
    "duration": 28,
    "start_time": "2023-12-09T06:16:20.304Z"
   },
   {
    "duration": 212,
    "start_time": "2023-12-09T06:16:20.334Z"
   },
   {
    "duration": 15,
    "start_time": "2023-12-09T06:16:20.548Z"
   },
   {
    "duration": 23,
    "start_time": "2023-12-09T06:16:20.565Z"
   },
   {
    "duration": 17,
    "start_time": "2023-12-09T06:16:20.589Z"
   },
   {
    "duration": 43,
    "start_time": "2023-12-09T06:16:20.608Z"
   },
   {
    "duration": 13,
    "start_time": "2023-12-09T06:16:20.652Z"
   },
   {
    "duration": 27,
    "start_time": "2023-12-09T06:16:20.667Z"
   },
   {
    "duration": 220,
    "start_time": "2023-12-09T06:16:20.696Z"
   },
   {
    "duration": 12,
    "start_time": "2023-12-09T06:16:20.918Z"
   },
   {
    "duration": 195,
    "start_time": "2023-12-09T06:16:20.932Z"
   },
   {
    "duration": 8,
    "start_time": "2023-12-09T06:16:21.129Z"
   },
   {
    "duration": 219,
    "start_time": "2023-12-09T06:16:21.138Z"
   },
   {
    "duration": 8,
    "start_time": "2023-12-09T06:16:21.358Z"
   },
   {
    "duration": 207,
    "start_time": "2023-12-09T06:16:21.368Z"
   },
   {
    "duration": 8,
    "start_time": "2023-12-09T06:16:21.577Z"
   },
   {
    "duration": 20,
    "start_time": "2023-12-09T06:16:21.586Z"
   },
   {
    "duration": 107,
    "start_time": "2023-12-09T06:16:21.607Z"
   },
   {
    "duration": 5,
    "start_time": "2023-12-09T06:16:21.715Z"
   },
   {
    "duration": 33,
    "start_time": "2023-12-09T06:16:21.722Z"
   },
   {
    "duration": 4,
    "start_time": "2023-12-09T06:16:21.756Z"
   },
   {
    "duration": 8,
    "start_time": "2023-12-09T06:16:21.761Z"
   },
   {
    "duration": 16,
    "start_time": "2023-12-09T06:16:21.771Z"
   },
   {
    "duration": 17,
    "start_time": "2023-12-09T06:16:21.788Z"
   },
   {
    "duration": 14,
    "start_time": "2023-12-09T06:16:21.806Z"
   },
   {
    "duration": 5020,
    "start_time": "2023-12-09T06:16:21.822Z"
   },
   {
    "duration": 9,
    "start_time": "2023-12-09T06:16:26.844Z"
   },
   {
    "duration": 13,
    "start_time": "2023-12-09T06:16:26.855Z"
   },
   {
    "duration": 206,
    "start_time": "2023-12-09T06:16:26.870Z"
   },
   {
    "duration": 208,
    "start_time": "2023-12-09T06:16:27.078Z"
   },
   {
    "duration": 15,
    "start_time": "2023-12-09T06:16:27.287Z"
   },
   {
    "duration": 7,
    "start_time": "2023-12-09T06:16:27.314Z"
   },
   {
    "duration": 5,
    "start_time": "2023-12-09T06:16:27.324Z"
   },
   {
    "duration": 9,
    "start_time": "2023-12-09T06:16:27.331Z"
   },
   {
    "duration": 163,
    "start_time": "2023-12-09T06:16:27.342Z"
   },
   {
    "duration": 308,
    "start_time": "2023-12-09T06:16:27.507Z"
   },
   {
    "duration": 6,
    "start_time": "2023-12-09T06:16:27.817Z"
   },
   {
    "duration": 293,
    "start_time": "2023-12-09T06:16:27.825Z"
   },
   {
    "duration": 62,
    "start_time": "2023-12-09T06:20:03.334Z"
   },
   {
    "duration": 47,
    "start_time": "2023-12-09T06:20:06.981Z"
   },
   {
    "duration": 176,
    "start_time": "2023-12-09T06:20:11.831Z"
   },
   {
    "duration": 111,
    "start_time": "2023-12-09T06:22:34.974Z"
   },
   {
    "duration": 101,
    "start_time": "2023-12-09T06:22:41.777Z"
   },
   {
    "duration": 46,
    "start_time": "2023-12-09T06:25:13.629Z"
   },
   {
    "duration": 110,
    "start_time": "2023-12-09T06:25:17.313Z"
   },
   {
    "duration": 5,
    "start_time": "2023-12-09T06:31:02.264Z"
   },
   {
    "duration": 14,
    "start_time": "2023-12-09T06:32:32.518Z"
   },
   {
    "duration": 4,
    "start_time": "2023-12-09T06:33:24.561Z"
   },
   {
    "duration": 109,
    "start_time": "2023-12-09T06:34:54.971Z"
   },
   {
    "duration": 5,
    "start_time": "2023-12-09T06:35:15.585Z"
   },
   {
    "duration": 62,
    "start_time": "2023-12-09T06:35:29.908Z"
   },
   {
    "duration": 1001,
    "start_time": "2023-12-09T06:35:34.397Z"
   },
   {
    "duration": 764,
    "start_time": "2023-12-09T06:35:45.110Z"
   },
   {
    "duration": 4,
    "start_time": "2023-12-09T06:36:35.013Z"
   },
   {
    "duration": 776,
    "start_time": "2023-12-09T06:36:36.679Z"
   },
   {
    "duration": 5,
    "start_time": "2023-12-09T06:36:50.559Z"
   },
   {
    "duration": 785,
    "start_time": "2023-12-09T06:36:52.778Z"
   },
   {
    "duration": 5,
    "start_time": "2023-12-09T06:37:33.164Z"
   },
   {
    "duration": 798,
    "start_time": "2023-12-09T06:37:35.306Z"
   },
   {
    "duration": 740,
    "start_time": "2023-12-09T06:37:49.858Z"
   },
   {
    "duration": 11,
    "start_time": "2023-12-09T06:37:56.049Z"
   },
   {
    "duration": 113,
    "start_time": "2023-12-09T06:38:20.915Z"
   },
   {
    "duration": 3,
    "start_time": "2023-12-09T06:38:21.862Z"
   },
   {
    "duration": 6,
    "start_time": "2023-12-09T06:38:22.657Z"
   },
   {
    "duration": 4,
    "start_time": "2023-12-09T06:38:23.236Z"
   },
   {
    "duration": 5,
    "start_time": "2023-12-09T06:38:24.885Z"
   },
   {
    "duration": 4,
    "start_time": "2023-12-09T06:38:31.576Z"
   },
   {
    "duration": 6,
    "start_time": "2023-12-09T06:38:33.127Z"
   },
   {
    "duration": 10,
    "start_time": "2023-12-09T06:38:35.115Z"
   },
   {
    "duration": 4,
    "start_time": "2023-12-09T06:39:06.421Z"
   },
   {
    "duration": 64,
    "start_time": "2023-12-09T06:41:38.866Z"
   },
   {
    "duration": 4,
    "start_time": "2023-12-09T06:41:48.274Z"
   },
   {
    "duration": 4870,
    "start_time": "2023-12-09T06:41:51.337Z"
   },
   {
    "duration": 4916,
    "start_time": "2023-12-09T06:42:10.552Z"
   },
   {
    "duration": 8,
    "start_time": "2023-12-09T06:42:16.694Z"
   },
   {
    "duration": 41,
    "start_time": "2023-12-09T06:44:27.256Z"
   },
   {
    "duration": 75,
    "start_time": "2023-12-09T06:50:48.700Z"
   },
   {
    "duration": 10,
    "start_time": "2023-12-09T06:51:00.341Z"
   },
   {
    "duration": 10,
    "start_time": "2023-12-09T06:51:17.253Z"
   },
   {
    "duration": 181,
    "start_time": "2023-12-09T06:52:05.278Z"
   },
   {
    "duration": 175,
    "start_time": "2023-12-09T06:52:21.402Z"
   },
   {
    "duration": 169,
    "start_time": "2023-12-09T06:52:40.126Z"
   },
   {
    "duration": 5,
    "start_time": "2023-12-09T06:53:09.892Z"
   },
   {
    "duration": 6,
    "start_time": "2023-12-09T06:53:19.179Z"
   },
   {
    "duration": 8,
    "start_time": "2023-12-09T06:53:34.233Z"
   },
   {
    "duration": 9,
    "start_time": "2023-12-09T06:54:14.541Z"
   },
   {
    "duration": 1132,
    "start_time": "2023-12-09T06:55:12.383Z"
   },
   {
    "duration": 76,
    "start_time": "2023-12-09T06:55:13.516Z"
   },
   {
    "duration": 11,
    "start_time": "2023-12-09T06:55:13.593Z"
   },
   {
    "duration": 7,
    "start_time": "2023-12-09T06:55:13.606Z"
   },
   {
    "duration": 11,
    "start_time": "2023-12-09T06:55:13.615Z"
   },
   {
    "duration": 3,
    "start_time": "2023-12-09T06:55:13.627Z"
   },
   {
    "duration": 26,
    "start_time": "2023-12-09T06:55:13.631Z"
   },
   {
    "duration": 32,
    "start_time": "2023-12-09T06:55:13.658Z"
   },
   {
    "duration": 10,
    "start_time": "2023-12-09T06:55:13.714Z"
   },
   {
    "duration": 23,
    "start_time": "2023-12-09T06:55:13.726Z"
   },
   {
    "duration": 304,
    "start_time": "2023-12-09T06:55:13.750Z"
   },
   {
    "duration": 530,
    "start_time": "2023-12-09T06:55:14.055Z"
   },
   {
    "duration": 5,
    "start_time": "2023-12-09T06:55:14.586Z"
   },
   {
    "duration": 21,
    "start_time": "2023-12-09T06:55:14.594Z"
   },
   {
    "duration": 11,
    "start_time": "2023-12-09T06:55:14.617Z"
   },
   {
    "duration": 29,
    "start_time": "2023-12-09T06:55:14.629Z"
   },
   {
    "duration": 17,
    "start_time": "2023-12-09T06:55:14.659Z"
   },
   {
    "duration": 20,
    "start_time": "2023-12-09T06:55:14.678Z"
   },
   {
    "duration": 6,
    "start_time": "2023-12-09T06:55:14.699Z"
   },
   {
    "duration": 29,
    "start_time": "2023-12-09T06:55:14.706Z"
   },
   {
    "duration": 10,
    "start_time": "2023-12-09T06:55:14.736Z"
   },
   {
    "duration": 27,
    "start_time": "2023-12-09T06:55:14.747Z"
   },
   {
    "duration": 11,
    "start_time": "2023-12-09T06:55:14.776Z"
   },
   {
    "duration": 166,
    "start_time": "2023-12-09T06:55:14.789Z"
   },
   {
    "duration": 6,
    "start_time": "2023-12-09T06:55:14.957Z"
   },
   {
    "duration": 122,
    "start_time": "2023-12-09T06:55:14.964Z"
   },
   {
    "duration": 8,
    "start_time": "2023-12-09T06:55:15.088Z"
   },
   {
    "duration": 186,
    "start_time": "2023-12-09T06:55:15.097Z"
   },
   {
    "duration": 11,
    "start_time": "2023-12-09T06:55:15.284Z"
   },
   {
    "duration": 218,
    "start_time": "2023-12-09T06:55:15.297Z"
   },
   {
    "duration": 116,
    "start_time": "2023-12-09T06:55:15.517Z"
   },
   {
    "duration": 9,
    "start_time": "2023-12-09T06:55:15.635Z"
   },
   {
    "duration": 286,
    "start_time": "2023-12-09T06:55:15.646Z"
   },
   {
    "duration": 114,
    "start_time": "2023-12-09T06:55:15.934Z"
   },
   {
    "duration": 12,
    "start_time": "2023-12-09T06:55:16.049Z"
   },
   {
    "duration": 9,
    "start_time": "2023-12-09T06:55:16.063Z"
   },
   {
    "duration": 13,
    "start_time": "2023-12-09T06:55:16.074Z"
   },
   {
    "duration": 28,
    "start_time": "2023-12-09T06:55:16.089Z"
   },
   {
    "duration": 11,
    "start_time": "2023-12-09T06:55:16.119Z"
   },
   {
    "duration": 10,
    "start_time": "2023-12-09T06:55:16.132Z"
   },
   {
    "duration": 13,
    "start_time": "2023-12-09T06:55:16.147Z"
   },
   {
    "duration": 9,
    "start_time": "2023-12-09T06:55:16.161Z"
   },
   {
    "duration": 235,
    "start_time": "2023-12-09T06:55:16.172Z"
   },
   {
    "duration": 19,
    "start_time": "2023-12-09T06:55:16.408Z"
   },
   {
    "duration": 12,
    "start_time": "2023-12-09T06:55:16.428Z"
   },
   {
    "duration": 13,
    "start_time": "2023-12-09T06:55:16.442Z"
   },
   {
    "duration": 20,
    "start_time": "2023-12-09T06:55:16.456Z"
   },
   {
    "duration": 37,
    "start_time": "2023-12-09T06:55:16.478Z"
   },
   {
    "duration": 4,
    "start_time": "2023-12-09T06:55:16.517Z"
   },
   {
    "duration": 213,
    "start_time": "2023-12-09T06:55:16.522Z"
   },
   {
    "duration": 9,
    "start_time": "2023-12-09T06:55:16.737Z"
   },
   {
    "duration": 178,
    "start_time": "2023-12-09T06:55:16.748Z"
   },
   {
    "duration": 9,
    "start_time": "2023-12-09T06:55:16.927Z"
   },
   {
    "duration": 212,
    "start_time": "2023-12-09T06:55:16.937Z"
   },
   {
    "duration": 9,
    "start_time": "2023-12-09T06:55:17.150Z"
   },
   {
    "duration": 202,
    "start_time": "2023-12-09T06:55:17.161Z"
   },
   {
    "duration": 9,
    "start_time": "2023-12-09T06:55:17.364Z"
   },
   {
    "duration": 12,
    "start_time": "2023-12-09T06:55:17.374Z"
   },
   {
    "duration": 101,
    "start_time": "2023-12-09T06:55:17.387Z"
   },
   {
    "duration": 3,
    "start_time": "2023-12-09T06:55:17.489Z"
   },
   {
    "duration": 12,
    "start_time": "2023-12-09T06:55:17.494Z"
   },
   {
    "duration": 8,
    "start_time": "2023-12-09T06:55:17.508Z"
   },
   {
    "duration": 9,
    "start_time": "2023-12-09T06:55:17.518Z"
   },
   {
    "duration": 14,
    "start_time": "2023-12-09T06:55:17.529Z"
   },
   {
    "duration": 18,
    "start_time": "2023-12-09T06:55:17.545Z"
   },
   {
    "duration": 11,
    "start_time": "2023-12-09T06:55:17.565Z"
   },
   {
    "duration": 4687,
    "start_time": "2023-12-09T06:55:17.578Z"
   },
   {
    "duration": 8,
    "start_time": "2023-12-09T06:55:22.267Z"
   },
   {
    "duration": 13,
    "start_time": "2023-12-09T06:55:22.277Z"
   },
   {
    "duration": 185,
    "start_time": "2023-12-09T06:55:22.292Z"
   },
   {
    "duration": 184,
    "start_time": "2023-12-09T06:55:22.478Z"
   },
   {
    "duration": 28,
    "start_time": "2023-12-09T06:55:22.664Z"
   },
   {
    "duration": 6,
    "start_time": "2023-12-09T06:55:22.694Z"
   },
   {
    "duration": 14,
    "start_time": "2023-12-09T06:55:22.701Z"
   },
   {
    "duration": 10,
    "start_time": "2023-12-09T06:55:22.717Z"
   },
   {
    "duration": 157,
    "start_time": "2023-12-09T06:55:22.729Z"
   },
   {
    "duration": 284,
    "start_time": "2023-12-09T06:55:22.888Z"
   },
   {
    "duration": 4,
    "start_time": "2023-12-09T06:55:23.173Z"
   },
   {
    "duration": 370,
    "start_time": "2023-12-09T06:55:23.178Z"
   },
   {
    "duration": 52,
    "start_time": "2023-12-09T07:05:20.244Z"
   },
   {
    "duration": 93,
    "start_time": "2023-12-09T07:05:54.790Z"
   },
   {
    "duration": 96,
    "start_time": "2023-12-09T07:08:19.846Z"
   },
   {
    "duration": 116,
    "start_time": "2023-12-09T07:08:32.973Z"
   },
   {
    "duration": 100,
    "start_time": "2023-12-09T07:08:44.841Z"
   },
   {
    "duration": 94,
    "start_time": "2023-12-09T07:08:55.954Z"
   },
   {
    "duration": 96,
    "start_time": "2023-12-09T07:09:11.425Z"
   },
   {
    "duration": 109,
    "start_time": "2023-12-09T07:16:52.917Z"
   },
   {
    "duration": 103,
    "start_time": "2023-12-09T07:17:09.015Z"
   },
   {
    "duration": 108,
    "start_time": "2023-12-09T07:17:21.422Z"
   },
   {
    "duration": 104,
    "start_time": "2023-12-09T07:19:32.057Z"
   },
   {
    "duration": 4,
    "start_time": "2023-12-09T07:20:40.501Z"
   },
   {
    "duration": 98,
    "start_time": "2023-12-09T07:20:44.271Z"
   },
   {
    "duration": 131,
    "start_time": "2023-12-09T07:20:53.062Z"
   },
   {
    "duration": 114,
    "start_time": "2023-12-09T07:21:07.629Z"
   },
   {
    "duration": 191,
    "start_time": "2023-12-09T07:21:23.412Z"
   },
   {
    "duration": 106,
    "start_time": "2023-12-09T07:26:55.145Z"
   },
   {
    "duration": 104,
    "start_time": "2023-12-09T07:27:51.125Z"
   },
   {
    "duration": 109,
    "start_time": "2023-12-09T07:28:08.356Z"
   },
   {
    "duration": 107,
    "start_time": "2023-12-09T07:29:09.819Z"
   },
   {
    "duration": 126,
    "start_time": "2023-12-09T07:29:14.261Z"
   },
   {
    "duration": 5,
    "start_time": "2023-12-09T07:33:28.091Z"
   },
   {
    "duration": 4,
    "start_time": "2023-12-09T07:33:43.661Z"
   },
   {
    "duration": 4,
    "start_time": "2023-12-09T07:33:46.280Z"
   },
   {
    "duration": 171,
    "start_time": "2023-12-09T07:37:35.909Z"
   },
   {
    "duration": 223,
    "start_time": "2023-12-09T07:37:37.467Z"
   },
   {
    "duration": 224,
    "start_time": "2023-12-09T07:37:57.320Z"
   },
   {
    "duration": 338,
    "start_time": "2023-12-09T08:07:00.863Z"
   },
   {
    "duration": 247,
    "start_time": "2023-12-09T08:07:09.255Z"
   },
   {
    "duration": 168,
    "start_time": "2023-12-09T09:28:17.832Z"
   },
   {
    "duration": 158,
    "start_time": "2023-12-09T09:28:47.605Z"
   },
   {
    "duration": 169,
    "start_time": "2023-12-09T09:29:12.803Z"
   },
   {
    "duration": 16,
    "start_time": "2023-12-09T09:30:51.844Z"
   },
   {
    "duration": 7,
    "start_time": "2023-12-09T09:31:35.835Z"
   },
   {
    "duration": 11,
    "start_time": "2023-12-09T09:31:47.251Z"
   },
   {
    "duration": 9,
    "start_time": "2023-12-09T09:32:20.035Z"
   },
   {
    "duration": 16,
    "start_time": "2023-12-09T09:32:44.013Z"
   },
   {
    "duration": 6,
    "start_time": "2023-12-09T09:33:31.609Z"
   },
   {
    "duration": 14,
    "start_time": "2023-12-09T09:33:39.552Z"
   },
   {
    "duration": 688,
    "start_time": "2023-12-09T09:44:12.682Z"
   },
   {
    "duration": 747,
    "start_time": "2023-12-09T09:45:09.821Z"
   },
   {
    "duration": 6,
    "start_time": "2023-12-09T09:45:19.573Z"
   },
   {
    "duration": 98,
    "start_time": "2023-12-09T09:49:09.701Z"
   },
   {
    "duration": 3,
    "start_time": "2023-12-09T09:49:10.861Z"
   },
   {
    "duration": 6,
    "start_time": "2023-12-09T09:49:12.405Z"
   },
   {
    "duration": 4,
    "start_time": "2023-12-09T09:49:13.236Z"
   },
   {
    "duration": 4,
    "start_time": "2023-12-09T09:49:14.408Z"
   },
   {
    "duration": 6,
    "start_time": "2023-12-09T09:49:15.603Z"
   },
   {
    "duration": 10,
    "start_time": "2023-12-09T09:49:17.352Z"
   },
   {
    "duration": 7,
    "start_time": "2023-12-09T09:49:30.635Z"
   },
   {
    "duration": 11,
    "start_time": "2023-12-09T09:52:19.768Z"
   },
   {
    "duration": 16,
    "start_time": "2023-12-09T09:52:27.908Z"
   },
   {
    "duration": 100,
    "start_time": "2023-12-09T10:14:02.181Z"
   },
   {
    "duration": 1099,
    "start_time": "2023-12-09T10:14:09.683Z"
   },
   {
    "duration": 74,
    "start_time": "2023-12-09T10:14:10.784Z"
   },
   {
    "duration": 11,
    "start_time": "2023-12-09T10:14:10.860Z"
   },
   {
    "duration": 20,
    "start_time": "2023-12-09T10:14:10.873Z"
   },
   {
    "duration": 17,
    "start_time": "2023-12-09T10:14:10.896Z"
   },
   {
    "duration": 6,
    "start_time": "2023-12-09T10:14:10.916Z"
   },
   {
    "duration": 50,
    "start_time": "2023-12-09T10:14:10.923Z"
   },
   {
    "duration": 51,
    "start_time": "2023-12-09T10:14:10.975Z"
   },
   {
    "duration": 9,
    "start_time": "2023-12-09T10:14:11.028Z"
   },
   {
    "duration": 35,
    "start_time": "2023-12-09T10:14:11.038Z"
   },
   {
    "duration": 301,
    "start_time": "2023-12-09T10:14:11.074Z"
   },
   {
    "duration": 553,
    "start_time": "2023-12-09T10:14:11.377Z"
   },
   {
    "duration": 5,
    "start_time": "2023-12-09T10:14:11.932Z"
   },
   {
    "duration": 19,
    "start_time": "2023-12-09T10:14:11.940Z"
   },
   {
    "duration": 19,
    "start_time": "2023-12-09T10:14:11.961Z"
   },
   {
    "duration": 11,
    "start_time": "2023-12-09T10:14:11.982Z"
   },
   {
    "duration": 27,
    "start_time": "2023-12-09T10:14:11.995Z"
   },
   {
    "duration": 27,
    "start_time": "2023-12-09T10:14:12.023Z"
   },
   {
    "duration": 20,
    "start_time": "2023-12-09T10:14:12.053Z"
   },
   {
    "duration": 10,
    "start_time": "2023-12-09T10:14:12.075Z"
   },
   {
    "duration": 20,
    "start_time": "2023-12-09T10:14:12.087Z"
   },
   {
    "duration": 20,
    "start_time": "2023-12-09T10:14:12.109Z"
   },
   {
    "duration": 15,
    "start_time": "2023-12-09T10:14:12.131Z"
   },
   {
    "duration": 171,
    "start_time": "2023-12-09T10:14:12.149Z"
   },
   {
    "duration": 7,
    "start_time": "2023-12-09T10:14:12.322Z"
   },
   {
    "duration": 117,
    "start_time": "2023-12-09T10:14:12.330Z"
   },
   {
    "duration": 8,
    "start_time": "2023-12-09T10:14:12.449Z"
   },
   {
    "duration": 202,
    "start_time": "2023-12-09T10:14:12.459Z"
   },
   {
    "duration": 8,
    "start_time": "2023-12-09T10:14:12.662Z"
   },
   {
    "duration": 201,
    "start_time": "2023-12-09T10:14:12.671Z"
   },
   {
    "duration": 128,
    "start_time": "2023-12-09T10:14:12.873Z"
   },
   {
    "duration": 15,
    "start_time": "2023-12-09T10:14:13.003Z"
   },
   {
    "duration": 304,
    "start_time": "2023-12-09T10:14:13.019Z"
   },
   {
    "duration": 116,
    "start_time": "2023-12-09T10:14:13.325Z"
   },
   {
    "duration": 13,
    "start_time": "2023-12-09T10:14:13.443Z"
   },
   {
    "duration": 5,
    "start_time": "2023-12-09T10:14:13.457Z"
   },
   {
    "duration": 5,
    "start_time": "2023-12-09T10:14:13.464Z"
   },
   {
    "duration": 6,
    "start_time": "2023-12-09T10:14:13.470Z"
   },
   {
    "duration": 41,
    "start_time": "2023-12-09T10:14:13.477Z"
   },
   {
    "duration": 10,
    "start_time": "2023-12-09T10:14:13.520Z"
   },
   {
    "duration": 212,
    "start_time": "2023-12-09T10:14:13.534Z"
   },
   {
    "duration": 15,
    "start_time": "2023-12-09T10:14:13.748Z"
   },
   {
    "duration": 12,
    "start_time": "2023-12-09T10:14:13.764Z"
   },
   {
    "duration": 9,
    "start_time": "2023-12-09T10:14:13.778Z"
   },
   {
    "duration": 39,
    "start_time": "2023-12-09T10:14:13.789Z"
   },
   {
    "duration": 14,
    "start_time": "2023-12-09T10:14:13.830Z"
   },
   {
    "duration": 5,
    "start_time": "2023-12-09T10:14:13.846Z"
   },
   {
    "duration": 261,
    "start_time": "2023-12-09T10:14:13.852Z"
   },
   {
    "duration": 9,
    "start_time": "2023-12-09T10:14:14.115Z"
   },
   {
    "duration": 11,
    "start_time": "2023-12-09T10:14:14.125Z"
   },
   {
    "duration": 220,
    "start_time": "2023-12-09T10:14:14.137Z"
   },
   {
    "duration": 7,
    "start_time": "2023-12-09T10:14:14.359Z"
   },
   {
    "duration": 194,
    "start_time": "2023-12-09T10:14:14.368Z"
   },
   {
    "duration": 9,
    "start_time": "2023-12-09T10:14:14.563Z"
   },
   {
    "duration": 4,
    "start_time": "2023-12-09T10:14:14.573Z"
   },
   {
    "duration": 120,
    "start_time": "2023-12-09T10:14:14.578Z"
   },
   {
    "duration": 3,
    "start_time": "2023-12-09T10:14:14.699Z"
   },
   {
    "duration": 11,
    "start_time": "2023-12-09T10:14:14.703Z"
   },
   {
    "duration": 4,
    "start_time": "2023-12-09T10:14:14.716Z"
   },
   {
    "duration": 16,
    "start_time": "2023-12-09T10:14:14.721Z"
   },
   {
    "duration": 7,
    "start_time": "2023-12-09T10:14:14.738Z"
   },
   {
    "duration": 12,
    "start_time": "2023-12-09T10:14:14.746Z"
   },
   {
    "duration": 4,
    "start_time": "2023-12-09T10:14:14.759Z"
   },
   {
    "duration": 4891,
    "start_time": "2023-12-09T10:14:14.764Z"
   },
   {
    "duration": 9,
    "start_time": "2023-12-09T10:14:19.656Z"
   },
   {
    "duration": 11,
    "start_time": "2023-12-09T10:14:19.666Z"
   },
   {
    "duration": 210,
    "start_time": "2023-12-09T10:14:19.679Z"
   },
   {
    "duration": 196,
    "start_time": "2023-12-09T10:14:19.891Z"
   },
   {
    "duration": 14,
    "start_time": "2023-12-09T10:14:20.088Z"
   },
   {
    "duration": 6,
    "start_time": "2023-12-09T10:14:20.115Z"
   },
   {
    "duration": 7,
    "start_time": "2023-12-09T10:14:20.122Z"
   },
   {
    "duration": 13,
    "start_time": "2023-12-09T10:14:20.130Z"
   },
   {
    "duration": 174,
    "start_time": "2023-12-09T10:14:20.144Z"
   },
   {
    "duration": 314,
    "start_time": "2023-12-09T10:14:20.320Z"
   },
   {
    "duration": 4,
    "start_time": "2023-12-09T10:14:20.636Z"
   },
   {
    "duration": 305,
    "start_time": "2023-12-09T10:14:20.641Z"
   },
   {
    "duration": 104,
    "start_time": "2023-12-09T10:23:59.547Z"
   },
   {
    "duration": 4,
    "start_time": "2023-12-09T10:24:05.899Z"
   },
   {
    "duration": 3,
    "start_time": "2023-12-09T10:24:30.678Z"
   },
   {
    "duration": 4,
    "start_time": "2023-12-09T10:24:38.243Z"
   },
   {
    "duration": 5,
    "start_time": "2023-12-09T10:24:48.860Z"
   },
   {
    "duration": 4,
    "start_time": "2023-12-09T10:28:13.667Z"
   },
   {
    "duration": 8,
    "start_time": "2023-12-09T10:40:15.154Z"
   },
   {
    "duration": 8,
    "start_time": "2023-12-09T10:40:16.385Z"
   },
   {
    "duration": 1112,
    "start_time": "2023-12-09T10:45:09.946Z"
   },
   {
    "duration": 84,
    "start_time": "2023-12-09T10:45:11.060Z"
   },
   {
    "duration": 12,
    "start_time": "2023-12-09T10:45:11.145Z"
   },
   {
    "duration": 8,
    "start_time": "2023-12-09T10:45:11.159Z"
   },
   {
    "duration": 20,
    "start_time": "2023-12-09T10:45:11.169Z"
   },
   {
    "duration": 17,
    "start_time": "2023-12-09T10:45:11.191Z"
   },
   {
    "duration": 35,
    "start_time": "2023-12-09T10:45:11.210Z"
   },
   {
    "duration": 28,
    "start_time": "2023-12-09T10:45:11.246Z"
   },
   {
    "duration": 9,
    "start_time": "2023-12-09T10:45:11.275Z"
   },
   {
    "duration": 43,
    "start_time": "2023-12-09T10:45:11.286Z"
   },
   {
    "duration": 297,
    "start_time": "2023-12-09T10:45:11.331Z"
   },
   {
    "duration": 552,
    "start_time": "2023-12-09T10:45:11.629Z"
   },
   {
    "duration": 6,
    "start_time": "2023-12-09T10:45:12.183Z"
   },
   {
    "duration": 8,
    "start_time": "2023-12-09T10:45:12.190Z"
   },
   {
    "duration": 30,
    "start_time": "2023-12-09T10:45:12.200Z"
   },
   {
    "duration": 15,
    "start_time": "2023-12-09T10:45:12.231Z"
   },
   {
    "duration": 5,
    "start_time": "2023-12-09T10:45:12.247Z"
   },
   {
    "duration": 7,
    "start_time": "2023-12-09T10:45:12.254Z"
   },
   {
    "duration": 12,
    "start_time": "2023-12-09T10:45:12.263Z"
   },
   {
    "duration": 5,
    "start_time": "2023-12-09T10:45:12.276Z"
   },
   {
    "duration": 5,
    "start_time": "2023-12-09T10:45:12.283Z"
   },
   {
    "duration": 41,
    "start_time": "2023-12-09T10:45:12.290Z"
   },
   {
    "duration": 6,
    "start_time": "2023-12-09T10:45:12.333Z"
   },
   {
    "duration": 165,
    "start_time": "2023-12-09T10:45:12.340Z"
   },
   {
    "duration": 10,
    "start_time": "2023-12-09T10:45:12.507Z"
   },
   {
    "duration": 103,
    "start_time": "2023-12-09T10:45:12.524Z"
   },
   {
    "duration": 8,
    "start_time": "2023-12-09T10:45:12.629Z"
   },
   {
    "duration": 189,
    "start_time": "2023-12-09T10:45:12.641Z"
   },
   {
    "duration": 8,
    "start_time": "2023-12-09T10:45:12.832Z"
   },
   {
    "duration": 208,
    "start_time": "2023-12-09T10:45:12.842Z"
   },
   {
    "duration": 124,
    "start_time": "2023-12-09T10:45:13.051Z"
   },
   {
    "duration": 14,
    "start_time": "2023-12-09T10:45:13.177Z"
   },
   {
    "duration": 305,
    "start_time": "2023-12-09T10:45:13.193Z"
   },
   {
    "duration": 129,
    "start_time": "2023-12-09T10:45:13.500Z"
   },
   {
    "duration": 12,
    "start_time": "2023-12-09T10:45:13.631Z"
   },
   {
    "duration": 4,
    "start_time": "2023-12-09T10:45:13.644Z"
   },
   {
    "duration": 8,
    "start_time": "2023-12-09T10:45:13.650Z"
   },
   {
    "duration": 12,
    "start_time": "2023-12-09T10:45:13.659Z"
   },
   {
    "duration": 23,
    "start_time": "2023-12-09T10:45:13.672Z"
   },
   {
    "duration": 29,
    "start_time": "2023-12-09T10:45:13.696Z"
   },
   {
    "duration": 204,
    "start_time": "2023-12-09T10:45:13.727Z"
   },
   {
    "duration": 15,
    "start_time": "2023-12-09T10:45:13.933Z"
   },
   {
    "duration": 11,
    "start_time": "2023-12-09T10:45:13.950Z"
   },
   {
    "duration": 11,
    "start_time": "2023-12-09T10:45:13.963Z"
   },
   {
    "duration": 10,
    "start_time": "2023-12-09T10:45:13.975Z"
   },
   {
    "duration": 53,
    "start_time": "2023-12-09T10:45:13.986Z"
   },
   {
    "duration": 15,
    "start_time": "2023-12-09T10:45:14.040Z"
   },
   {
    "duration": 8,
    "start_time": "2023-12-09T10:45:14.056Z"
   },
   {
    "duration": 8,
    "start_time": "2023-12-09T10:45:14.066Z"
   },
   {
    "duration": 11,
    "start_time": "2023-12-09T10:45:14.075Z"
   },
   {
    "duration": 261,
    "start_time": "2023-12-09T10:45:14.088Z"
   },
   {
    "duration": 7,
    "start_time": "2023-12-09T10:45:14.351Z"
   },
   {
    "duration": 11,
    "start_time": "2023-12-09T10:45:14.360Z"
   },
   {
    "duration": 214,
    "start_time": "2023-12-09T10:45:14.373Z"
   },
   {
    "duration": 8,
    "start_time": "2023-12-09T10:45:14.588Z"
   },
   {
    "duration": 192,
    "start_time": "2023-12-09T10:45:14.597Z"
   },
   {
    "duration": 8,
    "start_time": "2023-12-09T10:45:14.790Z"
   },
   {
    "duration": 3,
    "start_time": "2023-12-09T10:45:14.799Z"
   },
   {
    "duration": 114,
    "start_time": "2023-12-09T10:45:14.815Z"
   },
   {
    "duration": 6,
    "start_time": "2023-12-09T10:45:14.930Z"
   },
   {
    "duration": 7,
    "start_time": "2023-12-09T10:45:14.937Z"
   },
   {
    "duration": 5,
    "start_time": "2023-12-09T10:45:14.946Z"
   },
   {
    "duration": 8,
    "start_time": "2023-12-09T10:45:14.952Z"
   },
   {
    "duration": 9,
    "start_time": "2023-12-09T10:45:14.962Z"
   },
   {
    "duration": 12,
    "start_time": "2023-12-09T10:45:14.973Z"
   },
   {
    "duration": 4,
    "start_time": "2023-12-09T10:45:14.987Z"
   },
   {
    "duration": 4844,
    "start_time": "2023-12-09T10:45:15.026Z"
   },
   {
    "duration": 9,
    "start_time": "2023-12-09T10:45:19.872Z"
   },
   {
    "duration": 20,
    "start_time": "2023-12-09T10:45:19.882Z"
   },
   {
    "duration": 193,
    "start_time": "2023-12-09T10:45:19.904Z"
   },
   {
    "duration": 179,
    "start_time": "2023-12-09T10:45:20.098Z"
   },
   {
    "duration": 14,
    "start_time": "2023-12-09T10:45:20.278Z"
   },
   {
    "duration": 26,
    "start_time": "2023-12-09T10:45:20.294Z"
   },
   {
    "duration": 32,
    "start_time": "2023-12-09T10:45:20.323Z"
   },
   {
    "duration": 29,
    "start_time": "2023-12-09T10:45:20.356Z"
   },
   {
    "duration": 148,
    "start_time": "2023-12-09T10:45:20.386Z"
   },
   {
    "duration": 267,
    "start_time": "2023-12-09T10:45:20.537Z"
   },
   {
    "duration": 12,
    "start_time": "2023-12-09T10:45:20.806Z"
   },
   {
    "duration": 314,
    "start_time": "2023-12-09T10:45:20.824Z"
   },
   {
    "duration": 1153,
    "start_time": "2023-12-09T10:59:24.329Z"
   },
   {
    "duration": 78,
    "start_time": "2023-12-09T10:59:25.483Z"
   },
   {
    "duration": 12,
    "start_time": "2023-12-09T10:59:25.562Z"
   },
   {
    "duration": 9,
    "start_time": "2023-12-09T10:59:25.576Z"
   },
   {
    "duration": 6,
    "start_time": "2023-12-09T10:59:25.587Z"
   },
   {
    "duration": 10,
    "start_time": "2023-12-09T10:59:25.594Z"
   },
   {
    "duration": 28,
    "start_time": "2023-12-09T10:59:25.605Z"
   },
   {
    "duration": 28,
    "start_time": "2023-12-09T10:59:25.634Z"
   },
   {
    "duration": 8,
    "start_time": "2023-12-09T10:59:25.664Z"
   },
   {
    "duration": 56,
    "start_time": "2023-12-09T10:59:25.673Z"
   },
   {
    "duration": 279,
    "start_time": "2023-12-09T10:59:25.731Z"
   },
   {
    "duration": 562,
    "start_time": "2023-12-09T10:59:26.014Z"
   },
   {
    "duration": 5,
    "start_time": "2023-12-09T10:59:26.577Z"
   },
   {
    "duration": 12,
    "start_time": "2023-12-09T10:59:26.585Z"
   },
   {
    "duration": 33,
    "start_time": "2023-12-09T10:59:26.598Z"
   },
   {
    "duration": 5,
    "start_time": "2023-12-09T10:59:26.632Z"
   },
   {
    "duration": 5,
    "start_time": "2023-12-09T10:59:26.639Z"
   },
   {
    "duration": 8,
    "start_time": "2023-12-09T10:59:26.645Z"
   },
   {
    "duration": 6,
    "start_time": "2023-12-09T10:59:26.654Z"
   },
   {
    "duration": 6,
    "start_time": "2023-12-09T10:59:26.661Z"
   },
   {
    "duration": 5,
    "start_time": "2023-12-09T10:59:26.668Z"
   },
   {
    "duration": 46,
    "start_time": "2023-12-09T10:59:26.674Z"
   },
   {
    "duration": 10,
    "start_time": "2023-12-09T10:59:26.723Z"
   },
   {
    "duration": 176,
    "start_time": "2023-12-09T10:59:26.735Z"
   },
   {
    "duration": 13,
    "start_time": "2023-12-09T10:59:26.917Z"
   },
   {
    "duration": 99,
    "start_time": "2023-12-09T10:59:26.932Z"
   },
   {
    "duration": 8,
    "start_time": "2023-12-09T10:59:27.033Z"
   },
   {
    "duration": 198,
    "start_time": "2023-12-09T10:59:27.042Z"
   },
   {
    "duration": 8,
    "start_time": "2023-12-09T10:59:27.242Z"
   },
   {
    "duration": 212,
    "start_time": "2023-12-09T10:59:27.252Z"
   },
   {
    "duration": 127,
    "start_time": "2023-12-09T10:59:27.466Z"
   },
   {
    "duration": 8,
    "start_time": "2023-12-09T10:59:27.595Z"
   },
   {
    "duration": 289,
    "start_time": "2023-12-09T10:59:27.614Z"
   },
   {
    "duration": 128,
    "start_time": "2023-12-09T10:59:27.904Z"
   },
   {
    "duration": 13,
    "start_time": "2023-12-09T10:59:28.033Z"
   },
   {
    "duration": 10,
    "start_time": "2023-12-09T10:59:28.047Z"
   },
   {
    "duration": 14,
    "start_time": "2023-12-09T10:59:28.058Z"
   },
   {
    "duration": 10,
    "start_time": "2023-12-09T10:59:28.074Z"
   },
   {
    "duration": 13,
    "start_time": "2023-12-09T10:59:28.085Z"
   },
   {
    "duration": 29,
    "start_time": "2023-12-09T10:59:28.100Z"
   },
   {
    "duration": 206,
    "start_time": "2023-12-09T10:59:28.133Z"
   },
   {
    "duration": 15,
    "start_time": "2023-12-09T10:59:28.340Z"
   },
   {
    "duration": 19,
    "start_time": "2023-12-09T10:59:28.357Z"
   },
   {
    "duration": 25,
    "start_time": "2023-12-09T10:59:28.378Z"
   },
   {
    "duration": 37,
    "start_time": "2023-12-09T10:59:28.404Z"
   },
   {
    "duration": 37,
    "start_time": "2023-12-09T10:59:28.442Z"
   },
   {
    "duration": 14,
    "start_time": "2023-12-09T10:59:28.481Z"
   },
   {
    "duration": 10,
    "start_time": "2023-12-09T10:59:28.496Z"
   },
   {
    "duration": 21,
    "start_time": "2023-12-09T10:59:28.507Z"
   },
   {
    "duration": 13,
    "start_time": "2023-12-09T10:59:28.530Z"
   },
   {
    "duration": 248,
    "start_time": "2023-12-09T10:59:28.545Z"
   },
   {
    "duration": 8,
    "start_time": "2023-12-09T10:59:28.795Z"
   },
   {
    "duration": 15,
    "start_time": "2023-12-09T10:59:28.815Z"
   },
   {
    "duration": 231,
    "start_time": "2023-12-09T10:59:28.833Z"
   },
   {
    "duration": 10,
    "start_time": "2023-12-09T10:59:29.066Z"
   },
   {
    "duration": 200,
    "start_time": "2023-12-09T10:59:29.078Z"
   },
   {
    "duration": 8,
    "start_time": "2023-12-09T10:59:29.280Z"
   },
   {
    "duration": 3,
    "start_time": "2023-12-09T10:59:29.289Z"
   },
   {
    "duration": 125,
    "start_time": "2023-12-09T10:59:29.294Z"
   },
   {
    "duration": 7,
    "start_time": "2023-12-09T10:59:29.420Z"
   },
   {
    "duration": 7,
    "start_time": "2023-12-09T10:59:29.428Z"
   },
   {
    "duration": 4,
    "start_time": "2023-12-09T10:59:29.436Z"
   },
   {
    "duration": 6,
    "start_time": "2023-12-09T10:59:29.441Z"
   },
   {
    "duration": 5,
    "start_time": "2023-12-09T10:59:29.448Z"
   },
   {
    "duration": 18,
    "start_time": "2023-12-09T10:59:29.454Z"
   },
   {
    "duration": 3,
    "start_time": "2023-12-09T10:59:29.474Z"
   },
   {
    "duration": 4805,
    "start_time": "2023-12-09T10:59:29.479Z"
   },
   {
    "duration": 10,
    "start_time": "2023-12-09T10:59:34.285Z"
   },
   {
    "duration": 32,
    "start_time": "2023-12-09T10:59:34.296Z"
   },
   {
    "duration": 203,
    "start_time": "2023-12-09T10:59:34.329Z"
   },
   {
    "duration": 209,
    "start_time": "2023-12-09T10:59:34.533Z"
   },
   {
    "duration": 14,
    "start_time": "2023-12-09T10:59:34.743Z"
   },
   {
    "duration": 7,
    "start_time": "2023-12-09T10:59:34.758Z"
   },
   {
    "duration": 8,
    "start_time": "2023-12-09T10:59:34.766Z"
   },
   {
    "duration": 7,
    "start_time": "2023-12-09T10:59:34.775Z"
   },
   {
    "duration": 157,
    "start_time": "2023-12-09T10:59:34.784Z"
   },
   {
    "duration": 396,
    "start_time": "2023-12-09T10:59:34.943Z"
   },
   {
    "duration": 5,
    "start_time": "2023-12-09T10:59:35.340Z"
   },
   {
    "duration": 476,
    "start_time": "2023-12-09T10:59:35.346Z"
   },
   {
    "duration": 249,
    "start_time": "2023-12-09T11:25:07.080Z"
   },
   {
    "duration": 1115,
    "start_time": "2023-12-09T12:37:24.635Z"
   },
   {
    "duration": 71,
    "start_time": "2023-12-09T12:37:25.752Z"
   },
   {
    "duration": 10,
    "start_time": "2023-12-09T12:37:25.825Z"
   },
   {
    "duration": 9,
    "start_time": "2023-12-09T12:37:25.836Z"
   },
   {
    "duration": 7,
    "start_time": "2023-12-09T12:37:25.847Z"
   },
   {
    "duration": 15,
    "start_time": "2023-12-09T12:37:25.855Z"
   },
   {
    "duration": 28,
    "start_time": "2023-12-09T12:37:25.872Z"
   },
   {
    "duration": 33,
    "start_time": "2023-12-09T12:37:25.901Z"
   },
   {
    "duration": 9,
    "start_time": "2023-12-09T12:37:25.936Z"
   },
   {
    "duration": 25,
    "start_time": "2023-12-09T12:37:25.946Z"
   },
   {
    "duration": 300,
    "start_time": "2023-12-09T12:37:25.972Z"
   },
   {
    "duration": 526,
    "start_time": "2023-12-09T12:37:26.274Z"
   },
   {
    "duration": 13,
    "start_time": "2023-12-09T12:37:26.802Z"
   },
   {
    "duration": 14,
    "start_time": "2023-12-09T12:37:26.818Z"
   },
   {
    "duration": 24,
    "start_time": "2023-12-09T12:37:26.833Z"
   },
   {
    "duration": 5,
    "start_time": "2023-12-09T12:37:26.859Z"
   },
   {
    "duration": 6,
    "start_time": "2023-12-09T12:37:26.865Z"
   },
   {
    "duration": 8,
    "start_time": "2023-12-09T12:37:26.872Z"
   },
   {
    "duration": 5,
    "start_time": "2023-12-09T12:37:26.881Z"
   },
   {
    "duration": 27,
    "start_time": "2023-12-09T12:37:26.888Z"
   },
   {
    "duration": 5,
    "start_time": "2023-12-09T12:37:26.916Z"
   },
   {
    "duration": 11,
    "start_time": "2023-12-09T12:37:26.922Z"
   },
   {
    "duration": 14,
    "start_time": "2023-12-09T12:37:26.935Z"
   },
   {
    "duration": 167,
    "start_time": "2023-12-09T12:37:26.950Z"
   },
   {
    "duration": 6,
    "start_time": "2023-12-09T12:37:27.118Z"
   },
   {
    "duration": 110,
    "start_time": "2023-12-09T12:37:27.125Z"
   },
   {
    "duration": 8,
    "start_time": "2023-12-09T12:37:27.237Z"
   },
   {
    "duration": 191,
    "start_time": "2023-12-09T12:37:27.247Z"
   },
   {
    "duration": 7,
    "start_time": "2023-12-09T12:37:27.440Z"
   },
   {
    "duration": 215,
    "start_time": "2023-12-09T12:37:27.449Z"
   },
   {
    "duration": 118,
    "start_time": "2023-12-09T12:37:27.666Z"
   },
   {
    "duration": 8,
    "start_time": "2023-12-09T12:37:27.786Z"
   },
   {
    "duration": 279,
    "start_time": "2023-12-09T12:37:27.795Z"
   },
   {
    "duration": 120,
    "start_time": "2023-12-09T12:37:28.075Z"
   },
   {
    "duration": 20,
    "start_time": "2023-12-09T12:37:28.196Z"
   },
   {
    "duration": 5,
    "start_time": "2023-12-09T12:37:28.217Z"
   },
   {
    "duration": 6,
    "start_time": "2023-12-09T12:37:28.223Z"
   },
   {
    "duration": 7,
    "start_time": "2023-12-09T12:37:28.230Z"
   },
   {
    "duration": 15,
    "start_time": "2023-12-09T12:37:28.238Z"
   },
   {
    "duration": 9,
    "start_time": "2023-12-09T12:37:28.255Z"
   },
   {
    "duration": 237,
    "start_time": "2023-12-09T12:37:28.268Z"
   },
   {
    "duration": 19,
    "start_time": "2023-12-09T12:37:28.507Z"
   },
   {
    "duration": 12,
    "start_time": "2023-12-09T12:37:28.527Z"
   },
   {
    "duration": 5,
    "start_time": "2023-12-09T12:37:28.540Z"
   },
   {
    "duration": 10,
    "start_time": "2023-12-09T12:37:28.546Z"
   },
   {
    "duration": 15,
    "start_time": "2023-12-09T12:37:28.557Z"
   },
   {
    "duration": 12,
    "start_time": "2023-12-09T12:37:28.574Z"
   },
   {
    "duration": 8,
    "start_time": "2023-12-09T12:37:28.615Z"
   },
   {
    "duration": 11,
    "start_time": "2023-12-09T12:37:28.624Z"
   },
   {
    "duration": 5,
    "start_time": "2023-12-09T12:37:28.637Z"
   },
   {
    "duration": 285,
    "start_time": "2023-12-09T12:37:28.643Z"
   },
   {
    "duration": 8,
    "start_time": "2023-12-09T12:37:28.929Z"
   },
   {
    "duration": 13,
    "start_time": "2023-12-09T12:37:28.938Z"
   },
   {
    "duration": 214,
    "start_time": "2023-12-09T12:37:28.952Z"
   },
   {
    "duration": 8,
    "start_time": "2023-12-09T12:37:29.167Z"
   },
   {
    "duration": 210,
    "start_time": "2023-12-09T12:37:29.177Z"
   },
   {
    "duration": 8,
    "start_time": "2023-12-09T12:37:29.388Z"
   },
   {
    "duration": 3,
    "start_time": "2023-12-09T12:37:29.398Z"
   },
   {
    "duration": 118,
    "start_time": "2023-12-09T12:37:29.402Z"
   },
   {
    "duration": 3,
    "start_time": "2023-12-09T12:37:29.521Z"
   },
   {
    "duration": 7,
    "start_time": "2023-12-09T12:37:29.526Z"
   },
   {
    "duration": 29,
    "start_time": "2023-12-09T12:37:29.535Z"
   },
   {
    "duration": 9,
    "start_time": "2023-12-09T12:37:29.565Z"
   },
   {
    "duration": 7,
    "start_time": "2023-12-09T12:37:29.575Z"
   },
   {
    "duration": 9,
    "start_time": "2023-12-09T12:37:29.584Z"
   },
   {
    "duration": 5,
    "start_time": "2023-12-09T12:37:29.595Z"
   },
   {
    "duration": 4672,
    "start_time": "2023-12-09T12:37:29.602Z"
   },
   {
    "duration": 9,
    "start_time": "2023-12-09T12:37:34.276Z"
   },
   {
    "duration": 12,
    "start_time": "2023-12-09T12:37:34.287Z"
   },
   {
    "duration": 184,
    "start_time": "2023-12-09T12:37:34.314Z"
   },
   {
    "duration": 209,
    "start_time": "2023-12-09T12:37:34.500Z"
   },
   {
    "duration": 14,
    "start_time": "2023-12-09T12:37:34.711Z"
   },
   {
    "duration": 9,
    "start_time": "2023-12-09T12:37:34.727Z"
   },
   {
    "duration": 12,
    "start_time": "2023-12-09T12:37:34.738Z"
   },
   {
    "duration": 11,
    "start_time": "2023-12-09T12:37:34.751Z"
   },
   {
    "duration": 139,
    "start_time": "2023-12-09T12:37:34.763Z"
   },
   {
    "duration": 369,
    "start_time": "2023-12-09T12:37:34.904Z"
   },
   {
    "duration": 4,
    "start_time": "2023-12-09T12:37:35.274Z"
   },
   {
    "duration": 385,
    "start_time": "2023-12-09T12:37:35.279Z"
   },
   {
    "duration": 1115,
    "start_time": "2023-12-09T15:44:42.768Z"
   },
   {
    "duration": 73,
    "start_time": "2023-12-09T15:44:43.885Z"
   },
   {
    "duration": 11,
    "start_time": "2023-12-09T15:44:43.959Z"
   },
   {
    "duration": 9,
    "start_time": "2023-12-09T15:44:43.972Z"
   },
   {
    "duration": 10,
    "start_time": "2023-12-09T15:44:43.983Z"
   },
   {
    "duration": 9,
    "start_time": "2023-12-09T15:44:43.994Z"
   },
   {
    "duration": 28,
    "start_time": "2023-12-09T15:44:44.005Z"
   },
   {
    "duration": 26,
    "start_time": "2023-12-09T15:44:44.034Z"
   },
   {
    "duration": 8,
    "start_time": "2023-12-09T15:44:44.061Z"
   },
   {
    "duration": 24,
    "start_time": "2023-12-09T15:44:44.071Z"
   },
   {
    "duration": 289,
    "start_time": "2023-12-09T15:44:44.096Z"
   },
   {
    "duration": 535,
    "start_time": "2023-12-09T15:44:44.386Z"
   },
   {
    "duration": 11,
    "start_time": "2023-12-09T15:44:44.923Z"
   },
   {
    "duration": 24,
    "start_time": "2023-12-09T15:44:44.936Z"
   },
   {
    "duration": 13,
    "start_time": "2023-12-09T15:44:44.962Z"
   },
   {
    "duration": 5,
    "start_time": "2023-12-09T15:44:44.977Z"
   },
   {
    "duration": 6,
    "start_time": "2023-12-09T15:44:44.984Z"
   },
   {
    "duration": 9,
    "start_time": "2023-12-09T15:44:44.992Z"
   },
   {
    "duration": 91,
    "start_time": "2023-12-09T15:44:45.003Z"
   },
   {
    "duration": 24,
    "start_time": "2023-12-09T15:44:45.096Z"
   },
   {
    "duration": 19,
    "start_time": "2023-12-09T15:44:45.122Z"
   },
   {
    "duration": 9,
    "start_time": "2023-12-09T15:44:45.143Z"
   },
   {
    "duration": 6,
    "start_time": "2023-12-09T15:44:45.154Z"
   },
   {
    "duration": 152,
    "start_time": "2023-12-09T15:44:45.162Z"
   },
   {
    "duration": 14,
    "start_time": "2023-12-09T15:44:45.316Z"
   },
   {
    "duration": 103,
    "start_time": "2023-12-09T15:44:45.332Z"
   },
   {
    "duration": 8,
    "start_time": "2023-12-09T15:44:45.437Z"
   },
   {
    "duration": 199,
    "start_time": "2023-12-09T15:44:45.451Z"
   },
   {
    "duration": 9,
    "start_time": "2023-12-09T15:44:45.652Z"
   },
   {
    "duration": 193,
    "start_time": "2023-12-09T15:44:45.663Z"
   },
   {
    "duration": 117,
    "start_time": "2023-12-09T15:44:45.858Z"
   },
   {
    "duration": 9,
    "start_time": "2023-12-09T15:44:45.978Z"
   },
   {
    "duration": 303,
    "start_time": "2023-12-09T15:44:45.988Z"
   },
   {
    "duration": 116,
    "start_time": "2023-12-09T15:44:46.293Z"
   },
   {
    "duration": 21,
    "start_time": "2023-12-09T15:44:46.411Z"
   },
   {
    "duration": 6,
    "start_time": "2023-12-09T15:44:46.434Z"
   },
   {
    "duration": 10,
    "start_time": "2023-12-09T15:44:46.442Z"
   },
   {
    "duration": 7,
    "start_time": "2023-12-09T15:44:46.453Z"
   },
   {
    "duration": 13,
    "start_time": "2023-12-09T15:44:46.461Z"
   },
   {
    "duration": 9,
    "start_time": "2023-12-09T15:44:46.476Z"
   },
   {
    "duration": 220,
    "start_time": "2023-12-09T15:44:46.487Z"
   },
   {
    "duration": 24,
    "start_time": "2023-12-09T15:44:46.709Z"
   },
   {
    "duration": 61,
    "start_time": "2023-12-09T15:44:46.735Z"
   },
   {
    "duration": 18,
    "start_time": "2023-12-09T15:44:46.798Z"
   },
   {
    "duration": 13,
    "start_time": "2023-12-09T15:44:46.817Z"
   },
   {
    "duration": 16,
    "start_time": "2023-12-09T15:44:46.832Z"
   },
   {
    "duration": 15,
    "start_time": "2023-12-09T15:44:46.850Z"
   },
   {
    "duration": 9,
    "start_time": "2023-12-09T15:44:46.866Z"
   },
   {
    "duration": 6,
    "start_time": "2023-12-09T15:44:46.877Z"
   },
   {
    "duration": 7,
    "start_time": "2023-12-09T15:44:46.885Z"
   },
   {
    "duration": 258,
    "start_time": "2023-12-09T15:44:46.894Z"
   },
   {
    "duration": 8,
    "start_time": "2023-12-09T15:44:47.153Z"
   },
   {
    "duration": 17,
    "start_time": "2023-12-09T15:44:47.163Z"
   },
   {
    "duration": 199,
    "start_time": "2023-12-09T15:44:47.181Z"
   },
   {
    "duration": 8,
    "start_time": "2023-12-09T15:44:47.382Z"
   },
   {
    "duration": 199,
    "start_time": "2023-12-09T15:44:47.391Z"
   },
   {
    "duration": 8,
    "start_time": "2023-12-09T15:44:47.592Z"
   },
   {
    "duration": 4,
    "start_time": "2023-12-09T15:44:47.602Z"
   },
   {
    "duration": 155,
    "start_time": "2023-12-09T15:44:47.608Z"
   },
   {
    "duration": 4,
    "start_time": "2023-12-09T15:44:47.764Z"
   },
   {
    "duration": 19,
    "start_time": "2023-12-09T15:44:47.769Z"
   },
   {
    "duration": 9,
    "start_time": "2023-12-09T15:44:47.790Z"
   },
   {
    "duration": 13,
    "start_time": "2023-12-09T15:44:47.800Z"
   },
   {
    "duration": 6,
    "start_time": "2023-12-09T15:44:47.815Z"
   },
   {
    "duration": 16,
    "start_time": "2023-12-09T15:44:47.822Z"
   },
   {
    "duration": 14,
    "start_time": "2023-12-09T15:44:47.839Z"
   },
   {
    "duration": 4564,
    "start_time": "2023-12-09T15:44:47.855Z"
   },
   {
    "duration": 12,
    "start_time": "2023-12-09T15:44:52.420Z"
   },
   {
    "duration": 37,
    "start_time": "2023-12-09T15:44:52.434Z"
   },
   {
    "duration": 178,
    "start_time": "2023-12-09T15:44:52.472Z"
   },
   {
    "duration": 175,
    "start_time": "2023-12-09T15:44:52.652Z"
   },
   {
    "duration": 14,
    "start_time": "2023-12-09T15:44:52.830Z"
   },
   {
    "duration": 15,
    "start_time": "2023-12-09T15:44:52.846Z"
   },
   {
    "duration": 26,
    "start_time": "2023-12-09T15:44:52.863Z"
   },
   {
    "duration": 34,
    "start_time": "2023-12-09T15:44:52.891Z"
   },
   {
    "duration": 133,
    "start_time": "2023-12-09T15:44:52.926Z"
   },
   {
    "duration": 251,
    "start_time": "2023-12-09T15:44:53.061Z"
   },
   {
    "duration": 4,
    "start_time": "2023-12-09T15:44:53.314Z"
   },
   {
    "duration": 280,
    "start_time": "2023-12-09T15:44:53.331Z"
   },
   {
    "duration": 8,
    "start_time": "2023-12-09T16:05:38.800Z"
   },
   {
    "duration": 4,
    "start_time": "2023-12-09T16:16:19.815Z"
   },
   {
    "duration": 3,
    "start_time": "2023-12-09T16:16:25.385Z"
   },
   {
    "duration": 3,
    "start_time": "2023-12-09T16:16:46.698Z"
   },
   {
    "duration": 9,
    "start_time": "2023-12-09T16:16:47.059Z"
   },
   {
    "duration": 798,
    "start_time": "2023-12-09T16:16:48.555Z"
   },
   {
    "duration": 3,
    "start_time": "2023-12-09T16:16:49.543Z"
   },
   {
    "duration": 12,
    "start_time": "2023-12-09T16:16:49.977Z"
   },
   {
    "duration": 16,
    "start_time": "2023-12-09T16:16:50.305Z"
   },
   {
    "duration": 12,
    "start_time": "2023-12-09T16:16:50.562Z"
   },
   {
    "duration": 9,
    "start_time": "2023-12-09T16:16:50.772Z"
   },
   {
    "duration": 828,
    "start_time": "2023-12-09T16:16:51.138Z"
   },
   {
    "duration": 1100,
    "start_time": "2023-12-09T16:16:58.390Z"
   },
   {
    "duration": 74,
    "start_time": "2023-12-09T16:16:59.492Z"
   },
   {
    "duration": 12,
    "start_time": "2023-12-09T16:16:59.568Z"
   },
   {
    "duration": 9,
    "start_time": "2023-12-09T16:16:59.582Z"
   },
   {
    "duration": 9,
    "start_time": "2023-12-09T16:16:59.593Z"
   },
   {
    "duration": 5,
    "start_time": "2023-12-09T16:16:59.604Z"
   },
   {
    "duration": 39,
    "start_time": "2023-12-09T16:16:59.611Z"
   },
   {
    "duration": 27,
    "start_time": "2023-12-09T16:16:59.652Z"
   },
   {
    "duration": 9,
    "start_time": "2023-12-09T16:16:59.680Z"
   },
   {
    "duration": 53,
    "start_time": "2023-12-09T16:16:59.692Z"
   },
   {
    "duration": 266,
    "start_time": "2023-12-09T16:16:59.746Z"
   },
   {
    "duration": 534,
    "start_time": "2023-12-09T16:17:00.014Z"
   },
   {
    "duration": 7,
    "start_time": "2023-12-09T16:17:00.551Z"
   },
   {
    "duration": 45,
    "start_time": "2023-12-09T16:17:00.560Z"
   },
   {
    "duration": 33,
    "start_time": "2023-12-09T16:17:00.607Z"
   },
   {
    "duration": 6,
    "start_time": "2023-12-09T16:17:00.642Z"
   },
   {
    "duration": 24,
    "start_time": "2023-12-09T16:17:00.650Z"
   },
   {
    "duration": 32,
    "start_time": "2023-12-09T16:17:00.676Z"
   },
   {
    "duration": 31,
    "start_time": "2023-12-09T16:17:00.710Z"
   },
   {
    "duration": 34,
    "start_time": "2023-12-09T16:17:00.743Z"
   },
   {
    "duration": 21,
    "start_time": "2023-12-09T16:17:00.778Z"
   },
   {
    "duration": 40,
    "start_time": "2023-12-09T16:17:00.801Z"
   },
   {
    "duration": 32,
    "start_time": "2023-12-09T16:17:00.843Z"
   },
   {
    "duration": 165,
    "start_time": "2023-12-09T16:17:00.877Z"
   },
   {
    "duration": 7,
    "start_time": "2023-12-09T16:17:01.044Z"
   },
   {
    "duration": 140,
    "start_time": "2023-12-09T16:17:01.052Z"
   },
   {
    "duration": 8,
    "start_time": "2023-12-09T16:17:01.194Z"
   },
   {
    "duration": 198,
    "start_time": "2023-12-09T16:17:01.207Z"
   },
   {
    "duration": 10,
    "start_time": "2023-12-09T16:17:01.407Z"
   },
   {
    "duration": 247,
    "start_time": "2023-12-09T16:17:01.431Z"
   },
   {
    "duration": 114,
    "start_time": "2023-12-09T16:17:01.680Z"
   },
   {
    "duration": 113,
    "start_time": "2023-12-09T16:17:01.796Z"
   },
   {
    "duration": 401,
    "start_time": "2023-12-09T16:17:01.911Z"
   },
   {
    "duration": 128,
    "start_time": "2023-12-09T16:17:02.314Z"
   },
   {
    "duration": 14,
    "start_time": "2023-12-09T16:17:02.444Z"
   },
   {
    "duration": 180,
    "start_time": "2023-12-09T16:17:02.459Z"
   },
   {
    "duration": 53,
    "start_time": "2023-12-09T16:17:02.640Z"
   },
   {
    "duration": 34,
    "start_time": "2023-12-09T16:17:02.695Z"
   },
   {
    "duration": 31,
    "start_time": "2023-12-09T16:17:02.731Z"
   },
   {
    "duration": 81,
    "start_time": "2023-12-09T16:17:02.764Z"
   },
   {
    "duration": 229,
    "start_time": "2023-12-09T16:17:02.846Z"
   },
   {
    "duration": 15,
    "start_time": "2023-12-09T16:17:03.077Z"
   },
   {
    "duration": 29,
    "start_time": "2023-12-09T16:17:03.094Z"
   },
   {
    "duration": 16,
    "start_time": "2023-12-09T16:17:03.124Z"
   },
   {
    "duration": 13,
    "start_time": "2023-12-09T16:17:03.141Z"
   },
   {
    "duration": 17,
    "start_time": "2023-12-09T16:17:03.156Z"
   },
   {
    "duration": 13,
    "start_time": "2023-12-09T16:17:03.175Z"
   },
   {
    "duration": 10,
    "start_time": "2023-12-09T16:17:03.190Z"
   },
   {
    "duration": 7,
    "start_time": "2023-12-09T16:17:03.202Z"
   },
   {
    "duration": 21,
    "start_time": "2023-12-09T16:17:03.211Z"
   },
   {
    "duration": 240,
    "start_time": "2023-12-09T16:17:03.234Z"
   },
   {
    "duration": 9,
    "start_time": "2023-12-09T16:17:03.475Z"
   },
   {
    "duration": 16,
    "start_time": "2023-12-09T16:17:03.485Z"
   },
   {
    "duration": 202,
    "start_time": "2023-12-09T16:17:03.503Z"
   },
   {
    "duration": 9,
    "start_time": "2023-12-09T16:17:03.706Z"
   },
   {
    "duration": 226,
    "start_time": "2023-12-09T16:17:03.717Z"
   },
   {
    "duration": 9,
    "start_time": "2023-12-09T16:17:03.944Z"
   },
   {
    "duration": 4,
    "start_time": "2023-12-09T16:17:03.955Z"
   },
   {
    "duration": 124,
    "start_time": "2023-12-09T16:17:03.960Z"
   },
   {
    "duration": 4,
    "start_time": "2023-12-09T16:17:04.085Z"
   },
   {
    "duration": 15,
    "start_time": "2023-12-09T16:17:04.091Z"
   },
   {
    "duration": 7,
    "start_time": "2023-12-09T16:17:04.107Z"
   },
   {
    "duration": 6,
    "start_time": "2023-12-09T16:17:04.115Z"
   },
   {
    "duration": 14,
    "start_time": "2023-12-09T16:17:04.122Z"
   },
   {
    "duration": 18,
    "start_time": "2023-12-09T16:17:04.138Z"
   },
   {
    "duration": 7,
    "start_time": "2023-12-09T16:17:04.158Z"
   },
   {
    "duration": 5000,
    "start_time": "2023-12-09T16:17:04.166Z"
   },
   {
    "duration": 9,
    "start_time": "2023-12-09T16:17:09.168Z"
   },
   {
    "duration": 18,
    "start_time": "2023-12-09T16:17:09.179Z"
   },
   {
    "duration": 191,
    "start_time": "2023-12-09T16:17:09.199Z"
   },
   {
    "duration": 193,
    "start_time": "2023-12-09T16:17:09.392Z"
   },
   {
    "duration": 19,
    "start_time": "2023-12-09T16:17:09.586Z"
   },
   {
    "duration": 23,
    "start_time": "2023-12-09T16:17:09.608Z"
   },
   {
    "duration": 9,
    "start_time": "2023-12-09T16:17:09.633Z"
   },
   {
    "duration": 10,
    "start_time": "2023-12-09T16:17:09.645Z"
   },
   {
    "duration": 13,
    "start_time": "2023-12-09T16:17:09.657Z"
   },
   {
    "duration": 168,
    "start_time": "2023-12-09T16:17:09.678Z"
   },
   {
    "duration": 267,
    "start_time": "2023-12-09T16:17:09.847Z"
   },
   {
    "duration": 4,
    "start_time": "2023-12-09T16:17:10.115Z"
   },
   {
    "duration": 381,
    "start_time": "2023-12-09T16:17:10.131Z"
   },
   {
    "duration": 7,
    "start_time": "2023-12-09T16:17:10.513Z"
   },
   {
    "duration": 14,
    "start_time": "2023-12-09T16:17:10.531Z"
   },
   {
    "duration": 13,
    "start_time": "2023-12-09T16:17:10.547Z"
   },
   {
    "duration": 18,
    "start_time": "2023-12-09T16:17:10.562Z"
   },
   {
    "duration": 13,
    "start_time": "2023-12-09T16:17:10.582Z"
   },
   {
    "duration": 44,
    "start_time": "2023-12-09T16:17:10.597Z"
   },
   {
    "duration": 6,
    "start_time": "2023-12-09T16:17:10.642Z"
   },
   {
    "duration": 12,
    "start_time": "2023-12-09T16:17:10.649Z"
   },
   {
    "duration": 6,
    "start_time": "2023-12-09T16:17:10.663Z"
   },
   {
    "duration": 20,
    "start_time": "2023-12-09T16:17:10.670Z"
   },
   {
    "duration": 777,
    "start_time": "2023-12-09T16:17:10.692Z"
   },
   {
    "duration": 3,
    "start_time": "2023-12-09T16:17:11.471Z"
   },
   {
    "duration": 15,
    "start_time": "2023-12-09T16:17:11.475Z"
   },
   {
    "duration": 14,
    "start_time": "2023-12-09T16:17:11.492Z"
   },
   {
    "duration": 32,
    "start_time": "2023-12-09T16:17:11.508Z"
   },
   {
    "duration": 9,
    "start_time": "2023-12-09T16:17:11.541Z"
   },
   {
    "duration": 865,
    "start_time": "2023-12-09T16:17:11.551Z"
   },
   {
    "duration": 1964,
    "start_time": "2025-03-13T20:50:35.773Z"
   },
   {
    "duration": 80,
    "start_time": "2025-03-13T20:50:37.739Z"
   },
   {
    "duration": 12,
    "start_time": "2025-03-13T20:50:37.821Z"
   },
   {
    "duration": 9,
    "start_time": "2025-03-13T20:50:37.835Z"
   },
   {
    "duration": 6,
    "start_time": "2025-03-13T20:50:37.846Z"
   },
   {
    "duration": 4,
    "start_time": "2025-03-13T20:50:37.853Z"
   },
   {
    "duration": 43,
    "start_time": "2025-03-13T20:50:37.858Z"
   },
   {
    "duration": 28,
    "start_time": "2025-03-13T20:50:37.902Z"
   },
   {
    "duration": 9,
    "start_time": "2025-03-13T20:50:37.932Z"
   },
   {
    "duration": 72,
    "start_time": "2025-03-13T20:50:37.944Z"
   },
   {
    "duration": 285,
    "start_time": "2025-03-13T20:50:38.017Z"
   },
   {
    "duration": 573,
    "start_time": "2025-03-13T20:50:38.304Z"
   },
   {
    "duration": 6,
    "start_time": "2025-03-13T20:50:38.878Z"
   },
   {
    "duration": 7,
    "start_time": "2025-03-13T20:50:38.886Z"
   },
   {
    "duration": 14,
    "start_time": "2025-03-13T20:50:38.895Z"
   },
   {
    "duration": 18,
    "start_time": "2025-03-13T20:50:38.911Z"
   },
   {
    "duration": 8,
    "start_time": "2025-03-13T20:50:38.931Z"
   },
   {
    "duration": 33,
    "start_time": "2025-03-13T20:50:38.942Z"
   },
   {
    "duration": 5,
    "start_time": "2025-03-13T20:50:38.977Z"
   },
   {
    "duration": 6,
    "start_time": "2025-03-13T20:50:38.984Z"
   },
   {
    "duration": 8,
    "start_time": "2025-03-13T20:50:38.991Z"
   },
   {
    "duration": 8,
    "start_time": "2025-03-13T20:50:39.000Z"
   },
   {
    "duration": 5,
    "start_time": "2025-03-13T20:50:39.010Z"
   },
   {
    "duration": 193,
    "start_time": "2025-03-13T20:50:39.016Z"
   },
   {
    "duration": 7,
    "start_time": "2025-03-13T20:50:39.211Z"
   },
   {
    "duration": 118,
    "start_time": "2025-03-13T20:50:39.219Z"
   },
   {
    "duration": 8,
    "start_time": "2025-03-13T20:50:39.339Z"
   },
   {
    "duration": 205,
    "start_time": "2025-03-13T20:50:39.351Z"
   },
   {
    "duration": 16,
    "start_time": "2025-03-13T20:50:39.558Z"
   },
   {
    "duration": 206,
    "start_time": "2025-03-13T20:50:39.576Z"
   },
   {
    "duration": 124,
    "start_time": "2025-03-13T20:50:39.784Z"
   },
   {
    "duration": 8,
    "start_time": "2025-03-13T20:50:39.910Z"
   },
   {
    "duration": 309,
    "start_time": "2025-03-13T20:50:39.919Z"
   },
   {
    "duration": 135,
    "start_time": "2025-03-13T20:50:40.229Z"
   },
   {
    "duration": 14,
    "start_time": "2025-03-13T20:50:40.373Z"
   },
   {
    "duration": 6,
    "start_time": "2025-03-13T20:50:40.388Z"
   },
   {
    "duration": 10,
    "start_time": "2025-03-13T20:50:40.396Z"
   },
   {
    "duration": 4,
    "start_time": "2025-03-13T20:50:40.408Z"
   },
   {
    "duration": 13,
    "start_time": "2025-03-13T20:50:40.414Z"
   },
   {
    "duration": 46,
    "start_time": "2025-03-13T20:50:40.429Z"
   },
   {
    "duration": 215,
    "start_time": "2025-03-13T20:50:40.476Z"
   },
   {
    "duration": 16,
    "start_time": "2025-03-13T20:50:40.692Z"
   },
   {
    "duration": 12,
    "start_time": "2025-03-13T20:50:40.709Z"
   },
   {
    "duration": 5,
    "start_time": "2025-03-13T20:50:40.722Z"
   },
   {
    "duration": 10,
    "start_time": "2025-03-13T20:50:40.728Z"
   },
   {
    "duration": 45,
    "start_time": "2025-03-13T20:50:40.739Z"
   },
   {
    "duration": 19,
    "start_time": "2025-03-13T20:50:40.786Z"
   },
   {
    "duration": 11,
    "start_time": "2025-03-13T20:50:40.807Z"
   },
   {
    "duration": 10,
    "start_time": "2025-03-13T20:50:40.820Z"
   },
   {
    "duration": 4,
    "start_time": "2025-03-13T20:50:40.832Z"
   },
   {
    "duration": 258,
    "start_time": "2025-03-13T20:50:40.873Z"
   },
   {
    "duration": 8,
    "start_time": "2025-03-13T20:50:41.132Z"
   },
   {
    "duration": 8,
    "start_time": "2025-03-13T20:50:41.142Z"
   },
   {
    "duration": 225,
    "start_time": "2025-03-13T20:50:41.151Z"
   },
   {
    "duration": 9,
    "start_time": "2025-03-13T20:50:41.377Z"
   },
   {
    "duration": 210,
    "start_time": "2025-03-13T20:50:41.387Z"
   },
   {
    "duration": 9,
    "start_time": "2025-03-13T20:50:41.599Z"
   },
   {
    "duration": 4,
    "start_time": "2025-03-13T20:50:41.609Z"
   },
   {
    "duration": 129,
    "start_time": "2025-03-13T20:50:41.614Z"
   },
   {
    "duration": 3,
    "start_time": "2025-03-13T20:50:41.744Z"
   },
   {
    "duration": 7,
    "start_time": "2025-03-13T20:50:41.749Z"
   },
   {
    "duration": 4,
    "start_time": "2025-03-13T20:50:41.757Z"
   },
   {
    "duration": 4,
    "start_time": "2025-03-13T20:50:41.773Z"
   },
   {
    "duration": 6,
    "start_time": "2025-03-13T20:50:41.778Z"
   },
   {
    "duration": 10,
    "start_time": "2025-03-13T20:50:41.785Z"
   },
   {
    "duration": 3,
    "start_time": "2025-03-13T20:50:41.797Z"
   },
   {
    "duration": 5124,
    "start_time": "2025-03-13T20:50:41.801Z"
   },
   {
    "duration": 10,
    "start_time": "2025-03-13T20:50:46.926Z"
   },
   {
    "duration": 10,
    "start_time": "2025-03-13T20:50:46.938Z"
   },
   {
    "duration": 212,
    "start_time": "2025-03-13T20:50:46.950Z"
   },
   {
    "duration": 192,
    "start_time": "2025-03-13T20:50:47.163Z"
   },
   {
    "duration": 22,
    "start_time": "2025-03-13T20:50:47.357Z"
   },
   {
    "duration": 19,
    "start_time": "2025-03-13T20:50:47.381Z"
   },
   {
    "duration": 6,
    "start_time": "2025-03-13T20:50:47.402Z"
   },
   {
    "duration": 6,
    "start_time": "2025-03-13T20:50:47.410Z"
   },
   {
    "duration": 8,
    "start_time": "2025-03-13T20:50:47.418Z"
   },
   {
    "duration": 139,
    "start_time": "2025-03-13T20:50:47.428Z"
   },
   {
    "duration": 316,
    "start_time": "2025-03-13T20:50:47.573Z"
   },
   {
    "duration": 4,
    "start_time": "2025-03-13T20:50:47.891Z"
   },
   {
    "duration": 404,
    "start_time": "2025-03-13T20:50:47.896Z"
   },
   {
    "duration": 6,
    "start_time": "2025-03-13T20:50:48.302Z"
   },
   {
    "duration": 13,
    "start_time": "2025-03-13T20:50:48.314Z"
   },
   {
    "duration": 14,
    "start_time": "2025-03-13T20:50:48.328Z"
   },
   {
    "duration": 37,
    "start_time": "2025-03-13T20:50:48.343Z"
   },
   {
    "duration": 13,
    "start_time": "2025-03-13T20:50:48.382Z"
   },
   {
    "duration": 13,
    "start_time": "2025-03-13T20:50:48.396Z"
   },
   {
    "duration": 23,
    "start_time": "2025-03-13T20:50:48.411Z"
   },
   {
    "duration": 11,
    "start_time": "2025-03-13T20:50:48.436Z"
   },
   {
    "duration": 2,
    "start_time": "2025-03-13T20:50:48.449Z"
   },
   {
    "duration": 20,
    "start_time": "2025-03-13T20:50:48.453Z"
   },
   {
    "duration": 760,
    "start_time": "2025-03-13T20:50:48.475Z"
   },
   {
    "duration": 3,
    "start_time": "2025-03-13T20:50:49.237Z"
   },
   {
    "duration": 12,
    "start_time": "2025-03-13T20:50:49.242Z"
   },
   {
    "duration": 16,
    "start_time": "2025-03-13T20:50:49.274Z"
   },
   {
    "duration": 12,
    "start_time": "2025-03-13T20:50:49.292Z"
   },
   {
    "duration": 9,
    "start_time": "2025-03-13T20:50:49.306Z"
   },
   {
    "duration": 898,
    "start_time": "2025-03-13T20:50:49.317Z"
   },
   {
    "duration": 1507,
    "start_time": "2025-03-16T15:26:32.341Z"
   },
   {
    "duration": 128,
    "start_time": "2025-03-16T15:26:33.850Z"
   },
   {
    "duration": 13,
    "start_time": "2025-03-16T15:26:33.981Z"
   },
   {
    "duration": 143,
    "start_time": "2025-03-16T15:26:33.996Z"
   },
   {
    "duration": 44,
    "start_time": "2025-03-16T15:26:34.141Z"
   },
   {
    "duration": 22,
    "start_time": "2025-03-16T15:26:34.187Z"
   },
   {
    "duration": 82,
    "start_time": "2025-03-16T15:26:34.210Z"
   },
   {
    "duration": 93,
    "start_time": "2025-03-16T15:26:34.293Z"
   },
   {
    "duration": 9,
    "start_time": "2025-03-16T15:26:34.388Z"
   },
   {
    "duration": 96,
    "start_time": "2025-03-16T15:26:34.399Z"
   },
   {
    "duration": 799,
    "start_time": "2025-03-16T15:26:34.497Z"
   },
   {
    "duration": 797,
    "start_time": "2025-03-16T15:26:35.298Z"
   },
   {
    "duration": 6,
    "start_time": "2025-03-16T15:26:36.097Z"
   },
   {
    "duration": 21,
    "start_time": "2025-03-16T15:26:36.104Z"
   },
   {
    "duration": 17,
    "start_time": "2025-03-16T15:26:36.127Z"
   },
   {
    "duration": 34,
    "start_time": "2025-03-16T15:26:36.146Z"
   },
   {
    "duration": 33,
    "start_time": "2025-03-16T15:26:36.182Z"
   },
   {
    "duration": 27,
    "start_time": "2025-03-16T15:26:36.217Z"
   },
   {
    "duration": 19,
    "start_time": "2025-03-16T15:26:36.246Z"
   },
   {
    "duration": 41,
    "start_time": "2025-03-16T15:26:36.267Z"
   },
   {
    "duration": 7,
    "start_time": "2025-03-16T15:26:36.310Z"
   },
   {
    "duration": 72,
    "start_time": "2025-03-16T15:26:36.319Z"
   },
   {
    "duration": 30,
    "start_time": "2025-03-16T15:26:36.393Z"
   },
   {
    "duration": 204,
    "start_time": "2025-03-16T15:26:36.426Z"
   },
   {
    "duration": 6,
    "start_time": "2025-03-16T15:26:36.632Z"
   },
   {
    "duration": 136,
    "start_time": "2025-03-16T15:26:36.640Z"
   },
   {
    "duration": 10,
    "start_time": "2025-03-16T15:26:36.777Z"
   },
   {
    "duration": 215,
    "start_time": "2025-03-16T15:26:36.792Z"
   },
   {
    "duration": 8,
    "start_time": "2025-03-16T15:26:37.009Z"
   },
   {
    "duration": 240,
    "start_time": "2025-03-16T15:26:37.019Z"
   },
   {
    "duration": 135,
    "start_time": "2025-03-16T15:26:37.260Z"
   },
   {
    "duration": 8,
    "start_time": "2025-03-16T15:26:37.396Z"
   },
   {
    "duration": 435,
    "start_time": "2025-03-16T15:26:37.406Z"
   },
   {
    "duration": 150,
    "start_time": "2025-03-16T15:26:37.842Z"
   },
   {
    "duration": 12,
    "start_time": "2025-03-16T15:26:37.994Z"
   },
   {
    "duration": 33,
    "start_time": "2025-03-16T15:26:38.008Z"
   },
   {
    "duration": 5,
    "start_time": "2025-03-16T15:26:38.043Z"
   },
   {
    "duration": 6,
    "start_time": "2025-03-16T15:26:38.049Z"
   },
   {
    "duration": 19,
    "start_time": "2025-03-16T15:26:38.056Z"
   },
   {
    "duration": 9,
    "start_time": "2025-03-16T15:26:38.077Z"
   },
   {
    "duration": 246,
    "start_time": "2025-03-16T15:26:38.087Z"
   },
   {
    "duration": 15,
    "start_time": "2025-03-16T15:26:38.335Z"
   },
   {
    "duration": 27,
    "start_time": "2025-03-16T15:26:38.351Z"
   },
   {
    "duration": 33,
    "start_time": "2025-03-16T15:26:38.381Z"
   },
   {
    "duration": 90,
    "start_time": "2025-03-16T15:26:38.416Z"
   },
   {
    "duration": 32,
    "start_time": "2025-03-16T15:26:38.508Z"
   },
   {
    "duration": 13,
    "start_time": "2025-03-16T15:26:38.541Z"
   },
   {
    "duration": 7,
    "start_time": "2025-03-16T15:26:38.556Z"
   },
   {
    "duration": 21,
    "start_time": "2025-03-16T15:26:38.565Z"
   },
   {
    "duration": 5,
    "start_time": "2025-03-16T15:26:38.587Z"
   },
   {
    "duration": 261,
    "start_time": "2025-03-16T15:26:38.593Z"
   },
   {
    "duration": 15,
    "start_time": "2025-03-16T15:26:38.856Z"
   },
   {
    "duration": 19,
    "start_time": "2025-03-16T15:26:38.873Z"
   },
   {
    "duration": 237,
    "start_time": "2025-03-16T15:26:38.894Z"
   },
   {
    "duration": 8,
    "start_time": "2025-03-16T15:26:39.133Z"
   },
   {
    "duration": 212,
    "start_time": "2025-03-16T15:26:39.142Z"
   },
   {
    "duration": 20,
    "start_time": "2025-03-16T15:26:39.355Z"
   },
   {
    "duration": 165,
    "start_time": "2025-03-16T15:26:39.376Z"
   },
   {
    "duration": 114,
    "start_time": "2025-03-16T15:26:39.542Z"
   },
   {
    "duration": 3,
    "start_time": "2025-03-16T15:26:39.658Z"
   },
   {
    "duration": 20,
    "start_time": "2025-03-16T15:26:39.678Z"
   },
   {
    "duration": 5,
    "start_time": "2025-03-16T15:26:39.700Z"
   },
   {
    "duration": 5,
    "start_time": "2025-03-16T15:26:39.706Z"
   },
   {
    "duration": 5,
    "start_time": "2025-03-16T15:26:39.712Z"
   },
   {
    "duration": 14,
    "start_time": "2025-03-16T15:26:39.718Z"
   },
   {
    "duration": 4,
    "start_time": "2025-03-16T15:26:39.733Z"
   },
   {
    "duration": 5351,
    "start_time": "2025-03-16T15:26:39.739Z"
   },
   {
    "duration": 9,
    "start_time": "2025-03-16T15:26:45.092Z"
   },
   {
    "duration": 27,
    "start_time": "2025-03-16T15:26:45.103Z"
   },
   {
    "duration": 191,
    "start_time": "2025-03-16T15:26:45.131Z"
   },
   {
    "duration": 190,
    "start_time": "2025-03-16T15:26:45.324Z"
   },
   {
    "duration": 40,
    "start_time": "2025-03-16T15:26:45.516Z"
   },
   {
    "duration": 35,
    "start_time": "2025-03-16T15:26:45.557Z"
   },
   {
    "duration": 21,
    "start_time": "2025-03-16T15:26:45.594Z"
   },
   {
    "duration": 16,
    "start_time": "2025-03-16T15:26:45.616Z"
   },
   {
    "duration": 9,
    "start_time": "2025-03-16T15:26:45.634Z"
   },
   {
    "duration": 163,
    "start_time": "2025-03-16T15:26:45.644Z"
   },
   {
    "duration": 269,
    "start_time": "2025-03-16T15:26:45.809Z"
   },
   {
    "duration": 4,
    "start_time": "2025-03-16T15:26:46.080Z"
   },
   {
    "duration": 499,
    "start_time": "2025-03-16T15:26:46.085Z"
   },
   {
    "duration": 6,
    "start_time": "2025-03-16T15:26:46.585Z"
   },
   {
    "duration": 14,
    "start_time": "2025-03-16T15:26:46.598Z"
   },
   {
    "duration": 13,
    "start_time": "2025-03-16T15:26:46.614Z"
   },
   {
    "duration": 57,
    "start_time": "2025-03-16T15:26:46.629Z"
   },
   {
    "duration": 34,
    "start_time": "2025-03-16T15:26:46.687Z"
   },
   {
    "duration": 12,
    "start_time": "2025-03-16T15:26:46.723Z"
   },
   {
    "duration": 4,
    "start_time": "2025-03-16T15:26:46.737Z"
   },
   {
    "duration": 20,
    "start_time": "2025-03-16T15:26:46.742Z"
   },
   {
    "duration": 6,
    "start_time": "2025-03-16T15:26:46.764Z"
   },
   {
    "duration": 13,
    "start_time": "2025-03-16T15:26:46.771Z"
   },
   {
    "duration": 867,
    "start_time": "2025-03-16T15:26:46.785Z"
   },
   {
    "duration": 12,
    "start_time": "2025-03-16T15:26:47.653Z"
   },
   {
    "duration": 42,
    "start_time": "2025-03-16T15:26:47.671Z"
   },
   {
    "duration": 66,
    "start_time": "2025-03-16T15:26:47.715Z"
   },
   {
    "duration": 51,
    "start_time": "2025-03-16T15:26:47.782Z"
   },
   {
    "duration": 45,
    "start_time": "2025-03-16T15:26:47.835Z"
   },
   {
    "duration": 1031,
    "start_time": "2025-03-16T15:26:47.882Z"
   },
   {
    "duration": 76,
    "start_time": "2025-03-16T15:36:03.497Z"
   },
   {
    "duration": 425,
    "start_time": "2025-03-16T15:36:19.757Z"
   },
   {
    "duration": 985,
    "start_time": "2025-03-16T15:37:09.557Z"
   },
   {
    "duration": 1026,
    "start_time": "2025-03-16T15:37:46.961Z"
   },
   {
    "duration": 544,
    "start_time": "2025-03-16T15:37:56.748Z"
   },
   {
    "duration": 986,
    "start_time": "2025-03-16T15:38:29.416Z"
   },
   {
    "duration": 462,
    "start_time": "2025-03-16T15:38:40.496Z"
   },
   {
    "duration": 155,
    "start_time": "2025-03-16T15:39:41.456Z"
   },
   {
    "duration": 145,
    "start_time": "2025-03-16T15:39:49.168Z"
   },
   {
    "duration": 4,
    "start_time": "2025-03-16T16:05:10.485Z"
   },
   {
    "duration": 63,
    "start_time": "2025-03-16T16:14:04.502Z"
   },
   {
    "duration": 99,
    "start_time": "2025-03-16T16:14:33.891Z"
   },
   {
    "duration": 88,
    "start_time": "2025-03-16T16:14:44.975Z"
   },
   {
    "duration": 76,
    "start_time": "2025-03-16T16:14:53.131Z"
   },
   {
    "duration": 9,
    "start_time": "2025-03-16T16:14:58.531Z"
   },
   {
    "duration": 64,
    "start_time": "2025-03-16T16:15:52.327Z"
   },
   {
    "duration": 8,
    "start_time": "2025-03-16T16:18:01.891Z"
   },
   {
    "duration": 10,
    "start_time": "2025-03-16T16:18:06.290Z"
   },
   {
    "duration": 480,
    "start_time": "2025-03-16T16:35:08.662Z"
   },
   {
    "duration": 253,
    "start_time": "2025-03-16T16:36:55.330Z"
   },
   {
    "duration": 225,
    "start_time": "2025-03-16T16:39:02.012Z"
   },
   {
    "duration": 562,
    "start_time": "2025-03-16T16:39:11.620Z"
   },
   {
    "duration": 242,
    "start_time": "2025-03-16T16:43:46.126Z"
   },
   {
    "duration": 539,
    "start_time": "2025-03-16T16:45:07.626Z"
   },
   {
    "duration": 500,
    "start_time": "2025-03-16T16:54:19.785Z"
   },
   {
    "duration": 538,
    "start_time": "2025-03-16T16:56:03.848Z"
   },
   {
    "duration": 738,
    "start_time": "2025-03-16T16:59:46.265Z"
   },
   {
    "duration": 122,
    "start_time": "2025-03-16T17:04:11.389Z"
   },
   {
    "duration": 493,
    "start_time": "2025-03-16T17:04:13.409Z"
   },
   {
    "duration": 501,
    "start_time": "2025-03-16T17:06:44.286Z"
   },
   {
    "duration": 536,
    "start_time": "2025-03-16T17:06:58.245Z"
   },
   {
    "duration": 405,
    "start_time": "2025-03-16T17:07:35.081Z"
   },
   {
    "duration": 473,
    "start_time": "2025-03-16T17:07:48.589Z"
   },
   {
    "duration": 503,
    "start_time": "2025-03-16T17:07:55.902Z"
   },
   {
    "duration": 292,
    "start_time": "2025-03-16T17:24:08.300Z"
   },
   {
    "duration": 6,
    "start_time": "2025-03-16T17:27:34.728Z"
   },
   {
    "duration": 294,
    "start_time": "2025-03-16T17:32:29.027Z"
   },
   {
    "duration": 429,
    "start_time": "2025-03-16T17:33:03.942Z"
   },
   {
    "duration": 422,
    "start_time": "2025-03-16T17:33:48.950Z"
   },
   {
    "duration": 427,
    "start_time": "2025-03-16T17:33:56.799Z"
   },
   {
    "duration": 63,
    "start_time": "2025-03-16T17:34:20.954Z"
   },
   {
    "duration": 410,
    "start_time": "2025-03-16T17:34:27.970Z"
   },
   {
    "duration": 430,
    "start_time": "2025-03-16T17:34:55.794Z"
   },
   {
    "duration": 1176,
    "start_time": "2025-03-16T17:37:35.036Z"
   },
   {
    "duration": 3,
    "start_time": "2025-03-16T17:37:36.214Z"
   },
   {
    "duration": 67,
    "start_time": "2025-03-16T17:37:36.219Z"
   },
   {
    "duration": 13,
    "start_time": "2025-03-16T17:37:36.288Z"
   },
   {
    "duration": 9,
    "start_time": "2025-03-16T17:37:36.302Z"
   },
   {
    "duration": 35,
    "start_time": "2025-03-16T17:37:36.312Z"
   },
   {
    "duration": 24,
    "start_time": "2025-03-16T17:37:36.349Z"
   },
   {
    "duration": 27,
    "start_time": "2025-03-16T17:37:36.374Z"
   },
   {
    "duration": 10,
    "start_time": "2025-03-16T17:37:36.402Z"
   },
   {
    "duration": 56,
    "start_time": "2025-03-16T17:37:36.415Z"
   },
   {
    "duration": 505,
    "start_time": "2025-03-16T17:37:36.473Z"
   },
   {
    "duration": 921,
    "start_time": "2025-03-16T17:37:36.979Z"
   },
   {
    "duration": 6,
    "start_time": "2025-03-16T17:37:37.902Z"
   },
   {
    "duration": 41,
    "start_time": "2025-03-16T17:37:37.910Z"
   },
   {
    "duration": 34,
    "start_time": "2025-03-16T17:37:37.952Z"
   },
   {
    "duration": 6,
    "start_time": "2025-03-16T17:37:37.987Z"
   },
   {
    "duration": 10,
    "start_time": "2025-03-16T17:37:37.994Z"
   },
   {
    "duration": 20,
    "start_time": "2025-03-16T17:37:38.005Z"
   },
   {
    "duration": 106,
    "start_time": "2025-03-16T17:37:38.026Z"
   },
   {
    "duration": 13,
    "start_time": "2025-03-16T17:37:38.134Z"
   },
   {
    "duration": 10,
    "start_time": "2025-03-16T17:37:38.148Z"
   },
   {
    "duration": 23,
    "start_time": "2025-03-16T17:37:38.160Z"
   },
   {
    "duration": 8,
    "start_time": "2025-03-16T17:37:38.185Z"
   },
   {
    "duration": 152,
    "start_time": "2025-03-16T17:37:38.194Z"
   },
   {
    "duration": 6,
    "start_time": "2025-03-16T17:37:38.348Z"
   },
   {
    "duration": 116,
    "start_time": "2025-03-16T17:37:38.362Z"
   },
   {
    "duration": 7,
    "start_time": "2025-03-16T17:37:38.480Z"
   },
   {
    "duration": 197,
    "start_time": "2025-03-16T17:37:38.493Z"
   },
   {
    "duration": 11,
    "start_time": "2025-03-16T17:37:38.692Z"
   },
   {
    "duration": 253,
    "start_time": "2025-03-16T17:37:38.705Z"
   },
   {
    "duration": 127,
    "start_time": "2025-03-16T17:37:38.960Z"
   },
   {
    "duration": 10,
    "start_time": "2025-03-16T17:37:39.089Z"
   },
   {
    "duration": 307,
    "start_time": "2025-03-16T17:37:39.101Z"
   },
   {
    "duration": 128,
    "start_time": "2025-03-16T17:37:39.410Z"
   },
   {
    "duration": 28,
    "start_time": "2025-03-16T17:37:39.540Z"
   },
   {
    "duration": 6,
    "start_time": "2025-03-16T17:37:39.570Z"
   },
   {
    "duration": 13,
    "start_time": "2025-03-16T17:37:39.578Z"
   },
   {
    "duration": 19,
    "start_time": "2025-03-16T17:37:39.593Z"
   },
   {
    "duration": 34,
    "start_time": "2025-03-16T17:37:39.614Z"
   },
   {
    "duration": 19,
    "start_time": "2025-03-16T17:37:39.650Z"
   },
   {
    "duration": 207,
    "start_time": "2025-03-16T17:37:39.671Z"
   },
   {
    "duration": 16,
    "start_time": "2025-03-16T17:37:39.881Z"
   },
   {
    "duration": 80,
    "start_time": "2025-03-16T17:37:39.898Z"
   },
   {
    "duration": 5,
    "start_time": "2025-03-16T17:37:39.980Z"
   },
   {
    "duration": 13,
    "start_time": "2025-03-16T17:37:39.986Z"
   },
   {
    "duration": 28,
    "start_time": "2025-03-16T17:37:40.001Z"
   },
   {
    "duration": 110,
    "start_time": "2025-03-16T17:37:40.031Z"
   },
   {
    "duration": 11,
    "start_time": "2025-03-16T17:37:40.143Z"
   },
   {
    "duration": 8,
    "start_time": "2025-03-16T17:37:40.156Z"
   },
   {
    "duration": 13,
    "start_time": "2025-03-16T17:37:40.167Z"
   },
   {
    "duration": 255,
    "start_time": "2025-03-16T17:37:40.183Z"
   },
   {
    "duration": 23,
    "start_time": "2025-03-16T17:37:40.440Z"
   },
   {
    "duration": 9,
    "start_time": "2025-03-16T17:37:40.465Z"
   },
   {
    "duration": 210,
    "start_time": "2025-03-16T17:37:40.476Z"
   },
   {
    "duration": 8,
    "start_time": "2025-03-16T17:37:40.688Z"
   },
   {
    "duration": 327,
    "start_time": "2025-03-16T17:37:40.697Z"
   },
   {
    "duration": 9,
    "start_time": "2025-03-16T17:37:41.025Z"
   },
   {
    "duration": 23,
    "start_time": "2025-03-16T17:37:41.035Z"
   },
   {
    "duration": 134,
    "start_time": "2025-03-16T17:37:41.060Z"
   },
   {
    "duration": 3,
    "start_time": "2025-03-16T17:37:41.196Z"
   },
   {
    "duration": 33,
    "start_time": "2025-03-16T17:37:41.201Z"
   },
   {
    "duration": 18,
    "start_time": "2025-03-16T17:37:41.236Z"
   },
   {
    "duration": 60,
    "start_time": "2025-03-16T17:37:41.255Z"
   },
   {
    "duration": 66,
    "start_time": "2025-03-16T17:37:41.316Z"
   },
   {
    "duration": 38,
    "start_time": "2025-03-16T17:37:41.384Z"
   },
   {
    "duration": 6,
    "start_time": "2025-03-16T17:37:41.424Z"
   },
   {
    "duration": 4955,
    "start_time": "2025-03-16T17:37:41.431Z"
   },
   {
    "duration": 9,
    "start_time": "2025-03-16T17:37:46.388Z"
   },
   {
    "duration": 13,
    "start_time": "2025-03-16T17:37:46.398Z"
   },
   {
    "duration": 193,
    "start_time": "2025-03-16T17:37:46.412Z"
   },
   {
    "duration": 185,
    "start_time": "2025-03-16T17:37:46.606Z"
   },
   {
    "duration": 14,
    "start_time": "2025-03-16T17:37:46.792Z"
   },
   {
    "duration": 5,
    "start_time": "2025-03-16T17:37:46.808Z"
   },
   {
    "duration": 5,
    "start_time": "2025-03-16T17:37:46.815Z"
   },
   {
    "duration": 40,
    "start_time": "2025-03-16T17:37:46.822Z"
   },
   {
    "duration": 135,
    "start_time": "2025-03-16T17:37:46.864Z"
   },
   {
    "duration": 458,
    "start_time": "2025-03-16T17:37:47.000Z"
   },
   {
    "duration": 5,
    "start_time": "2025-03-16T17:37:47.462Z"
   },
   {
    "duration": 341,
    "start_time": "2025-03-16T17:37:47.469Z"
   }
  ],
  "kernelspec": {
   "display_name": "Python 3 (ipykernel)",
   "language": "python",
   "name": "python3"
  },
  "language_info": {
   "codemirror_mode": {
    "name": "ipython",
    "version": 3
   },
   "file_extension": ".py",
   "mimetype": "text/x-python",
   "name": "python",
   "nbconvert_exporter": "python",
   "pygments_lexer": "ipython3",
   "version": "3.9.5"
  },
  "toc": {
   "base_numbering": 1,
   "nav_menu": {},
   "number_sections": true,
   "sideBar": true,
   "skip_h1_title": true,
   "title_cell": "Содержание",
   "title_sidebar": "Contents",
   "toc_cell": true,
   "toc_position": {
    "height": "calc(100% - 180px)",
    "left": "10px",
    "top": "150px",
    "width": "352.319px"
   },
   "toc_section_display": true,
   "toc_window_display": true
  }
 },
 "nbformat": 4,
 "nbformat_minor": 5
}

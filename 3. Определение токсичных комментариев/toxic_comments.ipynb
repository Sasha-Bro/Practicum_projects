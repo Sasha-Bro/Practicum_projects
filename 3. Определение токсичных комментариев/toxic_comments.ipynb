{
 "cells": [
  {
   "cell_type": "markdown",
   "metadata": {},
   "source": [
    "# Проект для «Викишоп» с TF-IDF"
   ]
  },
  {
   "cell_type": "markdown",
   "metadata": {},
   "source": [
    "**Описание проекта**\n",
    "\n",
    "Интернет-магазин «Викишоп» запускает новый сервис. Теперь пользователи могут редактировать и дополнять описания товаров, как в вики-сообществах. То есть клиенты предлагают свои правки и комментируют изменения других. Магазину нужен инструмент, который будет искать токсичные комментарии и отправлять их на модерацию. \n",
    "\n",
    "Обучите модель классифицировать комментарии на позитивные и негативные. В вашем распоряжении набор данных с разметкой о токсичности правок.\n",
    "\n",
    "Постройте модель со значением метрики качества *F1* не меньше 0.75. "
   ]
  },
  {
   "cell_type": "markdown",
   "metadata": {},
   "source": [
    "**Цель проекта**\n",
    "\n",
    "Обучить модель машинного обучения классифицировать комментарии на позитивные и негативные для поиска токсичных комментариев и отправки их на модерацию."
   ]
  },
  {
   "cell_type": "markdown",
   "metadata": {},
   "source": [
    "**План работы**\n",
    "\n",
    "1. Загрузите и подготовьте данные.\n",
    "2. Обучите разные модели. \n",
    "3. Сделайте выводы."
   ]
  },
  {
   "cell_type": "markdown",
   "metadata": {},
   "source": [
    "**Описание данных**\n",
    "\n",
    "Данные находятся в файле `toxic_comments.csv`. \n",
    "\n",
    "Признаки:\n",
    "- `'text'` — текст комментария, \n",
    "- `'toxic'` — является ли комментарий токсичным (целевой признак)."
   ]
  },
  {
   "cell_type": "markdown",
   "metadata": {
    "toc": true
   },
   "source": [
    "<h1>Содержание<span class=\"tocSkip\"></span></h1>\n",
    "<div class=\"toc\"><ul class=\"toc-item\"><li><span><a href=\"#Загрузка\" data-toc-modified-id=\"Загрузка-1\"><span class=\"toc-item-num\">1&nbsp;&nbsp;</span>Загрузка</a></span><ul class=\"toc-item\"><li><span><a href=\"#Импорт-библиотек\" data-toc-modified-id=\"Импорт-библиотек-1.1\"><span class=\"toc-item-num\">1.1&nbsp;&nbsp;</span>Импорт библиотек</a></span></li><li><span><a href=\"#Создание-функций\" data-toc-modified-id=\"Создание-функций-1.2\"><span class=\"toc-item-num\">1.2&nbsp;&nbsp;</span>Создание функций</a></span></li><li><span><a href=\"#Загрузка-данных\" data-toc-modified-id=\"Загрузка-данных-1.3\"><span class=\"toc-item-num\">1.3&nbsp;&nbsp;</span>Загрузка данных</a></span></li><li><span><a href=\"#Изучение-общей-информации\" data-toc-modified-id=\"Изучение-общей-информации-1.4\"><span class=\"toc-item-num\">1.4&nbsp;&nbsp;</span>Изучение общей информации</a></span></li><li><span><a href=\"#Вывод\" data-toc-modified-id=\"Вывод-1.5\"><span class=\"toc-item-num\">1.5&nbsp;&nbsp;</span>Вывод</a></span></li></ul></li><li><span><a href=\"#Предобработка\" data-toc-modified-id=\"Предобработка-2\"><span class=\"toc-item-num\">2&nbsp;&nbsp;</span>Предобработка</a></span><ul class=\"toc-item\"><li><span><a href=\"#Удаление-столбца\" data-toc-modified-id=\"Удаление-столбца-2.1\"><span class=\"toc-item-num\">2.1&nbsp;&nbsp;</span>Удаление столбца</a></span></li><li><span><a href=\"#Изменение-типа-данных\" data-toc-modified-id=\"Изменение-типа-данных-2.2\"><span class=\"toc-item-num\">2.2&nbsp;&nbsp;</span>Изменение типа данных</a></span></li><li><span><a href=\"#Чистка-и-лемматизация-текста\" data-toc-modified-id=\"Чистка-и-лемматизация-текста-2.3\"><span class=\"toc-item-num\">2.3&nbsp;&nbsp;</span>Чистка и лемматизация текста</a></span></li><li><span><a href=\"#Вывод\" data-toc-modified-id=\"Вывод-2.4\"><span class=\"toc-item-num\">2.4&nbsp;&nbsp;</span>Вывод</a></span></li></ul></li><li><span><a href=\"#Обучение\" data-toc-modified-id=\"Обучение-3\"><span class=\"toc-item-num\">3&nbsp;&nbsp;</span>Обучение</a></span><ul class=\"toc-item\"><li><span><a href=\"#Подготовка-данных\" data-toc-modified-id=\"Подготовка-данных-3.1\"><span class=\"toc-item-num\">3.1&nbsp;&nbsp;</span>Подготовка данных</a></span></li><li><span><a href=\"#Подготовка-моделей\" data-toc-modified-id=\"Подготовка-моделей-3.2\"><span class=\"toc-item-num\">3.2&nbsp;&nbsp;</span>Подготовка моделей</a></span></li><li><span><a href=\"#Обучение-моделей\" data-toc-modified-id=\"Обучение-моделей-3.3\"><span class=\"toc-item-num\">3.3&nbsp;&nbsp;</span>Обучение моделей</a></span></li><li><span><a href=\"#Анализ-моделей\" data-toc-modified-id=\"Анализ-моделей-3.4\"><span class=\"toc-item-num\">3.4&nbsp;&nbsp;</span>Анализ моделей</a></span></li><li><span><a href=\"#Вывод\" data-toc-modified-id=\"Вывод-3.5\"><span class=\"toc-item-num\">3.5&nbsp;&nbsp;</span>Вывод</a></span></li></ul></li><li><span><a href=\"#Общий-вывод\" data-toc-modified-id=\"Общий-вывод-4\"><span class=\"toc-item-num\">4&nbsp;&nbsp;</span>Общий вывод</a></span></li></ul></div>"
   ]
  },
  {
   "cell_type": "markdown",
   "metadata": {},
   "source": [
    "## Загрузка"
   ]
  },
  {
   "cell_type": "markdown",
   "metadata": {},
   "source": [
    "### Импорт библиотек"
   ]
  },
  {
   "cell_type": "code",
   "execution_count": 1,
   "metadata": {},
   "outputs": [],
   "source": [
    "import os\n",
    "import re\n",
    "import nltk\n",
    "import time\n",
    "\n",
    "import pandas as pd\n",
    "import numpy as np\n",
    "import matplotlib.pyplot as plt\n",
    "import seaborn as sns\n",
    "\n",
    "from IPython.display import HTML\n",
    "from nltk import (\n",
    "    pos_tag, \n",
    "    word_tokenize\n",
    ")\n",
    "from nltk.corpus import stopwords, wordnet\n",
    "from nltk.stem import WordNetLemmatizer\n",
    "from tqdm.notebook import tqdm\n",
    "from sklearn.model_selection import (\n",
    "    train_test_split,\n",
    "    cross_validate\n",
    ")\n",
    "from sklearn.pipeline import Pipeline\n",
    "from sklearn.feature_extraction.text import TfidfVectorizer\n",
    "from sklearn.linear_model import LogisticRegression\n",
    "from sklearn.tree import DecisionTreeClassifier\n",
    "from sklearn.ensemble import RandomForestClassifier\n",
    "from sklearn.metrics import f1_score"
   ]
  },
  {
   "cell_type": "code",
   "execution_count": 2,
   "metadata": {},
   "outputs": [],
   "source": [
    "# Добавление методов tqdm для Pandas\n",
    "tqdm.pandas()"
   ]
  },
  {
   "cell_type": "code",
   "execution_count": 3,
   "metadata": {},
   "outputs": [
    {
     "name": "stderr",
     "output_type": "stream",
     "text": [
      "[nltk_data] Downloading package averaged_perceptron_tagger to\n",
      "[nltk_data]     /home/jovyan/nltk_data...\n",
      "[nltk_data]   Package averaged_perceptron_tagger is already up-to-\n",
      "[nltk_data]       date!\n"
     ]
    },
    {
     "data": {
      "text/plain": [
       "True"
      ]
     },
     "execution_count": 3,
     "metadata": {},
     "output_type": "execute_result"
    }
   ],
   "source": [
    "# Загрузка пакета тегов частей речи\n",
    "nltk.download('averaged_perceptron_tagger')"
   ]
  },
  {
   "cell_type": "code",
   "execution_count": 4,
   "metadata": {},
   "outputs": [],
   "source": [
    "# Установка максимальной ширины столбца\n",
    "pd.set_option('display.max_colwidth', None)"
   ]
  },
  {
   "cell_type": "code",
   "execution_count": 5,
   "metadata": {},
   "outputs": [],
   "source": [
    "# Сохранение списка англоязычных стоп-слов\n",
    "stopwords = set(stopwords.words('english'))"
   ]
  },
  {
   "cell_type": "code",
   "execution_count": 6,
   "metadata": {},
   "outputs": [],
   "source": [
    "RANDOM_STATE = 12345"
   ]
  },
  {
   "cell_type": "markdown",
   "metadata": {},
   "source": [
    "### Создание функций"
   ]
  },
  {
   "cell_type": "markdown",
   "metadata": {},
   "source": [
    "Создадим функции, которые нам потребуются в работе."
   ]
  },
  {
   "cell_type": "code",
   "execution_count": 7,
   "metadata": {},
   "outputs": [],
   "source": [
    "# Функция для предварительного изучения \n",
    "# общей информации о данных.  \n",
    "def data_research(dataset):\n",
    "    \n",
    "    \n",
    "    # Отображение 5 первых и последних строк.\n",
    "    display(dataset.head())\n",
    "    display(dataset.tail())\n",
    "    print()\n",
    "    \n",
    "    \n",
    "    # Отображение информации о данных.\n",
    "    display(HTML('<h3>Общая информация о данных</h3><br>'))\n",
    "    print(dataset.info())\n",
    "    \n",
    "    \n",
    "    # Отображение списка наименования столбцов.\n",
    "    display(HTML('<h3>Наименования столбцов</h3><br>'))\n",
    "    print(dataset.columns)\n",
    " \n",
    "\n",
    "    # Проверка на пропуски и их изучение.\n",
    "    display(HTML('<br><h3>Количество и доля пропущенных значений</h3><br>'))\n",
    "    \n",
    "    if dataset.isna().sum().any():\n",
    "\n",
    "        display(HTML(\n",
    "            f'<b>Количество пропусков во всем датафрейме: </b>'\\\n",
    "            f'{dataset.isna().sum().sum()} '\\\n",
    "            f'({round((dataset.isna().sum().sum() / (dataset.shape[0] * dataset.shape[1]) * 100), 1)}%)<br>')\n",
    "               )\n",
    "        \n",
    "        display(HTML(\n",
    "            f'<b>Записи, имеющие хотя бы один пропуск: </b>'\\\n",
    "            f'{dataset[dataset.columns].isna().any(axis=1).sum()} '\\\n",
    "            f'({round((dataset[dataset.columns].isna().any(axis=1).sum() / dataset.shape[0] * 100), 1)}%)<br>')\n",
    "               )\n",
    "               \n",
    "        display(HTML('<b>Количество пропусков в каждом столбце: </b>'))\n",
    "        display(pd.DataFrame({\n",
    "            'count': dataset.isna().sum(),\n",
    "            '%': dataset.isna().mean() * 100\n",
    "            }).style.set_precision(1).background_gradient('coolwarm'))\n",
    "    \n",
    "    else:\n",
    "        print('Пропуски отсутствуют')\n",
    "    \n",
    "    \n",
    "    # Проверка на явные дубликаты.\n",
    "    display(HTML('<br><h3>Количество дубликатов в датафрейме</h3><br>'))\n",
    "    \n",
    "    if dataset.duplicated().sum() != 0:\n",
    "\n",
    "        print(f'Всего: {dataset.duplicated().sum()} '\n",
    "              f'({(dataset.duplicated().sum() / dataset.shape[0]):.2%} '\\\n",
    "              f'от общего размера)')\n",
    "        \n",
    "    else:\n",
    "        print('Явные дубликаты отсутствуют')\n",
    "        \n",
    "        \n",
    "    # Проверка уникальных значений признаков.\n",
    "    display(HTML('<br><h3>Уникальные значения в датафрейме</h3><br>'))    \n",
    "\n",
    "    display(HTML(f'<b>Уникальные значения в столбце \"toxic\": </b>'\\\n",
    "                 f'{len(dataset[\"toxic\"].unique())}'))\n",
    "            \n",
    "    print(dataset['toxic'].value_counts().to_string(header=False))\n",
    "    \n",
    "        \n",
    "    if len(dataset.select_dtypes(include=[np.number]).columns) != 0:\n",
    "\n",
    "        # Изучение информации о количественных данных.\n",
    "        display(HTML('<br><h3>Описание данных</h3>'))\n",
    "        display(dataset.describe())\n",
    "        \n",
    "        # Построение графиков для количественных данных.\n",
    "        display(HTML('<br><h3>Гистограммы для всех числовых столбцов</h3><br>'))\n",
    "        dataset.hist(figsize=(12, 5));\n",
    "        plt.tick_params(axis='x', rotation=90)\n",
    "        plt.show()\n",
    "   \n",
    "    else:\n",
    "        pass"
   ]
  },
  {
   "cell_type": "markdown",
   "metadata": {},
   "source": [
    "### Загрузка данных"
   ]
  },
  {
   "cell_type": "markdown",
   "metadata": {},
   "source": [
    "Загружаем данные из csv-файла в датафрейм."
   ]
  },
  {
   "cell_type": "code",
   "execution_count": 8,
   "metadata": {},
   "outputs": [],
   "source": [
    "pth1 = '/datasets/toxic_comments.csv'\n",
    "pth2 = r'C:\\Users\\oleg_\\Downloads/toxic_comments.csv'\n",
    "\n",
    "if os.path.exists(pth1):\n",
    "    data = pd.read_csv(pth1)\n",
    "    \n",
    "elif os.path.exists(pth2):\n",
    "    data = pd.read_csv(pth2)\n",
    "    \n",
    "else:\n",
    "    print('Не удалось загрузить данные')"
   ]
  },
  {
   "cell_type": "markdown",
   "metadata": {},
   "source": [
    "### Изучение общей информации"
   ]
  },
  {
   "cell_type": "markdown",
   "metadata": {},
   "source": [
    "Изучим информацию при помощи функции `data_research`."
   ]
  },
  {
   "cell_type": "code",
   "execution_count": 9,
   "metadata": {
    "scrolled": true
   },
   "outputs": [
    {
     "data": {
      "text/html": [
       "<div>\n",
       "<style scoped>\n",
       "    .dataframe tbody tr th:only-of-type {\n",
       "        vertical-align: middle;\n",
       "    }\n",
       "\n",
       "    .dataframe tbody tr th {\n",
       "        vertical-align: top;\n",
       "    }\n",
       "\n",
       "    .dataframe thead th {\n",
       "        text-align: right;\n",
       "    }\n",
       "</style>\n",
       "<table border=\"1\" class=\"dataframe\">\n",
       "  <thead>\n",
       "    <tr style=\"text-align: right;\">\n",
       "      <th></th>\n",
       "      <th>Unnamed: 0</th>\n",
       "      <th>text</th>\n",
       "      <th>toxic</th>\n",
       "    </tr>\n",
       "  </thead>\n",
       "  <tbody>\n",
       "    <tr>\n",
       "      <th>0</th>\n",
       "      <td>0</td>\n",
       "      <td>Explanation\\nWhy the edits made under my username Hardcore Metallica Fan were reverted? They weren't vandalisms, just closure on some GAs after I voted at New York Dolls FAC. And please don't remove the template from the talk page since I'm retired now.89.205.38.27</td>\n",
       "      <td>0</td>\n",
       "    </tr>\n",
       "    <tr>\n",
       "      <th>1</th>\n",
       "      <td>1</td>\n",
       "      <td>D'aww! He matches this background colour I'm seemingly stuck with. Thanks.  (talk) 21:51, January 11, 2016 (UTC)</td>\n",
       "      <td>0</td>\n",
       "    </tr>\n",
       "    <tr>\n",
       "      <th>2</th>\n",
       "      <td>2</td>\n",
       "      <td>Hey man, I'm really not trying to edit war. It's just that this guy is constantly removing relevant information and talking to me through edits instead of my talk page. He seems to care more about the formatting than the actual info.</td>\n",
       "      <td>0</td>\n",
       "    </tr>\n",
       "    <tr>\n",
       "      <th>3</th>\n",
       "      <td>3</td>\n",
       "      <td>\"\\nMore\\nI can't make any real suggestions on improvement - I wondered if the section statistics should be later on, or a subsection of \"\"types of accidents\"\"  -I think the references may need tidying so that they are all in the exact same format ie date format etc. I can do that later on, if no-one else does first - if you have any preferences for formatting style on references or want to do it yourself please let me know.\\n\\nThere appears to be a backlog on articles for review so I guess there may be a delay until a reviewer turns up. It's listed in the relevant form eg Wikipedia:Good_article_nominations#Transport  \"</td>\n",
       "      <td>0</td>\n",
       "    </tr>\n",
       "    <tr>\n",
       "      <th>4</th>\n",
       "      <td>4</td>\n",
       "      <td>You, sir, are my hero. Any chance you remember what page that's on?</td>\n",
       "      <td>0</td>\n",
       "    </tr>\n",
       "  </tbody>\n",
       "</table>\n",
       "</div>"
      ],
      "text/plain": [
       "   Unnamed: 0  \\\n",
       "0           0   \n",
       "1           1   \n",
       "2           2   \n",
       "3           3   \n",
       "4           4   \n",
       "\n",
       "                                                                                                                                                                                                                                                                                                                                                                                                                                                                                                                                                                                                                                                 text  \\\n",
       "0                                                                                                                                                                                                                                                                                                                                                                           Explanation\\nWhy the edits made under my username Hardcore Metallica Fan were reverted? They weren't vandalisms, just closure on some GAs after I voted at New York Dolls FAC. And please don't remove the template from the talk page since I'm retired now.89.205.38.27   \n",
       "1                                                                                                                                                                                                                                                                                                                                                                                                                                                                                                                                    D'aww! He matches this background colour I'm seemingly stuck with. Thanks.  (talk) 21:51, January 11, 2016 (UTC)   \n",
       "2                                                                                                                                                                                                                                                                                                                                                                                                           Hey man, I'm really not trying to edit war. It's just that this guy is constantly removing relevant information and talking to me through edits instead of my talk page. He seems to care more about the formatting than the actual info.   \n",
       "3  \"\\nMore\\nI can't make any real suggestions on improvement - I wondered if the section statistics should be later on, or a subsection of \"\"types of accidents\"\"  -I think the references may need tidying so that they are all in the exact same format ie date format etc. I can do that later on, if no-one else does first - if you have any preferences for formatting style on references or want to do it yourself please let me know.\\n\\nThere appears to be a backlog on articles for review so I guess there may be a delay until a reviewer turns up. It's listed in the relevant form eg Wikipedia:Good_article_nominations#Transport  \"   \n",
       "4                                                                                                                                                                                                                                                                                                                                                                                                                                                                                                                                                                                 You, sir, are my hero. Any chance you remember what page that's on?   \n",
       "\n",
       "   toxic  \n",
       "0      0  \n",
       "1      0  \n",
       "2      0  \n",
       "3      0  \n",
       "4      0  "
      ]
     },
     "metadata": {},
     "output_type": "display_data"
    },
    {
     "data": {
      "text/html": [
       "<div>\n",
       "<style scoped>\n",
       "    .dataframe tbody tr th:only-of-type {\n",
       "        vertical-align: middle;\n",
       "    }\n",
       "\n",
       "    .dataframe tbody tr th {\n",
       "        vertical-align: top;\n",
       "    }\n",
       "\n",
       "    .dataframe thead th {\n",
       "        text-align: right;\n",
       "    }\n",
       "</style>\n",
       "<table border=\"1\" class=\"dataframe\">\n",
       "  <thead>\n",
       "    <tr style=\"text-align: right;\">\n",
       "      <th></th>\n",
       "      <th>Unnamed: 0</th>\n",
       "      <th>text</th>\n",
       "      <th>toxic</th>\n",
       "    </tr>\n",
       "  </thead>\n",
       "  <tbody>\n",
       "    <tr>\n",
       "      <th>159287</th>\n",
       "      <td>159446</td>\n",
       "      <td>\":::::And for the second time of asking, when your view completely contradicts the coverage in reliable sources, why should anyone care what you feel? You can't even give a consistent argument - is the opening only supposed to mention significant aspects, or the \"\"most significant\"\" ones?   \\n\\n\"</td>\n",
       "      <td>0</td>\n",
       "    </tr>\n",
       "    <tr>\n",
       "      <th>159288</th>\n",
       "      <td>159447</td>\n",
       "      <td>You should be ashamed of yourself \\n\\nThat is a horrible thing you put on my talk page.  128.61.19.93</td>\n",
       "      <td>0</td>\n",
       "    </tr>\n",
       "    <tr>\n",
       "      <th>159289</th>\n",
       "      <td>159448</td>\n",
       "      <td>Spitzer \\n\\nUmm, theres no actual article for prostitution ring.  - Crunch Captain.</td>\n",
       "      <td>0</td>\n",
       "    </tr>\n",
       "    <tr>\n",
       "      <th>159290</th>\n",
       "      <td>159449</td>\n",
       "      <td>And it looks like it was actually you who put on the speedy to have the first version deleted now that I look at it.</td>\n",
       "      <td>0</td>\n",
       "    </tr>\n",
       "    <tr>\n",
       "      <th>159291</th>\n",
       "      <td>159450</td>\n",
       "      <td>\"\\nAnd ... I really don't think you understand.  I came here and my idea was bad right away.  What kind of community goes \"\"you have bad ideas\"\" go away, instead of helping rewrite them.   \"</td>\n",
       "      <td>0</td>\n",
       "    </tr>\n",
       "  </tbody>\n",
       "</table>\n",
       "</div>"
      ],
      "text/plain": [
       "        Unnamed: 0  \\\n",
       "159287      159446   \n",
       "159288      159447   \n",
       "159289      159448   \n",
       "159290      159449   \n",
       "159291      159450   \n",
       "\n",
       "                                                                                                                                                                                                                                                                                                             text  \\\n",
       "159287  \":::::And for the second time of asking, when your view completely contradicts the coverage in reliable sources, why should anyone care what you feel? You can't even give a consistent argument - is the opening only supposed to mention significant aspects, or the \"\"most significant\"\" ones?   \\n\\n\"   \n",
       "159288                                                                                                                                                                                                      You should be ashamed of yourself \\n\\nThat is a horrible thing you put on my talk page.  128.61.19.93   \n",
       "159289                                                                                                                                                                                                                        Spitzer \\n\\nUmm, theres no actual article for prostitution ring.  - Crunch Captain.   \n",
       "159290                                                                                                                                                                                       And it looks like it was actually you who put on the speedy to have the first version deleted now that I look at it.   \n",
       "159291                                                                                                             \"\\nAnd ... I really don't think you understand.  I came here and my idea was bad right away.  What kind of community goes \"\"you have bad ideas\"\" go away, instead of helping rewrite them.   \"   \n",
       "\n",
       "        toxic  \n",
       "159287      0  \n",
       "159288      0  \n",
       "159289      0  \n",
       "159290      0  \n",
       "159291      0  "
      ]
     },
     "metadata": {},
     "output_type": "display_data"
    },
    {
     "name": "stdout",
     "output_type": "stream",
     "text": [
      "\n"
     ]
    },
    {
     "data": {
      "text/html": [
       "<h3>Общая информация о данных</h3><br>"
      ],
      "text/plain": [
       "<IPython.core.display.HTML object>"
      ]
     },
     "metadata": {},
     "output_type": "display_data"
    },
    {
     "name": "stdout",
     "output_type": "stream",
     "text": [
      "<class 'pandas.core.frame.DataFrame'>\n",
      "RangeIndex: 159292 entries, 0 to 159291\n",
      "Data columns (total 3 columns):\n",
      " #   Column      Non-Null Count   Dtype \n",
      "---  ------      --------------   ----- \n",
      " 0   Unnamed: 0  159292 non-null  int64 \n",
      " 1   text        159292 non-null  object\n",
      " 2   toxic       159292 non-null  int64 \n",
      "dtypes: int64(2), object(1)\n",
      "memory usage: 3.6+ MB\n",
      "None\n"
     ]
    },
    {
     "data": {
      "text/html": [
       "<h3>Наименования столбцов</h3><br>"
      ],
      "text/plain": [
       "<IPython.core.display.HTML object>"
      ]
     },
     "metadata": {},
     "output_type": "display_data"
    },
    {
     "name": "stdout",
     "output_type": "stream",
     "text": [
      "Index(['Unnamed: 0', 'text', 'toxic'], dtype='object')\n"
     ]
    },
    {
     "data": {
      "text/html": [
       "<br><h3>Количество и доля пропущенных значений</h3><br>"
      ],
      "text/plain": [
       "<IPython.core.display.HTML object>"
      ]
     },
     "metadata": {},
     "output_type": "display_data"
    },
    {
     "name": "stdout",
     "output_type": "stream",
     "text": [
      "Пропуски отсутствуют\n"
     ]
    },
    {
     "data": {
      "text/html": [
       "<br><h3>Количество дубликатов в датафрейме</h3><br>"
      ],
      "text/plain": [
       "<IPython.core.display.HTML object>"
      ]
     },
     "metadata": {},
     "output_type": "display_data"
    },
    {
     "name": "stdout",
     "output_type": "stream",
     "text": [
      "Явные дубликаты отсутствуют\n"
     ]
    },
    {
     "data": {
      "text/html": [
       "<br><h3>Уникальные значения в датафрейме</h3><br>"
      ],
      "text/plain": [
       "<IPython.core.display.HTML object>"
      ]
     },
     "metadata": {},
     "output_type": "display_data"
    },
    {
     "data": {
      "text/html": [
       "<b>Уникальные значения в столбце \"toxic\": </b>2"
      ],
      "text/plain": [
       "<IPython.core.display.HTML object>"
      ]
     },
     "metadata": {},
     "output_type": "display_data"
    },
    {
     "name": "stdout",
     "output_type": "stream",
     "text": [
      "0    143106\n",
      "1     16186\n"
     ]
    },
    {
     "data": {
      "text/html": [
       "<br><h3>Описание данных</h3>"
      ],
      "text/plain": [
       "<IPython.core.display.HTML object>"
      ]
     },
     "metadata": {},
     "output_type": "display_data"
    },
    {
     "data": {
      "text/html": [
       "<div>\n",
       "<style scoped>\n",
       "    .dataframe tbody tr th:only-of-type {\n",
       "        vertical-align: middle;\n",
       "    }\n",
       "\n",
       "    .dataframe tbody tr th {\n",
       "        vertical-align: top;\n",
       "    }\n",
       "\n",
       "    .dataframe thead th {\n",
       "        text-align: right;\n",
       "    }\n",
       "</style>\n",
       "<table border=\"1\" class=\"dataframe\">\n",
       "  <thead>\n",
       "    <tr style=\"text-align: right;\">\n",
       "      <th></th>\n",
       "      <th>Unnamed: 0</th>\n",
       "      <th>toxic</th>\n",
       "    </tr>\n",
       "  </thead>\n",
       "  <tbody>\n",
       "    <tr>\n",
       "      <th>count</th>\n",
       "      <td>159292.000000</td>\n",
       "      <td>159292.000000</td>\n",
       "    </tr>\n",
       "    <tr>\n",
       "      <th>mean</th>\n",
       "      <td>79725.697242</td>\n",
       "      <td>0.101612</td>\n",
       "    </tr>\n",
       "    <tr>\n",
       "      <th>std</th>\n",
       "      <td>46028.837471</td>\n",
       "      <td>0.302139</td>\n",
       "    </tr>\n",
       "    <tr>\n",
       "      <th>min</th>\n",
       "      <td>0.000000</td>\n",
       "      <td>0.000000</td>\n",
       "    </tr>\n",
       "    <tr>\n",
       "      <th>25%</th>\n",
       "      <td>39872.750000</td>\n",
       "      <td>0.000000</td>\n",
       "    </tr>\n",
       "    <tr>\n",
       "      <th>50%</th>\n",
       "      <td>79721.500000</td>\n",
       "      <td>0.000000</td>\n",
       "    </tr>\n",
       "    <tr>\n",
       "      <th>75%</th>\n",
       "      <td>119573.250000</td>\n",
       "      <td>0.000000</td>\n",
       "    </tr>\n",
       "    <tr>\n",
       "      <th>max</th>\n",
       "      <td>159450.000000</td>\n",
       "      <td>1.000000</td>\n",
       "    </tr>\n",
       "  </tbody>\n",
       "</table>\n",
       "</div>"
      ],
      "text/plain": [
       "          Unnamed: 0          toxic\n",
       "count  159292.000000  159292.000000\n",
       "mean    79725.697242       0.101612\n",
       "std     46028.837471       0.302139\n",
       "min         0.000000       0.000000\n",
       "25%     39872.750000       0.000000\n",
       "50%     79721.500000       0.000000\n",
       "75%    119573.250000       0.000000\n",
       "max    159450.000000       1.000000"
      ]
     },
     "metadata": {},
     "output_type": "display_data"
    },
    {
     "data": {
      "text/html": [
       "<br><h3>Гистограммы для всех числовых столбцов</h3><br>"
      ],
      "text/plain": [
       "<IPython.core.display.HTML object>"
      ]
     },
     "metadata": {},
     "output_type": "display_data"
    },
    {
     "data": {
      "image/png": "[encoded data removed]",
      "text/plain": [
       "<Figure size 864x360 with 2 Axes>"
      ]
     },
     "metadata": {
      "needs_background": "light"
     },
     "output_type": "display_data"
    }
   ],
   "source": [
    "data_research(data)"
   ]
  },
  {
   "cell_type": "code",
   "execution_count": 10,
   "metadata": {},
   "outputs": [
    {
     "data": {
      "image/png": "[encoded data removed]",
      "text/plain": [
       "<Figure size 432x432 with 1 Axes>"
      ]
     },
     "metadata": {},
     "output_type": "display_data"
    }
   ],
   "source": [
    "sorted_counts = data['toxic'].value_counts(ascending=True)\n",
    "\n",
    "plt.figure(figsize=(6, 6))\n",
    "plt.suptitle('Доля уникальных значений признака \"toxic\"')\n",
    "\n",
    "# Создание круговой диаграммы\n",
    "plt.pie(sorted_counts.values, \n",
    "        labels=sorted_counts.index, \n",
    "        colors=['lightskyblue', 'salmon'], \n",
    "        autopct='%1.1f%%')\n",
    "\n",
    "# Отображение диаграммы\n",
    "plt.show()"
   ]
  },
  {
   "cell_type": "markdown",
   "metadata": {},
   "source": [
    "### Вывод"
   ]
  },
  {
   "cell_type": "markdown",
   "metadata": {},
   "source": [
    "Данные загружены, они соответствуют описанию задачи. Пропуски и явные дубликаты отсутствуют.\n",
    "\n",
    "Всего у нас представлено 159 292 записей о комментариях пользователей интернет-магазина на английском языке. Лишь 10.2% из этих комментариев являются токсичными. \n",
    "\n",
    "Столбец `'Unnamed: 0'` не имеет важной информации и не понадобится для обучения модели, поэтому его нужно удалить.\n",
    "\n",
    "Столбец `'toxic'` имеет лишь 2 уникальных значения - 0 и 1. Для оптимизации работы модели лучше перевести тип данных с `int64` на `uint8`."
   ]
  },
  {
   "cell_type": "markdown",
   "metadata": {},
   "source": [
    "[Вернуться к содержанию](#Содержание)"
   ]
  },
  {
   "cell_type": "markdown",
   "metadata": {},
   "source": [
    "## Предобработка"
   ]
  },
  {
   "cell_type": "markdown",
   "metadata": {},
   "source": [
    "### Удаление столбца"
   ]
  },
  {
   "cell_type": "markdown",
   "metadata": {},
   "source": [
    "Удалим неинформативный признак из датафрейма."
   ]
  },
  {
   "cell_type": "code",
   "execution_count": 11,
   "metadata": {},
   "outputs": [],
   "source": [
    "data = data.drop('Unnamed: 0', axis=1)"
   ]
  },
  {
   "cell_type": "markdown",
   "metadata": {},
   "source": [
    "После удаления столбца проверим данные еще раз на наличие явных дубликатов."
   ]
  },
  {
   "cell_type": "code",
   "execution_count": 12,
   "metadata": {},
   "outputs": [
    {
     "name": "stdout",
     "output_type": "stream",
     "text": [
      "Количество дубликатов 0\n"
     ]
    }
   ],
   "source": [
    "print('Количество дубликатов', data['text'].duplicated().sum())"
   ]
  },
  {
   "cell_type": "markdown",
   "metadata": {},
   "source": [
    "### Изменение типа данных"
   ]
  },
  {
   "cell_type": "markdown",
   "metadata": {},
   "source": [
    "Изменим тип данных признака `'toxic'` на `uint8`."
   ]
  },
  {
   "cell_type": "code",
   "execution_count": 13,
   "metadata": {},
   "outputs": [],
   "source": [
    "data['toxic'] = data['toxic'].astype('uint8')"
   ]
  },
  {
   "cell_type": "markdown",
   "metadata": {},
   "source": [
    "Проверяем результат."
   ]
  },
  {
   "cell_type": "code",
   "execution_count": 14,
   "metadata": {},
   "outputs": [
    {
     "name": "stdout",
     "output_type": "stream",
     "text": [
      "<class 'pandas.core.frame.DataFrame'>\n",
      "RangeIndex: 159292 entries, 0 to 159291\n",
      "Data columns (total 2 columns):\n",
      " #   Column  Non-Null Count   Dtype \n",
      "---  ------  --------------   ----- \n",
      " 0   text    159292 non-null  object\n",
      " 1   toxic   159292 non-null  uint8 \n",
      "dtypes: object(1), uint8(1)\n",
      "memory usage: 1.4+ MB\n"
     ]
    }
   ],
   "source": [
    "data.info()"
   ]
  },
  {
   "cell_type": "markdown",
   "metadata": {},
   "source": [
    "### Чистка и лемматизация текста"
   ]
  },
  {
   "cell_type": "markdown",
   "metadata": {},
   "source": [
    "Создадим функцию `clear_lemm_text`, которая очистит текст от всех символов, кроме латинских букв, а также лемматизирует его."
   ]
  },
  {
   "cell_type": "code",
   "execution_count": 15,
   "metadata": {},
   "outputs": [],
   "source": [
    "wnl = WordNetLemmatizer()\n",
    "\n",
    "def penn2morphy(penntag):\n",
    "    morphy_tag = {'NN':'n', 'JJ':'a',\n",
    "                  'VB':'v', 'RB':'r'}\n",
    "    try:\n",
    "        return morphy_tag[penntag[:2]]\n",
    "    except:\n",
    "        return 'n' \n",
    "\n",
    "def clear_lemm_text(text):\n",
    "    clear_text = re.sub(r\"[^a-zA-Z']\", ' ', text).lower()\n",
    "    return ' '.join(wnl.lemmatize(word, pos=penn2morphy(tag)) \n",
    "                    for word, tag in pos_tag(word_tokenize(clear_text)))"
   ]
  },
  {
   "cell_type": "markdown",
   "metadata": {},
   "source": [
    "Перед использованием на всем датафрейме проверим функцию на небольшом тексте."
   ]
  },
  {
   "cell_type": "code",
   "execution_count": 16,
   "metadata": {},
   "outputs": [
    {
     "name": "stdout",
     "output_type": "stream",
     "text": [
      "Исходный текст:\n",
      " She's been observing birds building nests.\n",
      "\n",
      "Обработанный текст:\n",
      " she 's be observe bird building nest\n"
     ]
    }
   ],
   "source": [
    "text = \"She's been observing birds building nests.\"\n",
    "\n",
    "print('Исходный текст:\\n', text)\n",
    "print()\n",
    "print('Обработанный текст:\\n', clear_lemm_text(text))"
   ]
  },
  {
   "cell_type": "markdown",
   "metadata": {},
   "source": [
    "Функция работает корректно. При помощи нашей функции добавим в датафрейм новый признак `'lemm_text'`с очищенным и лемматизированным текстом."
   ]
  },
  {
   "cell_type": "code",
   "execution_count": 17,
   "metadata": {},
   "outputs": [
    {
     "data": {
      "application/vnd.jupyter.widget-view+json": {
       "model_id": "55d476a702fd4c9d9f87cfc6a6103572",
       "version_major": 2,
       "version_minor": 0
      },
      "text/plain": [
       "  0%|          | 0/159292 [00:00<?, ?it/s]"
      ]
     },
     "metadata": {},
     "output_type": "display_data"
    },
    {
     "name": "stdout",
     "output_type": "stream",
     "text": [
      "Время выполнения для nltk: 603 секунд (10.05 минут)\n"
     ]
    }
   ],
   "source": [
    "data = data.copy()\n",
    "\n",
    "start_time = time.time()\n",
    "data['lemm_text'] = data['text'].progress_apply(clear_lemm_text)\n",
    "lemm_time = time.time() - start_time\n",
    "\n",
    "print(f\"Время выполнения для nltk: {lemm_time:.0f} секунд ({lemm_time/60:.2f} минут)\")"
   ]
  },
  {
   "cell_type": "markdown",
   "metadata": {},
   "source": [
    "Проверяем результат."
   ]
  },
  {
   "cell_type": "code",
   "execution_count": 18,
   "metadata": {
    "scrolled": false
   },
   "outputs": [
    {
     "data": {
      "text/html": [
       "<div>\n",
       "<style scoped>\n",
       "    .dataframe tbody tr th:only-of-type {\n",
       "        vertical-align: middle;\n",
       "    }\n",
       "\n",
       "    .dataframe tbody tr th {\n",
       "        vertical-align: top;\n",
       "    }\n",
       "\n",
       "    .dataframe thead th {\n",
       "        text-align: right;\n",
       "    }\n",
       "</style>\n",
       "<table border=\"1\" class=\"dataframe\">\n",
       "  <thead>\n",
       "    <tr style=\"text-align: right;\">\n",
       "      <th></th>\n",
       "      <th>text</th>\n",
       "      <th>toxic</th>\n",
       "      <th>lemm_text</th>\n",
       "    </tr>\n",
       "  </thead>\n",
       "  <tbody>\n",
       "    <tr>\n",
       "      <th>0</th>\n",
       "      <td>Explanation\\nWhy the edits made under my username Hardcore Metallica Fan were reverted? They weren't vandalisms, just closure on some GAs after I voted at New York Dolls FAC. And please don't remove the template from the talk page since I'm retired now.89.205.38.27</td>\n",
       "      <td>0</td>\n",
       "      <td>explanation why the edits make under my username hardcore metallica fan be revert they be n't vandalisms just closure on some gas after i vote at new york doll fac and please do n't remove the template from the talk page since i 'm retire now</td>\n",
       "    </tr>\n",
       "    <tr>\n",
       "      <th>1</th>\n",
       "      <td>D'aww! He matches this background colour I'm seemingly stuck with. Thanks.  (talk) 21:51, January 11, 2016 (UTC)</td>\n",
       "      <td>0</td>\n",
       "      <td>d'aww he match this background colour i 'm seemingly stick with thanks talk january utc</td>\n",
       "    </tr>\n",
       "    <tr>\n",
       "      <th>2</th>\n",
       "      <td>Hey man, I'm really not trying to edit war. It's just that this guy is constantly removing relevant information and talking to me through edits instead of my talk page. He seems to care more about the formatting than the actual info.</td>\n",
       "      <td>0</td>\n",
       "      <td>hey man i 'm really not try to edit war it 's just that this guy be constantly remove relevant information and talk to me through edits instead of my talk page he seem to care more about the formatting than the actual info</td>\n",
       "    </tr>\n",
       "    <tr>\n",
       "      <th>3</th>\n",
       "      <td>\"\\nMore\\nI can't make any real suggestions on improvement - I wondered if the section statistics should be later on, or a subsection of \"\"types of accidents\"\"  -I think the references may need tidying so that they are all in the exact same format ie date format etc. I can do that later on, if no-one else does first - if you have any preferences for formatting style on references or want to do it yourself please let me know.\\n\\nThere appears to be a backlog on articles for review so I guess there may be a delay until a reviewer turns up. It's listed in the relevant form eg Wikipedia:Good_article_nominations#Transport  \"</td>\n",
       "      <td>0</td>\n",
       "      <td>more i ca n't make any real suggestion on improvement i wonder if the section statistic should be later on or a subsection of type of accident i think the reference may need tidy so that they be all in the exact same format ie date format etc i can do that later on if no one else do first if you have any preference for format style on reference or want to do it yourself please let me know there appear to be a backlog on article for review so i guess there may be a delay until a reviewer turn up it 's list in the relevant form eg wikipedia good article nomination transport</td>\n",
       "    </tr>\n",
       "    <tr>\n",
       "      <th>4</th>\n",
       "      <td>You, sir, are my hero. Any chance you remember what page that's on?</td>\n",
       "      <td>0</td>\n",
       "      <td>you sir be my hero any chance you remember what page that 's on</td>\n",
       "    </tr>\n",
       "  </tbody>\n",
       "</table>\n",
       "</div>"
      ],
      "text/plain": [
       "                                                                                                                                                                                                                                                                                                                                                                                                                                                                                                                                                                                                                                                 text  \\\n",
       "0                                                                                                                                                                                                                                                                                                                                                                           Explanation\\nWhy the edits made under my username Hardcore Metallica Fan were reverted? They weren't vandalisms, just closure on some GAs after I voted at New York Dolls FAC. And please don't remove the template from the talk page since I'm retired now.89.205.38.27   \n",
       "1                                                                                                                                                                                                                                                                                                                                                                                                                                                                                                                                    D'aww! He matches this background colour I'm seemingly stuck with. Thanks.  (talk) 21:51, January 11, 2016 (UTC)   \n",
       "2                                                                                                                                                                                                                                                                                                                                                                                                           Hey man, I'm really not trying to edit war. It's just that this guy is constantly removing relevant information and talking to me through edits instead of my talk page. He seems to care more about the formatting than the actual info.   \n",
       "3  \"\\nMore\\nI can't make any real suggestions on improvement - I wondered if the section statistics should be later on, or a subsection of \"\"types of accidents\"\"  -I think the references may need tidying so that they are all in the exact same format ie date format etc. I can do that later on, if no-one else does first - if you have any preferences for formatting style on references or want to do it yourself please let me know.\\n\\nThere appears to be a backlog on articles for review so I guess there may be a delay until a reviewer turns up. It's listed in the relevant form eg Wikipedia:Good_article_nominations#Transport  \"   \n",
       "4                                                                                                                                                                                                                                                                                                                                                                                                                                                                                                                                                                                 You, sir, are my hero. Any chance you remember what page that's on?   \n",
       "\n",
       "   toxic  \\\n",
       "0      0   \n",
       "1      0   \n",
       "2      0   \n",
       "3      0   \n",
       "4      0   \n",
       "\n",
       "                                                                                                                                                                                                                                                                                                                                                                                                                                                                                                                                                                                            lemm_text  \n",
       "0                                                                                                                                                                                                                                                                                                                                                  explanation why the edits make under my username hardcore metallica fan be revert they be n't vandalisms just closure on some gas after i vote at new york doll fac and please do n't remove the template from the talk page since i 'm retire now  \n",
       "1                                                                                                                                                                                                                                                                                                                                                                                                                                                                                                             d'aww he match this background colour i 'm seemingly stick with thanks talk january utc  \n",
       "2                                                                                                                                                                                                                                                                                                                                                                      hey man i 'm really not try to edit war it 's just that this guy be constantly remove relevant information and talk to me through edits instead of my talk page he seem to care more about the formatting than the actual info  \n",
       "3  more i ca n't make any real suggestion on improvement i wonder if the section statistic should be later on or a subsection of type of accident i think the reference may need tidy so that they be all in the exact same format ie date format etc i can do that later on if no one else do first if you have any preference for format style on reference or want to do it yourself please let me know there appear to be a backlog on article for review so i guess there may be a delay until a reviewer turn up it 's list in the relevant form eg wikipedia good article nomination transport  \n",
       "4                                                                                                                                                                                                                                                                                                                                                                                                                                                                                                                                     you sir be my hero any chance you remember what page that 's on  "
      ]
     },
     "execution_count": 18,
     "metadata": {},
     "output_type": "execute_result"
    }
   ],
   "source": [
    "data.head()"
   ]
  },
  {
   "cell_type": "markdown",
   "metadata": {},
   "source": [
    "### Вывод"
   ]
  },
  {
   "cell_type": "markdown",
   "metadata": {},
   "source": [
    "На этапе предобработки мы сделали следующее:\n",
    "\n",
    "- удалили признак `'Unnamed: 0'`б т.к. он не понадобится для обучения модели.\n",
    "\n",
    "- тип данных в столбце `'toxic'` мы перевели с `int64` на `uint8` для оптимизации работы модели.\n",
    "\n",
    "- выполнили чистку текста от всех символов, кроме латинских букв, а также его лемматизацию при помощи WordNetLemmatizer."
   ]
  },
  {
   "cell_type": "markdown",
   "metadata": {},
   "source": [
    "[Вернуться к содержанию](#Содержание)"
   ]
  },
  {
   "cell_type": "markdown",
   "metadata": {},
   "source": [
    "## Обучение"
   ]
  },
  {
   "cell_type": "markdown",
   "metadata": {},
   "source": [
    "### Подготовка данных"
   ]
  },
  {
   "cell_type": "markdown",
   "metadata": {},
   "source": [
    "Делим признаки на входные и целевой.\n",
    "В качестве входного признака оставим только `'lemm_text'`."
   ]
  },
  {
   "cell_type": "code",
   "execution_count": 19,
   "metadata": {},
   "outputs": [],
   "source": [
    "X = data['lemm_text']\n",
    "y = data['toxic']"
   ]
  },
  {
   "cell_type": "markdown",
   "metadata": {},
   "source": [
    "Разбиваем признаки на тренировочные и тестовые выборки в соотношении 90/10."
   ]
  },
  {
   "cell_type": "code",
   "execution_count": 20,
   "metadata": {},
   "outputs": [],
   "source": [
    "X_train, X_test, y_train, y_test = train_test_split(\n",
    "    X, \n",
    "    y, \n",
    "    test_size=0.1,\n",
    "    stratify=y,\n",
    "    random_state=RANDOM_STATE\n",
    ")"
   ]
  },
  {
   "cell_type": "markdown",
   "metadata": {},
   "source": [
    "Проверим корректность разделения получившихся выборок."
   ]
  },
  {
   "cell_type": "code",
   "execution_count": 21,
   "metadata": {},
   "outputs": [
    {
     "name": "stdout",
     "output_type": "stream",
     "text": [
      "Размер выборки X_train: (143362,)\n",
      "Размер выборки X_test: (15930,)\n",
      "Размер выборки y_train: (143362,)\n",
      "Размер выборки y_test: (15930,)\n"
     ]
    }
   ],
   "source": [
    "for sample_name in ['X_train', 'X_test',\n",
    "                   'y_train', 'y_test']:\n",
    "    \n",
    "    sample = eval(sample_name)\n",
    "    print(f'Размер выборки {sample_name}: {sample.shape}')"
   ]
  },
  {
   "cell_type": "markdown",
   "metadata": {},
   "source": [
    "Т.к. в датафрейме присутствует дисбаланс классов в целевой переменной, необходимо проверить, корректно ли были распределены между выборками уникальные значения."
   ]
  },
  {
   "cell_type": "code",
   "execution_count": 22,
   "metadata": {
    "scrolled": false
   },
   "outputs": [
    {
     "data": {
      "image/png": "[encoded data removed]",
      "text/plain": [
       "<Figure size 864x432 with 2 Axes>"
      ]
     },
     "metadata": {},
     "output_type": "display_data"
    }
   ],
   "source": [
    "fig, axes = plt.subplots(1, 2, figsize=(12, 6))\n",
    "fig.suptitle('Доля уникальных значений признака \"toxic\"')\n",
    "\n",
    "# Строим круговую диаграмму по каждому датафрейму\n",
    "for i, sample_name in enumerate(['y_train', 'y_test']):\n",
    "    sample = eval(sample_name)\n",
    "    sorted_counts = sample.value_counts(ascending=True)\n",
    "    \n",
    "    axes[i].pie(sorted_counts.values, \n",
    "                labels=sorted_counts.index, \n",
    "                colors=['lightskyblue', 'salmon'], \n",
    "                autopct='%1.1f%%')\n",
    "    \n",
    "    axes[i].set_title(sample_name)\n",
    "\n",
    "plt.show()"
   ]
  },
  {
   "cell_type": "markdown",
   "metadata": {},
   "source": [
    "Значения распределены равномерно, поэтому мы можем приступать к подготовке моделей."
   ]
  },
  {
   "cell_type": "markdown",
   "metadata": {},
   "source": [
    "### Подготовка моделей"
   ]
  },
  {
   "cell_type": "markdown",
   "metadata": {},
   "source": [
    "Для обучения мы подготовим следующие модели:\n",
    "- `LinearRegression`,\n",
    "- `RandomForestRegressor`,\n",
    "- `DecisionTreeRegressor`."
   ]
  },
  {
   "cell_type": "code",
   "execution_count": 23,
   "metadata": {},
   "outputs": [],
   "source": [
    "models = [\n",
    "    (\n",
    "        'LogisticRegression', \n",
    "        LogisticRegression\n",
    "        (\n",
    "            solver='liblinear',\n",
    "            penalty='l1',\n",
    "            C=2, \n",
    "            class_weight='balanced',\n",
    "            random_state=RANDOM_STATE\n",
    "        )\n",
    "    ),\n",
    "    \n",
    "    (\n",
    "        'DecisionTreeClassifier', \n",
    "        DecisionTreeClassifier\n",
    "        (\n",
    "            max_depth=100, \n",
    "            min_samples_split=10, \n",
    "            class_weight='balanced',\n",
    "            random_state=RANDOM_STATE\n",
    "        )\n",
    "    ),\n",
    "    \n",
    "    (\n",
    "        'RandomForestClassifier', \n",
    "        RandomForestClassifier\n",
    "        (\n",
    "            n_estimators=20, \n",
    "            min_samples_split=30, \n",
    "            class_weight='balanced',\n",
    "            random_state=RANDOM_STATE\n",
    "        )\n",
    "    )\n",
    "]"
   ]
  },
  {
   "cell_type": "markdown",
   "metadata": {},
   "source": [
    "Создадим таблицу, в которой мы будем сохранять результаты моделей."
   ]
  },
  {
   "cell_type": "code",
   "execution_count": 24,
   "metadata": {},
   "outputs": [],
   "source": [
    "results = pd.DataFrame(columns=['Model', \n",
    "                                'Training Time', \n",
    "                                'Prediction Time',\n",
    "                                'F1'])"
   ]
  },
  {
   "cell_type": "markdown",
   "metadata": {},
   "source": [
    "Создадим словарь для хранения обученных моделей."
   ]
  },
  {
   "cell_type": "code",
   "execution_count": 25,
   "metadata": {},
   "outputs": [],
   "source": [
    "trained_models = {}"
   ]
  },
  {
   "cell_type": "markdown",
   "metadata": {},
   "source": [
    "### Обучение моделей"
   ]
  },
  {
   "cell_type": "markdown",
   "metadata": {},
   "source": [
    "Обучим модели в цикле с кроссвалидацией при помощи пайплайна с преобразованием текста в TF-IDF векторы с исключением стоп-слов и рассчитаем метрики F1."
   ]
  },
  {
   "cell_type": "code",
   "execution_count": 26,
   "metadata": {},
   "outputs": [
    {
     "data": {
      "application/vnd.jupyter.widget-view+json": {
       "model_id": "6fdbaf2edefd4aa29c918c592e0fecc2",
       "version_major": 2,
       "version_minor": 0
      },
      "text/plain": [
       "  0%|          | 0/3 [00:00<?, ?it/s]"
      ]
     },
     "metadata": {},
     "output_type": "display_data"
    }
   ],
   "source": [
    "for model_name, model in tqdm(models):\n",
    "    pipeline = Pipeline([\n",
    "        ('tfidf', TfidfVectorizer(stop_words=stopwords)),\n",
    "        ('model', model)\n",
    "    ])\n",
    "    \n",
    "    # Кроссвалидация с сохранением обученных моделей\n",
    "    cv_results = cross_validate(\n",
    "        pipeline, \n",
    "        X_train, \n",
    "        y_train, \n",
    "        cv=4, \n",
    "        scoring='f1', \n",
    "        return_train_score=True,\n",
    "        n_jobs=-1,\n",
    "        return_estimator=True\n",
    "    )\n",
    "    \n",
    "    # Сохранение обученного пайплайна\n",
    "    trained_models[model_name] = cv_results['estimator'][0]\n",
    "    \n",
    "    # Фиксирование времени и расчет F1\n",
    "    train_time = round(cv_results['fit_time'].mean(), 2)\n",
    "    pred_time = round(cv_results['score_time'].mean(), 2)\n",
    "    f1 = round(cv_results['test_score'].mean(), 4)\n",
    "    \n",
    "    # Сохранение результатов\n",
    "    results = results.append(\n",
    "        {'Model': model_name, \n",
    "         'Training Time': train_time, \n",
    "         'Prediction Time': pred_time, \n",
    "         'F1': f1}, \n",
    "        ignore_index=True)"
   ]
  },
  {
   "cell_type": "markdown",
   "metadata": {},
   "source": [
    "### Анализ моделей"
   ]
  },
  {
   "cell_type": "markdown",
   "metadata": {},
   "source": [
    "Выводим результаты всех моделей."
   ]
  },
  {
   "cell_type": "code",
   "execution_count": 27,
   "metadata": {
    "scrolled": false
   },
   "outputs": [
    {
     "data": {
      "text/html": [
       "<div>\n",
       "<style scoped>\n",
       "    .dataframe tbody tr th:only-of-type {\n",
       "        vertical-align: middle;\n",
       "    }\n",
       "\n",
       "    .dataframe tbody tr th {\n",
       "        vertical-align: top;\n",
       "    }\n",
       "\n",
       "    .dataframe thead th {\n",
       "        text-align: right;\n",
       "    }\n",
       "</style>\n",
       "<table border=\"1\" class=\"dataframe\">\n",
       "  <thead>\n",
       "    <tr style=\"text-align: right;\">\n",
       "      <th></th>\n",
       "      <th>Model</th>\n",
       "      <th>Training Time</th>\n",
       "      <th>Prediction Time</th>\n",
       "      <th>F1</th>\n",
       "    </tr>\n",
       "  </thead>\n",
       "  <tbody>\n",
       "    <tr>\n",
       "      <th>0</th>\n",
       "      <td>LogisticRegression</td>\n",
       "      <td>11.08</td>\n",
       "      <td>1.59</td>\n",
       "      <td>0.7529</td>\n",
       "    </tr>\n",
       "    <tr>\n",
       "      <th>1</th>\n",
       "      <td>DecisionTreeClassifier</td>\n",
       "      <td>67.81</td>\n",
       "      <td>1.64</td>\n",
       "      <td>0.6278</td>\n",
       "    </tr>\n",
       "    <tr>\n",
       "      <th>2</th>\n",
       "      <td>RandomForestClassifier</td>\n",
       "      <td>48.52</td>\n",
       "      <td>2.34</td>\n",
       "      <td>0.6744</td>\n",
       "    </tr>\n",
       "  </tbody>\n",
       "</table>\n",
       "</div>"
      ],
      "text/plain": [
       "                    Model  Training Time  Prediction Time      F1\n",
       "0      LogisticRegression          11.08             1.59  0.7529\n",
       "1  DecisionTreeClassifier          67.81             1.64  0.6278\n",
       "2  RandomForestClassifier          48.52             2.34  0.6744"
      ]
     },
     "metadata": {},
     "output_type": "display_data"
    }
   ],
   "source": [
    "display(results)"
   ]
  },
  {
   "cell_type": "markdown",
   "metadata": {},
   "source": [
    "Модель `LogisticRegression` показала наилучшие результаты среди всех моделей. Значение F1 на кроссвалидации и валидационной выборке превышает порог 0.75, что соответствует условиям задачи. Время обучения и предсказания также являются наименьшими среди всех моделей, что делает её наиболее эффективной и быстрой.\n",
    "\n",
    "Модель `DecisionTreeClassifier` не достигла порогового значения F1 в 0.75. Время обучения значительно больше по сравнению с `LogisticRegression`, что делает её менее предпочтительной. Однако время предсказания остается на приемлемом уровне.\n",
    "\n",
    "Модель `RandomForestClassifier` имеет самое низкое значение F1 на кроссвалидации и валидационной выборке. Время обучения и предсказания больше, чем у `LogisticRegression`, что делает её менее эффективной.\n",
    "\n",
    "По полученным результатам можно сделать вывод, что модель `LogisticRegression` является наилучшей среди рассмотренных моделей. Она не только достигла и превысила пороговое значение F1 в 0.75, но и показала наименьшее время обучения и предсказания."
   ]
  },
  {
   "cell_type": "markdown",
   "metadata": {},
   "source": [
    "Оценим работу лучшей модели на тестовой выборке."
   ]
  },
  {
   "cell_type": "code",
   "execution_count": 28,
   "metadata": {},
   "outputs": [
    {
     "name": "stdout",
     "output_type": "stream",
     "text": [
      "Лучшая модель: LogisticRegression\n",
      "Значение F1 на тестовой выборке: 0.76\n"
     ]
    }
   ],
   "source": [
    "# Выводим лучшую модель по результатам кросс-валидации\n",
    "best_model_name = results.loc[results['F1'].idxmax()]['Model']\n",
    "best_pipeline = trained_models[best_model_name]\n",
    "\n",
    "# Проверка лучшей модели на тестовой выборке\n",
    "test_pred = best_pipeline.predict(X_test)\n",
    "test_f1 = round(f1_score(y_test, test_pred), 2)\n",
    "\n",
    "print(f\"Лучшая модель: {best_model_name}\")\n",
    "print(f\"Значение F1 на тестовой выборке: {test_f1}\")"
   ]
  },
  {
   "cell_type": "markdown",
   "metadata": {},
   "source": [
    "На тестовой выборке лучшая модель показала себя также хорошо, как и на кроссвалидации. "
   ]
  },
  {
   "cell_type": "markdown",
   "metadata": {},
   "source": [
    "### Вывод"
   ]
  },
  {
   "cell_type": "markdown",
   "metadata": {},
   "source": [
    "При подготовке к обучению в качестве входного признака мы оставили только `'lemm_text'`. \n",
    "\n",
    "Данные были разбиты на тренировочные и тестовые выборки в соотношении 90/10. Классы целевого признака между выборками распределены равномерно.\n",
    "\n",
    "Для обучения мы использовали следующие модели:\n",
    "- `LinearRegression`,\n",
    "- `RandomForestRegressor`,\n",
    "- `DecisionTreeRegressor`.\n",
    "\n",
    "В обучении мы использовали пайплайн с преобразованием текста в TF-IDF векторы с исключением стоп-слов с кроссвалидацией.\n",
    "\n",
    "Для оценки моделей была использована метрика F1.\n",
    "\n",
    "---\n",
    "\n",
    "Результаты анализа моделей:\n",
    "\n",
    "- Модель `LogisticRegression` показала наилучший результат среди рассмотренных моделей. Она не только достигла и превысила пороговое значение F1 в 0.75, но и затратила наименьшее количество времени для обучения и предсказания.\n",
    "\n",
    "\n",
    "- Модель `DecisionTreeClassifier` не достигла порогового значения F1 в 0.75. Время обучения значительно больше по сравнению с `LogisticRegression`, что делает её менее предпочтительной. Однако время предсказания остается на приемлемом уровне.\n",
    "\n",
    "\n",
    "- Модель `RandomForestClassifier` показала самое низкое значение F1. Время обучения и предсказания больше, чем у `LogisticRegression`, что делает её менее эффективной."
   ]
  },
  {
   "cell_type": "markdown",
   "metadata": {},
   "source": [
    "[Вернуться к содержанию](#Содержание)"
   ]
  },
  {
   "cell_type": "markdown",
   "metadata": {},
   "source": [
    "## Общий вывод"
   ]
  },
  {
   "cell_type": "markdown",
   "metadata": {},
   "source": [
    "**Описание задачи**\n",
    "\n",
    "В данной проектной работе мы помогли интернет-магазину «Викишоп» построить модель, которая поможет магазину в поиске токсичных комментариев и отправки их на модерацию.\n",
    "\n",
    "---"
   ]
  },
  {
   "cell_type": "markdown",
   "metadata": {},
   "source": [
    "**Этапы работы**\n",
    "\n",
    "<br>\n",
    "\n",
    "*Загрузка и первичное изучение информации о данных:*\n",
    "\n",
    "Всего нам было предоставлено 159 292 записей о комментариях пользователей интернет-магазина на английском языке. Лишь 10.2% из этих комментариев являются токсичными. \n",
    "\n",
    "<br>\n",
    "\n",
    "*Предобработка данных:*\n",
    "\n",
    "В процессе предобработки мы:\n",
    "\n",
    "- удалили неинформативные признаки.\n",
    "\n",
    "- изменили тип данных у признака `'toxic'`.\n",
    "\n",
    "- выполнили чистку текста от всех символов, кроме латинских букв, а также его лемматизацию.\n",
    "\n",
    "<br>\n",
    "\n",
    "*Обучение моделей:*\n",
    "\n",
    "Для задачи мы выбрали 3 модели: `LogisticRegression`, `DecisionTreeClassifier`, `RandomForestRegressor`. \n",
    "\n",
    "Наиболее оптимальные значения имеет модель `LogisticRegression` - она показала наилучшее значение F1 на всех этапах (0.75 на кроссвалидации и 0.76 на тестовой выборке), при этом ее время обучения и предсказания является самым быстрым.\n",
    "\n",
    "---\n",
    "\n",
    "Таким образом, заказчику рекомендуется использовать модель `LogisticRegression` для классификации комментариев на позитивные и негативные."
   ]
  },
  {
   "cell_type": "markdown",
   "metadata": {},
   "source": [
    "[Вернуться к содержанию](#Содержание)"
   ]
  }
 ],
 "metadata": {
  "ExecuteTimeLog": [
   {
    "duration": 1272,
    "start_time": "2024-09-07T08:30:24.079Z"
   },
   {
    "duration": 3031,
    "start_time": "2024-09-07T08:30:25.353Z"
   },
   {
    "duration": 15,
    "start_time": "2024-09-07T08:32:17.893Z"
   },
   {
    "duration": 1068,
    "start_time": "2024-09-07T08:32:18.003Z"
   },
   {
    "duration": 11,
    "start_time": "2024-09-07T08:32:19.073Z"
   },
   {
    "duration": 203,
    "start_time": "2024-09-07T08:32:19.089Z"
   },
   {
    "duration": 3912,
    "start_time": "2024-09-07T08:33:16.617Z"
   },
   {
    "duration": 11,
    "start_time": "2024-09-07T08:33:20.531Z"
   },
   {
    "duration": 11,
    "start_time": "2024-09-07T08:36:50.170Z"
   },
   {
    "duration": 38,
    "start_time": "2024-09-07T08:36:51.897Z"
   },
   {
    "duration": 1152,
    "start_time": "2024-09-07T08:38:44.652Z"
   },
   {
    "duration": 2,
    "start_time": "2024-09-07T08:38:52.023Z"
   },
   {
    "duration": 14,
    "start_time": "2024-09-07T08:38:52.026Z"
   },
   {
    "duration": 1449,
    "start_time": "2024-09-07T08:38:52.041Z"
   },
   {
    "duration": 435,
    "start_time": "2024-09-07T08:38:53.493Z"
   },
   {
    "duration": 10,
    "start_time": "2024-09-07T08:38:53.929Z"
   },
   {
    "duration": 228,
    "start_time": "2024-09-07T08:39:23.970Z"
   },
   {
    "duration": 7,
    "start_time": "2024-09-07T08:48:08.336Z"
   },
   {
    "duration": 808,
    "start_time": "2024-09-07T08:48:10.804Z"
   },
   {
    "duration": 747,
    "start_time": "2024-09-07T08:48:12.704Z"
   },
   {
    "duration": 8,
    "start_time": "2024-09-07T08:49:49.468Z"
   },
   {
    "duration": 495,
    "start_time": "2024-09-07T08:49:51.029Z"
   },
   {
    "duration": 9,
    "start_time": "2024-09-07T08:50:17.638Z"
   },
   {
    "duration": 60,
    "start_time": "2024-09-07T08:51:37.631Z"
   },
   {
    "duration": 3,
    "start_time": "2024-09-07T08:52:46.752Z"
   },
   {
    "duration": 83,
    "start_time": "2024-09-07T08:52:46.756Z"
   },
   {
    "duration": 800,
    "start_time": "2024-09-07T08:52:46.840Z"
   },
   {
    "duration": 747,
    "start_time": "2024-09-07T08:52:47.643Z"
   },
   {
    "duration": 13,
    "start_time": "2024-09-07T08:52:48.391Z"
   },
   {
    "duration": 235,
    "start_time": "2024-09-07T08:52:48.405Z"
   },
   {
    "duration": 8,
    "start_time": "2024-09-07T08:55:16.998Z"
   },
   {
    "duration": 751,
    "start_time": "2024-09-07T08:55:18.517Z"
   },
   {
    "duration": 8,
    "start_time": "2024-09-07T08:55:27.515Z"
   },
   {
    "duration": 755,
    "start_time": "2024-09-07T08:55:28.997Z"
   },
   {
    "duration": 9,
    "start_time": "2024-09-07T08:56:40.288Z"
   },
   {
    "duration": 720,
    "start_time": "2024-09-07T08:56:43.171Z"
   },
   {
    "duration": 100,
    "start_time": "2024-09-07T09:00:15.646Z"
   },
   {
    "duration": 12,
    "start_time": "2024-09-07T09:00:34.677Z"
   },
   {
    "duration": 10,
    "start_time": "2024-09-07T09:00:39.546Z"
   },
   {
    "duration": 12,
    "start_time": "2024-09-07T09:00:41.703Z"
   },
   {
    "duration": 15,
    "start_time": "2024-09-07T09:15:46.691Z"
   },
   {
    "duration": 13,
    "start_time": "2024-09-07T09:36:27.892Z"
   },
   {
    "duration": 12,
    "start_time": "2024-09-07T09:39:56.340Z"
   },
   {
    "duration": 69,
    "start_time": "2024-09-07T09:40:04.520Z"
   },
   {
    "duration": 160,
    "start_time": "2024-09-07T09:40:15.723Z"
   },
   {
    "duration": 10,
    "start_time": "2024-09-07T09:41:19.934Z"
   },
   {
    "duration": 47,
    "start_time": "2024-09-07T09:42:32.901Z"
   },
   {
    "duration": 10,
    "start_time": "2024-09-07T09:44:01.410Z"
   },
   {
    "duration": 10,
    "start_time": "2024-09-07T09:44:12.279Z"
   },
   {
    "duration": 11,
    "start_time": "2024-09-07T09:50:04.391Z"
   },
   {
    "duration": 10,
    "start_time": "2024-09-07T09:51:53.063Z"
   },
   {
    "duration": 66,
    "start_time": "2024-09-07T09:53:17.169Z"
   },
   {
    "duration": 63,
    "start_time": "2024-09-07T09:53:29.958Z"
   },
   {
    "duration": 60,
    "start_time": "2024-09-07T09:53:35.402Z"
   },
   {
    "duration": 80,
    "start_time": "2024-09-07T09:53:47.351Z"
   },
   {
    "duration": 73,
    "start_time": "2024-09-07T09:53:54.278Z"
   },
   {
    "duration": 73,
    "start_time": "2024-09-07T09:54:08.705Z"
   },
   {
    "duration": 71,
    "start_time": "2024-09-07T09:54:32.937Z"
   },
   {
    "duration": 92,
    "start_time": "2024-09-07T09:56:21.811Z"
   },
   {
    "duration": 44,
    "start_time": "2024-09-16T12:19:49.916Z"
   },
   {
    "duration": 1241,
    "start_time": "2024-09-16T12:19:54.734Z"
   },
   {
    "duration": 3,
    "start_time": "2024-09-16T12:19:55.977Z"
   },
   {
    "duration": 40,
    "start_time": "2024-09-16T12:19:55.981Z"
   },
   {
    "duration": 1057,
    "start_time": "2024-09-16T12:19:59.701Z"
   },
   {
    "duration": 2,
    "start_time": "2024-09-16T12:20:00.760Z"
   },
   {
    "duration": 111,
    "start_time": "2024-09-16T12:20:00.763Z"
   },
   {
    "duration": 997,
    "start_time": "2024-09-16T12:20:00.875Z"
   },
   {
    "duration": 839,
    "start_time": "2024-09-16T12:20:01.874Z"
   },
   {
    "duration": 73,
    "start_time": "2024-09-16T12:20:02.714Z"
   },
   {
    "duration": 76,
    "start_time": "2024-09-16T12:28:44.653Z"
   },
   {
    "duration": 9,
    "start_time": "2024-09-16T12:29:04.633Z"
   },
   {
    "duration": 8,
    "start_time": "2024-09-16T12:29:10.730Z"
   },
   {
    "duration": 89,
    "start_time": "2024-09-16T12:29:21.574Z"
   },
   {
    "duration": 35,
    "start_time": "2024-09-16T12:29:42.508Z"
   },
   {
    "duration": 231,
    "start_time": "2024-09-16T12:29:53.827Z"
   },
   {
    "duration": 8,
    "start_time": "2024-09-16T12:30:41.002Z"
   },
   {
    "duration": 199,
    "start_time": "2024-09-16T12:30:49.697Z"
   },
   {
    "duration": 4,
    "start_time": "2024-09-16T12:31:25.769Z"
   },
   {
    "duration": 199,
    "start_time": "2024-09-16T12:31:29.903Z"
   },
   {
    "duration": 68,
    "start_time": "2024-09-16T12:31:50.715Z"
   },
   {
    "duration": 23,
    "start_time": "2024-09-16T12:32:23.249Z"
   },
   {
    "duration": 1063,
    "start_time": "2024-09-16T15:41:15.584Z"
   },
   {
    "duration": 2,
    "start_time": "2024-09-16T15:41:16.648Z"
   },
   {
    "duration": 11,
    "start_time": "2024-09-16T15:41:16.652Z"
   },
   {
    "duration": 833,
    "start_time": "2024-09-16T15:41:16.664Z"
   },
   {
    "duration": 806,
    "start_time": "2024-09-16T15:41:17.499Z"
   },
   {
    "duration": 69,
    "start_time": "2024-09-16T15:41:18.307Z"
   },
   {
    "duration": 8,
    "start_time": "2024-09-16T15:41:18.378Z"
   },
   {
    "duration": 81,
    "start_time": "2024-09-16T15:41:18.387Z"
   },
   {
    "duration": 6,
    "start_time": "2024-09-16T15:41:18.470Z"
   },
   {
    "duration": 48,
    "start_time": "2024-09-16T15:41:18.477Z"
   },
   {
    "duration": 3,
    "start_time": "2024-09-16T15:41:18.527Z"
   },
   {
    "duration": 116,
    "start_time": "2024-09-16T15:41:18.531Z"
   },
   {
    "duration": 4,
    "start_time": "2024-09-16T15:41:31.960Z"
   },
   {
    "duration": 3,
    "start_time": "2024-09-16T15:41:37.081Z"
   },
   {
    "duration": 662,
    "start_time": "2024-09-16T15:41:38.074Z"
   },
   {
    "duration": 12,
    "start_time": "2024-09-16T15:41:44.784Z"
   },
   {
    "duration": 3,
    "start_time": "2024-09-16T15:58:05.515Z"
   },
   {
    "duration": 41,
    "start_time": "2024-09-16T15:58:06.905Z"
   },
   {
    "duration": 18,
    "start_time": "2024-09-16T15:58:07.298Z"
   },
   {
    "duration": 3,
    "start_time": "2024-09-16T16:01:51.884Z"
   },
   {
    "duration": 1123060,
    "start_time": "2024-09-16T16:01:53.475Z"
   },
   {
    "duration": 0,
    "start_time": "2024-09-16T16:20:36.536Z"
   },
   {
    "duration": 0,
    "start_time": "2024-09-16T16:20:36.537Z"
   },
   {
    "duration": 3,
    "start_time": "2024-09-16T16:20:57.795Z"
   },
   {
    "duration": 10,
    "start_time": "2024-09-16T16:21:04.317Z"
   },
   {
    "duration": 6,
    "start_time": "2024-09-16T17:06:38.286Z"
   },
   {
    "duration": 19,
    "start_time": "2024-09-16T17:06:39.001Z"
   },
   {
    "duration": 3,
    "start_time": "2024-09-16T17:06:54.721Z"
   },
   {
    "duration": 14,
    "start_time": "2024-09-16T17:06:55.281Z"
   },
   {
    "duration": 4,
    "start_time": "2024-09-16T17:07:16.867Z"
   },
   {
    "duration": 331,
    "start_time": "2024-09-16T17:07:17.367Z"
   },
   {
    "duration": 3,
    "start_time": "2024-09-16T17:09:12.332Z"
   },
   {
    "duration": 806,
    "start_time": "2024-09-16T17:11:07.160Z"
   },
   {
    "duration": 4,
    "start_time": "2024-09-16T17:11:22.981Z"
   },
   {
    "duration": 48,
    "start_time": "2024-09-16T17:11:25.196Z"
   },
   {
    "duration": 3,
    "start_time": "2024-09-16T17:11:38.765Z"
   },
   {
    "duration": 11,
    "start_time": "2024-09-16T17:11:39.275Z"
   },
   {
    "duration": 4,
    "start_time": "2024-09-16T17:11:59.892Z"
   },
   {
    "duration": 1188,
    "start_time": "2024-09-16T17:12:00.447Z"
   },
   {
    "duration": 1288,
    "start_time": "2024-09-16T17:12:13.109Z"
   },
   {
    "duration": 3,
    "start_time": "2024-09-16T17:12:18.078Z"
   },
   {
    "duration": 11,
    "start_time": "2024-09-16T17:12:19.875Z"
   },
   {
    "duration": 4,
    "start_time": "2024-09-16T17:13:16.853Z"
   },
   {
    "duration": 25516,
    "start_time": "2024-09-16T17:13:17.243Z"
   },
   {
    "duration": 2,
    "start_time": "2024-09-16T17:13:58.211Z"
   },
   {
    "duration": 272,
    "start_time": "2024-09-16T17:14:12.206Z"
   },
   {
    "duration": 3,
    "start_time": "2024-09-16T17:15:30.858Z"
   },
   {
    "duration": 3,
    "start_time": "2024-09-16T17:15:31.489Z"
   },
   {
    "duration": 653,
    "start_time": "2024-09-16T17:15:32.271Z"
   },
   {
    "duration": 10,
    "start_time": "2024-09-16T17:15:42.896Z"
   },
   {
    "duration": 29,
    "start_time": "2024-09-16T17:16:18.797Z"
   },
   {
    "duration": 3,
    "start_time": "2024-09-16T17:16:19.331Z"
   },
   {
    "duration": 687,
    "start_time": "2024-09-16T17:16:20.051Z"
   },
   {
    "duration": 7,
    "start_time": "2024-09-16T17:16:24.471Z"
   },
   {
    "duration": 15,
    "start_time": "2024-09-16T17:18:33.802Z"
   },
   {
    "duration": 8,
    "start_time": "2024-09-16T17:18:35.817Z"
   },
   {
    "duration": 2,
    "start_time": "2024-09-16T17:18:40.758Z"
   },
   {
    "duration": 10,
    "start_time": "2024-09-16T17:18:41.033Z"
   },
   {
    "duration": 1126,
    "start_time": "2024-09-16T17:19:57.766Z"
   },
   {
    "duration": 295,
    "start_time": "2024-09-16T17:20:05.855Z"
   },
   {
    "duration": 1031,
    "start_time": "2024-09-16T17:20:23.039Z"
   },
   {
    "duration": 2,
    "start_time": "2024-09-16T17:20:24.072Z"
   },
   {
    "duration": 104,
    "start_time": "2024-09-16T17:20:24.075Z"
   },
   {
    "duration": 897,
    "start_time": "2024-09-16T17:20:24.180Z"
   },
   {
    "duration": 840,
    "start_time": "2024-09-16T17:20:25.079Z"
   },
   {
    "duration": 68,
    "start_time": "2024-09-16T17:20:25.921Z"
   },
   {
    "duration": 29,
    "start_time": "2024-09-16T17:20:25.990Z"
   },
   {
    "duration": 84,
    "start_time": "2024-09-16T17:20:26.020Z"
   },
   {
    "duration": 48,
    "start_time": "2024-09-16T17:20:26.105Z"
   },
   {
    "duration": 33,
    "start_time": "2024-09-16T17:20:26.154Z"
   },
   {
    "duration": 692,
    "start_time": "2024-09-16T17:20:26.188Z"
   },
   {
    "duration": 3,
    "start_time": "2024-09-16T17:20:26.881Z"
   },
   {
    "duration": 5,
    "start_time": "2024-09-16T17:20:26.885Z"
   },
   {
    "duration": 705,
    "start_time": "2024-09-16T17:20:26.891Z"
   },
   {
    "duration": 11,
    "start_time": "2024-09-16T17:20:27.597Z"
   },
   {
    "duration": 12,
    "start_time": "2024-09-16T17:20:27.617Z"
   },
   {
    "duration": 11,
    "start_time": "2024-09-16T17:21:05.000Z"
   },
   {
    "duration": 469,
    "start_time": "2024-09-16T17:28:30.353Z"
   },
   {
    "duration": 13,
    "start_time": "2024-09-16T17:28:31.303Z"
   },
   {
    "duration": 1057,
    "start_time": "2024-09-16T17:28:45.200Z"
   },
   {
    "duration": 2,
    "start_time": "2024-09-16T17:28:46.259Z"
   },
   {
    "duration": 11,
    "start_time": "2024-09-16T17:28:46.263Z"
   },
   {
    "duration": 857,
    "start_time": "2024-09-16T17:28:46.276Z"
   },
   {
    "duration": 893,
    "start_time": "2024-09-16T17:28:47.135Z"
   },
   {
    "duration": 68,
    "start_time": "2024-09-16T17:28:48.029Z"
   },
   {
    "duration": 14,
    "start_time": "2024-09-16T17:28:48.107Z"
   },
   {
    "duration": 102,
    "start_time": "2024-09-16T17:28:48.122Z"
   },
   {
    "duration": 17,
    "start_time": "2024-09-16T17:28:48.225Z"
   },
   {
    "duration": 57,
    "start_time": "2024-09-16T17:28:48.244Z"
   },
   {
    "duration": 681,
    "start_time": "2024-09-16T17:28:48.303Z"
   },
   {
    "duration": 4,
    "start_time": "2024-09-16T17:28:48.985Z"
   },
   {
    "duration": 14,
    "start_time": "2024-09-16T17:28:48.990Z"
   },
   {
    "duration": 666,
    "start_time": "2024-09-16T17:28:49.006Z"
   },
   {
    "duration": 8,
    "start_time": "2024-09-16T17:28:49.674Z"
   },
   {
    "duration": 17,
    "start_time": "2024-09-16T17:28:49.683Z"
   },
   {
    "duration": 1016,
    "start_time": "2024-09-16T17:32:53.781Z"
   },
   {
    "duration": 3,
    "start_time": "2024-09-16T17:32:54.798Z"
   },
   {
    "duration": 15,
    "start_time": "2024-09-16T17:32:54.802Z"
   },
   {
    "duration": 857,
    "start_time": "2024-09-16T17:32:54.819Z"
   },
   {
    "duration": 843,
    "start_time": "2024-09-16T17:32:55.678Z"
   },
   {
    "duration": 67,
    "start_time": "2024-09-16T17:32:56.522Z"
   },
   {
    "duration": 8,
    "start_time": "2024-09-16T17:32:56.590Z"
   },
   {
    "duration": 186,
    "start_time": "2024-09-16T17:32:56.599Z"
   },
   {
    "duration": 3,
    "start_time": "2024-09-16T17:32:56.786Z"
   },
   {
    "duration": 31,
    "start_time": "2024-09-16T17:32:56.790Z"
   },
   {
    "duration": 610,
    "start_time": "2024-09-16T17:32:56.823Z"
   },
   {
    "duration": 3,
    "start_time": "2024-09-16T17:32:57.434Z"
   },
   {
    "duration": 20,
    "start_time": "2024-09-16T17:32:57.439Z"
   },
   {
    "duration": 679,
    "start_time": "2024-09-16T17:32:57.461Z"
   },
   {
    "duration": 8,
    "start_time": "2024-09-16T17:32:58.142Z"
   },
   {
    "duration": 56,
    "start_time": "2024-09-16T17:32:58.151Z"
   },
   {
    "duration": 3,
    "start_time": "2024-09-16T17:33:07.075Z"
   },
   {
    "duration": 6,
    "start_time": "2024-09-16T17:33:53.660Z"
   },
   {
    "duration": 7,
    "start_time": "2024-09-16T17:34:01.385Z"
   },
   {
    "duration": 7,
    "start_time": "2024-09-16T17:34:07.618Z"
   },
   {
    "duration": 1014,
    "start_time": "2024-09-16T17:34:14.540Z"
   },
   {
    "duration": 2,
    "start_time": "2024-09-16T17:34:15.556Z"
   },
   {
    "duration": 37,
    "start_time": "2024-09-16T17:34:15.559Z"
   },
   {
    "duration": 872,
    "start_time": "2024-09-16T17:34:15.598Z"
   },
   {
    "duration": 954,
    "start_time": "2024-09-16T17:34:16.472Z"
   },
   {
    "duration": 69,
    "start_time": "2024-09-16T17:34:17.427Z"
   },
   {
    "duration": 23,
    "start_time": "2024-09-16T17:34:17.497Z"
   },
   {
    "duration": 81,
    "start_time": "2024-09-16T17:34:17.521Z"
   },
   {
    "duration": 34,
    "start_time": "2024-09-16T17:34:17.603Z"
   },
   {
    "duration": 37,
    "start_time": "2024-09-16T17:34:17.639Z"
   },
   {
    "duration": 421,
    "start_time": "2024-09-16T17:34:17.677Z"
   },
   {
    "duration": 17,
    "start_time": "2024-09-16T17:34:18.100Z"
   },
   {
    "duration": 5,
    "start_time": "2024-09-16T17:34:18.119Z"
   },
   {
    "duration": 741,
    "start_time": "2024-09-16T17:34:18.125Z"
   },
   {
    "duration": 9,
    "start_time": "2024-09-16T17:34:18.868Z"
   },
   {
    "duration": 18,
    "start_time": "2024-09-16T17:34:18.878Z"
   },
   {
    "duration": 6,
    "start_time": "2024-09-16T17:36:41.087Z"
   },
   {
    "duration": 6,
    "start_time": "2024-09-16T17:36:44.329Z"
   },
   {
    "duration": 1006,
    "start_time": "2024-09-16T17:38:41.146Z"
   },
   {
    "duration": 2,
    "start_time": "2024-09-16T17:38:42.153Z"
   },
   {
    "duration": 56,
    "start_time": "2024-09-16T17:38:42.156Z"
   },
   {
    "duration": 852,
    "start_time": "2024-09-16T17:38:42.217Z"
   },
   {
    "duration": 870,
    "start_time": "2024-09-16T17:38:43.070Z"
   },
   {
    "duration": 79,
    "start_time": "2024-09-16T17:38:43.941Z"
   },
   {
    "duration": 8,
    "start_time": "2024-09-16T17:38:44.022Z"
   },
   {
    "duration": 88,
    "start_time": "2024-09-16T17:38:44.031Z"
   },
   {
    "duration": 22,
    "start_time": "2024-09-16T17:38:44.121Z"
   },
   {
    "duration": 28,
    "start_time": "2024-09-16T17:38:44.146Z"
   },
   {
    "duration": 403,
    "start_time": "2024-09-16T17:38:44.176Z"
   },
   {
    "duration": 3,
    "start_time": "2024-09-16T17:38:44.580Z"
   },
   {
    "duration": 152,
    "start_time": "2024-09-16T17:38:44.584Z"
   },
   {
    "duration": 697,
    "start_time": "2024-09-16T17:38:44.737Z"
   },
   {
    "duration": 9,
    "start_time": "2024-09-16T17:38:45.436Z"
   },
   {
    "duration": 27,
    "start_time": "2024-09-16T17:38:45.446Z"
   },
   {
    "duration": 1034,
    "start_time": "2024-09-16T17:39:19.817Z"
   },
   {
    "duration": 2,
    "start_time": "2024-09-16T17:39:20.853Z"
   },
   {
    "duration": 34,
    "start_time": "2024-09-16T17:39:20.856Z"
   },
   {
    "duration": 887,
    "start_time": "2024-09-16T17:39:20.892Z"
   },
   {
    "duration": 808,
    "start_time": "2024-09-16T17:39:21.781Z"
   },
   {
    "duration": 85,
    "start_time": "2024-09-16T17:39:22.591Z"
   },
   {
    "duration": 53,
    "start_time": "2024-09-16T17:39:22.677Z"
   },
   {
    "duration": 99,
    "start_time": "2024-09-16T17:39:22.731Z"
   },
   {
    "duration": 11,
    "start_time": "2024-09-16T17:39:22.831Z"
   },
   {
    "duration": 32,
    "start_time": "2024-09-16T17:39:22.843Z"
   },
   {
    "duration": 481,
    "start_time": "2024-09-16T17:39:22.876Z"
   },
   {
    "duration": 3,
    "start_time": "2024-09-16T17:39:23.358Z"
   },
   {
    "duration": 127,
    "start_time": "2024-09-16T17:39:23.363Z"
   },
   {
    "duration": 0,
    "start_time": "2024-09-16T17:39:23.492Z"
   },
   {
    "duration": 66238,
    "start_time": "2024-09-16T17:39:28.543Z"
   },
   {
    "duration": 22,
    "start_time": "2024-09-16T17:40:34.784Z"
   },
   {
    "duration": 7,
    "start_time": "2024-09-16T17:41:32.340Z"
   },
   {
    "duration": 1356,
    "start_time": "2024-09-17T12:24:35.670Z"
   },
   {
    "duration": 2,
    "start_time": "2024-09-17T12:24:37.028Z"
   },
   {
    "duration": 8,
    "start_time": "2024-09-17T12:24:37.031Z"
   },
   {
    "duration": 761,
    "start_time": "2024-09-17T12:24:37.041Z"
   },
   {
    "duration": 1053,
    "start_time": "2024-09-17T12:24:37.803Z"
   },
   {
    "duration": 73,
    "start_time": "2024-09-17T12:24:38.857Z"
   },
   {
    "duration": 8,
    "start_time": "2024-09-17T12:24:38.932Z"
   },
   {
    "duration": 89,
    "start_time": "2024-09-17T12:24:38.941Z"
   },
   {
    "duration": 9,
    "start_time": "2024-09-17T12:24:39.031Z"
   },
   {
    "duration": 30,
    "start_time": "2024-09-17T12:24:39.042Z"
   },
   {
    "duration": 3,
    "start_time": "2024-09-17T12:24:39.073Z"
   },
   {
    "duration": 1459,
    "start_time": "2024-09-17T13:50:01.565Z"
   },
   {
    "duration": 2,
    "start_time": "2024-09-17T13:50:03.026Z"
   },
   {
    "duration": 72,
    "start_time": "2024-09-17T13:50:03.029Z"
   },
   {
    "duration": 802,
    "start_time": "2024-09-17T13:50:03.102Z"
   },
   {
    "duration": 851,
    "start_time": "2024-09-17T13:50:03.906Z"
   },
   {
    "duration": 71,
    "start_time": "2024-09-17T13:50:04.759Z"
   },
   {
    "duration": 63,
    "start_time": "2024-09-17T13:50:04.832Z"
   },
   {
    "duration": 79,
    "start_time": "2024-09-17T13:50:04.896Z"
   },
   {
    "duration": 60,
    "start_time": "2024-09-17T13:50:04.976Z"
   },
   {
    "duration": 146,
    "start_time": "2024-09-17T13:50:05.037Z"
   },
   {
    "duration": 29,
    "start_time": "2024-09-17T13:50:05.185Z"
   },
   {
    "duration": 58584,
    "start_time": "2024-09-17T13:50:05.215Z"
   },
   {
    "duration": 10,
    "start_time": "2024-09-17T13:51:03.801Z"
   },
   {
    "duration": 111,
    "start_time": "2024-09-17T13:53:58.245Z"
   },
   {
    "duration": 219,
    "start_time": "2024-09-17T13:54:04.536Z"
   },
   {
    "duration": 8,
    "start_time": "2024-09-17T13:54:04.946Z"
   },
   {
    "duration": 42,
    "start_time": "2024-09-17T13:56:58.938Z"
   },
   {
    "duration": 1381,
    "start_time": "2024-09-17T13:57:03.522Z"
   },
   {
    "duration": 3,
    "start_time": "2024-09-17T13:57:04.904Z"
   },
   {
    "duration": 22,
    "start_time": "2024-09-17T13:57:04.908Z"
   },
   {
    "duration": 1075,
    "start_time": "2024-09-17T13:57:04.931Z"
   },
   {
    "duration": 844,
    "start_time": "2024-09-17T13:57:06.008Z"
   },
   {
    "duration": 76,
    "start_time": "2024-09-17T13:57:06.853Z"
   },
   {
    "duration": 10,
    "start_time": "2024-09-17T13:57:06.930Z"
   },
   {
    "duration": 83,
    "start_time": "2024-09-17T13:57:06.941Z"
   },
   {
    "duration": 22,
    "start_time": "2024-09-17T13:57:07.026Z"
   },
   {
    "duration": 52,
    "start_time": "2024-09-17T13:57:07.049Z"
   },
   {
    "duration": 39,
    "start_time": "2024-09-17T13:57:07.103Z"
   },
   {
    "duration": 59197,
    "start_time": "2024-09-17T13:57:07.143Z"
   },
   {
    "duration": 9,
    "start_time": "2024-09-17T13:58:06.342Z"
   },
   {
    "duration": 153,
    "start_time": "2024-09-17T13:58:06.354Z"
   },
   {
    "duration": 0,
    "start_time": "2024-09-17T13:58:06.509Z"
   },
   {
    "duration": 0,
    "start_time": "2024-09-17T13:58:06.510Z"
   },
   {
    "duration": 0,
    "start_time": "2024-09-17T13:58:06.511Z"
   },
   {
    "duration": 224,
    "start_time": "2024-09-17T13:58:17.181Z"
   },
   {
    "duration": 1420,
    "start_time": "2024-09-17T13:58:40.101Z"
   },
   {
    "duration": 3,
    "start_time": "2024-09-17T13:58:41.523Z"
   },
   {
    "duration": 27,
    "start_time": "2024-09-17T13:58:41.528Z"
   },
   {
    "duration": 1060,
    "start_time": "2024-09-17T13:58:41.557Z"
   },
   {
    "duration": 885,
    "start_time": "2024-09-17T13:58:42.618Z"
   },
   {
    "duration": 70,
    "start_time": "2024-09-17T13:58:43.506Z"
   },
   {
    "duration": 9,
    "start_time": "2024-09-17T13:58:43.578Z"
   },
   {
    "duration": 82,
    "start_time": "2024-09-17T13:58:43.589Z"
   },
   {
    "duration": 25,
    "start_time": "2024-09-17T13:58:43.673Z"
   },
   {
    "duration": 54,
    "start_time": "2024-09-17T13:58:43.701Z"
   },
   {
    "duration": 3,
    "start_time": "2024-09-17T13:58:43.757Z"
   },
   {
    "duration": 59339,
    "start_time": "2024-09-17T13:58:43.762Z"
   },
   {
    "duration": 8,
    "start_time": "2024-09-17T13:59:43.103Z"
   },
   {
    "duration": 144,
    "start_time": "2024-09-17T13:59:43.113Z"
   },
   {
    "duration": 0,
    "start_time": "2024-09-17T13:59:43.259Z"
   },
   {
    "duration": 0,
    "start_time": "2024-09-17T13:59:43.260Z"
   },
   {
    "duration": 0,
    "start_time": "2024-09-17T13:59:43.261Z"
   },
   {
    "duration": 0,
    "start_time": "2024-09-17T13:59:43.263Z"
   },
   {
    "duration": 210,
    "start_time": "2024-09-17T13:59:49.839Z"
   },
   {
    "duration": 5,
    "start_time": "2024-09-17T13:59:51.755Z"
   },
   {
    "duration": 4,
    "start_time": "2024-09-17T14:00:36.126Z"
   },
   {
    "duration": 1221,
    "start_time": "2024-09-17T14:00:53.431Z"
   },
   {
    "duration": 4,
    "start_time": "2024-09-17T14:01:43.827Z"
   },
   {
    "duration": 6134,
    "start_time": "2024-09-17T14:02:14.602Z"
   },
   {
    "duration": 11908,
    "start_time": "2024-09-17T14:02:25.951Z"
   },
   {
    "duration": 10,
    "start_time": "2024-09-17T14:08:25.107Z"
   },
   {
    "duration": 2,
    "start_time": "2024-09-17T14:09:13.901Z"
   },
   {
    "duration": 4,
    "start_time": "2024-09-17T14:09:15.541Z"
   },
   {
    "duration": 5962,
    "start_time": "2024-09-17T14:09:16.391Z"
   },
   {
    "duration": 6146,
    "start_time": "2024-09-17T14:09:22.354Z"
   },
   {
    "duration": 1314,
    "start_time": "2024-09-17T14:10:12.250Z"
   },
   {
    "duration": 2,
    "start_time": "2024-09-17T14:10:13.566Z"
   },
   {
    "duration": 42,
    "start_time": "2024-09-17T14:10:13.569Z"
   },
   {
    "duration": 826,
    "start_time": "2024-09-17T14:10:13.612Z"
   },
   {
    "duration": 944,
    "start_time": "2024-09-17T14:10:14.440Z"
   },
   {
    "duration": 75,
    "start_time": "2024-09-17T14:10:15.386Z"
   },
   {
    "duration": 46,
    "start_time": "2024-09-17T14:10:15.462Z"
   },
   {
    "duration": 95,
    "start_time": "2024-09-17T14:10:15.509Z"
   },
   {
    "duration": 3,
    "start_time": "2024-09-17T14:10:15.605Z"
   },
   {
    "duration": 31,
    "start_time": "2024-09-17T14:10:15.609Z"
   },
   {
    "duration": 29,
    "start_time": "2024-09-17T14:10:15.641Z"
   },
   {
    "duration": 60213,
    "start_time": "2024-09-17T14:10:15.671Z"
   },
   {
    "duration": 7,
    "start_time": "2024-09-17T14:11:15.886Z"
   },
   {
    "duration": 11,
    "start_time": "2024-09-17T14:11:15.896Z"
   },
   {
    "duration": 9,
    "start_time": "2024-09-17T14:11:15.909Z"
   },
   {
    "duration": 6007,
    "start_time": "2024-09-17T14:11:15.920Z"
   },
   {
    "duration": 3,
    "start_time": "2024-09-17T16:26:41.591Z"
   },
   {
    "duration": 160,
    "start_time": "2024-09-17T16:30:59.248Z"
   },
   {
    "duration": 11,
    "start_time": "2024-09-17T16:31:05.397Z"
   },
   {
    "duration": 3,
    "start_time": "2024-09-17T16:34:47.491Z"
   },
   {
    "duration": 16,
    "start_time": "2024-09-17T16:34:49.091Z"
   },
   {
    "duration": 8,
    "start_time": "2024-09-17T16:34:49.742Z"
   },
   {
    "duration": 21,
    "start_time": "2024-09-17T16:35:07.012Z"
   },
   {
    "duration": 9,
    "start_time": "2024-09-17T16:36:14.201Z"
   },
   {
    "duration": 19,
    "start_time": "2024-09-17T16:36:14.538Z"
   },
   {
    "duration": 16,
    "start_time": "2024-09-17T16:40:54.610Z"
   },
   {
    "duration": 4,
    "start_time": "2024-09-17T16:41:15.573Z"
   },
   {
    "duration": 3,
    "start_time": "2024-09-17T16:41:31.988Z"
   },
   {
    "duration": 2870,
    "start_time": "2024-09-17T16:42:58.300Z"
   },
   {
    "duration": 2960,
    "start_time": "2024-09-17T16:43:29.158Z"
   },
   {
    "duration": 1356,
    "start_time": "2024-09-17T16:50:27.316Z"
   },
   {
    "duration": 2,
    "start_time": "2024-09-17T16:50:28.674Z"
   },
   {
    "duration": 38,
    "start_time": "2024-09-17T16:50:28.677Z"
   },
   {
    "duration": 744,
    "start_time": "2024-09-17T16:50:28.716Z"
   },
   {
    "duration": 883,
    "start_time": "2024-09-17T16:50:29.462Z"
   },
   {
    "duration": 74,
    "start_time": "2024-09-17T16:50:30.347Z"
   },
   {
    "duration": 22,
    "start_time": "2024-09-17T16:50:30.422Z"
   },
   {
    "duration": 175,
    "start_time": "2024-09-17T16:50:30.445Z"
   },
   {
    "duration": 10,
    "start_time": "2024-09-17T16:50:30.621Z"
   },
   {
    "duration": 145,
    "start_time": "2024-09-17T16:50:30.632Z"
   },
   {
    "duration": 23,
    "start_time": "2024-09-17T16:50:30.779Z"
   },
   {
    "duration": 58120,
    "start_time": "2024-09-17T16:50:30.803Z"
   },
   {
    "duration": 7,
    "start_time": "2024-09-17T16:51:28.924Z"
   },
   {
    "duration": 14,
    "start_time": "2024-09-17T16:51:28.933Z"
   },
   {
    "duration": 11,
    "start_time": "2024-09-17T16:51:28.948Z"
   },
   {
    "duration": 63,
    "start_time": "2024-09-17T16:51:28.960Z"
   },
   {
    "duration": 3,
    "start_time": "2024-09-17T16:51:29.025Z"
   },
   {
    "duration": 5,
    "start_time": "2024-09-17T16:51:29.029Z"
   },
   {
    "duration": 5,
    "start_time": "2024-09-17T16:51:29.035Z"
   },
   {
    "duration": 117,
    "start_time": "2024-09-17T16:51:29.041Z"
   },
   {
    "duration": 0,
    "start_time": "2024-09-17T16:51:29.160Z"
   },
   {
    "duration": 0,
    "start_time": "2024-09-17T16:51:29.161Z"
   },
   {
    "duration": 0,
    "start_time": "2024-09-17T16:51:29.162Z"
   },
   {
    "duration": 2,
    "start_time": "2024-09-17T16:52:34.538Z"
   },
   {
    "duration": 2913,
    "start_time": "2024-09-17T16:52:34.541Z"
   },
   {
    "duration": 11,
    "start_time": "2024-09-17T16:52:37.455Z"
   },
   {
    "duration": 0,
    "start_time": "2024-09-17T16:52:37.467Z"
   },
   {
    "duration": 0,
    "start_time": "2024-09-17T16:52:37.469Z"
   },
   {
    "duration": 2706,
    "start_time": "2024-09-17T16:55:14.616Z"
   },
   {
    "duration": 10,
    "start_time": "2024-09-17T16:55:19.752Z"
   },
   {
    "duration": 15,
    "start_time": "2024-09-17T16:55:21.040Z"
   },
   {
    "duration": 27454,
    "start_time": "2024-09-17T16:56:18.954Z"
   },
   {
    "duration": 2,
    "start_time": "2024-09-17T17:04:20.712Z"
   },
   {
    "duration": 12,
    "start_time": "2024-09-17T17:04:22.859Z"
   },
   {
    "duration": 8,
    "start_time": "2024-09-17T17:11:23.783Z"
   },
   {
    "duration": 20,
    "start_time": "2024-09-17T17:11:24.356Z"
   },
   {
    "duration": 3019,
    "start_time": "2024-09-17T17:11:38.412Z"
   },
   {
    "duration": 2797,
    "start_time": "2024-09-17T17:11:44.834Z"
   },
   {
    "duration": 31247,
    "start_time": "2024-09-17T17:12:12.668Z"
   },
   {
    "duration": 12,
    "start_time": "2024-09-17T17:12:44.006Z"
   },
   {
    "duration": 1343,
    "start_time": "2024-09-17T17:26:28.973Z"
   },
   {
    "duration": 2,
    "start_time": "2024-09-17T17:26:30.317Z"
   },
   {
    "duration": 11,
    "start_time": "2024-09-17T17:26:30.321Z"
   },
   {
    "duration": 762,
    "start_time": "2024-09-17T17:26:30.333Z"
   },
   {
    "duration": 878,
    "start_time": "2024-09-17T17:26:31.096Z"
   },
   {
    "duration": 75,
    "start_time": "2024-09-17T17:26:31.975Z"
   },
   {
    "duration": 8,
    "start_time": "2024-09-17T17:26:32.051Z"
   },
   {
    "duration": 96,
    "start_time": "2024-09-17T17:26:32.061Z"
   },
   {
    "duration": 37,
    "start_time": "2024-09-17T17:26:32.158Z"
   },
   {
    "duration": 42,
    "start_time": "2024-09-17T17:26:32.197Z"
   },
   {
    "duration": 27,
    "start_time": "2024-09-17T17:26:32.240Z"
   },
   {
    "duration": 59241,
    "start_time": "2024-09-17T17:26:32.268Z"
   },
   {
    "duration": 6,
    "start_time": "2024-09-17T17:27:31.511Z"
   },
   {
    "duration": 105,
    "start_time": "2024-09-17T17:27:31.518Z"
   },
   {
    "duration": 48,
    "start_time": "2024-09-17T17:27:31.625Z"
   },
   {
    "duration": 119,
    "start_time": "2024-09-17T17:27:31.674Z"
   },
   {
    "duration": 0,
    "start_time": "2024-09-17T17:27:31.794Z"
   },
   {
    "duration": 0,
    "start_time": "2024-09-17T17:27:31.795Z"
   },
   {
    "duration": 0,
    "start_time": "2024-09-17T17:27:31.796Z"
   },
   {
    "duration": 0,
    "start_time": "2024-09-17T17:27:31.797Z"
   },
   {
    "duration": 0,
    "start_time": "2024-09-17T17:27:31.807Z"
   },
   {
    "duration": 0,
    "start_time": "2024-09-17T17:27:31.807Z"
   },
   {
    "duration": 69,
    "start_time": "2024-09-17T17:29:51.064Z"
   },
   {
    "duration": 70,
    "start_time": "2024-09-17T17:30:04.428Z"
   },
   {
    "duration": 19,
    "start_time": "2024-09-17T18:17:16.783Z"
   },
   {
    "duration": 11,
    "start_time": "2024-09-17T18:18:55.299Z"
   },
   {
    "duration": 1421,
    "start_time": "2024-09-17T18:20:35.914Z"
   },
   {
    "duration": 2,
    "start_time": "2024-09-17T18:20:37.337Z"
   },
   {
    "duration": 88,
    "start_time": "2024-09-17T18:20:37.341Z"
   },
   {
    "duration": 754,
    "start_time": "2024-09-17T18:20:37.431Z"
   },
   {
    "duration": 863,
    "start_time": "2024-09-17T18:20:38.186Z"
   },
   {
    "duration": 88,
    "start_time": "2024-09-17T18:20:39.051Z"
   },
   {
    "duration": 9,
    "start_time": "2024-09-17T18:20:39.140Z"
   },
   {
    "duration": 90,
    "start_time": "2024-09-17T18:20:39.151Z"
   },
   {
    "duration": 57,
    "start_time": "2024-09-17T18:20:39.243Z"
   },
   {
    "duration": 44,
    "start_time": "2024-09-17T18:20:39.302Z"
   },
   {
    "duration": 4,
    "start_time": "2024-09-17T18:20:39.348Z"
   },
   {
    "duration": 72405,
    "start_time": "2024-09-17T18:20:39.354Z"
   },
   {
    "duration": 10,
    "start_time": "2024-09-17T18:21:51.761Z"
   },
   {
    "duration": 169,
    "start_time": "2024-09-17T18:21:51.772Z"
   },
   {
    "duration": 116,
    "start_time": "2024-09-17T18:21:51.942Z"
   },
   {
    "duration": 107,
    "start_time": "2024-09-17T18:21:52.060Z"
   },
   {
    "duration": 87,
    "start_time": "2024-09-17T18:21:52.169Z"
   },
   {
    "duration": 4,
    "start_time": "2024-09-17T18:21:52.257Z"
   },
   {
    "duration": 3247,
    "start_time": "2024-09-17T18:21:52.263Z"
   },
   {
    "duration": 1362,
    "start_time": "2024-09-17T18:21:55.511Z"
   },
   {
    "duration": 1403,
    "start_time": "2024-09-17T18:21:56.875Z"
   },
   {
    "duration": 6,
    "start_time": "2024-09-17T18:21:58.279Z"
   },
   {
    "duration": 29,
    "start_time": "2024-09-17T18:21:58.286Z"
   },
   {
    "duration": 7,
    "start_time": "2024-09-17T18:21:58.317Z"
   },
   {
    "duration": 158,
    "start_time": "2024-09-17T18:21:58.326Z"
   },
   {
    "duration": 0,
    "start_time": "2024-09-17T18:21:58.485Z"
   },
   {
    "duration": 91,
    "start_time": "2024-09-17T18:22:22.189Z"
   },
   {
    "duration": 2,
    "start_time": "2024-09-17T18:23:00.818Z"
   },
   {
    "duration": 9244,
    "start_time": "2024-09-17T18:23:10.286Z"
   },
   {
    "duration": 0,
    "start_time": "2024-09-17T18:23:19.531Z"
   },
   {
    "duration": 30128,
    "start_time": "2024-09-17T18:23:22.288Z"
   },
   {
    "duration": 0,
    "start_time": "2024-09-17T18:23:52.421Z"
   },
   {
    "duration": 5,
    "start_time": "2024-09-17T18:24:08.561Z"
   },
   {
    "duration": 29597,
    "start_time": "2024-09-17T18:24:10.516Z"
   },
   {
    "duration": 178003,
    "start_time": "2024-09-17T18:24:40.115Z"
   },
   {
    "duration": 4,
    "start_time": "2024-09-17T18:29:08.922Z"
   },
   {
    "duration": 4,
    "start_time": "2024-09-17T18:30:34.260Z"
   },
   {
    "duration": 31977,
    "start_time": "2024-09-17T18:30:40.039Z"
   },
   {
    "duration": 3,
    "start_time": "2024-09-17T18:34:11.663Z"
   },
   {
    "duration": 1995,
    "start_time": "2024-09-17T18:36:20.057Z"
   },
   {
    "duration": 55,
    "start_time": "2024-09-17T18:36:22.053Z"
   },
   {
    "duration": 125,
    "start_time": "2024-09-17T18:36:22.109Z"
   },
   {
    "duration": 804,
    "start_time": "2024-09-17T18:36:22.236Z"
   },
   {
    "duration": 852,
    "start_time": "2024-09-17T18:36:23.042Z"
   },
   {
    "duration": 74,
    "start_time": "2024-09-17T18:36:23.896Z"
   },
   {
    "duration": 8,
    "start_time": "2024-09-17T18:36:23.972Z"
   },
   {
    "duration": 90,
    "start_time": "2024-09-17T18:36:23.981Z"
   },
   {
    "duration": 4,
    "start_time": "2024-09-17T18:36:24.072Z"
   },
   {
    "duration": 29,
    "start_time": "2024-09-17T18:36:24.078Z"
   },
   {
    "duration": 9,
    "start_time": "2024-09-17T18:36:24.108Z"
   },
   {
    "duration": 70803,
    "start_time": "2024-09-17T18:36:24.118Z"
   },
   {
    "duration": 7,
    "start_time": "2024-09-17T18:37:34.923Z"
   },
   {
    "duration": 57,
    "start_time": "2024-09-17T18:37:34.932Z"
   },
   {
    "duration": 133,
    "start_time": "2024-09-17T18:37:34.991Z"
   },
   {
    "duration": 72,
    "start_time": "2024-09-17T18:37:35.126Z"
   },
   {
    "duration": 74,
    "start_time": "2024-09-17T18:37:35.200Z"
   },
   {
    "duration": 81,
    "start_time": "2024-09-17T18:37:35.275Z"
   },
   {
    "duration": 112,
    "start_time": "2024-09-17T18:37:35.357Z"
   },
   {
    "duration": 3127,
    "start_time": "2024-09-17T18:37:35.471Z"
   },
   {
    "duration": 1433,
    "start_time": "2024-09-17T18:37:38.599Z"
   },
   {
    "duration": 1467,
    "start_time": "2024-09-17T18:37:40.034Z"
   },
   {
    "duration": 6,
    "start_time": "2024-09-17T18:37:41.503Z"
   },
   {
    "duration": 27,
    "start_time": "2024-09-17T18:37:41.510Z"
   },
   {
    "duration": 9,
    "start_time": "2024-09-17T18:37:41.538Z"
   },
   {
    "duration": 11,
    "start_time": "2024-09-17T18:37:41.548Z"
   },
   {
    "duration": 29653,
    "start_time": "2024-09-17T18:37:41.561Z"
   },
   {
    "duration": 180476,
    "start_time": "2024-09-17T18:38:11.218Z"
   },
   {
    "duration": 71,
    "start_time": "2024-09-18T08:23:55.993Z"
   },
   {
    "duration": 44,
    "start_time": "2024-09-18T08:25:08.569Z"
   },
   {
    "duration": 55,
    "start_time": "2024-09-18T08:36:50.876Z"
   },
   {
    "duration": 46,
    "start_time": "2024-09-18T08:37:07.563Z"
   },
   {
    "duration": 9,
    "start_time": "2024-09-18T11:09:03.076Z"
   },
   {
    "duration": 1846,
    "start_time": "2024-09-18T11:09:09.356Z"
   },
   {
    "duration": 2,
    "start_time": "2024-09-18T11:09:11.204Z"
   },
   {
    "duration": 18,
    "start_time": "2024-09-18T11:09:11.208Z"
   },
   {
    "duration": 3748,
    "start_time": "2024-09-18T11:09:11.228Z"
   },
   {
    "duration": 828,
    "start_time": "2024-09-18T11:09:14.977Z"
   },
   {
    "duration": 88,
    "start_time": "2024-09-18T11:09:15.807Z"
   },
   {
    "duration": 12,
    "start_time": "2024-09-18T11:09:15.896Z"
   },
   {
    "duration": 92,
    "start_time": "2024-09-18T11:09:15.909Z"
   },
   {
    "duration": 16,
    "start_time": "2024-09-18T11:09:16.002Z"
   },
   {
    "duration": 33,
    "start_time": "2024-09-18T11:09:16.020Z"
   },
   {
    "duration": 3,
    "start_time": "2024-09-18T11:09:16.054Z"
   },
   {
    "duration": 69346,
    "start_time": "2024-09-18T11:09:16.059Z"
   },
   {
    "duration": 9,
    "start_time": "2024-09-18T11:10:25.407Z"
   },
   {
    "duration": 69,
    "start_time": "2024-09-18T11:10:25.417Z"
   },
   {
    "duration": 42,
    "start_time": "2024-09-18T11:10:25.487Z"
   },
   {
    "duration": 391,
    "start_time": "2024-09-18T11:10:25.530Z"
   },
   {
    "duration": 0,
    "start_time": "2024-09-18T11:10:25.923Z"
   },
   {
    "duration": 0,
    "start_time": "2024-09-18T11:10:25.924Z"
   },
   {
    "duration": 0,
    "start_time": "2024-09-18T11:10:25.925Z"
   },
   {
    "duration": 0,
    "start_time": "2024-09-18T11:10:25.927Z"
   },
   {
    "duration": 0,
    "start_time": "2024-09-18T11:10:25.928Z"
   },
   {
    "duration": 0,
    "start_time": "2024-09-18T11:10:25.929Z"
   },
   {
    "duration": 0,
    "start_time": "2024-09-18T11:10:25.930Z"
   },
   {
    "duration": 0,
    "start_time": "2024-09-18T11:10:25.931Z"
   },
   {
    "duration": 0,
    "start_time": "2024-09-18T11:10:25.952Z"
   },
   {
    "duration": 0,
    "start_time": "2024-09-18T11:10:25.953Z"
   },
   {
    "duration": 0,
    "start_time": "2024-09-18T11:10:25.954Z"
   },
   {
    "duration": 0,
    "start_time": "2024-09-18T11:10:25.956Z"
   },
   {
    "duration": 0,
    "start_time": "2024-09-18T11:10:25.957Z"
   },
   {
    "duration": 240,
    "start_time": "2024-09-18T11:12:20.947Z"
   },
   {
    "duration": 229,
    "start_time": "2024-09-18T11:15:41.077Z"
   },
   {
    "duration": 51,
    "start_time": "2024-09-18T11:20:38.689Z"
   },
   {
    "duration": 11,
    "start_time": "2024-09-18T11:20:49.331Z"
   },
   {
    "duration": 5,
    "start_time": "2024-09-18T11:21:01.505Z"
   },
   {
    "duration": 221,
    "start_time": "2024-09-18T11:22:06.971Z"
   },
   {
    "duration": 51,
    "start_time": "2024-09-18T11:22:09.590Z"
   },
   {
    "duration": 4,
    "start_time": "2024-09-18T11:22:22.306Z"
   },
   {
    "duration": 5,
    "start_time": "2024-09-18T11:22:32.056Z"
   },
   {
    "duration": 4,
    "start_time": "2024-09-18T11:23:17.158Z"
   },
   {
    "duration": 313,
    "start_time": "2024-09-18T11:24:23.195Z"
   },
   {
    "duration": 4,
    "start_time": "2024-09-18T11:25:31.550Z"
   },
   {
    "duration": 54,
    "start_time": "2024-09-18T11:29:19.657Z"
   },
   {
    "duration": 162,
    "start_time": "2024-09-18T11:44:20.441Z"
   },
   {
    "duration": 5,
    "start_time": "2024-09-18T11:44:21.728Z"
   },
   {
    "duration": 17,
    "start_time": "2024-09-18T11:44:24.528Z"
   },
   {
    "duration": 5,
    "start_time": "2024-09-18T11:44:46.117Z"
   },
   {
    "duration": 16,
    "start_time": "2024-09-18T11:44:49.674Z"
   },
   {
    "duration": 4,
    "start_time": "2024-09-18T11:46:39.377Z"
   },
   {
    "duration": 504547,
    "start_time": "2024-09-18T11:46:40.615Z"
   },
   {
    "duration": 0,
    "start_time": "2024-09-18T11:55:05.253Z"
   },
   {
    "duration": 4,
    "start_time": "2024-09-18T12:01:08.303Z"
   },
   {
    "duration": 1572,
    "start_time": "2024-09-18T12:01:35.581Z"
   },
   {
    "duration": 2,
    "start_time": "2024-09-18T12:01:37.156Z"
   },
   {
    "duration": 134,
    "start_time": "2024-09-18T12:01:37.159Z"
   },
   {
    "duration": 894,
    "start_time": "2024-09-18T12:01:37.295Z"
   },
   {
    "duration": 1169,
    "start_time": "2024-09-18T12:01:38.190Z"
   },
   {
    "duration": 137,
    "start_time": "2024-09-18T12:01:39.361Z"
   },
   {
    "duration": 12,
    "start_time": "2024-09-18T12:01:39.553Z"
   },
   {
    "duration": 124,
    "start_time": "2024-09-18T12:01:39.567Z"
   },
   {
    "duration": 6,
    "start_time": "2024-09-18T12:01:39.693Z"
   },
   {
    "duration": 30,
    "start_time": "2024-09-18T12:01:39.751Z"
   },
   {
    "duration": 3,
    "start_time": "2024-09-18T12:01:39.783Z"
   },
   {
    "duration": 2282,
    "start_time": "2024-09-18T12:02:04.081Z"
   },
   {
    "duration": 3,
    "start_time": "2024-09-18T12:02:06.364Z"
   },
   {
    "duration": 90,
    "start_time": "2024-09-18T12:02:06.368Z"
   },
   {
    "duration": 893,
    "start_time": "2024-09-18T12:02:06.460Z"
   },
   {
    "duration": 824,
    "start_time": "2024-09-18T12:02:07.354Z"
   },
   {
    "duration": 98,
    "start_time": "2024-09-18T12:02:08.180Z"
   },
   {
    "duration": 13,
    "start_time": "2024-09-18T12:02:08.280Z"
   },
   {
    "duration": 153,
    "start_time": "2024-09-18T12:02:08.295Z"
   },
   {
    "duration": 8,
    "start_time": "2024-09-18T12:02:08.449Z"
   },
   {
    "duration": 30,
    "start_time": "2024-09-18T12:02:08.460Z"
   },
   {
    "duration": 4,
    "start_time": "2024-09-18T12:02:08.491Z"
   },
   {
    "duration": 70456,
    "start_time": "2024-09-18T12:02:08.496Z"
   },
   {
    "duration": 9,
    "start_time": "2024-09-18T12:03:18.953Z"
   },
   {
    "duration": 55,
    "start_time": "2024-09-18T12:03:18.964Z"
   },
   {
    "duration": 85,
    "start_time": "2024-09-18T12:03:19.021Z"
   },
   {
    "duration": 42,
    "start_time": "2024-09-18T12:03:19.107Z"
   },
   {
    "duration": 4,
    "start_time": "2024-09-18T12:03:19.151Z"
   },
   {
    "duration": 319,
    "start_time": "2024-09-18T12:03:19.157Z"
   },
   {
    "duration": 5,
    "start_time": "2024-09-18T12:03:19.478Z"
   },
   {
    "duration": 3752,
    "start_time": "2024-09-18T12:03:19.485Z"
   },
   {
    "duration": 1715,
    "start_time": "2024-09-18T12:03:23.238Z"
   },
   {
    "duration": 1671,
    "start_time": "2024-09-18T12:03:24.954Z"
   },
   {
    "duration": 5,
    "start_time": "2024-09-18T12:03:26.627Z"
   },
   {
    "duration": 5,
    "start_time": "2024-09-18T12:03:26.633Z"
   },
   {
    "duration": 150,
    "start_time": "2024-09-18T12:03:26.639Z"
   },
   {
    "duration": 4,
    "start_time": "2024-09-18T12:03:26.790Z"
   },
   {
    "duration": 6,
    "start_time": "2024-09-18T12:03:26.796Z"
   },
   {
    "duration": 507756,
    "start_time": "2024-09-18T12:03:26.804Z"
   },
   {
    "duration": 0,
    "start_time": "2024-09-18T12:11:54.562Z"
   },
   {
    "duration": 4,
    "start_time": "2024-09-18T12:17:52.028Z"
   },
   {
    "duration": 1585,
    "start_time": "2024-09-18T12:19:21.308Z"
   },
   {
    "duration": 3,
    "start_time": "2024-09-18T12:19:22.895Z"
   },
   {
    "duration": 91,
    "start_time": "2024-09-18T12:19:22.900Z"
   },
   {
    "duration": 887,
    "start_time": "2024-09-18T12:19:22.993Z"
   },
   {
    "duration": 870,
    "start_time": "2024-09-18T12:19:23.882Z"
   },
   {
    "duration": 83,
    "start_time": "2024-09-18T12:19:24.753Z"
   },
   {
    "duration": 21,
    "start_time": "2024-09-18T12:19:24.838Z"
   },
   {
    "duration": 79,
    "start_time": "2024-09-18T12:19:24.860Z"
   },
   {
    "duration": 13,
    "start_time": "2024-09-18T12:19:24.940Z"
   },
   {
    "duration": 45,
    "start_time": "2024-09-18T12:19:24.954Z"
   },
   {
    "duration": 3,
    "start_time": "2024-09-18T12:19:25.001Z"
   },
   {
    "duration": 68026,
    "start_time": "2024-09-18T12:19:25.006Z"
   },
   {
    "duration": 19,
    "start_time": "2024-09-18T12:20:33.034Z"
   },
   {
    "duration": 59,
    "start_time": "2024-09-18T12:20:33.056Z"
   },
   {
    "duration": 38,
    "start_time": "2024-09-18T12:20:33.117Z"
   },
   {
    "duration": 44,
    "start_time": "2024-09-18T12:20:33.156Z"
   },
   {
    "duration": 6,
    "start_time": "2024-09-18T12:20:33.201Z"
   },
   {
    "duration": 266,
    "start_time": "2024-09-18T12:20:33.208Z"
   },
   {
    "duration": 4,
    "start_time": "2024-09-18T12:20:33.475Z"
   },
   {
    "duration": 5,
    "start_time": "2024-09-18T12:20:33.480Z"
   },
   {
    "duration": 22,
    "start_time": "2024-09-18T12:20:33.486Z"
   },
   {
    "duration": 125,
    "start_time": "2024-09-18T12:20:33.509Z"
   },
   {
    "duration": 4,
    "start_time": "2024-09-18T12:20:33.635Z"
   },
   {
    "duration": 383,
    "start_time": "2024-09-18T12:20:33.641Z"
   },
   {
    "duration": 0,
    "start_time": "2024-09-18T12:20:34.026Z"
   },
   {
    "duration": 2144,
    "start_time": "2024-09-18T12:23:36.651Z"
   },
   {
    "duration": 3,
    "start_time": "2024-09-18T12:23:38.797Z"
   },
   {
    "duration": 94,
    "start_time": "2024-09-18T12:23:38.802Z"
   },
   {
    "duration": 902,
    "start_time": "2024-09-18T12:23:38.898Z"
   },
   {
    "duration": 824,
    "start_time": "2024-09-18T12:23:39.803Z"
   },
   {
    "duration": 87,
    "start_time": "2024-09-18T12:23:40.628Z"
   },
   {
    "duration": 12,
    "start_time": "2024-09-18T12:23:40.717Z"
   },
   {
    "duration": 92,
    "start_time": "2024-09-18T12:23:40.730Z"
   },
   {
    "duration": 26,
    "start_time": "2024-09-18T12:23:40.824Z"
   },
   {
    "duration": 66,
    "start_time": "2024-09-18T12:23:40.851Z"
   },
   {
    "duration": 10,
    "start_time": "2024-09-18T12:23:40.919Z"
   },
   {
    "duration": 69618,
    "start_time": "2024-09-18T12:23:40.930Z"
   },
   {
    "duration": 8,
    "start_time": "2024-09-18T12:24:50.552Z"
   },
   {
    "duration": 74,
    "start_time": "2024-09-18T12:24:50.563Z"
   },
   {
    "duration": 2,
    "start_time": "2024-09-18T12:24:50.639Z"
   },
   {
    "duration": 55,
    "start_time": "2024-09-18T12:24:50.642Z"
   },
   {
    "duration": 5,
    "start_time": "2024-09-18T12:24:50.698Z"
   },
   {
    "duration": 235,
    "start_time": "2024-09-18T12:24:50.705Z"
   },
   {
    "duration": 10,
    "start_time": "2024-09-18T12:24:50.942Z"
   },
   {
    "duration": 20,
    "start_time": "2024-09-18T12:24:50.953Z"
   },
   {
    "duration": 27,
    "start_time": "2024-09-18T12:24:50.975Z"
   },
   {
    "duration": 181,
    "start_time": "2024-09-18T12:24:51.003Z"
   },
   {
    "duration": 4,
    "start_time": "2024-09-18T12:24:51.185Z"
   },
   {
    "duration": 11620373,
    "start_time": "2024-09-18T12:24:51.191Z"
   },
   {
    "duration": 0,
    "start_time": "2024-09-18T15:38:31.573Z"
   },
   {
    "duration": 0,
    "start_time": "2024-09-18T15:38:31.580Z"
   },
   {
    "duration": 61,
    "start_time": "2024-09-18T15:39:14.636Z"
   },
   {
    "duration": 1799,
    "start_time": "2024-09-18T15:41:42.172Z"
   },
   {
    "duration": 5,
    "start_time": "2024-09-18T15:41:43.975Z"
   },
   {
    "duration": 121,
    "start_time": "2024-09-18T15:41:43.985Z"
   },
   {
    "duration": 1087,
    "start_time": "2024-09-18T15:41:44.110Z"
   },
   {
    "duration": 913,
    "start_time": "2024-09-18T15:41:45.200Z"
   },
   {
    "duration": 124,
    "start_time": "2024-09-18T15:41:46.115Z"
   },
   {
    "duration": 23,
    "start_time": "2024-09-18T15:41:46.242Z"
   },
   {
    "duration": 98,
    "start_time": "2024-09-18T15:41:46.267Z"
   },
   {
    "duration": 11,
    "start_time": "2024-09-18T15:41:46.367Z"
   },
   {
    "duration": 39,
    "start_time": "2024-09-18T15:41:46.380Z"
   },
   {
    "duration": 5,
    "start_time": "2024-09-18T15:41:46.421Z"
   },
   {
    "duration": 92665,
    "start_time": "2024-09-18T15:41:46.427Z"
   },
   {
    "duration": 14,
    "start_time": "2024-09-18T15:43:19.094Z"
   },
   {
    "duration": 11,
    "start_time": "2024-09-18T15:43:19.110Z"
   },
   {
    "duration": 78,
    "start_time": "2024-09-18T15:43:19.123Z"
   },
   {
    "duration": 4,
    "start_time": "2024-09-18T15:43:19.203Z"
   },
   {
    "duration": 266,
    "start_time": "2024-09-18T15:43:19.209Z"
   },
   {
    "duration": 4,
    "start_time": "2024-09-18T15:43:19.477Z"
   },
   {
    "duration": 16,
    "start_time": "2024-09-18T15:43:19.482Z"
   },
   {
    "duration": 136,
    "start_time": "2024-09-18T15:43:19.500Z"
   },
   {
    "duration": 5,
    "start_time": "2024-09-18T15:43:19.637Z"
   },
   {
    "duration": 20987,
    "start_time": "2024-09-18T15:43:19.644Z"
   },
   {
    "duration": 0,
    "start_time": "2024-09-18T15:43:40.633Z"
   },
   {
    "duration": 0,
    "start_time": "2024-09-18T15:43:40.634Z"
   },
   {
    "duration": 5,
    "start_time": "2024-09-18T15:43:47.694Z"
   },
   {
    "duration": 0,
    "start_time": "2024-09-18T15:45:42.190Z"
   },
   {
    "duration": 0,
    "start_time": "2024-09-18T15:45:42.191Z"
   },
   {
    "duration": 0,
    "start_time": "2024-09-18T15:45:42.192Z"
   },
   {
    "duration": 4,
    "start_time": "2024-09-18T15:45:44.411Z"
   },
   {
    "duration": 314663,
    "start_time": "2024-09-18T15:45:44.850Z"
   },
   {
    "duration": 0,
    "start_time": "2024-09-18T15:50:59.515Z"
   },
   {
    "duration": 0,
    "start_time": "2024-09-18T15:50:59.516Z"
   },
   {
    "duration": 3,
    "start_time": "2024-09-18T15:51:01.439Z"
   },
   {
    "duration": 293277,
    "start_time": "2024-09-18T15:51:02.007Z"
   },
   {
    "duration": 0,
    "start_time": "2024-09-18T15:55:55.287Z"
   },
   {
    "duration": 0,
    "start_time": "2024-09-18T15:55:55.289Z"
   },
   {
    "duration": 3,
    "start_time": "2024-09-18T15:55:57.474Z"
   },
   {
    "duration": 85562,
    "start_time": "2024-09-18T15:55:59.829Z"
   },
   {
    "duration": 0,
    "start_time": "2024-09-18T15:57:25.393Z"
   },
   {
    "duration": 4,
    "start_time": "2024-09-18T15:57:26.944Z"
   },
   {
    "duration": 424446,
    "start_time": "2024-09-18T15:57:27.293Z"
   },
   {
    "duration": 3,
    "start_time": "2024-09-18T16:04:34.389Z"
   },
   {
    "duration": 21,
    "start_time": "2024-09-18T16:04:35.108Z"
   },
   {
    "duration": 3,
    "start_time": "2024-09-18T16:05:08.085Z"
   },
   {
    "duration": 142388,
    "start_time": "2024-09-18T16:05:09.815Z"
   },
   {
    "duration": 8,
    "start_time": "2024-09-18T16:07:54.828Z"
   },
   {
    "duration": 140171,
    "start_time": "2024-09-18T16:09:39.186Z"
   },
   {
    "duration": 8,
    "start_time": "2024-09-18T16:11:59.722Z"
   },
   {
    "duration": 4,
    "start_time": "2024-09-18T16:17:24.616Z"
   },
   {
    "duration": 11409,
    "start_time": "2024-09-18T16:17:26.218Z"
   },
   {
    "duration": 4,
    "start_time": "2024-09-18T16:19:26.946Z"
   },
   {
    "duration": 770945,
    "start_time": "2024-09-18T16:19:27.866Z"
   },
   {
    "duration": 0,
    "start_time": "2024-09-18T16:32:18.813Z"
   },
   {
    "duration": 5,
    "start_time": "2024-09-18T16:32:52.134Z"
   },
   {
    "duration": 10,
    "start_time": "2024-09-18T16:32:53.983Z"
   },
   {
    "duration": 616,
    "start_time": "2024-09-18T16:32:55.526Z"
   },
   {
    "duration": 559,
    "start_time": "2024-09-18T16:32:56.325Z"
   },
   {
    "duration": 4256,
    "start_time": "2024-09-18T16:33:22.168Z"
   },
   {
    "duration": 2013,
    "start_time": "2024-09-18T16:33:26.427Z"
   },
   {
    "duration": 2034,
    "start_time": "2024-09-18T16:33:35.175Z"
   },
   {
    "duration": 4,
    "start_time": "2024-09-18T16:33:57.503Z"
   },
   {
    "duration": 3,
    "start_time": "2024-09-18T16:33:59.202Z"
   },
   {
    "duration": 38776,
    "start_time": "2024-09-18T16:33:59.695Z"
   },
   {
    "duration": 216034,
    "start_time": "2024-09-18T16:34:38.477Z"
   },
   {
    "duration": 2,
    "start_time": "2024-09-18T16:38:14.513Z"
   },
   {
    "duration": 214057,
    "start_time": "2024-09-18T16:38:14.517Z"
   },
   {
    "duration": 0,
    "start_time": "2024-09-18T16:41:48.577Z"
   },
   {
    "duration": 0,
    "start_time": "2024-09-18T16:41:48.578Z"
   },
   {
    "duration": 0,
    "start_time": "2024-09-18T16:41:48.580Z"
   },
   {
    "duration": 3,
    "start_time": "2024-09-18T16:42:03.571Z"
   },
   {
    "duration": 2,
    "start_time": "2024-09-18T16:42:04.021Z"
   },
   {
    "duration": 3,
    "start_time": "2024-09-18T16:42:04.518Z"
   },
   {
    "duration": 3,
    "start_time": "2024-09-18T16:42:05.051Z"
   },
   {
    "duration": 4,
    "start_time": "2024-09-18T16:42:05.694Z"
   },
   {
    "duration": 244212,
    "start_time": "2024-09-18T16:42:10.952Z"
   },
   {
    "duration": 535864,
    "start_time": "2024-09-18T16:46:15.166Z"
   },
   {
    "duration": 0,
    "start_time": "2024-09-18T16:55:11.032Z"
   },
   {
    "duration": 0,
    "start_time": "2024-09-18T16:55:11.033Z"
   },
   {
    "duration": 1153876,
    "start_time": "2024-09-18T16:55:17.017Z"
   },
   {
    "duration": 221193,
    "start_time": "2024-09-18T17:14:30.895Z"
   },
   {
    "duration": 1459251,
    "start_time": "2024-09-18T17:18:12.090Z"
   },
   {
    "duration": 0,
    "start_time": "2024-09-18T17:42:31.343Z"
   },
   {
    "duration": 0,
    "start_time": "2024-09-18T17:42:31.345Z"
   },
   {
    "duration": 3,
    "start_time": "2024-09-18T17:42:37.752Z"
   },
   {
    "duration": 294781,
    "start_time": "2024-09-18T17:42:44.273Z"
   },
   {
    "duration": 0,
    "start_time": "2024-09-18T17:47:39.057Z"
   },
   {
    "duration": 0,
    "start_time": "2024-09-18T17:47:39.058Z"
   },
   {
    "duration": 2,
    "start_time": "2024-09-18T17:47:51.099Z"
   },
   {
    "duration": 9699,
    "start_time": "2024-09-18T17:47:51.590Z"
   },
   {
    "duration": 4,
    "start_time": "2024-09-18T17:48:15.825Z"
   },
   {
    "duration": 34178,
    "start_time": "2024-09-18T17:48:16.316Z"
   },
   {
    "duration": 3,
    "start_time": "2024-09-18T17:49:24.392Z"
   },
   {
    "duration": 349111,
    "start_time": "2024-09-18T17:49:25.867Z"
   },
   {
    "duration": 3,
    "start_time": "2024-09-18T18:02:39.507Z"
   },
   {
    "duration": 6699,
    "start_time": "2024-09-18T18:02:39.890Z"
   },
   {
    "duration": 4,
    "start_time": "2024-09-18T18:03:06.177Z"
   },
   {
    "duration": 8435,
    "start_time": "2024-09-18T18:03:07.242Z"
   },
   {
    "duration": 17,
    "start_time": "2024-09-18T18:03:37.264Z"
   },
   {
    "duration": 3,
    "start_time": "2024-09-18T18:03:51.020Z"
   },
   {
    "duration": 4137,
    "start_time": "2024-09-18T18:03:54.825Z"
   },
   {
    "duration": 8,
    "start_time": "2024-09-18T18:04:05.858Z"
   },
   {
    "duration": 46426,
    "start_time": "2024-09-18T18:04:06.453Z"
   },
   {
    "duration": 3,
    "start_time": "2024-09-18T18:05:18.416Z"
   },
   {
    "duration": 37756,
    "start_time": "2024-09-18T18:05:23.550Z"
   },
   {
    "duration": 4,
    "start_time": "2024-09-18T18:06:01.309Z"
   },
   {
    "duration": 27670,
    "start_time": "2024-09-18T18:06:01.317Z"
   },
   {
    "duration": 3,
    "start_time": "2024-09-18T18:06:42.438Z"
   },
   {
    "duration": 56108,
    "start_time": "2024-09-18T18:06:43.144Z"
   },
   {
    "duration": 4,
    "start_time": "2024-09-18T18:07:45.500Z"
   },
   {
    "duration": 127532,
    "start_time": "2024-09-18T18:07:46.007Z"
   },
   {
    "duration": 1931,
    "start_time": "2024-09-19T09:58:39.940Z"
   },
   {
    "duration": 3,
    "start_time": "2024-09-19T09:58:41.874Z"
   },
   {
    "duration": 15,
    "start_time": "2024-09-19T09:58:41.879Z"
   },
   {
    "duration": 12,
    "start_time": "2024-09-19T09:58:41.896Z"
   },
   {
    "duration": 1270,
    "start_time": "2024-09-19T09:58:41.910Z"
   },
   {
    "duration": 916,
    "start_time": "2024-09-19T09:58:43.182Z"
   },
   {
    "duration": 90,
    "start_time": "2024-09-19T09:58:44.099Z"
   },
   {
    "duration": 12,
    "start_time": "2024-09-19T09:58:44.191Z"
   },
   {
    "duration": 87,
    "start_time": "2024-09-19T09:58:44.204Z"
   },
   {
    "duration": 17,
    "start_time": "2024-09-19T09:58:44.292Z"
   },
   {
    "duration": 35,
    "start_time": "2024-09-19T09:58:44.311Z"
   },
   {
    "duration": 4,
    "start_time": "2024-09-19T09:58:44.347Z"
   },
   {
    "duration": 73076,
    "start_time": "2024-09-19T09:58:44.353Z"
   },
   {
    "duration": 14,
    "start_time": "2024-09-19T09:59:57.433Z"
   },
   {
    "duration": 28,
    "start_time": "2024-09-19T09:59:57.449Z"
   },
   {
    "duration": 59,
    "start_time": "2024-09-19T09:59:57.478Z"
   },
   {
    "duration": 4,
    "start_time": "2024-09-19T09:59:57.539Z"
   },
   {
    "duration": 260,
    "start_time": "2024-09-19T09:59:57.545Z"
   },
   {
    "duration": 5,
    "start_time": "2024-09-19T09:59:57.806Z"
   },
   {
    "duration": 37,
    "start_time": "2024-09-19T09:59:57.812Z"
   },
   {
    "duration": 16,
    "start_time": "2024-09-19T09:59:57.851Z"
   },
   {
    "duration": 4,
    "start_time": "2024-09-19T09:59:57.869Z"
   },
   {
    "duration": 3867,
    "start_time": "2024-09-19T09:59:57.874Z"
   },
   {
    "duration": 1795,
    "start_time": "2024-09-19T10:00:01.745Z"
   },
   {
    "duration": 1767,
    "start_time": "2024-09-19T10:00:03.545Z"
   },
   {
    "duration": 3,
    "start_time": "2024-09-19T10:00:05.314Z"
   },
   {
    "duration": 10155,
    "start_time": "2024-09-19T10:00:05.319Z"
   },
   {
    "duration": 3,
    "start_time": "2024-09-19T10:00:15.476Z"
   },
   {
    "duration": 32234,
    "start_time": "2024-09-19T10:00:15.481Z"
   },
   {
    "duration": 137,
    "start_time": "2024-09-19T10:00:47.717Z"
   },
   {
    "duration": 0,
    "start_time": "2024-09-19T10:00:47.856Z"
   },
   {
    "duration": 0,
    "start_time": "2024-09-19T10:00:47.857Z"
   },
   {
    "duration": 0,
    "start_time": "2024-09-19T10:00:47.858Z"
   },
   {
    "duration": 0,
    "start_time": "2024-09-19T10:00:47.859Z"
   },
   {
    "duration": 0,
    "start_time": "2024-09-19T10:00:47.860Z"
   },
   {
    "duration": 0,
    "start_time": "2024-09-19T10:00:47.862Z"
   },
   {
    "duration": 1755,
    "start_time": "2024-09-19T10:00:54.101Z"
   },
   {
    "duration": 2,
    "start_time": "2024-09-19T10:00:55.858Z"
   },
   {
    "duration": 4,
    "start_time": "2024-09-19T10:00:55.862Z"
   },
   {
    "duration": 92,
    "start_time": "2024-09-19T10:00:55.868Z"
   },
   {
    "duration": 937,
    "start_time": "2024-09-19T10:00:55.961Z"
   },
   {
    "duration": 1110,
    "start_time": "2024-09-19T10:00:56.900Z"
   },
   {
    "duration": 93,
    "start_time": "2024-09-19T10:00:58.012Z"
   },
   {
    "duration": 12,
    "start_time": "2024-09-19T10:00:58.106Z"
   },
   {
    "duration": 96,
    "start_time": "2024-09-19T10:00:58.120Z"
   },
   {
    "duration": 37,
    "start_time": "2024-09-19T10:00:58.219Z"
   },
   {
    "duration": 33,
    "start_time": "2024-09-19T10:00:58.258Z"
   },
   {
    "duration": 3,
    "start_time": "2024-09-19T10:00:58.293Z"
   },
   {
    "duration": 74834,
    "start_time": "2024-09-19T10:00:58.298Z"
   },
   {
    "duration": 13,
    "start_time": "2024-09-19T10:02:13.134Z"
   },
   {
    "duration": 41,
    "start_time": "2024-09-19T10:02:13.148Z"
   },
   {
    "duration": 50,
    "start_time": "2024-09-19T10:02:13.191Z"
   },
   {
    "duration": 5,
    "start_time": "2024-09-19T10:02:13.243Z"
   },
   {
    "duration": 277,
    "start_time": "2024-09-19T10:02:13.249Z"
   },
   {
    "duration": 4,
    "start_time": "2024-09-19T10:02:13.528Z"
   },
   {
    "duration": 15,
    "start_time": "2024-09-19T10:02:13.534Z"
   },
   {
    "duration": 10,
    "start_time": "2024-09-19T10:02:13.550Z"
   },
   {
    "duration": 13,
    "start_time": "2024-09-19T10:02:13.562Z"
   },
   {
    "duration": 3660,
    "start_time": "2024-09-19T10:02:13.576Z"
   },
   {
    "duration": 1745,
    "start_time": "2024-09-19T10:02:17.238Z"
   },
   {
    "duration": 1734,
    "start_time": "2024-09-19T10:02:18.985Z"
   },
   {
    "duration": 4,
    "start_time": "2024-09-19T10:02:20.720Z"
   },
   {
    "duration": 9650,
    "start_time": "2024-09-19T10:02:20.726Z"
   },
   {
    "duration": 2,
    "start_time": "2024-09-19T10:02:30.379Z"
   },
   {
    "duration": 32576,
    "start_time": "2024-09-19T10:02:30.383Z"
   },
   {
    "duration": 126,
    "start_time": "2024-09-19T10:03:02.961Z"
   },
   {
    "duration": 0,
    "start_time": "2024-09-19T10:03:03.089Z"
   },
   {
    "duration": 0,
    "start_time": "2024-09-19T10:03:03.090Z"
   },
   {
    "duration": 0,
    "start_time": "2024-09-19T10:03:03.091Z"
   },
   {
    "duration": 0,
    "start_time": "2024-09-19T10:03:03.092Z"
   },
   {
    "duration": 0,
    "start_time": "2024-09-19T10:03:03.093Z"
   },
   {
    "duration": 0,
    "start_time": "2024-09-19T10:03:03.094Z"
   },
   {
    "duration": 129,
    "start_time": "2024-09-19T10:04:07.895Z"
   },
   {
    "duration": 3,
    "start_time": "2024-09-19T10:04:12.134Z"
   },
   {
    "duration": 73761,
    "start_time": "2024-09-19T10:04:25.517Z"
   },
   {
    "duration": 3,
    "start_time": "2024-09-19T10:05:39.280Z"
   },
   {
    "duration": 48,
    "start_time": "2024-09-19T10:05:39.285Z"
   },
   {
    "duration": 124535,
    "start_time": "2024-09-19T10:05:39.335Z"
   },
   {
    "duration": 0,
    "start_time": "2024-09-19T10:07:43.872Z"
   },
   {
    "duration": 0,
    "start_time": "2024-09-19T10:07:43.873Z"
   },
   {
    "duration": 0,
    "start_time": "2024-09-19T10:07:43.875Z"
   },
   {
    "duration": 8,
    "start_time": "2024-09-19T10:07:47.730Z"
   },
   {
    "duration": 17,
    "start_time": "2024-09-19T10:08:32.199Z"
   },
   {
    "duration": 4,
    "start_time": "2024-09-19T10:08:50.143Z"
   },
   {
    "duration": 139126,
    "start_time": "2024-09-19T10:08:51.720Z"
   },
   {
    "duration": 12,
    "start_time": "2024-09-19T10:11:10.848Z"
   },
   {
    "duration": 3,
    "start_time": "2024-09-19T10:14:31.813Z"
   },
   {
    "duration": 132493,
    "start_time": "2024-09-19T10:15:06.803Z"
   },
   {
    "duration": 11,
    "start_time": "2024-09-19T10:17:22.512Z"
   },
   {
    "duration": 38,
    "start_time": "2024-09-19T10:18:26.368Z"
   },
   {
    "duration": 43,
    "start_time": "2024-09-19T10:20:38.079Z"
   },
   {
    "duration": 243721,
    "start_time": "2024-09-19T10:21:06.618Z"
   },
   {
    "duration": 11,
    "start_time": "2024-09-19T10:25:10.346Z"
   },
   {
    "duration": 4,
    "start_time": "2024-09-19T10:27:19.225Z"
   },
   {
    "duration": 20446,
    "start_time": "2024-09-19T10:27:23.927Z"
   },
   {
    "duration": 4,
    "start_time": "2024-09-19T10:31:27.124Z"
   },
   {
    "duration": 192107,
    "start_time": "2024-09-19T10:31:27.895Z"
   },
   {
    "duration": 11,
    "start_time": "2024-09-19T10:34:40.004Z"
   },
   {
    "duration": 1673,
    "start_time": "2024-09-19T10:53:23.036Z"
   },
   {
    "duration": 4,
    "start_time": "2024-09-19T10:53:24.712Z"
   },
   {
    "duration": 25,
    "start_time": "2024-09-19T10:53:24.718Z"
   },
   {
    "duration": 161,
    "start_time": "2024-09-19T10:53:24.746Z"
   },
   {
    "duration": 963,
    "start_time": "2024-09-19T10:53:24.909Z"
   },
   {
    "duration": 969,
    "start_time": "2024-09-19T10:53:25.874Z"
   },
   {
    "duration": 101,
    "start_time": "2024-09-19T10:53:26.845Z"
   },
   {
    "duration": 19,
    "start_time": "2024-09-19T10:53:26.949Z"
   },
   {
    "duration": 99,
    "start_time": "2024-09-19T10:53:26.970Z"
   },
   {
    "duration": 21,
    "start_time": "2024-09-19T10:53:27.072Z"
   },
   {
    "duration": 53,
    "start_time": "2024-09-19T10:53:27.094Z"
   },
   {
    "duration": 7,
    "start_time": "2024-09-19T10:53:27.149Z"
   },
   {
    "duration": 81429,
    "start_time": "2024-09-19T10:53:27.158Z"
   },
   {
    "duration": 9,
    "start_time": "2024-09-19T10:54:48.589Z"
   },
   {
    "duration": 55,
    "start_time": "2024-09-19T10:54:48.600Z"
   },
   {
    "duration": 67,
    "start_time": "2024-09-19T10:54:48.657Z"
   },
   {
    "duration": 5,
    "start_time": "2024-09-19T10:54:48.726Z"
   },
   {
    "duration": 329,
    "start_time": "2024-09-19T10:54:48.732Z"
   },
   {
    "duration": 17,
    "start_time": "2024-09-19T10:54:49.062Z"
   },
   {
    "duration": 20,
    "start_time": "2024-09-19T10:54:49.080Z"
   },
   {
    "duration": 89,
    "start_time": "2024-09-19T10:54:49.102Z"
   },
   {
    "duration": 55,
    "start_time": "2024-09-19T10:54:49.193Z"
   },
   {
    "duration": 69,
    "start_time": "2024-09-19T10:54:49.250Z"
   },
   {
    "duration": 3733,
    "start_time": "2024-09-19T10:54:49.320Z"
   },
   {
    "duration": 1666,
    "start_time": "2024-09-19T10:54:53.055Z"
   },
   {
    "duration": 1749,
    "start_time": "2024-09-19T10:54:54.723Z"
   },
   {
    "duration": 3,
    "start_time": "2024-09-19T10:54:56.473Z"
   },
   {
    "duration": 29536,
    "start_time": "2024-09-19T10:55:06.778Z"
   },
   {
    "duration": 3,
    "start_time": "2024-09-19T10:55:36.315Z"
   },
   {
    "duration": 8642,
    "start_time": "2024-09-19T10:55:36.319Z"
   },
   {
    "duration": 12,
    "start_time": "2024-09-19T10:55:44.963Z"
   },
   {
    "duration": 3,
    "start_time": "2024-09-19T10:58:39.543Z"
   },
   {
    "duration": 10390,
    "start_time": "2024-09-19T10:58:40.588Z"
   },
   {
    "duration": 3,
    "start_time": "2024-09-19T10:59:40.200Z"
   },
   {
    "duration": 43240,
    "start_time": "2024-09-19T11:02:36.142Z"
   },
   {
    "duration": 4,
    "start_time": "2024-09-19T11:03:36.500Z"
   },
   {
    "duration": 73008,
    "start_time": "2024-09-19T11:03:36.849Z"
   },
   {
    "duration": 4,
    "start_time": "2024-09-19T11:05:00.419Z"
   },
   {
    "duration": 43807,
    "start_time": "2024-09-19T11:05:00.795Z"
   },
   {
    "duration": 4,
    "start_time": "2024-09-19T11:06:25.085Z"
   },
   {
    "duration": 37144,
    "start_time": "2024-09-19T11:06:26.225Z"
   },
   {
    "duration": 4,
    "start_time": "2024-09-19T11:07:19.307Z"
   },
   {
    "duration": 24802,
    "start_time": "2024-09-19T11:07:20.127Z"
   },
   {
    "duration": 4,
    "start_time": "2024-09-19T11:07:53.943Z"
   },
   {
    "duration": 22652,
    "start_time": "2024-09-19T11:07:54.367Z"
   },
   {
    "duration": 3,
    "start_time": "2024-09-19T11:08:58.222Z"
   },
   {
    "duration": 2650,
    "start_time": "2024-09-19T11:08:58.531Z"
   },
   {
    "duration": 3,
    "start_time": "2024-09-19T11:09:07.321Z"
   },
   {
    "duration": 438,
    "start_time": "2024-09-19T11:09:07.954Z"
   },
   {
    "duration": 3,
    "start_time": "2024-09-19T11:09:12.708Z"
   },
   {
    "duration": 10967,
    "start_time": "2024-09-19T11:09:13.271Z"
   },
   {
    "duration": 3,
    "start_time": "2024-09-19T11:09:29.973Z"
   },
   {
    "duration": 3379,
    "start_time": "2024-09-19T11:09:30.439Z"
   },
   {
    "duration": 3,
    "start_time": "2024-09-19T11:09:41.089Z"
   },
   {
    "duration": 22959,
    "start_time": "2024-09-19T11:09:41.368Z"
   },
   {
    "duration": 3,
    "start_time": "2024-09-19T11:11:04.861Z"
   },
   {
    "duration": 6333,
    "start_time": "2024-09-19T11:11:05.550Z"
   },
   {
    "duration": 3,
    "start_time": "2024-09-19T11:12:33.188Z"
   },
   {
    "duration": 11854,
    "start_time": "2024-09-19T11:12:33.526Z"
   },
   {
    "duration": 3,
    "start_time": "2024-09-19T11:12:48.377Z"
   },
   {
    "duration": 1495,
    "start_time": "2024-09-19T11:12:48.847Z"
   },
   {
    "duration": 3,
    "start_time": "2024-09-19T11:12:55.610Z"
   },
   {
    "duration": 13955,
    "start_time": "2024-09-19T11:12:56.124Z"
   },
   {
    "duration": 3,
    "start_time": "2024-09-19T11:13:16.214Z"
   },
   {
    "duration": 912,
    "start_time": "2024-09-19T11:13:17.021Z"
   },
   {
    "duration": 3,
    "start_time": "2024-09-19T11:14:55.108Z"
   },
   {
    "duration": 31474,
    "start_time": "2024-09-19T11:14:55.467Z"
   },
   {
    "duration": 3,
    "start_time": "2024-09-19T11:15:38.792Z"
   },
   {
    "duration": 1096,
    "start_time": "2024-09-19T11:15:40.162Z"
   },
   {
    "duration": 4,
    "start_time": "2024-09-19T11:15:44.235Z"
   },
   {
    "duration": 1188,
    "start_time": "2024-09-19T11:15:44.598Z"
   },
   {
    "duration": 3,
    "start_time": "2024-09-19T11:17:46.526Z"
   },
   {
    "duration": 1934,
    "start_time": "2024-09-19T11:17:47.342Z"
   },
   {
    "duration": 3,
    "start_time": "2024-09-19T11:17:55.372Z"
   },
   {
    "duration": 2074,
    "start_time": "2024-09-19T11:17:55.935Z"
   },
   {
    "duration": 4,
    "start_time": "2024-09-19T11:18:01.546Z"
   },
   {
    "duration": 3,
    "start_time": "2024-09-19T11:18:29.617Z"
   },
   {
    "duration": 948,
    "start_time": "2024-09-19T11:18:29.984Z"
   },
   {
    "duration": 81,
    "start_time": "2024-09-19T11:18:46.936Z"
   },
   {
    "duration": 3,
    "start_time": "2024-09-19T11:19:00.111Z"
   },
   {
    "duration": 1344,
    "start_time": "2024-09-19T11:19:01.274Z"
   },
   {
    "duration": 3,
    "start_time": "2024-09-19T11:19:07.796Z"
   },
   {
    "duration": 39744,
    "start_time": "2024-09-19T11:19:08.700Z"
   },
   {
    "duration": 4,
    "start_time": "2024-09-19T11:19:48.446Z"
   },
   {
    "duration": 27854,
    "start_time": "2024-09-19T11:19:48.451Z"
   },
   {
    "duration": 5130,
    "start_time": "2024-09-19T11:22:01.574Z"
   },
   {
    "duration": 3,
    "start_time": "2024-09-19T11:22:06.706Z"
   },
   {
    "duration": 60,
    "start_time": "2024-09-19T11:22:06.711Z"
   },
   {
    "duration": 90,
    "start_time": "2024-09-19T11:22:06.773Z"
   },
   {
    "duration": 972,
    "start_time": "2024-09-19T11:22:06.866Z"
   },
   {
    "duration": 934,
    "start_time": "2024-09-19T11:22:07.840Z"
   },
   {
    "duration": 88,
    "start_time": "2024-09-19T11:22:08.775Z"
   },
   {
    "duration": 12,
    "start_time": "2024-09-19T11:22:08.865Z"
   },
   {
    "duration": 101,
    "start_time": "2024-09-19T11:22:08.879Z"
   },
   {
    "duration": 23,
    "start_time": "2024-09-19T11:22:08.982Z"
   },
   {
    "duration": 40,
    "start_time": "2024-09-19T11:22:09.006Z"
   },
   {
    "duration": 4,
    "start_time": "2024-09-19T11:22:09.047Z"
   },
   {
    "duration": 72204,
    "start_time": "2024-09-19T11:22:09.052Z"
   },
   {
    "duration": 9,
    "start_time": "2024-09-19T11:23:21.260Z"
   },
   {
    "duration": 22,
    "start_time": "2024-09-19T11:23:21.271Z"
   },
   {
    "duration": 66,
    "start_time": "2024-09-19T11:23:21.295Z"
   },
   {
    "duration": 4,
    "start_time": "2024-09-19T11:23:21.362Z"
   },
   {
    "duration": 257,
    "start_time": "2024-09-19T11:23:21.368Z"
   },
   {
    "duration": 24,
    "start_time": "2024-09-19T11:23:21.626Z"
   },
   {
    "duration": 5,
    "start_time": "2024-09-19T11:23:21.652Z"
   },
   {
    "duration": 11,
    "start_time": "2024-09-19T11:23:21.658Z"
   },
   {
    "duration": 6,
    "start_time": "2024-09-19T11:23:21.671Z"
   },
   {
    "duration": 199346,
    "start_time": "2024-09-19T11:23:21.679Z"
   },
   {
    "duration": 9,
    "start_time": "2024-09-19T11:26:41.027Z"
   },
   {
    "duration": 88,
    "start_time": "2024-09-19T11:27:24.649Z"
   },
   {
    "duration": 262315,
    "start_time": "2024-09-19T11:27:37.216Z"
   },
   {
    "duration": 32,
    "start_time": "2024-09-19T11:31:59.534Z"
   },
   {
    "duration": 270191,
    "start_time": "2024-09-19T11:33:37.482Z"
   },
   {
    "duration": 15,
    "start_time": "2024-09-19T11:38:07.675Z"
   },
   {
    "duration": 2623,
    "start_time": "2024-09-19T11:39:11.812Z"
   },
   {
    "duration": 3,
    "start_time": "2024-09-19T11:39:14.436Z"
   },
   {
    "duration": 47,
    "start_time": "2024-09-19T11:39:14.440Z"
   },
   {
    "duration": 97,
    "start_time": "2024-09-19T11:39:14.489Z"
   },
   {
    "duration": 1006,
    "start_time": "2024-09-19T11:39:14.589Z"
   },
   {
    "duration": 1020,
    "start_time": "2024-09-19T11:39:15.596Z"
   },
   {
    "duration": 106,
    "start_time": "2024-09-19T11:39:16.618Z"
   },
   {
    "duration": 30,
    "start_time": "2024-09-19T11:39:16.726Z"
   },
   {
    "duration": 107,
    "start_time": "2024-09-19T11:39:16.758Z"
   },
   {
    "duration": 49,
    "start_time": "2024-09-19T11:39:16.867Z"
   },
   {
    "duration": 44,
    "start_time": "2024-09-19T11:39:16.918Z"
   },
   {
    "duration": 36,
    "start_time": "2024-09-19T11:39:16.964Z"
   },
   {
    "duration": 85059,
    "start_time": "2024-09-19T11:39:17.002Z"
   },
   {
    "duration": 8,
    "start_time": "2024-09-19T11:40:42.063Z"
   },
   {
    "duration": 12,
    "start_time": "2024-09-19T11:40:42.073Z"
   },
   {
    "duration": 40,
    "start_time": "2024-09-19T11:40:42.086Z"
   },
   {
    "duration": 4,
    "start_time": "2024-09-19T11:40:42.128Z"
   },
   {
    "duration": 244,
    "start_time": "2024-09-19T11:40:42.151Z"
   },
   {
    "duration": 16,
    "start_time": "2024-09-19T11:40:42.397Z"
   },
   {
    "duration": 4,
    "start_time": "2024-09-19T11:40:42.415Z"
   },
   {
    "duration": 17,
    "start_time": "2024-09-19T11:40:42.420Z"
   },
   {
    "duration": 23,
    "start_time": "2024-09-19T11:40:42.438Z"
   },
   {
    "duration": 140623,
    "start_time": "2024-09-19T11:40:42.463Z"
   },
   {
    "duration": 8,
    "start_time": "2024-09-19T11:43:03.088Z"
   },
   {
    "duration": 6343,
    "start_time": "2024-09-19T11:43:03.097Z"
   },
   {
    "duration": 154,
    "start_time": "2024-09-19T12:00:18.054Z"
   },
   {
    "duration": 2145,
    "start_time": "2024-09-19T12:00:23.040Z"
   },
   {
    "duration": 3,
    "start_time": "2024-09-19T12:00:25.187Z"
   },
   {
    "duration": 15,
    "start_time": "2024-09-19T12:00:25.192Z"
   },
   {
    "duration": 101,
    "start_time": "2024-09-19T12:00:25.209Z"
   },
   {
    "duration": 1011,
    "start_time": "2024-09-19T12:00:25.311Z"
   },
   {
    "duration": 1012,
    "start_time": "2024-09-19T12:00:26.324Z"
   },
   {
    "duration": 109,
    "start_time": "2024-09-19T12:00:27.339Z"
   },
   {
    "duration": 13,
    "start_time": "2024-09-19T12:00:27.450Z"
   },
   {
    "duration": 105,
    "start_time": "2024-09-19T12:00:27.464Z"
   },
   {
    "duration": 31,
    "start_time": "2024-09-19T12:00:27.573Z"
   },
   {
    "duration": 39,
    "start_time": "2024-09-19T12:00:27.606Z"
   },
   {
    "duration": 13,
    "start_time": "2024-09-19T12:00:27.647Z"
   },
   {
    "duration": 17,
    "start_time": "2024-09-19T12:01:51.359Z"
   },
   {
    "duration": 4,
    "start_time": "2024-09-19T12:01:51.378Z"
   },
   {
    "duration": 19,
    "start_time": "2024-09-19T12:01:51.383Z"
   },
   {
    "duration": 12,
    "start_time": "2024-09-19T12:01:51.404Z"
   },
   {
    "duration": 146581,
    "start_time": "2024-09-19T12:01:51.417Z"
   },
   {
    "duration": 11,
    "start_time": "2024-09-19T12:04:18.001Z"
   },
   {
    "duration": 1878,
    "start_time": "2024-09-19T12:04:18.014Z"
   },
   {
    "duration": 1892,
    "start_time": "2024-09-19T12:08:29.108Z"
   },
   {
    "duration": 3,
    "start_time": "2024-09-19T12:08:31.002Z"
   },
   {
    "duration": 47,
    "start_time": "2024-09-19T12:08:31.007Z"
   },
   {
    "duration": 53,
    "start_time": "2024-09-19T12:08:31.056Z"
   },
   {
    "duration": 1043,
    "start_time": "2024-09-19T12:08:31.112Z"
   },
   {
    "duration": 1502,
    "start_time": "2024-09-19T12:08:32.157Z"
   },
   {
    "duration": 210,
    "start_time": "2024-09-19T12:08:33.660Z"
   },
   {
    "duration": 18,
    "start_time": "2024-09-19T12:08:33.872Z"
   },
   {
    "duration": 181,
    "start_time": "2024-09-19T12:08:33.892Z"
   },
   {
    "duration": 138,
    "start_time": "2024-09-19T12:08:34.075Z"
   },
   {
    "duration": 80,
    "start_time": "2024-09-19T12:08:34.215Z"
   },
   {
    "duration": 42,
    "start_time": "2024-09-19T12:08:34.297Z"
   },
   {
    "duration": 82123,
    "start_time": "2024-09-19T12:08:34.340Z"
   },
   {
    "duration": 10,
    "start_time": "2024-09-19T12:09:56.466Z"
   },
   {
    "duration": 30,
    "start_time": "2024-09-19T12:09:56.477Z"
   },
   {
    "duration": 51,
    "start_time": "2024-09-19T12:09:56.509Z"
   },
   {
    "duration": 5,
    "start_time": "2024-09-19T12:09:56.562Z"
   },
   {
    "duration": 317,
    "start_time": "2024-09-19T12:09:56.569Z"
   },
   {
    "duration": 4,
    "start_time": "2024-09-19T12:09:56.887Z"
   },
   {
    "duration": 12,
    "start_time": "2024-09-19T12:09:56.893Z"
   },
   {
    "duration": 9,
    "start_time": "2024-09-19T12:09:56.907Z"
   },
   {
    "duration": 63,
    "start_time": "2024-09-19T12:09:56.917Z"
   },
   {
    "duration": 143842,
    "start_time": "2024-09-19T12:09:56.981Z"
   },
   {
    "duration": 10,
    "start_time": "2024-09-19T12:12:20.824Z"
   },
   {
    "duration": 1730,
    "start_time": "2024-09-19T12:12:20.836Z"
   },
   {
    "duration": 2330,
    "start_time": "2024-09-19T14:09:15.432Z"
   },
   {
    "duration": 3,
    "start_time": "2024-09-19T14:09:17.764Z"
   },
   {
    "duration": 78,
    "start_time": "2024-09-19T14:09:17.768Z"
   },
   {
    "duration": 4,
    "start_time": "2024-09-19T14:09:17.848Z"
   },
   {
    "duration": 10,
    "start_time": "2024-09-19T14:09:17.854Z"
   },
   {
    "duration": 81,
    "start_time": "2024-09-19T14:09:17.866Z"
   },
   {
    "duration": 0,
    "start_time": "2024-09-19T14:09:17.948Z"
   },
   {
    "duration": 0,
    "start_time": "2024-09-19T14:09:17.949Z"
   },
   {
    "duration": 0,
    "start_time": "2024-09-19T14:09:17.950Z"
   },
   {
    "duration": 0,
    "start_time": "2024-09-19T14:09:17.951Z"
   },
   {
    "duration": 0,
    "start_time": "2024-09-19T14:09:17.952Z"
   },
   {
    "duration": 0,
    "start_time": "2024-09-19T14:09:17.953Z"
   },
   {
    "duration": 0,
    "start_time": "2024-09-19T14:09:17.954Z"
   },
   {
    "duration": 0,
    "start_time": "2024-09-19T14:09:17.955Z"
   },
   {
    "duration": 0,
    "start_time": "2024-09-19T14:09:17.956Z"
   },
   {
    "duration": 0,
    "start_time": "2024-09-19T14:09:17.957Z"
   },
   {
    "duration": 0,
    "start_time": "2024-09-19T14:09:17.957Z"
   },
   {
    "duration": 0,
    "start_time": "2024-09-19T14:09:17.958Z"
   },
   {
    "duration": 0,
    "start_time": "2024-09-19T14:09:17.959Z"
   },
   {
    "duration": 0,
    "start_time": "2024-09-19T14:09:17.960Z"
   },
   {
    "duration": 0,
    "start_time": "2024-09-19T14:09:17.961Z"
   },
   {
    "duration": 0,
    "start_time": "2024-09-19T14:09:17.962Z"
   },
   {
    "duration": 0,
    "start_time": "2024-09-19T14:09:17.963Z"
   },
   {
    "duration": 0,
    "start_time": "2024-09-19T14:09:17.964Z"
   },
   {
    "duration": 0,
    "start_time": "2024-09-19T14:09:17.965Z"
   },
   {
    "duration": 907,
    "start_time": "2024-09-19T14:09:46.110Z"
   },
   {
    "duration": 924,
    "start_time": "2024-09-19T14:09:59.103Z"
   },
   {
    "duration": 91,
    "start_time": "2024-09-19T14:10:00.029Z"
   },
   {
    "duration": 13,
    "start_time": "2024-09-19T14:10:00.121Z"
   },
   {
    "duration": 134,
    "start_time": "2024-09-19T14:10:00.146Z"
   },
   {
    "duration": 136,
    "start_time": "2024-09-19T14:10:00.282Z"
   },
   {
    "duration": 137,
    "start_time": "2024-09-19T14:10:00.420Z"
   },
   {
    "duration": 23,
    "start_time": "2024-09-19T14:10:00.559Z"
   },
   {
    "duration": 73669,
    "start_time": "2024-09-19T14:10:00.584Z"
   },
   {
    "duration": 8,
    "start_time": "2024-09-19T14:11:14.255Z"
   },
   {
    "duration": 6,
    "start_time": "2024-09-19T14:11:14.265Z"
   },
   {
    "duration": 66,
    "start_time": "2024-09-19T14:11:14.272Z"
   },
   {
    "duration": 4,
    "start_time": "2024-09-19T14:11:14.340Z"
   },
   {
    "duration": 251,
    "start_time": "2024-09-19T14:11:14.346Z"
   },
   {
    "duration": 4,
    "start_time": "2024-09-19T14:11:14.600Z"
   },
   {
    "duration": 18,
    "start_time": "2024-09-19T14:11:14.605Z"
   },
   {
    "duration": 22,
    "start_time": "2024-09-19T14:11:14.624Z"
   },
   {
    "duration": 140953,
    "start_time": "2024-09-19T14:11:14.648Z"
   },
   {
    "duration": 10,
    "start_time": "2024-09-19T14:13:35.603Z"
   },
   {
    "duration": 1729,
    "start_time": "2024-09-19T14:13:35.614Z"
   },
   {
    "duration": 267349,
    "start_time": "2024-09-19T14:14:42.450Z"
   },
   {
    "duration": 9,
    "start_time": "2024-09-19T14:19:09.801Z"
   },
   {
    "duration": 20,
    "start_time": "2024-09-19T14:30:26.781Z"
   },
   {
    "duration": 164,
    "start_time": "2024-09-19T14:31:48.830Z"
   },
   {
    "duration": 20,
    "start_time": "2024-09-19T14:32:54.298Z"
   },
   {
    "duration": 6476,
    "start_time": "2024-09-19T14:34:35.218Z"
   },
   {
    "duration": 6597,
    "start_time": "2024-09-19T14:34:57.393Z"
   },
   {
    "duration": 82,
    "start_time": "2024-09-19T14:51:31.703Z"
   },
   {
    "duration": 1750,
    "start_time": "2024-09-19T14:58:29.421Z"
   },
   {
    "duration": 2,
    "start_time": "2024-09-19T14:58:31.174Z"
   },
   {
    "duration": 10,
    "start_time": "2024-09-19T14:58:31.178Z"
   },
   {
    "duration": 5,
    "start_time": "2024-09-19T14:58:31.190Z"
   },
   {
    "duration": 11,
    "start_time": "2024-09-19T14:58:31.196Z"
   },
   {
    "duration": 936,
    "start_time": "2024-09-19T14:58:31.208Z"
   },
   {
    "duration": 917,
    "start_time": "2024-09-19T14:58:32.146Z"
   },
   {
    "duration": 88,
    "start_time": "2024-09-19T14:58:33.064Z"
   },
   {
    "duration": 13,
    "start_time": "2024-09-19T14:58:33.154Z"
   },
   {
    "duration": 110,
    "start_time": "2024-09-19T14:58:33.169Z"
   },
   {
    "duration": 6,
    "start_time": "2024-09-19T14:58:33.280Z"
   },
   {
    "duration": 98,
    "start_time": "2024-09-19T14:58:33.288Z"
   },
   {
    "duration": 8,
    "start_time": "2024-09-19T14:58:33.387Z"
   },
   {
    "duration": 73896,
    "start_time": "2024-09-19T14:58:33.396Z"
   },
   {
    "duration": 8,
    "start_time": "2024-09-19T14:59:47.294Z"
   },
   {
    "duration": 22,
    "start_time": "2024-09-19T14:59:47.303Z"
   },
   {
    "duration": 47,
    "start_time": "2024-09-19T14:59:47.327Z"
   },
   {
    "duration": 4,
    "start_time": "2024-09-19T14:59:47.376Z"
   },
   {
    "duration": 247,
    "start_time": "2024-09-19T14:59:47.381Z"
   },
   {
    "duration": 4,
    "start_time": "2024-09-19T14:59:47.631Z"
   },
   {
    "duration": 6,
    "start_time": "2024-09-19T14:59:47.646Z"
   },
   {
    "duration": 38,
    "start_time": "2024-09-19T14:59:47.654Z"
   },
   {
    "duration": 19,
    "start_time": "2024-09-19T14:59:47.694Z"
   },
   {
    "duration": 0,
    "start_time": "2024-09-19T14:59:47.715Z"
   },
   {
    "duration": 0,
    "start_time": "2024-09-19T14:59:47.716Z"
   },
   {
    "duration": 3,
    "start_time": "2024-09-19T15:00:12.755Z"
   },
   {
    "duration": 267605,
    "start_time": "2024-09-19T15:00:48.479Z"
   },
   {
    "duration": 11,
    "start_time": "2024-09-19T15:46:31.817Z"
   },
   {
    "duration": 1779,
    "start_time": "2024-09-19T16:01:15.733Z"
   },
   {
    "duration": 3,
    "start_time": "2024-09-19T16:01:17.514Z"
   },
   {
    "duration": 10,
    "start_time": "2024-09-19T16:01:17.518Z"
   },
   {
    "duration": 21,
    "start_time": "2024-09-19T16:01:17.530Z"
   },
   {
    "duration": 9,
    "start_time": "2024-09-19T16:01:17.553Z"
   },
   {
    "duration": 909,
    "start_time": "2024-09-19T16:01:17.564Z"
   },
   {
    "duration": 940,
    "start_time": "2024-09-19T16:01:18.474Z"
   },
   {
    "duration": 91,
    "start_time": "2024-09-19T16:01:19.416Z"
   },
   {
    "duration": 12,
    "start_time": "2024-09-19T16:01:19.509Z"
   },
   {
    "duration": 105,
    "start_time": "2024-09-19T16:01:19.523Z"
   },
   {
    "duration": 8,
    "start_time": "2024-09-19T16:01:19.629Z"
   },
   {
    "duration": 34,
    "start_time": "2024-09-19T16:01:19.638Z"
   },
   {
    "duration": 4,
    "start_time": "2024-09-19T16:01:19.674Z"
   },
   {
    "duration": 73094,
    "start_time": "2024-09-19T16:01:19.680Z"
   },
   {
    "duration": 8,
    "start_time": "2024-09-19T16:02:32.776Z"
   },
   {
    "duration": 30,
    "start_time": "2024-09-19T16:02:32.785Z"
   },
   {
    "duration": 67,
    "start_time": "2024-09-19T16:02:32.816Z"
   },
   {
    "duration": 4,
    "start_time": "2024-09-19T16:02:32.885Z"
   },
   {
    "duration": 249,
    "start_time": "2024-09-19T16:02:32.890Z"
   },
   {
    "duration": 4,
    "start_time": "2024-09-19T16:02:33.146Z"
   },
   {
    "duration": 42,
    "start_time": "2024-09-19T16:02:33.151Z"
   },
   {
    "duration": 26,
    "start_time": "2024-09-19T16:02:33.194Z"
   },
   {
    "duration": 261543,
    "start_time": "2024-09-19T16:02:33.222Z"
   },
   {
    "duration": 10,
    "start_time": "2024-09-19T16:06:54.767Z"
   },
   {
    "duration": 1822,
    "start_time": "2024-09-19T16:06:54.779Z"
   },
   {
    "duration": 3132,
    "start_time": "2024-09-19T16:12:19.923Z"
   },
   {
    "duration": 3,
    "start_time": "2024-09-19T16:12:23.056Z"
   },
   {
    "duration": 5,
    "start_time": "2024-09-19T16:12:23.249Z"
   },
   {
    "duration": 3,
    "start_time": "2024-09-19T16:12:23.536Z"
   },
   {
    "duration": 9,
    "start_time": "2024-09-19T16:12:24.883Z"
   },
   {
    "duration": 3789,
    "start_time": "2024-09-19T16:12:26.051Z"
   },
   {
    "duration": 888,
    "start_time": "2024-09-19T16:12:29.842Z"
   },
   {
    "duration": 95,
    "start_time": "2024-09-19T16:12:30.731Z"
   },
   {
    "duration": 14,
    "start_time": "2024-09-19T16:12:33.737Z"
   },
   {
    "duration": 77,
    "start_time": "2024-09-19T16:12:34.654Z"
   },
   {
    "duration": 3,
    "start_time": "2024-09-19T16:12:36.145Z"
   },
   {
    "duration": 32,
    "start_time": "2024-09-19T16:12:37.056Z"
   },
   {
    "duration": 4,
    "start_time": "2024-09-19T16:12:41.263Z"
   },
   {
    "duration": 71204,
    "start_time": "2024-09-19T16:12:42.478Z"
   },
   {
    "duration": 15,
    "start_time": "2024-09-19T16:13:53.684Z"
   },
   {
    "duration": 4,
    "start_time": "2024-09-19T17:39:14.694Z"
   },
   {
    "duration": 53,
    "start_time": "2024-09-19T17:39:15.902Z"
   },
   {
    "duration": 4,
    "start_time": "2024-09-19T17:39:17.052Z"
   },
   {
    "duration": 264,
    "start_time": "2024-09-19T17:39:19.286Z"
   },
   {
    "duration": 4,
    "start_time": "2024-09-19T17:39:56.717Z"
   },
   {
    "duration": 7,
    "start_time": "2024-09-19T17:39:57.358Z"
   },
   {
    "duration": 3,
    "start_time": "2024-09-19T17:39:58.078Z"
   },
   {
    "duration": 265257,
    "start_time": "2024-09-19T17:39:59.102Z"
   },
   {
    "duration": 9,
    "start_time": "2024-09-19T17:45:24.627Z"
   },
   {
    "duration": 1737,
    "start_time": "2024-09-19T17:45:27.750Z"
   },
   {
    "duration": 2568,
    "start_time": "2024-09-20T07:28:25.630Z"
   },
   {
    "duration": 3,
    "start_time": "2024-09-20T07:28:28.200Z"
   },
   {
    "duration": 10,
    "start_time": "2024-09-20T07:28:28.205Z"
   },
   {
    "duration": 3,
    "start_time": "2024-09-20T07:28:28.217Z"
   },
   {
    "duration": 13,
    "start_time": "2024-09-20T07:28:28.223Z"
   },
   {
    "duration": 1276,
    "start_time": "2024-09-20T07:28:28.238Z"
   },
   {
    "duration": 977,
    "start_time": "2024-09-20T07:28:29.515Z"
   },
   {
    "duration": 91,
    "start_time": "2024-09-20T07:28:30.494Z"
   },
   {
    "duration": 11,
    "start_time": "2024-09-20T07:28:30.587Z"
   },
   {
    "duration": 91,
    "start_time": "2024-09-20T07:28:30.600Z"
   },
   {
    "duration": 12,
    "start_time": "2024-09-20T07:28:30.693Z"
   },
   {
    "duration": 44,
    "start_time": "2024-09-20T07:28:30.706Z"
   },
   {
    "duration": 3459,
    "start_time": "2024-09-20T07:28:30.753Z"
   },
   {
    "duration": 1817294,
    "start_time": "2024-09-20T07:28:34.216Z"
   },
   {
    "duration": 0,
    "start_time": "2024-09-20T07:58:51.512Z"
   },
   {
    "duration": 0,
    "start_time": "2024-09-20T07:58:51.513Z"
   },
   {
    "duration": 0,
    "start_time": "2024-09-20T07:58:51.515Z"
   },
   {
    "duration": 0,
    "start_time": "2024-09-20T07:58:51.516Z"
   },
   {
    "duration": 0,
    "start_time": "2024-09-20T07:58:51.517Z"
   },
   {
    "duration": 0,
    "start_time": "2024-09-20T07:58:51.517Z"
   },
   {
    "duration": 0,
    "start_time": "2024-09-20T07:58:51.518Z"
   },
   {
    "duration": 0,
    "start_time": "2024-09-20T07:58:51.520Z"
   },
   {
    "duration": 0,
    "start_time": "2024-09-20T07:58:51.521Z"
   },
   {
    "duration": 0,
    "start_time": "2024-09-20T07:58:51.522Z"
   },
   {
    "duration": 0,
    "start_time": "2024-09-20T07:58:51.523Z"
   },
   {
    "duration": 0,
    "start_time": "2024-09-20T07:58:51.526Z"
   },
   {
    "duration": 4,
    "start_time": "2024-09-20T07:58:54.116Z"
   },
   {
    "duration": 16,
    "start_time": "2024-09-20T07:58:54.918Z"
   },
   {
    "duration": 3,
    "start_time": "2024-09-20T08:00:31.737Z"
   },
   {
    "duration": 15,
    "start_time": "2024-09-20T08:00:32.494Z"
   },
   {
    "duration": 2455494,
    "start_time": "2024-09-20T08:01:48.624Z"
   },
   {
    "duration": 11,
    "start_time": "2024-09-20T09:16:44.563Z"
   },
   {
    "duration": 4,
    "start_time": "2024-09-20T09:55:35.710Z"
   },
   {
    "duration": 20,
    "start_time": "2024-09-20T09:55:36.320Z"
   },
   {
    "duration": 3,
    "start_time": "2024-09-20T09:56:02.629Z"
   },
   {
    "duration": 113,
    "start_time": "2024-09-20T09:56:02.634Z"
   },
   {
    "duration": 21,
    "start_time": "2024-09-20T09:56:02.748Z"
   },
   {
    "duration": 247,
    "start_time": "2024-09-20T09:56:02.771Z"
   },
   {
    "duration": 4,
    "start_time": "2024-09-20T09:56:03.020Z"
   },
   {
    "duration": 15,
    "start_time": "2024-09-20T09:56:03.025Z"
   },
   {
    "duration": 45,
    "start_time": "2024-09-20T09:56:03.042Z"
   },
   {
    "duration": 263172,
    "start_time": "2024-09-20T09:56:03.089Z"
   },
   {
    "duration": 9,
    "start_time": "2024-09-20T10:00:26.263Z"
   },
   {
    "duration": 1792,
    "start_time": "2024-09-20T10:00:26.273Z"
   },
   {
    "duration": 42,
    "start_time": "2024-09-20T10:05:16.437Z"
   },
   {
    "duration": 5,
    "start_time": "2024-09-20T10:13:14.872Z"
   },
   {
    "duration": 41,
    "start_time": "2024-09-20T10:13:42.365Z"
   },
   {
    "duration": 28,
    "start_time": "2024-09-20T10:14:18.889Z"
   },
   {
    "duration": 539,
    "start_time": "2024-09-20T10:15:45.992Z"
   },
   {
    "duration": 1605,
    "start_time": "2024-09-20T10:16:01.158Z"
   },
   {
    "duration": 16,
    "start_time": "2024-09-20T10:16:20.816Z"
   },
   {
    "duration": 11,
    "start_time": "2024-09-20T10:18:58.385Z"
   },
   {
    "duration": 7,
    "start_time": "2024-09-20T10:19:05.566Z"
   },
   {
    "duration": 6,
    "start_time": "2024-09-20T10:28:56.894Z"
   },
   {
    "duration": 7,
    "start_time": "2024-09-20T10:29:00.233Z"
   },
   {
    "duration": 6,
    "start_time": "2024-09-20T10:29:36.483Z"
   },
   {
    "duration": 6,
    "start_time": "2024-09-20T10:29:39.323Z"
   },
   {
    "duration": 500,
    "start_time": "2024-09-20T10:33:36.404Z"
   },
   {
    "duration": 19,
    "start_time": "2024-09-20T10:33:39.903Z"
   },
   {
    "duration": 490,
    "start_time": "2024-09-20T10:33:48.021Z"
   },
   {
    "duration": 19,
    "start_time": "2024-09-20T10:33:50.747Z"
   },
   {
    "duration": 481,
    "start_time": "2024-09-20T10:34:07.658Z"
   },
   {
    "duration": 21,
    "start_time": "2024-09-20T10:34:13.879Z"
   },
   {
    "duration": 470,
    "start_time": "2024-09-20T10:35:11.710Z"
   },
   {
    "duration": 18,
    "start_time": "2024-09-20T10:35:13.831Z"
   },
   {
    "duration": 467,
    "start_time": "2024-09-20T10:35:52.682Z"
   },
   {
    "duration": 13,
    "start_time": "2024-09-20T10:35:57.160Z"
   },
   {
    "duration": 481,
    "start_time": "2024-09-20T10:36:05.424Z"
   },
   {
    "duration": 16,
    "start_time": "2024-09-20T10:36:08.831Z"
   },
   {
    "duration": 470,
    "start_time": "2024-09-20T10:36:33.574Z"
   },
   {
    "duration": 20,
    "start_time": "2024-09-20T10:36:39.079Z"
   },
   {
    "duration": 985,
    "start_time": "2024-09-20T10:37:03.816Z"
   },
   {
    "duration": 17,
    "start_time": "2024-09-20T10:37:11.203Z"
   },
   {
    "duration": 448,
    "start_time": "2024-09-20T10:37:25.235Z"
   },
   {
    "duration": 30,
    "start_time": "2024-09-20T10:37:30.035Z"
   },
   {
    "duration": 467,
    "start_time": "2024-09-20T10:37:52.624Z"
   },
   {
    "duration": 16,
    "start_time": "2024-09-20T10:37:55.446Z"
   },
   {
    "duration": 461,
    "start_time": "2024-09-20T10:40:45.065Z"
   },
   {
    "duration": 17,
    "start_time": "2024-09-20T10:40:48.906Z"
   },
   {
    "duration": 435,
    "start_time": "2024-09-20T10:41:07.731Z"
   },
   {
    "duration": 16,
    "start_time": "2024-09-20T10:41:13.520Z"
   },
   {
    "duration": 429,
    "start_time": "2024-09-20T10:41:48.187Z"
   },
   {
    "duration": 17,
    "start_time": "2024-09-20T10:41:53.212Z"
   },
   {
    "duration": 452,
    "start_time": "2024-09-20T10:42:39.055Z"
   },
   {
    "duration": 20,
    "start_time": "2024-09-20T10:42:47.872Z"
   },
   {
    "duration": 460,
    "start_time": "2024-09-20T10:45:22.652Z"
   },
   {
    "duration": 16,
    "start_time": "2024-09-20T10:45:34.956Z"
   },
   {
    "duration": 453,
    "start_time": "2024-09-20T10:46:10.842Z"
   },
   {
    "duration": 18,
    "start_time": "2024-09-20T10:46:21.743Z"
   },
   {
    "duration": 21,
    "start_time": "2024-09-20T10:51:22.265Z"
   },
   {
    "duration": 35,
    "start_time": "2024-09-20T10:51:39.668Z"
   },
   {
    "duration": 29,
    "start_time": "2024-09-20T10:52:08.405Z"
   },
   {
    "duration": 20915,
    "start_time": "2024-09-20T10:54:24.702Z"
   },
   {
    "duration": 16,
    "start_time": "2024-09-20T10:55:19.245Z"
   },
   {
    "duration": 6,
    "start_time": "2024-09-20T10:55:20.591Z"
   },
   {
    "duration": 1719,
    "start_time": "2024-09-20T10:55:54.506Z"
   },
   {
    "duration": 3,
    "start_time": "2024-09-20T10:55:56.227Z"
   },
   {
    "duration": 13,
    "start_time": "2024-09-20T10:55:56.231Z"
   },
   {
    "duration": 6,
    "start_time": "2024-09-20T10:55:56.245Z"
   },
   {
    "duration": 12,
    "start_time": "2024-09-20T10:55:56.253Z"
   },
   {
    "duration": 1912,
    "start_time": "2024-09-20T10:55:56.267Z"
   },
   {
    "duration": 0,
    "start_time": "2024-09-20T10:55:58.182Z"
   },
   {
    "duration": 0,
    "start_time": "2024-09-20T10:55:58.183Z"
   },
   {
    "duration": 0,
    "start_time": "2024-09-20T10:55:58.184Z"
   },
   {
    "duration": 0,
    "start_time": "2024-09-20T10:55:58.185Z"
   },
   {
    "duration": 0,
    "start_time": "2024-09-20T10:55:58.186Z"
   },
   {
    "duration": 0,
    "start_time": "2024-09-20T10:55:58.187Z"
   },
   {
    "duration": 0,
    "start_time": "2024-09-20T10:55:58.188Z"
   },
   {
    "duration": 0,
    "start_time": "2024-09-20T10:55:58.189Z"
   },
   {
    "duration": 0,
    "start_time": "2024-09-20T10:55:58.191Z"
   },
   {
    "duration": 0,
    "start_time": "2024-09-20T10:55:58.192Z"
   },
   {
    "duration": 0,
    "start_time": "2024-09-20T10:55:58.193Z"
   },
   {
    "duration": 0,
    "start_time": "2024-09-20T10:55:58.194Z"
   },
   {
    "duration": 0,
    "start_time": "2024-09-20T10:55:58.195Z"
   },
   {
    "duration": 0,
    "start_time": "2024-09-20T10:55:58.196Z"
   },
   {
    "duration": 0,
    "start_time": "2024-09-20T10:55:58.196Z"
   },
   {
    "duration": 0,
    "start_time": "2024-09-20T10:55:58.197Z"
   },
   {
    "duration": 0,
    "start_time": "2024-09-20T10:55:58.198Z"
   },
   {
    "duration": 0,
    "start_time": "2024-09-20T10:55:58.199Z"
   },
   {
    "duration": 0,
    "start_time": "2024-09-20T10:55:58.200Z"
   },
   {
    "duration": 0,
    "start_time": "2024-09-20T10:55:58.201Z"
   },
   {
    "duration": 0,
    "start_time": "2024-09-20T10:55:58.202Z"
   },
   {
    "duration": 0,
    "start_time": "2024-09-20T10:55:58.203Z"
   },
   {
    "duration": 0,
    "start_time": "2024-09-20T10:55:58.204Z"
   },
   {
    "duration": 0,
    "start_time": "2024-09-20T10:55:58.205Z"
   },
   {
    "duration": 917,
    "start_time": "2024-09-20T10:56:03.005Z"
   },
   {
    "duration": 911,
    "start_time": "2024-09-20T10:56:07.861Z"
   },
   {
    "duration": 82,
    "start_time": "2024-09-20T10:56:09.095Z"
   },
   {
    "duration": 14,
    "start_time": "2024-09-20T10:56:12.333Z"
   },
   {
    "duration": 83,
    "start_time": "2024-09-20T10:56:13.485Z"
   },
   {
    "duration": 4,
    "start_time": "2024-09-20T10:56:14.581Z"
   },
   {
    "duration": 32,
    "start_time": "2024-09-20T10:56:15.959Z"
   },
   {
    "duration": 3350,
    "start_time": "2024-09-20T10:56:18.320Z"
   },
   {
    "duration": 215,
    "start_time": "2024-09-20T10:56:21.672Z"
   },
   {
    "duration": 200184,
    "start_time": "2024-09-20T10:56:26.762Z"
   },
   {
    "duration": 446,
    "start_time": "2024-09-20T11:01:47.325Z"
   },
   {
    "duration": 63,
    "start_time": "2024-09-20T11:02:13.448Z"
   },
   {
    "duration": 462,
    "start_time": "2024-09-20T11:03:33.837Z"
   },
   {
    "duration": 729,
    "start_time": "2024-09-20T11:04:03.732Z"
   },
   {
    "duration": 4578,
    "start_time": "2024-09-20T11:04:35.573Z"
   },
   {
    "duration": 0,
    "start_time": "2024-09-20T11:09:21.196Z"
   },
   {
    "duration": 3742,
    "start_time": "2024-09-20T11:09:22.578Z"
   },
   {
    "duration": 33710,
    "start_time": "2024-09-20T11:09:34.073Z"
   },
   {
    "duration": 21231,
    "start_time": "2024-09-20T11:10:58.166Z"
   },
   {
    "duration": 508,
    "start_time": "2024-09-20T11:11:38.286Z"
   },
   {
    "duration": 5273,
    "start_time": "2024-09-20T11:11:40.724Z"
   },
   {
    "duration": 4543,
    "start_time": "2024-09-20T11:11:47.261Z"
   },
   {
    "duration": 4458,
    "start_time": "2024-09-20T11:11:56.288Z"
   },
   {
    "duration": 35768,
    "start_time": "2024-09-20T11:12:01.951Z"
   },
   {
    "duration": 529,
    "start_time": "2024-09-20T11:14:00.522Z"
   },
   {
    "duration": 18387,
    "start_time": "2024-09-20T11:14:05.121Z"
   },
   {
    "duration": 4696,
    "start_time": "2024-09-20T11:14:24.415Z"
   },
   {
    "duration": 11130,
    "start_time": "2024-09-20T11:14:30.330Z"
   },
   {
    "duration": 4,
    "start_time": "2024-09-20T11:14:53.211Z"
   },
   {
    "duration": 9,
    "start_time": "2024-09-20T11:14:54.090Z"
   },
   {
    "duration": 6,
    "start_time": "2024-09-20T11:14:56.163Z"
   },
   {
    "duration": 472,
    "start_time": "2024-09-20T11:16:25.412Z"
   },
   {
    "duration": 11889,
    "start_time": "2024-09-20T11:16:28.301Z"
   },
   {
    "duration": 10332,
    "start_time": "2024-09-20T11:16:46.510Z"
   },
   {
    "duration": 476,
    "start_time": "2024-09-20T11:17:09.955Z"
   },
   {
    "duration": 12133,
    "start_time": "2024-09-20T11:17:13.085Z"
   },
   {
    "duration": 10504,
    "start_time": "2024-09-20T11:17:29.877Z"
   },
   {
    "duration": 642,
    "start_time": "2024-09-20T11:18:27.531Z"
   },
   {
    "duration": 11817,
    "start_time": "2024-09-20T11:18:31.271Z"
   },
   {
    "duration": 10461,
    "start_time": "2024-09-20T11:18:49.057Z"
   },
   {
    "duration": 10437,
    "start_time": "2024-09-20T11:19:03.162Z"
   },
   {
    "duration": 94,
    "start_time": "2024-09-20T11:19:53.423Z"
   },
   {
    "duration": 462,
    "start_time": "2024-09-20T11:20:07.432Z"
   },
   {
    "duration": 97,
    "start_time": "2024-09-20T11:20:30.971Z"
   },
   {
    "duration": 458,
    "start_time": "2024-09-20T11:20:38.769Z"
   },
   {
    "duration": 461,
    "start_time": "2024-09-20T11:22:18.291Z"
   },
   {
    "duration": 11944,
    "start_time": "2024-09-20T11:22:21.391Z"
   },
   {
    "duration": 10547,
    "start_time": "2024-09-20T11:22:37.346Z"
   },
   {
    "duration": 6,
    "start_time": "2024-09-20T11:24:00.101Z"
   },
   {
    "duration": 6,
    "start_time": "2024-09-20T11:24:05.105Z"
   },
   {
    "duration": 6,
    "start_time": "2024-09-20T11:24:13.140Z"
   },
   {
    "duration": 5,
    "start_time": "2024-09-20T11:24:53.101Z"
   },
   {
    "duration": 7,
    "start_time": "2024-09-20T11:25:01.990Z"
   },
   {
    "duration": 10,
    "start_time": "2024-09-20T11:25:15.149Z"
   },
   {
    "duration": 10514,
    "start_time": "2024-09-20T11:26:00.174Z"
   },
   {
    "duration": 921,
    "start_time": "2024-09-20T11:27:42.685Z"
   },
   {
    "duration": 11783,
    "start_time": "2024-09-20T11:27:46.868Z"
   },
   {
    "duration": 10573,
    "start_time": "2024-09-20T11:28:02.875Z"
   },
   {
    "duration": 5,
    "start_time": "2024-09-20T11:31:45.875Z"
   },
   {
    "duration": 7651,
    "start_time": "2024-09-20T11:31:49.161Z"
   },
   {
    "duration": 6,
    "start_time": "2024-09-20T11:32:43.112Z"
   },
   {
    "duration": 10520,
    "start_time": "2024-09-20T11:32:46.559Z"
   },
   {
    "duration": 7,
    "start_time": "2024-09-20T11:33:04.211Z"
   },
   {
    "duration": 450,
    "start_time": "2024-09-20T11:34:28.801Z"
   },
   {
    "duration": 12254,
    "start_time": "2024-09-20T11:34:30.463Z"
   },
   {
    "duration": 10446,
    "start_time": "2024-09-20T11:34:45.121Z"
   },
   {
    "duration": 11,
    "start_time": "2024-09-20T11:35:27.106Z"
   },
   {
    "duration": 64,
    "start_time": "2024-09-20T11:39:26.660Z"
   },
   {
    "duration": 24,
    "start_time": "2024-09-20T11:39:27.102Z"
   },
   {
    "duration": 17,
    "start_time": "2024-09-20T11:39:41.901Z"
   },
   {
    "duration": 4,
    "start_time": "2024-09-20T11:39:55.341Z"
   },
   {
    "duration": 28896,
    "start_time": "2024-09-20T11:39:58.077Z"
   },
   {
    "duration": 0,
    "start_time": "2024-09-20T11:40:26.975Z"
   },
   {
    "duration": 5329,
    "start_time": "2024-09-20T11:40:38.100Z"
   },
   {
    "duration": 0,
    "start_time": "2024-09-20T11:40:43.433Z"
   },
   {
    "duration": 7,
    "start_time": "2024-09-20T11:40:43.942Z"
   },
   {
    "duration": 31765,
    "start_time": "2024-09-20T11:40:44.450Z"
   },
   {
    "duration": 0,
    "start_time": "2024-09-20T11:41:16.217Z"
   },
   {
    "duration": 1189168,
    "start_time": "2024-09-20T11:41:17.162Z"
   },
   {
    "duration": 569615,
    "start_time": "2024-09-20T12:01:06.332Z"
   },
   {
    "duration": 3,
    "start_time": "2024-09-20T12:10:35.968Z"
   },
   {
    "duration": 45,
    "start_time": "2024-09-20T12:10:35.973Z"
   },
   {
    "duration": 12,
    "start_time": "2024-09-20T12:10:36.020Z"
   },
   {
    "duration": 5,
    "start_time": "2024-09-20T12:10:36.034Z"
   },
   {
    "duration": 13,
    "start_time": "2024-09-20T12:11:13.064Z"
   },
   {
    "duration": 4,
    "start_time": "2024-09-20T12:12:07.261Z"
   },
   {
    "duration": 98,
    "start_time": "2024-09-20T12:12:08.708Z"
   },
   {
    "duration": 4,
    "start_time": "2024-09-20T12:14:00.794Z"
   },
   {
    "duration": 4,
    "start_time": "2024-09-20T12:14:09.073Z"
   },
   {
    "duration": 4,
    "start_time": "2024-09-20T12:14:13.552Z"
   },
   {
    "duration": 39,
    "start_time": "2024-09-20T12:14:36.453Z"
   },
   {
    "duration": 79,
    "start_time": "2024-09-20T12:14:44.050Z"
   },
   {
    "duration": 30,
    "start_time": "2024-09-20T12:14:55.295Z"
   },
   {
    "duration": 4,
    "start_time": "2024-09-20T12:14:58.156Z"
   },
   {
    "duration": 5,
    "start_time": "2024-09-20T12:15:11.809Z"
   },
   {
    "duration": 6,
    "start_time": "2024-09-20T12:15:14.685Z"
   },
   {
    "duration": 2,
    "start_time": "2024-09-20T12:15:15.526Z"
   },
   {
    "duration": 550510,
    "start_time": "2024-09-20T12:15:22.571Z"
   },
   {
    "duration": 552263,
    "start_time": "2024-09-20T12:24:33.083Z"
   },
   {
    "duration": 19,
    "start_time": "2024-09-20T12:33:45.347Z"
   },
   {
    "duration": 383,
    "start_time": "2024-09-20T12:33:45.370Z"
   },
   {
    "duration": 22,
    "start_time": "2024-09-20T12:35:49.395Z"
   },
   {
    "duration": 19,
    "start_time": "2024-09-20T12:36:13.391Z"
   },
   {
    "duration": 6,
    "start_time": "2024-09-20T12:48:26.778Z"
   },
   {
    "duration": 5,
    "start_time": "2024-09-20T12:49:15.778Z"
   },
   {
    "duration": 3,
    "start_time": "2024-09-20T12:52:29.114Z"
   },
   {
    "duration": 6,
    "start_time": "2024-09-20T12:52:52.106Z"
   },
   {
    "duration": 5,
    "start_time": "2024-09-20T12:53:02.420Z"
   },
   {
    "duration": 5,
    "start_time": "2024-09-20T12:53:11.325Z"
   },
   {
    "duration": 6,
    "start_time": "2024-09-20T12:53:31.600Z"
   },
   {
    "duration": 5,
    "start_time": "2024-09-20T12:53:36.480Z"
   },
   {
    "duration": 6,
    "start_time": "2024-09-20T13:01:24.720Z"
   },
   {
    "duration": 7,
    "start_time": "2024-09-20T13:04:48.437Z"
   },
   {
    "duration": 5,
    "start_time": "2024-09-20T13:05:15.507Z"
   },
   {
    "duration": 5,
    "start_time": "2024-09-20T13:07:24.371Z"
   },
   {
    "duration": 5,
    "start_time": "2024-09-20T13:07:43.649Z"
   },
   {
    "duration": 11,
    "start_time": "2024-09-20T13:10:06.068Z"
   },
   {
    "duration": 91,
    "start_time": "2024-09-20T13:11:42.738Z"
   },
   {
    "duration": 5,
    "start_time": "2024-09-20T13:12:07.945Z"
   },
   {
    "duration": 243,
    "start_time": "2024-09-20T13:13:09.085Z"
   },
   {
    "duration": 114,
    "start_time": "2024-09-20T13:32:46.365Z"
   },
   {
    "duration": 1717,
    "start_time": "2024-09-20T13:41:59.785Z"
   },
   {
    "duration": 3,
    "start_time": "2024-09-20T13:42:01.503Z"
   },
   {
    "duration": 171,
    "start_time": "2024-09-20T13:42:01.508Z"
   },
   {
    "duration": 2,
    "start_time": "2024-09-20T13:42:01.681Z"
   },
   {
    "duration": 37,
    "start_time": "2024-09-20T13:42:01.685Z"
   },
   {
    "duration": 16,
    "start_time": "2024-09-20T13:42:01.723Z"
   },
   {
    "duration": 23,
    "start_time": "2024-09-20T13:42:01.741Z"
   },
   {
    "duration": 972,
    "start_time": "2024-09-20T13:42:01.765Z"
   },
   {
    "duration": 893,
    "start_time": "2024-09-20T13:42:02.739Z"
   },
   {
    "duration": 93,
    "start_time": "2024-09-20T13:42:03.635Z"
   },
   {
    "duration": 13,
    "start_time": "2024-09-20T13:42:03.730Z"
   },
   {
    "duration": 101,
    "start_time": "2024-09-20T13:42:03.745Z"
   },
   {
    "duration": 42,
    "start_time": "2024-09-20T13:42:03.848Z"
   },
   {
    "duration": 53,
    "start_time": "2024-09-20T13:42:03.892Z"
   },
   {
    "duration": 13,
    "start_time": "2024-09-20T13:42:03.947Z"
   },
   {
    "duration": 134,
    "start_time": "2024-09-20T13:42:03.961Z"
   },
   {
    "duration": 0,
    "start_time": "2024-09-20T13:42:04.097Z"
   },
   {
    "duration": 0,
    "start_time": "2024-09-20T13:42:04.098Z"
   },
   {
    "duration": 0,
    "start_time": "2024-09-20T13:42:04.099Z"
   },
   {
    "duration": 0,
    "start_time": "2024-09-20T13:42:04.100Z"
   },
   {
    "duration": 0,
    "start_time": "2024-09-20T13:42:04.102Z"
   },
   {
    "duration": 0,
    "start_time": "2024-09-20T13:42:04.102Z"
   },
   {
    "duration": 0,
    "start_time": "2024-09-20T13:42:04.103Z"
   },
   {
    "duration": 0,
    "start_time": "2024-09-20T13:42:04.105Z"
   },
   {
    "duration": 0,
    "start_time": "2024-09-20T13:42:04.106Z"
   },
   {
    "duration": 0,
    "start_time": "2024-09-20T13:42:04.107Z"
   },
   {
    "duration": 0,
    "start_time": "2024-09-20T13:42:04.108Z"
   },
   {
    "duration": 0,
    "start_time": "2024-09-20T13:42:04.109Z"
   },
   {
    "duration": 1360,
    "start_time": "2024-09-20T13:43:28.683Z"
   },
   {
    "duration": 565868,
    "start_time": "2024-09-20T13:44:12.343Z"
   },
   {
    "duration": 0,
    "start_time": "2024-09-20T13:53:38.213Z"
   },
   {
    "duration": 0,
    "start_time": "2024-09-20T13:53:38.214Z"
   },
   {
    "duration": 0,
    "start_time": "2024-09-20T13:53:38.215Z"
   },
   {
    "duration": 0,
    "start_time": "2024-09-20T13:53:38.216Z"
   },
   {
    "duration": 0,
    "start_time": "2024-09-20T13:53:38.218Z"
   },
   {
    "duration": 0,
    "start_time": "2024-09-20T13:53:38.220Z"
   },
   {
    "duration": 0,
    "start_time": "2024-09-20T13:53:38.222Z"
   },
   {
    "duration": 0,
    "start_time": "2024-09-20T13:53:38.223Z"
   },
   {
    "duration": 0,
    "start_time": "2024-09-20T13:53:38.224Z"
   },
   {
    "duration": 0,
    "start_time": "2024-09-20T13:53:38.225Z"
   },
   {
    "duration": 0,
    "start_time": "2024-09-20T13:53:38.226Z"
   },
   {
    "duration": 4,
    "start_time": "2024-09-20T13:57:12.301Z"
   },
   {
    "duration": 9,
    "start_time": "2024-09-20T13:57:23.036Z"
   },
   {
    "duration": 3,
    "start_time": "2024-09-20T13:57:35.557Z"
   },
   {
    "duration": 92,
    "start_time": "2024-09-20T13:57:35.562Z"
   },
   {
    "duration": 86,
    "start_time": "2024-09-20T13:57:35.656Z"
   },
   {
    "duration": 0,
    "start_time": "2024-09-20T13:57:35.745Z"
   },
   {
    "duration": 0,
    "start_time": "2024-09-20T13:57:35.746Z"
   },
   {
    "duration": 0,
    "start_time": "2024-09-20T13:57:35.748Z"
   },
   {
    "duration": 0,
    "start_time": "2024-09-20T13:57:35.749Z"
   },
   {
    "duration": 0,
    "start_time": "2024-09-20T13:57:35.751Z"
   },
   {
    "duration": 0,
    "start_time": "2024-09-20T13:57:35.752Z"
   },
   {
    "duration": 0,
    "start_time": "2024-09-20T13:57:35.754Z"
   },
   {
    "duration": 4,
    "start_time": "2024-09-20T13:58:00.128Z"
   },
   {
    "duration": 372,
    "start_time": "2024-09-20T13:58:05.026Z"
   },
   {
    "duration": 1,
    "start_time": "2024-09-20T13:58:05.399Z"
   },
   {
    "duration": 0,
    "start_time": "2024-09-20T13:58:05.401Z"
   },
   {
    "duration": 0,
    "start_time": "2024-09-20T13:58:05.403Z"
   },
   {
    "duration": 0,
    "start_time": "2024-09-20T13:58:05.404Z"
   },
   {
    "duration": 0,
    "start_time": "2024-09-20T13:58:05.406Z"
   },
   {
    "duration": 0,
    "start_time": "2024-09-20T13:58:05.408Z"
   },
   {
    "duration": 164,
    "start_time": "2024-09-20T13:58:24.904Z"
   },
   {
    "duration": 4,
    "start_time": "2024-09-20T13:58:32.854Z"
   },
   {
    "duration": 57,
    "start_time": "2024-09-20T13:58:32.860Z"
   },
   {
    "duration": 51,
    "start_time": "2024-09-20T13:58:32.919Z"
   },
   {
    "duration": 164,
    "start_time": "2024-09-20T13:58:32.972Z"
   },
   {
    "duration": 0,
    "start_time": "2024-09-20T13:58:33.137Z"
   },
   {
    "duration": 0,
    "start_time": "2024-09-20T13:58:33.139Z"
   },
   {
    "duration": 121,
    "start_time": "2024-09-20T14:00:24.147Z"
   },
   {
    "duration": 7544,
    "start_time": "2024-09-20T14:02:06.537Z"
   },
   {
    "duration": 540131,
    "start_time": "2024-09-20T14:03:48.699Z"
   },
   {
    "duration": 9,
    "start_time": "2024-09-20T14:12:52.643Z"
   },
   {
    "duration": 12,
    "start_time": "2024-09-20T14:15:38.909Z"
   },
   {
    "duration": 30,
    "start_time": "2024-09-20T14:15:44.186Z"
   },
   {
    "duration": 5,
    "start_time": "2024-09-20T14:16:34.677Z"
   },
   {
    "duration": 269,
    "start_time": "2024-09-20T14:16:38.426Z"
   },
   {
    "duration": 10,
    "start_time": "2024-09-20T14:17:03.218Z"
   },
   {
    "duration": 291,
    "start_time": "2024-09-20T14:17:37.048Z"
   },
   {
    "duration": 12,
    "start_time": "2024-09-20T14:18:08.000Z"
   },
   {
    "duration": 283,
    "start_time": "2024-09-20T14:18:14.020Z"
   },
   {
    "duration": 4,
    "start_time": "2024-09-20T14:20:29.208Z"
   },
   {
    "duration": 35692,
    "start_time": "2024-09-20T14:20:35.680Z"
   },
   {
    "duration": 0,
    "start_time": "2024-09-20T14:21:11.374Z"
   },
   {
    "duration": 4,
    "start_time": "2024-09-20T14:21:12.729Z"
   },
   {
    "duration": 461817,
    "start_time": "2024-09-20T14:21:16.461Z"
   },
   {
    "duration": 9,
    "start_time": "2024-09-20T14:31:05.753Z"
   },
   {
    "duration": 1151,
    "start_time": "2024-09-20T14:31:26.905Z"
   },
   {
    "duration": 690,
    "start_time": "2024-09-20T14:31:34.365Z"
   },
   {
    "duration": 4,
    "start_time": "2024-09-20T14:32:00.631Z"
   },
   {
    "duration": 473250,
    "start_time": "2024-09-20T14:32:34.842Z"
   },
   {
    "duration": 11,
    "start_time": "2024-09-20T14:40:28.093Z"
   },
   {
    "duration": 782,
    "start_time": "2024-09-20T14:40:28.105Z"
   },
   {
    "duration": 4,
    "start_time": "2024-09-20T14:40:28.890Z"
   },
   {
    "duration": 7,
    "start_time": "2024-09-20T14:43:55.662Z"
   },
   {
    "duration": 39,
    "start_time": "2024-09-20T14:43:56.991Z"
   },
   {
    "duration": 480548,
    "start_time": "2024-09-20T14:43:58.108Z"
   },
   {
    "duration": 8,
    "start_time": "2024-09-20T14:51:58.664Z"
   },
   {
    "duration": 16,
    "start_time": "2024-09-20T14:55:21.381Z"
   },
   {
    "duration": 5,
    "start_time": "2024-09-20T14:55:39.933Z"
   },
   {
    "duration": 4,
    "start_time": "2024-09-20T14:55:49.150Z"
   },
   {
    "duration": 563995,
    "start_time": "2024-09-20T14:56:07.699Z"
   },
   {
    "duration": 12,
    "start_time": "2024-09-20T15:05:31.697Z"
   },
   {
    "duration": 1770,
    "start_time": "2024-09-20T15:14:37.327Z"
   },
   {
    "duration": 3,
    "start_time": "2024-09-20T15:14:39.099Z"
   },
   {
    "duration": 229,
    "start_time": "2024-09-20T15:14:39.104Z"
   },
   {
    "duration": 2,
    "start_time": "2024-09-20T15:14:39.335Z"
   },
   {
    "duration": 10,
    "start_time": "2024-09-20T15:14:39.340Z"
   },
   {
    "duration": 5,
    "start_time": "2024-09-20T15:14:39.351Z"
   },
   {
    "duration": 10,
    "start_time": "2024-09-20T15:14:39.358Z"
   },
   {
    "duration": 942,
    "start_time": "2024-09-20T15:14:39.370Z"
   },
   {
    "duration": 895,
    "start_time": "2024-09-20T15:14:40.313Z"
   },
   {
    "duration": 90,
    "start_time": "2024-09-20T15:14:41.209Z"
   },
   {
    "duration": 12,
    "start_time": "2024-09-20T15:14:41.301Z"
   },
   {
    "duration": 85,
    "start_time": "2024-09-20T15:14:41.315Z"
   },
   {
    "duration": 11,
    "start_time": "2024-09-20T15:14:41.402Z"
   },
   {
    "duration": 45,
    "start_time": "2024-09-20T15:14:41.416Z"
   },
   {
    "duration": 4,
    "start_time": "2024-09-20T15:14:41.462Z"
   },
   {
    "duration": 1374,
    "start_time": "2024-09-20T15:14:41.468Z"
   },
   {
    "duration": 564226,
    "start_time": "2024-09-20T15:14:42.844Z"
   },
   {
    "duration": 10,
    "start_time": "2024-09-20T15:24:07.073Z"
   },
   {
    "duration": 17,
    "start_time": "2024-09-20T15:24:07.085Z"
   },
   {
    "duration": 90,
    "start_time": "2024-09-20T15:24:07.103Z"
   },
   {
    "duration": 4,
    "start_time": "2024-09-20T15:24:07.195Z"
   },
   {
    "duration": 176,
    "start_time": "2024-09-20T15:24:07.201Z"
   },
   {
    "duration": 4,
    "start_time": "2024-09-20T15:24:07.379Z"
   },
   {
    "duration": 17,
    "start_time": "2024-09-20T15:24:07.384Z"
   },
   {
    "duration": 6,
    "start_time": "2024-09-20T15:24:07.402Z"
   },
   {
    "duration": 67276,
    "start_time": "2024-09-20T15:24:07.409Z"
   },
   {
    "duration": 0,
    "start_time": "2024-09-20T15:25:14.686Z"
   },
   {
    "duration": 0,
    "start_time": "2024-09-20T15:25:14.687Z"
   },
   {
    "duration": 584892,
    "start_time": "2024-09-20T16:07:02.488Z"
   },
   {
    "duration": 12,
    "start_time": "2024-09-20T16:16:47.382Z"
   },
   {
    "duration": 26,
    "start_time": "2024-09-20T16:16:47.396Z"
   },
   {
    "duration": 7326,
    "start_time": "2024-09-20T16:22:47.159Z"
   },
   {
    "duration": 0,
    "start_time": "2024-09-20T16:22:54.487Z"
   },
   {
    "duration": 0,
    "start_time": "2024-09-20T16:22:54.491Z"
   },
   {
    "duration": 3,
    "start_time": "2024-09-20T16:22:55.392Z"
   },
   {
    "duration": 5,
    "start_time": "2024-09-20T16:22:56.365Z"
   },
   {
    "duration": 591668,
    "start_time": "2024-09-20T16:22:57.160Z"
   },
   {
    "duration": 9,
    "start_time": "2024-09-20T16:32:48.830Z"
   },
   {
    "duration": 44,
    "start_time": "2024-09-20T16:32:48.841Z"
   },
   {
    "duration": 7277,
    "start_time": "2024-09-20T16:47:12.827Z"
   },
   {
    "duration": 6,
    "start_time": "2024-09-20T16:47:47.214Z"
   },
   {
    "duration": 2,
    "start_time": "2024-09-20T16:47:48.542Z"
   },
   {
    "duration": 589608,
    "start_time": "2024-09-20T16:47:49.605Z"
   },
   {
    "duration": 11,
    "start_time": "2024-09-20T16:57:39.216Z"
   },
   {
    "duration": 734,
    "start_time": "2024-09-20T16:57:39.229Z"
   },
   {
    "duration": 1753,
    "start_time": "2024-09-20T17:08:54.638Z"
   },
   {
    "duration": 4,
    "start_time": "2024-09-20T17:08:56.393Z"
   },
   {
    "duration": 226,
    "start_time": "2024-09-20T17:08:56.398Z"
   },
   {
    "duration": 3,
    "start_time": "2024-09-20T17:08:56.626Z"
   },
   {
    "duration": 5,
    "start_time": "2024-09-20T17:08:56.631Z"
   },
   {
    "duration": 3,
    "start_time": "2024-09-20T17:08:56.638Z"
   },
   {
    "duration": 10,
    "start_time": "2024-09-20T17:08:56.643Z"
   },
   {
    "duration": 990,
    "start_time": "2024-09-20T17:08:56.655Z"
   },
   {
    "duration": 948,
    "start_time": "2024-09-20T17:08:57.647Z"
   },
   {
    "duration": 97,
    "start_time": "2024-09-20T17:08:58.598Z"
   },
   {
    "duration": 14,
    "start_time": "2024-09-20T17:08:58.696Z"
   },
   {
    "duration": 89,
    "start_time": "2024-09-20T17:08:58.712Z"
   },
   {
    "duration": 5,
    "start_time": "2024-09-20T17:08:58.803Z"
   },
   {
    "duration": 59,
    "start_time": "2024-09-20T17:08:58.813Z"
   },
   {
    "duration": 6,
    "start_time": "2024-09-20T17:08:58.874Z"
   },
   {
    "duration": 1396,
    "start_time": "2024-09-20T17:08:58.882Z"
   },
   {
    "duration": 602901,
    "start_time": "2024-09-20T17:09:00.280Z"
   },
   {
    "duration": 9,
    "start_time": "2024-09-20T17:19:03.183Z"
   },
   {
    "duration": 35,
    "start_time": "2024-09-20T17:19:03.193Z"
   },
   {
    "duration": 104,
    "start_time": "2024-09-20T17:19:03.230Z"
   },
   {
    "duration": 4,
    "start_time": "2024-09-20T17:19:03.336Z"
   },
   {
    "duration": 181,
    "start_time": "2024-09-20T17:19:03.341Z"
   },
   {
    "duration": 5,
    "start_time": "2024-09-20T17:19:03.523Z"
   },
   {
    "duration": 25,
    "start_time": "2024-09-20T17:19:03.529Z"
   },
   {
    "duration": 28,
    "start_time": "2024-09-20T17:19:03.556Z"
   },
   {
    "duration": 598651,
    "start_time": "2024-09-20T17:19:03.585Z"
   },
   {
    "duration": 11,
    "start_time": "2024-09-20T17:29:02.238Z"
   },
   {
    "duration": 761,
    "start_time": "2024-09-20T17:29:02.251Z"
   }
  ],
  "kernelspec": {
   "display_name": "Python 3 (ipykernel)",
   "language": "python",
   "name": "python3"
  },
  "language_info": {
   "codemirror_mode": {
    "name": "ipython",
    "version": 3
   },
   "file_extension": ".py",
   "mimetype": "text/x-python",
   "name": "python",
   "nbconvert_exporter": "python",
   "pygments_lexer": "ipython3",
   "version": "3.9.5"
  },
  "toc": {
   "base_numbering": 1,
   "nav_menu": {},
   "number_sections": true,
   "sideBar": true,
   "skip_h1_title": true,
   "title_cell": "Содержание",
   "title_sidebar": "Contents",
   "toc_cell": true,
   "toc_position": {
    "height": "calc(100% - 180px)",
    "left": "10px",
    "top": "150px",
    "width": "302.389px"
   },
   "toc_section_display": true,
   "toc_window_display": true
  }
 },
 "nbformat": 4,
 "nbformat_minor": 2
}
